{
 "cells": [
  {
   "attachments": {},
   "cell_type": "markdown",
   "metadata": {},
   "source": [
    "# Plot Data in a .NET Polyglot Notebook\n",
    "\n",
    "This code demonstrates how to use [ScottPlot](https://scottplot.net) to display data visually inside a .NET Interactive notebook"
   ]
  },
  {
   "attachments": {},
   "cell_type": "markdown",
   "metadata": {},
   "source": [
    "## Setup"
   ]
  },
  {
   "cell_type": "code",
   "execution_count": 80,
   "metadata": {
    "dotnet_interactive": {
     "language": "csharp"
    },
    "polyglot_notebook": {
     "kernelName": "csharp"
    }
   },
   "outputs": [
    {
     "data": {
      "text/html": [
       "<div><div></div><div></div><div><strong>Installed Packages</strong><ul><li><span>ScottPlot, 4.1.64</span></li></ul></div></div>"
      ]
     },
     "metadata": {},
     "output_type": "display_data"
    }
   ],
   "source": [
    "// Install the ScottPlot NuGet package\n",
    "#r \"nuget:ScottPlot\"\n",
    "\n",
    "// Setup a custom formatter to display plots as images\n",
    "using Microsoft.DotNet.Interactive.Formatting;\n",
    "using System;\n",
    "using System.Collections.Generic;\n",
    "using System.Drawing;\n",
    "using System.IO;\n",
    "using System.Linq;\n",
    "using System.Text;\n",
    "using System.Drawing.Drawing2D;\n",
    "using System.Drawing.Imaging;\n",
    "\n",
    "Formatter.Register(typeof(ScottPlot.Plot), (p, w) => \n",
    "    w.Write(((ScottPlot.Plot)p).GetImageHTML()), HtmlFormatter.MimeType);"
   ]
  },
  {
   "attachments": {},
   "cell_type": "markdown",
   "metadata": {},
   "source": [
    "## Quickstart"
   ]
  },
  {
   "cell_type": "code",
   "execution_count": 81,
   "metadata": {
    "dotnet_interactive": {
     "language": "csharp"
    },
    "polyglot_notebook": {
     "kernelName": "csharp"
    }
   },
   "outputs": [
    {
     "ename": "Error",
     "evalue": "System.Runtime.InteropServices.ExternalException (0x80004005): A generic error occurred in GDI+.\r\n   at System.Drawing.Image.Save(String filename, ImageCodecInfo encoder, EncoderParameters encoderParams)\r\n   at ScottPlot.Plot.SaveFig(String filePath, Nullable`1 width, Nullable`1 height, Boolean lowQuality, Double scale)\r\n   at Submission#82.<<Initialize>>d__0.MoveNext()\r\n--- End of stack trace from previous location ---\r\n   at Microsoft.CodeAnalysis.Scripting.ScriptExecutionState.RunSubmissionsAsync[TResult](ImmutableArray`1 precedingExecutors, Func`2 currentExecutor, StrongBox`1 exceptionHolderOpt, Func`2 catchExceptionOpt, CancellationToken cancellationToken)",
     "output_type": "error",
     "traceback": [
      "System.Runtime.InteropServices.ExternalException (0x80004005): A generic error occurred in GDI+.\r\n",
      "   at System.Drawing.Image.Save(String filename, ImageCodecInfo encoder, EncoderParameters encoderParams)\r\n",
      "   at ScottPlot.Plot.SaveFig(String filePath, Nullable`1 width, Nullable`1 height, Boolean lowQuality, Double scale)\r\n",
      "   at Submission#82.<<Initialize>>d__0.MoveNext()\r\n",
      "--- End of stack trace from previous location ---\r\n",
      "   at Microsoft.CodeAnalysis.Scripting.ScriptExecutionState.RunSubmissionsAsync[TResult](ImmutableArray`1 precedingExecutors, Func`2 currentExecutor, StrongBox`1 exceptionHolderOpt, Func`2 catchExceptionOpt, CancellationToken cancellationToken)"
     ]
    }
   ],
   "source": [
    "// create sample data\n",
    "double[] xs = { 1, 2, 3, 4, 5 };\n",
    "double[] ys = { 1, 4, 9, 16, 25 };\n",
    "\n",
    "// plot the data\n",
    "ScottPlot.Plot plt = new(400, 300);\n",
    "plt.AddScatter(xs, ys);\n",
    "plt.SaveFig(\"scatter-plot0.png\");\n",
    "// show the plot\n",
    "plt\n",
    "\n",
    "\n"
   ]
  },
  {
   "attachments": {},
   "cell_type": "markdown",
   "metadata": {},
   "source": [
    "## Scatter Plot"
   ]
  },
  {
   "cell_type": "code",
   "execution_count": 89,
   "metadata": {
    "dotnet_interactive": {
     "language": "csharp"
    },
    "polyglot_notebook": {
     "kernelName": "csharp"
    }
   },
   "outputs": [
    {
     "ename": "Error",
     "evalue": "System.Runtime.InteropServices.ExternalException (0x80004005): A generic error occurred in GDI+.\r\n   at System.Drawing.Image.Save(String filename, ImageCodecInfo encoder, EncoderParameters encoderParams)\r\n   at ScottPlot.Plot.SaveFig(String filePath, Nullable`1 width, Nullable`1 height, Boolean lowQuality, Double scale)\r\n   at Submission#90.<<Initialize>>d__0.MoveNext()\r\n--- End of stack trace from previous location ---\r\n   at Microsoft.CodeAnalysis.Scripting.ScriptExecutionState.RunSubmissionsAsync[TResult](ImmutableArray`1 precedingExecutors, Func`2 currentExecutor, StrongBox`1 exceptionHolderOpt, Func`2 catchExceptionOpt, CancellationToken cancellationToken)",
     "output_type": "error",
     "traceback": [
      "System.Runtime.InteropServices.ExternalException (0x80004005): A generic error occurred in GDI+.\r\n",
      "   at System.Drawing.Image.Save(String filename, ImageCodecInfo encoder, EncoderParameters encoderParams)\r\n",
      "   at ScottPlot.Plot.SaveFig(String filePath, Nullable`1 width, Nullable`1 height, Boolean lowQuality, Double scale)\r\n",
      "   at Submission#90.<<Initialize>>d__0.MoveNext()\r\n",
      "--- End of stack trace from previous location ---\r\n",
      "   at Microsoft.CodeAnalysis.Scripting.ScriptExecutionState.RunSubmissionsAsync[TResult](ImmutableArray`1 precedingExecutors, Func`2 currentExecutor, StrongBox`1 exceptionHolderOpt, Func`2 catchExceptionOpt, CancellationToken cancellationToken)"
     ]
    }
   ],
   "source": [
    "// create sample data\n",
    "double[] xs = ScottPlot.DataGen.RandomNormal(Random.Shared, 500);\n",
    "double[] ys = ScottPlot.DataGen.RandomNormal(Random.Shared, 500);\n",
    "\n",
    "// plot the data\n",
    "ScottPlot.Plot plt = new(400, 300);\n",
    "plt.AddScatterPoints(xs, ys);\n",
    "plt.XLabel(\"Horizontal Axis\");\n",
    "plt.YLabel(\"Vertical Axis\");\n",
    "plt.Title(\"Scatter Plot\");\n",
    "plt.SaveFig(\"scatter-plot1.png\");\n",
    "// display the plot\n",
    "plt\n",
    "\n"
   ]
  },
  {
   "attachments": {},
   "cell_type": "markdown",
   "metadata": {},
   "source": [
    "## Line Plot"
   ]
  },
  {
   "cell_type": "code",
   "execution_count": 83,
   "metadata": {
    "dotnet_interactive": {
     "language": "csharp"
    },
    "polyglot_notebook": {
     "kernelName": "csharp"
    }
   },
   "outputs": [
    {
     "ename": "Error",
     "evalue": "System.Runtime.InteropServices.ExternalException (0x80004005): A generic error occurred in GDI+.\r\n   at System.Drawing.Image.Save(String filename, ImageCodecInfo encoder, EncoderParameters encoderParams)\r\n   at ScottPlot.Plot.SaveFig(String filePath, Nullable`1 width, Nullable`1 height, Boolean lowQuality, Double scale)\r\n   at Submission#84.<<Initialize>>d__0.MoveNext()\r\n--- End of stack trace from previous location ---\r\n   at Microsoft.CodeAnalysis.Scripting.ScriptExecutionState.RunSubmissionsAsync[TResult](ImmutableArray`1 precedingExecutors, Func`2 currentExecutor, StrongBox`1 exceptionHolderOpt, Func`2 catchExceptionOpt, CancellationToken cancellationToken)",
     "output_type": "error",
     "traceback": [
      "System.Runtime.InteropServices.ExternalException (0x80004005): A generic error occurred in GDI+.\r\n",
      "   at System.Drawing.Image.Save(String filename, ImageCodecInfo encoder, EncoderParameters encoderParams)\r\n",
      "   at ScottPlot.Plot.SaveFig(String filePath, Nullable`1 width, Nullable`1 height, Boolean lowQuality, Double scale)\r\n",
      "   at Submission#84.<<Initialize>>d__0.MoveNext()\r\n",
      "--- End of stack trace from previous location ---\r\n",
      "   at Microsoft.CodeAnalysis.Scripting.ScriptExecutionState.RunSubmissionsAsync[TResult](ImmutableArray`1 precedingExecutors, Func`2 currentExecutor, StrongBox`1 exceptionHolderOpt, Func`2 catchExceptionOpt, CancellationToken cancellationToken)"
     ]
    }
   ],
   "source": [
    "// create sample data\n",
    "double[] xs = ScottPlot.DataGen.Consecutive(500);\n",
    "double[] ys = ScottPlot.DataGen.RandomWalk(Random.Shared, 500);\n",
    "\n",
    "// plot the data\n",
    "ScottPlot.Plot plt = new();\n",
    "plt.AddScatterLines(xs, ys);\n",
    "plt.XLabel(\"Horizontal Axis\");\n",
    "plt.YLabel(\"Vertical Axis\");\n",
    "plt.Title(\"Scatter Plot\");\n",
    "plt.SaveFig(\"scatter-plot2.png\",1200,800);\n",
    "// display the plot\n",
    "plt\n",
    "\n"
   ]
  },
  {
   "attachments": {},
   "cell_type": "markdown",
   "metadata": {},
   "source": [
    "## Bar Graph"
   ]
  },
  {
   "cell_type": "code",
   "execution_count": 84,
   "metadata": {
    "dotnet_interactive": {
     "language": "csharp"
    },
    "polyglot_notebook": {
     "kernelName": "csharp"
    }
   },
   "outputs": [
    {
     "data": {
      "text/html": [
       "<img src=\"data:image/png;base64,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\"></img>"
      ]
     },
     "metadata": {},
     "output_type": "display_data"
    }
   ],
   "source": [
    "// create sample data\n",
    "double[] values = { 26, 20, 23, 7, 16 };\n",
    "double[] positions = { 0, 1, 2, 3, 4 };\n",
    "string[] labels = { \"PHP\", \"JS\", \"C++\", \"GO\", \"VB\" };\n",
    "\n",
    "// plot the data\n",
    "ScottPlot.Plot plt = new();\n",
    "plt.AddBar(values, positions);\n",
    "plt.XTicks(positions, labels);\n",
    "plt.SetAxisLimits(yMin: 0);\n",
    "plt.SaveFig(\"scatter-plot3.png\",1200,800);\n",
    "// display the plot\n",
    "plt\n",
    "\n"
   ]
  },
  {
   "attachments": {},
   "cell_type": "markdown",
   "metadata": {},
   "source": [
    "## Pie Chart"
   ]
  },
  {
   "cell_type": "code",
   "execution_count": 85,
   "metadata": {
    "dotnet_interactive": {
     "language": "csharp"
    },
    "polyglot_notebook": {
     "kernelName": "csharp"
    }
   },
   "outputs": [
    {
     "data": {
      "text/html": [
       "<img src=\"data:image/png;base64,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\"></img>"
      ]
     },
     "metadata": {},
     "output_type": "display_data"
    }
   ],
   "source": [
    "// create sample data\n",
    "double[] values = { 778, 43, 283, 76, 184 };\n",
    "string[] labels = { \"C#\", \"JAVA\", \"Python\", \"F#\", \"PHP\" };\n",
    "\n",
    "// plot the data\n",
    "ScottPlot.Plot plt = new();\n",
    "var pie = plt.AddPie(values);\n",
    "pie.SliceLabels = labels;\n",
    "pie.ShowLabels = true;\n",
    "plt.SaveFig(\"scatter-plot4.png\",1200,800);\n",
    "// show the plot\n",
    "plt\n",
    "\n"
   ]
  },
  {
   "attachments": {},
   "cell_type": "markdown",
   "metadata": {},
   "source": [
    "## Additional Resources\n",
    "\n",
    "* [ScottPlot Cookbook](https://scottplot.net/cookbook/)"
   ]
  },
  {
   "cell_type": "markdown",
   "metadata": {},
   "source": []
  },
  {
   "cell_type": "code",
   "execution_count": 86,
   "metadata": {
    "dotnet_interactive": {
     "language": "csharp"
    },
    "polyglot_notebook": {
     "kernelName": "csharp"
    }
   },
   "outputs": [],
   "source": [
    "const string folder = @\"D:\\Code\\Jupyter\";\n",
    "Image img1 = Image.FromFile(Path.Combine(folder, \"scatter-plot0.png\"));\n",
    "Bitmap map1 = new Bitmap(img1);\n",
    "Image img2 = Image.FromFile(Path.Combine(folder, \"scatter-plot1.png\"));\n",
    "Bitmap map2 = new Bitmap(img2);\n",
    "Image img3 = Image.FromFile(Path.Combine(folder, \"scatter-plot2.png\"));\n",
    "Bitmap map3 = new Bitmap(img3);\n",
    "var width = Math.Max(img1.Width, img2.Width);\n",
    "var height = img1.Height + img2.Height + 10;\n",
    "// 初始化画布(最终的拼图画布)并设置宽高\n",
    "Bitmap bitMap = new Bitmap(width, height);\n",
    "// 初始化画板\n",
    "Graphics g1 = Graphics.FromImage(bitMap);\n",
    "// 将画布涂为白色(底部颜色可自行设置)\n",
    "g1.FillRectangle(Brushes.White, new Rectangle(0, 0, width, height));\n",
    "//在x=0，y=0处画上图一\n",
    "g1.DrawImage(map1, 0, 0, img1.Width, img1.Height);\n",
    "//在x=0，y在图一往下10像素处画上图二\n",
    "g1.DrawImage(map2, 0, img1.Height + 10, img2.Width, img2.Height);\n",
    "g1.DrawImage(map3, 0, img1.Height + 10, img3.Width, img3.Height);\n",
    "map1.Dispose();\n",
    "map2.Dispose();\n",
    "map3.Dispose();\n",
    "Image img = bitMap;\n",
    "//保存\n",
    "img.Save(Path.Combine(folder, \"new测试1.png\"));\n",
    "img.Dispose();"
   ]
  },
  {
   "cell_type": "code",
   "execution_count": 87,
   "metadata": {
    "dotnet_interactive": {
     "language": "csharp"
    },
    "polyglot_notebook": {
     "kernelName": "csharp"
    }
   },
   "outputs": [],
   "source": [
    "        // 加载要合并的图片\n",
    "        Image image1 = Image.FromFile(\"scatter-plot0.png\");\n",
    "        Image image2 = Image.FromFile(\"scatter-plot2.png\");\n",
    "        Image image3 = Image.FromFile(\"scatter-plot3.png\");\n",
    "        Image image4 = Image.FromFile(\"scatter-plot4.png\");\n",
    "\n",
    "        // 创建合并后的图片大小\n",
    "        int mergedWidth = Math.Max(image1.Width, image2.Width) + Math.Max(image3.Width, image4.Width);\n",
    "        int mergedHeight = Math.Max(image1.Height, image3.Height) + Math.Max(image2.Height, image4.Height);\n",
    "\n",
    "        // 创建一个新的位图对象作为合并后的图片\n",
    "        Bitmap mergedImage = new Bitmap(mergedWidth, mergedHeight);\n",
    "\n",
    "        // 创建一个绘图对象，用于绘制合并后的图片\n",
    "        Graphics graphics = Graphics.FromImage(mergedImage);\n",
    "        graphics.InterpolationMode = InterpolationMode.HighQualityBicubic;\n",
    "\n",
    "        // 绘制第一张图片\n",
    "        graphics.DrawImage(image1, new Rectangle(0, 0, image1.Width, image1.Height));\n",
    "\n",
    "        // 绘制第二张图片\n",
    "        graphics.DrawImage(image2, new Rectangle(image1.Width, 0, image2.Width, image2.Height));\n",
    "\n",
    "        // 绘制第三张图片\n",
    "        graphics.DrawImage(image3, new Rectangle(0, image1.Height, image3.Width, image3.Height));\n",
    "\n",
    "        // 绘制第四张图片\n",
    "        graphics.DrawImage(image4, new Rectangle(image3.Width, image2.Height, image4.Width, image4.Height));\n",
    "\n",
    "        // 在合并后的图片上添加文字\n",
    "        using (Font font = new Font(\"Arial\", 12))\n",
    "        using (SolidBrush brush = new SolidBrush(Color.Black))\n",
    "        {\n",
    "            graphics.DrawString(\"Hello, World!\", font, brush, new PointF(10, 10));\n",
    "        }\n",
    "\n",
    "        // 保存合并后的图片\n",
    "        mergedImage.Save(\"mergedImage.jpg\", ImageFormat.Jpeg);\n",
    "\n",
    "        // 释放资源\n",
    "        graphics.Dispose();\n",
    "        mergedImage.Dispose();\n",
    "        image1.Dispose();\n",
    "        image2.Dispose();\n",
    "        image3.Dispose();\n",
    "        image4.Dispose();"
   ]
  }
 ],
 "metadata": {
  "kernelspec": {
   "display_name": ".NET (C#)",
   "language": "C#",
   "name": ".net-csharp"
  },
  "language_info": {
   "name": "polyglot-notebook"
  },
  "polyglot_notebook": {
   "kernelInfo": {
    "defaultKernelName": "csharp",
    "items": [
     {
      "aliases": [],
      "languageName": "csharp",
      "name": "csharp"
     }
    ]
   }
  }
 },
 "nbformat": 4,
 "nbformat_minor": 2
}
