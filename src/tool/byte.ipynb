{
 "cells": [
  {
   "cell_type": "code",
   "execution_count": null,
   "metadata": {
    "dotnet_interactive": {
     "language": "csharp"
    },
    "polyglot_notebook": {
     "kernelName": "csharp"
    },
    "vscode": {
     "languageId": "polyglot-notebook"
    }
   },
   "outputs": [],
   "source": [
    "#r \"nuget: DotNetty.Buffers\""
   ]
  },
  {
   "cell_type": "code",
   "execution_count": null,
   "metadata": {
    "dotnet_interactive": {
     "language": "csharp"
    },
    "polyglot_notebook": {
     "kernelName": "csharp"
    },
    "vscode": {
     "languageId": "polyglot-notebook"
    }
   },
   "outputs": [],
   "source": [
    "using System;\n",
    "using System.IO;\n",
    "using System.Collections.Generic;\n",
    "using System.Linq;\n",
    "using System.Runtime.InteropServices;\n",
    "using System.Text;\n",
    "using System.Threading.Tasks;\n",
    "using DotNetty.Buffers;"
   ]
  },
  {
   "cell_type": "code",
   "execution_count": null,
   "metadata": {
    "dotnet_interactive": {
     "language": "csharp"
    },
    "polyglot_notebook": {
     "kernelName": "csharp"
    },
    "vscode": {
     "languageId": "polyglot-notebook"
    }
   },
   "outputs": [
    {
     "ename": "Error",
     "evalue": "System.IO.DirectoryNotFoundException: Could not find a part of the path 'F:\\WeChat\\WeChat Files\\wxid_6184q3ecf65d22\\FileStorage\\File\\2023-09\\20230908CMS2\\JXLLZ\\JXLLZ_011_20230908092505_CH7_Cond1.dat'.\r\n   at Microsoft.Win32.SafeHandles.SafeFileHandle.CreateFile(String fullPath, FileMode mode, FileAccess access, FileShare share, FileOptions options)\r\n   at Microsoft.Win32.SafeHandles.SafeFileHandle.Open(String fullPath, FileMode mode, FileAccess access, FileShare share, FileOptions options, Int64 preallocationSize, Nullable`1 unixCreateMode)\r\n   at System.IO.Strategies.OSFileStreamStrategy..ctor(String path, FileMode mode, FileAccess access, FileShare share, FileOptions options, Int64 preallocationSize, Nullable`1 unixCreateMode)\r\n   at System.IO.Strategies.FileStreamHelpers.ChooseStrategyCore(String path, FileMode mode, FileAccess access, FileShare share, FileOptions options, Int64 preallocationSize, Nullable`1 unixCreateMode)\r\n   at System.IO.FileStream..ctor(String path, FileMode mode)\r\n   at Submission#3.<<Initialize>>d__0.MoveNext()\r\n--- End of stack trace from previous location ---\r\n   at Microsoft.CodeAnalysis.Scripting.ScriptExecutionState.RunSubmissionsAsync[TResult](ImmutableArray`1 precedingExecutors, Func`2 currentExecutor, StrongBox`1 exceptionHolderOpt, Func`2 catchExceptionOpt, CancellationToken cancellationToken)",
     "output_type": "error",
     "traceback": [
      "System.IO.DirectoryNotFoundException: Could not find a part of the path 'F:\\WeChat\\WeChat Files\\wxid_6184q3ecf65d22\\FileStorage\\File\\2023-09\\20230908CMS2\\JXLLZ\\JXLLZ_011_20230908092505_CH7_Cond1.dat'.\r\n",
      "   at Microsoft.Win32.SafeHandles.SafeFileHandle.CreateFile(String fullPath, FileMode mode, FileAccess access, FileShare share, FileOptions options)\r\n",
      "   at Microsoft.Win32.SafeHandles.SafeFileHandle.Open(String fullPath, FileMode mode, FileAccess access, FileShare share, FileOptions options, Int64 preallocationSize, Nullable`1 unixCreateMode)\r\n",
      "   at System.IO.Strategies.OSFileStreamStrategy..ctor(String path, FileMode mode, FileAccess access, FileShare share, FileOptions options, Int64 preallocationSize, Nullable`1 unixCreateMode)\r\n",
      "   at System.IO.Strategies.FileStreamHelpers.ChooseStrategyCore(String path, FileMode mode, FileAccess access, FileShare share, FileOptions options, Int64 preallocationSize, Nullable`1 unixCreateMode)\r\n",
      "   at System.IO.FileStream..ctor(String path, FileMode mode)\r\n",
      "   at Submission#3.<<Initialize>>d__0.MoveNext()\r\n",
      "--- End of stack trace from previous location ---\r\n",
      "   at Microsoft.CodeAnalysis.Scripting.ScriptExecutionState.RunSubmissionsAsync[TResult](ImmutableArray`1 precedingExecutors, Func`2 currentExecutor, StrongBox`1 exceptionHolderOpt, Func`2 catchExceptionOpt, CancellationToken cancellationToken)"
     ]
    }
   ],
   "source": [
    "// 方式一\n",
    "using (System.IO.FileStream fs = new System.IO.FileStream(@\"F:\\WeChat\\WeChat Files\\wxid_6184q3ecf65d22\\FileStorage\\File\\2023-09\\20230908CMS2\\JXLLZ\\JXLLZ_011_20230908092505_CH7_Cond1.dat\", System.IO.FileMode.Open))\n",
    "{\n",
    "    // 获取文件大小\n",
    "    long size = fs.Length;\n",
    "    byte[] bytes = new byte[size];\n",
    "    // 将文件读到byte数组中\n",
    "    fs.Read(bytes, 0, bytes.Length);\n",
    "    display(bytes.Length);\n",
    "    IByteBuffer buffer = Unpooled.WrappedBuffer(bytes);\n",
    "    display(buffer.ReadShortLE());//Header Version\n",
    "    display(buffer.ReadIntLE());//Data Size\n",
    "    display(buffer.ReadShortLE());//Data Analysis\n",
    "    display(buffer.ReadFloatLE());//Scale Coefficient\n",
    "    display(buffer.ReadFloatLE());//Scale Offset\n",
    "    buffer.ReadBytes(new byte[48]);//Scale Offset\n",
    "    display(buffer.ReadShortLE());//Condition Description Size\n",
    "    buffer.ReadBytes(new byte[14]);//Scale Offset\n",
    "    display(buffer.ReadBytes(new byte[16]));//Working Condition\n",
    "    display(buffer.ReadBytes(new byte[16]));//Working Condition\n",
    "    display(buffer.ReadBytes(new byte[16]));//Working Condition\n",
    "    display(buffer.ReadBytes(new byte[16]));//Working Condition\n",
    "    display(buffer.ReadFloatLE());//Working Condition\n",
    "    display(buffer.ReadFloatLE());//Working Condition\n",
    "    display(buffer.ReadFloatLE());//Working Condition\n",
    "    display(buffer.ReadFloatLE());//Working Condition\n",
    "    display(buffer.ReadFloatLE());//Working Condition\n",
    "    display(buffer.ReadFloatLE());//Working Condition\n",
    "    display(buffer.ReadFloatLE());//Working Condition\n",
    "    display(buffer.ReadFloatLE());//Working Condition\n",
    "    display(buffer.ReadFloatLE());//Working Condition\n",
    "    display(buffer.ReadFloatLE());//Working Condition\n",
    "    display(buffer.ReadFloatLE());//Working Condition\n",
    "    display(buffer.ReadFloatLE());//Working Condition\n",
    "    display(buffer.ReadBytes(new byte[16]));//Working Condition\n",
    "    display(buffer.ReadBytes(new byte[32]));//Working Condition\n",
    "    display(buffer.ReadIntLE());//Working Condition\n",
    "    display(buffer.ReadBytes(new byte[28]));//Working Condition\n",
    "    display(buffer.ReadFloatLE());//Working Condition\n",
    "}\n",
    " "
   ]
  },
  {
   "cell_type": "code",
   "execution_count": 4,
   "metadata": {
    "dotnet_interactive": {
     "language": "csharp"
    },
    "polyglot_notebook": {
     "kernelName": "csharp"
    },
    "vscode": {
     "languageId": "polyglot-notebook"
    }
   },
   "outputs": [
    {
     "data": {
      "text/plain": [
       " 文件名 F:\\Code\\公司\\SMS203\\ED2_u0053u004du0053u0046u0043u005fu0030u0032u0030u0033_GBX1PSR1_2560Hz_1_1064_20241117073514.dat ED2\u0000\u0000\u0000\u0000\u0000\u0000\u0000\u0000\u0000\u0000\u0000\u0000\u0000 SMSFC\u0000\u0000\u0000\u0000\u0000\u0000\u0000\u0000\u0000\u0000\u0000 0203\u0000\u0000\u0000\u0000\u0000\u0000\u0000\u0000\u0000\u0000\u0000\u0000  0.368045"
      ]
     },
     "metadata": {},
     "output_type": "display_data"
    },
    {
     "data": {
      "text/plain": [
       " 文件名 F:\\Code\\公司\\SMS203\\ED2_u0053u004du0053u0046u0043u005fu0030u0032u0030u0033_GBX1PSR1_2560Hz_1_1300_20241117123542.dat ED2\u0000\u0000\u0000\u0000\u0000\u0000\u0000\u0000\u0000\u0000\u0000\u0000\u0000 SMSFC\u0000\u0000\u0000\u0000\u0000\u0000\u0000\u0000\u0000\u0000\u0000 0203\u0000\u0000\u0000\u0000\u0000\u0000\u0000\u0000\u0000\u0000\u0000\u0000  0.735756"
      ]
     },
     "metadata": {},
     "output_type": "display_data"
    },
    {
     "data": {
      "text/plain": [
       " 文件名 F:\\Code\\公司\\SMS203\\ED2_u0053u004du0053u0046u0043u005fu0030u0032u0030u0033_GBX1PSR1_2560Hz_1_1319_20241117013802.dat ED2\u0000\u0000\u0000\u0000\u0000\u0000\u0000\u0000\u0000\u0000\u0000\u0000\u0000 SMSFC\u0000\u0000\u0000\u0000\u0000\u0000\u0000\u0000\u0000\u0000\u0000 0203\u0000\u0000\u0000\u0000\u0000\u0000\u0000\u0000\u0000\u0000\u0000\u0000  0.737178"
      ]
     },
     "metadata": {},
     "output_type": "display_data"
    },
    {
     "data": {
      "text/plain": [
       " 文件名 F:\\Code\\公司\\SMS203\\ED2_u0053u004du0053u0046u0043u005fu0030u0032u0030u0033_GBX1PSR1_2560Hz_1_1319_20241117063301.dat ED2\u0000\u0000\u0000\u0000\u0000\u0000\u0000\u0000\u0000\u0000\u0000\u0000\u0000 SMSFC\u0000\u0000\u0000\u0000\u0000\u0000\u0000\u0000\u0000\u0000\u0000 0203\u0000\u0000\u0000\u0000\u0000\u0000\u0000\u0000\u0000\u0000\u0000\u0000  0.737178"
      ]
     },
     "metadata": {},
     "output_type": "display_data"
    },
    {
     "data": {
      "text/plain": [
       " 文件名 F:\\Code\\公司\\SMS203\\ED2_u0053u004du0053u0046u0043u005fu0030u0032u0030u0033_GBX1PSR1_2560Hz_1_1352_20241117003440.dat ED2\u0000\u0000\u0000\u0000\u0000\u0000\u0000\u0000\u0000\u0000\u0000\u0000\u0000 SMSFC\u0000\u0000\u0000\u0000\u0000\u0000\u0000\u0000\u0000\u0000\u0000 0203\u0000\u0000\u0000\u0000\u0000\u0000\u0000\u0000\u0000\u0000\u0000\u0000  0.665797"
      ]
     },
     "metadata": {},
     "output_type": "display_data"
    },
    {
     "data": {
      "text/plain": [
       " 文件名 F:\\Code\\公司\\SMS203\\ED2_u0053u004du0053u0046u0043u005fu0030u0032u0030u0033_GBX1PSR1_2560Hz_1_1369_20241117113430.dat ED2\u0000\u0000\u0000\u0000\u0000\u0000\u0000\u0000\u0000\u0000\u0000\u0000\u0000 SMSFC\u0000\u0000\u0000\u0000\u0000\u0000\u0000\u0000\u0000\u0000\u0000 0203\u0000\u0000\u0000\u0000\u0000\u0000\u0000\u0000\u0000\u0000\u0000\u0000  0.682113"
      ]
     },
     "metadata": {},
     "output_type": "display_data"
    },
    {
     "data": {
      "text/plain": [
       " 文件名 F:\\Code\\公司\\SMS203\\ED2_u0053u004du0053u0046u0043u005fu0030u0032u0030u0033_GBX1PSR1_2560Hz_1_1448_20241117033829.dat ED2\u0000\u0000\u0000\u0000\u0000\u0000\u0000\u0000\u0000\u0000\u0000\u0000\u0000 SMSFC\u0000\u0000\u0000\u0000\u0000\u0000\u0000\u0000\u0000\u0000\u0000 0203\u0000\u0000\u0000\u0000\u0000\u0000\u0000\u0000\u0000\u0000\u0000\u0000  0.827548"
      ]
     },
     "metadata": {},
     "output_type": "display_data"
    },
    {
     "data": {
      "text/plain": [
       " 文件名 F:\\Code\\公司\\SMS203\\ED2_u0053u004du0053u0046u0043u005fu0030u0032u0030u0033_GBX1PSR1_2560Hz_1_1536_20241117053419.dat ED2\u0000\u0000\u0000\u0000\u0000\u0000\u0000\u0000\u0000\u0000\u0000\u0000\u0000 SMSFC\u0000\u0000\u0000\u0000\u0000\u0000\u0000\u0000\u0000\u0000\u0000 0203\u0000\u0000\u0000\u0000\u0000\u0000\u0000\u0000\u0000\u0000\u0000\u0000  1.05164"
      ]
     },
     "metadata": {},
     "output_type": "display_data"
    },
    {
     "data": {
      "text/plain": [
       " 文件名 F:\\Code\\公司\\SMS203\\ED2_u0053u004du0053u0046u0043u005fu0030u0032u0030u0033_GBX1PSR1_2560Hz_1_1539_20241117044113.dat ED2\u0000\u0000\u0000\u0000\u0000\u0000\u0000\u0000\u0000\u0000\u0000\u0000\u0000 SMSFC\u0000\u0000\u0000\u0000\u0000\u0000\u0000\u0000\u0000\u0000\u0000 0203\u0000\u0000\u0000\u0000\u0000\u0000\u0000\u0000\u0000\u0000\u0000\u0000  1.03827"
      ]
     },
     "metadata": {},
     "output_type": "display_data"
    },
    {
     "data": {
      "text/plain": [
       " 文件名 F:\\Code\\公司\\SMS203\\ED2_u0053u004du0053u0046u0043u005fu0030u0032u0030u0033_GBX1PSR1_2560Hz_1_1545_20241117083558.dat ED2\u0000\u0000\u0000\u0000\u0000\u0000\u0000\u0000\u0000\u0000\u0000\u0000\u0000 SMSFC\u0000\u0000\u0000\u0000\u0000\u0000\u0000\u0000\u0000\u0000\u0000 0203\u0000\u0000\u0000\u0000\u0000\u0000\u0000\u0000\u0000\u0000\u0000\u0000  1.04832"
      ]
     },
     "metadata": {},
     "output_type": "display_data"
    },
    {
     "data": {
      "text/plain": [
       " 文件名 F:\\Code\\公司\\SMS203\\ED2_u0053u004du0053u0046u0043u005fu0030u0032u0030u0033_GBX1PSR1_2560Hz_1_1545_20241117233751.dat ED2\u0000\u0000\u0000\u0000\u0000\u0000\u0000\u0000\u0000\u0000\u0000\u0000\u0000 SMSFC\u0000\u0000\u0000\u0000\u0000\u0000\u0000\u0000\u0000\u0000\u0000 0203\u0000\u0000\u0000\u0000\u0000\u0000\u0000\u0000\u0000\u0000\u0000\u0000  1.04832"
      ]
     },
     "metadata": {},
     "output_type": "display_data"
    },
    {
     "data": {
      "text/plain": [
       " 文件名 F:\\Code\\公司\\SMS203\\ED2_u0053u004du0053u0046u0043u005fu0030u0032u0030u0033_GBX1PSR1_2560Hz_1_1554_20241117113431.dat ED2\u0000\u0000\u0000\u0000\u0000\u0000\u0000\u0000\u0000\u0000\u0000\u0000\u0000 SMSFC\u0000\u0000\u0000\u0000\u0000\u0000\u0000\u0000\u0000\u0000\u0000 0203\u0000\u0000\u0000\u0000\u0000\u0000\u0000\u0000\u0000\u0000\u0000\u0000  1.04459"
      ]
     },
     "metadata": {},
     "output_type": "display_data"
    },
    {
     "data": {
      "text/plain": [
       " 文件名 F:\\Code\\公司\\SMS203\\ED2_u0053u004du0053u0046u0043u005fu0030u0032u0030u0033_GBX1PSR1_2560Hz_1_1610_20241117103507.dat ED2\u0000\u0000\u0000\u0000\u0000\u0000\u0000\u0000\u0000\u0000\u0000\u0000\u0000 SMSFC\u0000\u0000\u0000\u0000\u0000\u0000\u0000\u0000\u0000\u0000\u0000 0203\u0000\u0000\u0000\u0000\u0000\u0000\u0000\u0000\u0000\u0000\u0000\u0000  1.11269"
      ]
     },
     "metadata": {},
     "output_type": "display_data"
    },
    {
     "data": {
      "text/plain": [
       " 文件名 F:\\Code\\公司\\SMS203\\ED2_u0053u004du0053u0046u0043u005fu0030u0032u0030u0033_GBX1PSR1_2560Hz_1_1615_20241117093811.dat ED2\u0000\u0000\u0000\u0000\u0000\u0000\u0000\u0000\u0000\u0000\u0000\u0000\u0000 SMSFC\u0000\u0000\u0000\u0000\u0000\u0000\u0000\u0000\u0000\u0000\u0000 0203\u0000\u0000\u0000\u0000\u0000\u0000\u0000\u0000\u0000\u0000\u0000\u0000  1.08101"
      ]
     },
     "metadata": {},
     "output_type": "display_data"
    },
    {
     "data": {
      "text/plain": [
       " 文件名 F:\\Code\\公司\\SMS203\\ED2_u0053u004du0053u0046u0043u005fu0030u0032u0030u0033_GBX1PSR1_2560Hz_1_1618_20241117003440.dat ED2\u0000\u0000\u0000\u0000\u0000\u0000\u0000\u0000\u0000\u0000\u0000\u0000\u0000 SMSFC\u0000\u0000\u0000\u0000\u0000\u0000\u0000\u0000\u0000\u0000\u0000 0203\u0000\u0000\u0000\u0000\u0000\u0000\u0000\u0000\u0000\u0000\u0000\u0000  1.12081"
      ]
     },
     "metadata": {},
     "output_type": "display_data"
    },
    {
     "data": {
      "text/plain": [
       " 文件名 F:\\Code\\公司\\SMS203\\ED2_u0053u004du0053u0046u0043u005fu0030u0032u0030u0033_GBX1PSR1_2560Hz_1_1625_20241117013802.dat ED2\u0000\u0000\u0000\u0000\u0000\u0000\u0000\u0000\u0000\u0000\u0000\u0000\u0000 SMSFC\u0000\u0000\u0000\u0000\u0000\u0000\u0000\u0000\u0000\u0000\u0000 0203\u0000\u0000\u0000\u0000\u0000\u0000\u0000\u0000\u0000\u0000\u0000\u0000  1.07425"
      ]
     },
     "metadata": {},
     "output_type": "display_data"
    },
    {
     "data": {
      "text/plain": [
       " 文件名 F:\\Code\\公司\\SMS203\\ED2_u0053u004du0053u0046u0043u005fu0030u0032u0030u0033_GBX1PSR1_2560Hz_1_1625_20241117053418.dat ED2\u0000\u0000\u0000\u0000\u0000\u0000\u0000\u0000\u0000\u0000\u0000\u0000\u0000 SMSFC\u0000\u0000\u0000\u0000\u0000\u0000\u0000\u0000\u0000\u0000\u0000 0203\u0000\u0000\u0000\u0000\u0000\u0000\u0000\u0000\u0000\u0000\u0000\u0000  1.07425"
      ]
     },
     "metadata": {},
     "output_type": "display_data"
    },
    {
     "data": {
      "text/plain": [
       " 文件名 F:\\Code\\公司\\SMS203\\ED2_u0053u004du0053u0046u0043u005fu0030u0032u0030u0033_GBX1PSR1_2560Hz_1_1667_20241117033828.dat ED2\u0000\u0000\u0000\u0000\u0000\u0000\u0000\u0000\u0000\u0000\u0000\u0000\u0000 SMSFC\u0000\u0000\u0000\u0000\u0000\u0000\u0000\u0000\u0000\u0000\u0000 0203\u0000\u0000\u0000\u0000\u0000\u0000\u0000\u0000\u0000\u0000\u0000\u0000  0.987832"
      ]
     },
     "metadata": {},
     "output_type": "display_data"
    },
    {
     "data": {
      "text/plain": [
       " 文件名 F:\\Code\\公司\\SMS203\\ED2_u0053u004du0053u0046u0043u005fu0030u0032u0030u0033_GBX1PSR1_2560Hz_1_1674_20241117003441.dat ED2\u0000\u0000\u0000\u0000\u0000\u0000\u0000\u0000\u0000\u0000\u0000\u0000\u0000 SMSFC\u0000\u0000\u0000\u0000\u0000\u0000\u0000\u0000\u0000\u0000\u0000 0203\u0000\u0000\u0000\u0000\u0000\u0000\u0000\u0000\u0000\u0000\u0000\u0000  1.04764"
      ]
     },
     "metadata": {},
     "output_type": "display_data"
    },
    {
     "data": {
      "text/plain": [
       " 文件名 F:\\Code\\公司\\SMS203\\ED2_u0053u004du0053u0046u0043u005fu0030u0032u0030u0033_GBX1PSR1_2560Hz_1_1682_20241117053419.dat ED2\u0000\u0000\u0000\u0000\u0000\u0000\u0000\u0000\u0000\u0000\u0000\u0000\u0000 SMSFC\u0000\u0000\u0000\u0000\u0000\u0000\u0000\u0000\u0000\u0000\u0000 0203\u0000\u0000\u0000\u0000\u0000\u0000\u0000\u0000\u0000\u0000\u0000\u0000  1.01866"
      ]
     },
     "metadata": {},
     "output_type": "display_data"
    },
    {
     "data": {
      "text/plain": [
       " 文件名 F:\\Code\\公司\\SMS203\\ED2_u0053u004du0053u0046u0043u005fu0030u0032u0030u0033_GBX1PSR1_2560Hz_1_1683_20241117103508.dat ED2\u0000\u0000\u0000\u0000\u0000\u0000\u0000\u0000\u0000\u0000\u0000\u0000\u0000 SMSFC\u0000\u0000\u0000\u0000\u0000\u0000\u0000\u0000\u0000\u0000\u0000 0203\u0000\u0000\u0000\u0000\u0000\u0000\u0000\u0000\u0000\u0000\u0000\u0000  1.00951"
      ]
     },
     "metadata": {},
     "output_type": "display_data"
    },
    {
     "data": {
      "text/plain": [
       " 文件名 F:\\Code\\公司\\SMS203\\ED2_u0053u004du0053u0046u0043u005fu0030u0032u0030u0033_GBX1PSR1_2560Hz_1_1722_20241117073517.dat ED2\u0000\u0000\u0000\u0000\u0000\u0000\u0000\u0000\u0000\u0000\u0000\u0000\u0000 SMSFC\u0000\u0000\u0000\u0000\u0000\u0000\u0000\u0000\u0000\u0000\u0000 0203\u0000\u0000\u0000\u0000\u0000\u0000\u0000\u0000\u0000\u0000\u0000\u0000  1.04359"
      ]
     },
     "metadata": {},
     "output_type": "display_data"
    },
    {
     "data": {
      "text/plain": [
       " 文件名 F:\\Code\\公司\\SMS203\\ED2_u0053u004du0053u0046u0043u005fu0030u0032u0030u0033_GBX1PSR1_2560Hz_1_1740_20241117093811.dat ED2\u0000\u0000\u0000\u0000\u0000\u0000\u0000\u0000\u0000\u0000\u0000\u0000\u0000 SMSFC\u0000\u0000\u0000\u0000\u0000\u0000\u0000\u0000\u0000\u0000\u0000 0203\u0000\u0000\u0000\u0000\u0000\u0000\u0000\u0000\u0000\u0000\u0000\u0000  1.08199"
      ]
     },
     "metadata": {},
     "output_type": "display_data"
    },
    {
     "data": {
      "text/plain": [
       " 文件名 F:\\Code\\公司\\SMS203\\ED2_u0053u004du0053u0046u0043u005fu0030u0032u0030u0033_GBX1PSR1_2560Hz_1_1750_20241117053419.dat ED2\u0000\u0000\u0000\u0000\u0000\u0000\u0000\u0000\u0000\u0000\u0000\u0000\u0000 SMSFC\u0000\u0000\u0000\u0000\u0000\u0000\u0000\u0000\u0000\u0000\u0000 0203\u0000\u0000\u0000\u0000\u0000\u0000\u0000\u0000\u0000\u0000\u0000\u0000  1.0853"
      ]
     },
     "metadata": {},
     "output_type": "display_data"
    },
    {
     "data": {
      "text/plain": [
       " 文件名 F:\\Code\\公司\\SMS203\\ED2_u0053u004du0053u0046u0043u005fu0030u0032u0030u0033_GBX1PSR1_2560Hz_1_1751_20241117133341.dat ED2\u0000\u0000\u0000\u0000\u0000\u0000\u0000\u0000\u0000\u0000\u0000\u0000\u0000 SMSFC\u0000\u0000\u0000\u0000\u0000\u0000\u0000\u0000\u0000\u0000\u0000 0203\u0000\u0000\u0000\u0000\u0000\u0000\u0000\u0000\u0000\u0000\u0000\u0000  1.70282"
      ]
     },
     "metadata": {},
     "output_type": "display_data"
    },
    {
     "data": {
      "text/plain": [
       " 文件名 F:\\Code\\公司\\SMS203\\ED2_u0053u004du0053u0046u0043u005fu0030u0032u0030u0033_GBX1PSR1_2560Hz_1_1752_20241117003440.dat ED2\u0000\u0000\u0000\u0000\u0000\u0000\u0000\u0000\u0000\u0000\u0000\u0000\u0000 SMSFC\u0000\u0000\u0000\u0000\u0000\u0000\u0000\u0000\u0000\u0000\u0000 0203\u0000\u0000\u0000\u0000\u0000\u0000\u0000\u0000\u0000\u0000\u0000\u0000  1.66126"
      ]
     },
     "metadata": {},
     "output_type": "display_data"
    },
    {
     "data": {
      "text/plain": [
       " 文件名 F:\\Code\\公司\\SMS203\\ED2_u0053u004du0053u0046u0043u005fu0030u0032u0030u0033_GBX1PSR1_2560Hz_1_1752_20241117063302.dat ED2\u0000\u0000\u0000\u0000\u0000\u0000\u0000\u0000\u0000\u0000\u0000\u0000\u0000 SMSFC\u0000\u0000\u0000\u0000\u0000\u0000\u0000\u0000\u0000\u0000\u0000 0203\u0000\u0000\u0000\u0000\u0000\u0000\u0000\u0000\u0000\u0000\u0000\u0000  1.5315"
      ]
     },
     "metadata": {},
     "output_type": "display_data"
    },
    {
     "data": {
      "text/plain": [
       " 文件名 F:\\Code\\公司\\SMS203\\ED2_u0053u004du0053u0046u0043u005fu0030u0032u0030u0033_GBX1PSR1_2560Hz_1_1752_20241117123540.dat ED2\u0000\u0000\u0000\u0000\u0000\u0000\u0000\u0000\u0000\u0000\u0000\u0000\u0000 SMSFC\u0000\u0000\u0000\u0000\u0000\u0000\u0000\u0000\u0000\u0000\u0000 0203\u0000\u0000\u0000\u0000\u0000\u0000\u0000\u0000\u0000\u0000\u0000\u0000  1.17941"
      ]
     },
     "metadata": {},
     "output_type": "display_data"
    },
    {
     "data": {
      "text/plain": [
       " 文件名 F:\\Code\\公司\\SMS203\\ED2_u0053u004du0053u0046u0043u005fu0030u0032u0030u0033_GBX1PSR1_2560Hz_1_1752_20241117133341.dat ED2\u0000\u0000\u0000\u0000\u0000\u0000\u0000\u0000\u0000\u0000\u0000\u0000\u0000 SMSFC\u0000\u0000\u0000\u0000\u0000\u0000\u0000\u0000\u0000\u0000\u0000 0203\u0000\u0000\u0000\u0000\u0000\u0000\u0000\u0000\u0000\u0000\u0000\u0000  1.53774"
      ]
     },
     "metadata": {},
     "output_type": "display_data"
    },
    {
     "data": {
      "text/plain": [
       " 文件名 F:\\Code\\公司\\SMS203\\ED2_u0053u004du0053u0046u0043u005fu0030u0032u0030u0033_GBX1PSR1_2560Hz_1_1753_20241117013800.dat ED2\u0000\u0000\u0000\u0000\u0000\u0000\u0000\u0000\u0000\u0000\u0000\u0000\u0000 SMSFC\u0000\u0000\u0000\u0000\u0000\u0000\u0000\u0000\u0000\u0000\u0000 0203\u0000\u0000\u0000\u0000\u0000\u0000\u0000\u0000\u0000\u0000\u0000\u0000  1.14862"
      ]
     },
     "metadata": {},
     "output_type": "display_data"
    },
    {
     "data": {
      "text/plain": [
       " 文件名 F:\\Code\\公司\\SMS203\\ED2_u0053u004du0053u0046u0043u005fu0030u0032u0030u0033_GBX1PSR1_2560Hz_1_1753_20241117023516.dat ED2\u0000\u0000\u0000\u0000\u0000\u0000\u0000\u0000\u0000\u0000\u0000\u0000\u0000 SMSFC\u0000\u0000\u0000\u0000\u0000\u0000\u0000\u0000\u0000\u0000\u0000 0203\u0000\u0000\u0000\u0000\u0000\u0000\u0000\u0000\u0000\u0000\u0000\u0000  1.71618"
      ]
     },
     "metadata": {},
     "output_type": "display_data"
    },
    {
     "data": {
      "text/plain": [
       " 文件名 F:\\Code\\公司\\SMS203\\ED2_u0053u004du0053u0046u0043u005fu0030u0032u0030u0033_GBX1PSR1_2560Hz_1_1753_20241117033825.dat ED2\u0000\u0000\u0000\u0000\u0000\u0000\u0000\u0000\u0000\u0000\u0000\u0000\u0000 SMSFC\u0000\u0000\u0000\u0000\u0000\u0000\u0000\u0000\u0000\u0000\u0000 0203\u0000\u0000\u0000\u0000\u0000\u0000\u0000\u0000\u0000\u0000\u0000\u0000  1.33849"
      ]
     },
     "metadata": {},
     "output_type": "display_data"
    },
    {
     "data": {
      "text/plain": [
       " 文件名 F:\\Code\\公司\\SMS203\\ED2_u0053u004du0053u0046u0043u005fu0030u0032u0030u0033_GBX1PSR1_2560Hz_1_1753_20241117044112.dat ED2\u0000\u0000\u0000\u0000\u0000\u0000\u0000\u0000\u0000\u0000\u0000\u0000\u0000 SMSFC\u0000\u0000\u0000\u0000\u0000\u0000\u0000\u0000\u0000\u0000\u0000 0203\u0000\u0000\u0000\u0000\u0000\u0000\u0000\u0000\u0000\u0000\u0000\u0000  1.32883"
      ]
     },
     "metadata": {},
     "output_type": "display_data"
    },
    {
     "data": {
      "text/plain": [
       " 文件名 F:\\Code\\公司\\SMS203\\ED2_u0053u004du0053u0046u0043u005fu0030u0032u0030u0033_GBX1PSR1_2560Hz_1_1753_20241117063259.dat ED2\u0000\u0000\u0000\u0000\u0000\u0000\u0000\u0000\u0000\u0000\u0000\u0000\u0000 SMSFC\u0000\u0000\u0000\u0000\u0000\u0000\u0000\u0000\u0000\u0000\u0000 0203\u0000\u0000\u0000\u0000\u0000\u0000\u0000\u0000\u0000\u0000\u0000\u0000  1.42822"
      ]
     },
     "metadata": {},
     "output_type": "display_data"
    },
    {
     "data": {
      "text/plain": [
       " 文件名 F:\\Code\\公司\\SMS203\\ED2_u0053u004du0053u0046u0043u005fu0030u0032u0030u0033_GBX1PSR1_2560Hz_1_1753_20241117073516.dat ED2\u0000\u0000\u0000\u0000\u0000\u0000\u0000\u0000\u0000\u0000\u0000\u0000\u0000 SMSFC\u0000\u0000\u0000\u0000\u0000\u0000\u0000\u0000\u0000\u0000\u0000 0203\u0000\u0000\u0000\u0000\u0000\u0000\u0000\u0000\u0000\u0000\u0000\u0000  1.68852"
      ]
     },
     "metadata": {},
     "output_type": "display_data"
    },
    {
     "data": {
      "text/plain": [
       " 文件名 F:\\Code\\公司\\SMS203\\ED2_u0053u004du0053u0046u0043u005fu0030u0032u0030u0033_GBX1PSR1_2560Hz_1_1753_20241117103509.dat ED2\u0000\u0000\u0000\u0000\u0000\u0000\u0000\u0000\u0000\u0000\u0000\u0000\u0000 SMSFC\u0000\u0000\u0000\u0000\u0000\u0000\u0000\u0000\u0000\u0000\u0000 0203\u0000\u0000\u0000\u0000\u0000\u0000\u0000\u0000\u0000\u0000\u0000\u0000  1.45515"
      ]
     },
     "metadata": {},
     "output_type": "display_data"
    },
    {
     "data": {
      "text/plain": [
       " 文件名 F:\\Code\\公司\\SMS203\\ED2_u0053u004du0053u0046u0043u005fu0030u0032u0030u0033_GBX1PSR1_2560Hz_1_1753_20241117113430.dat ED2\u0000\u0000\u0000\u0000\u0000\u0000\u0000\u0000\u0000\u0000\u0000\u0000\u0000 SMSFC\u0000\u0000\u0000\u0000\u0000\u0000\u0000\u0000\u0000\u0000\u0000 0203\u0000\u0000\u0000\u0000\u0000\u0000\u0000\u0000\u0000\u0000\u0000\u0000  1.32883"
      ]
     },
     "metadata": {},
     "output_type": "display_data"
    },
    {
     "data": {
      "text/plain": [
       " 文件名 F:\\Code\\公司\\SMS203\\ED2_u0053u004du0053u0046u0043u005fu0030u0032u0030u0033_GBX1PSR1_2560Hz_1_1753_20241117123541.dat ED2\u0000\u0000\u0000\u0000\u0000\u0000\u0000\u0000\u0000\u0000\u0000\u0000\u0000 SMSFC\u0000\u0000\u0000\u0000\u0000\u0000\u0000\u0000\u0000\u0000\u0000 0203\u0000\u0000\u0000\u0000\u0000\u0000\u0000\u0000\u0000\u0000\u0000\u0000  1.71618"
      ]
     },
     "metadata": {},
     "output_type": "display_data"
    },
    {
     "data": {
      "text/plain": [
       " 文件名 F:\\Code\\公司\\SMS203\\ED2_u0053u004du0053u0046u0043u005fu0030u0032u0030u0033_GBX1PSR1_2560Hz_1_1753_20241117133340.dat ED2\u0000\u0000\u0000\u0000\u0000\u0000\u0000\u0000\u0000\u0000\u0000\u0000\u0000 SMSFC\u0000\u0000\u0000\u0000\u0000\u0000\u0000\u0000\u0000\u0000\u0000 0203\u0000\u0000\u0000\u0000\u0000\u0000\u0000\u0000\u0000\u0000\u0000\u0000  1.83147"
      ]
     },
     "metadata": {},
     "output_type": "display_data"
    },
    {
     "data": {
      "text/plain": [
       " 文件名 F:\\Code\\公司\\SMS203\\ED2_u0053u004du0053u0046u0043u005fu0030u0032u0030u0033_GBX1PSR1_2560Hz_1_1753_20241117233751.dat ED2\u0000\u0000\u0000\u0000\u0000\u0000\u0000\u0000\u0000\u0000\u0000\u0000\u0000 SMSFC\u0000\u0000\u0000\u0000\u0000\u0000\u0000\u0000\u0000\u0000\u0000 0203\u0000\u0000\u0000\u0000\u0000\u0000\u0000\u0000\u0000\u0000\u0000\u0000  1.64463"
      ]
     },
     "metadata": {},
     "output_type": "display_data"
    },
    {
     "data": {
      "text/plain": [
       " 文件名 F:\\Code\\公司\\SMS203\\ED2_u0053u004du0053u0046u0043u005fu0030u0032u0030u0033_GBX1PSR1_2560Hz_1_1754_20241117003438.dat ED2\u0000\u0000\u0000\u0000\u0000\u0000\u0000\u0000\u0000\u0000\u0000\u0000\u0000 SMSFC\u0000\u0000\u0000\u0000\u0000\u0000\u0000\u0000\u0000\u0000\u0000 0203\u0000\u0000\u0000\u0000\u0000\u0000\u0000\u0000\u0000\u0000\u0000\u0000  1.3116"
      ]
     },
     "metadata": {},
     "output_type": "display_data"
    },
    {
     "data": {
      "text/plain": [
       " 文件名 F:\\Code\\公司\\SMS203\\ED2_u0053u004du0053u0046u0043u005fu0030u0032u0030u0033_GBX1PSR1_2560Hz_1_1754_20241117013802.dat ED2\u0000\u0000\u0000\u0000\u0000\u0000\u0000\u0000\u0000\u0000\u0000\u0000\u0000 SMSFC\u0000\u0000\u0000\u0000\u0000\u0000\u0000\u0000\u0000\u0000\u0000 0203\u0000\u0000\u0000\u0000\u0000\u0000\u0000\u0000\u0000\u0000\u0000\u0000  1.81093"
      ]
     },
     "metadata": {},
     "output_type": "display_data"
    },
    {
     "data": {
      "text/plain": [
       " 文件名 F:\\Code\\公司\\SMS203\\ED2_u0053u004du0053u0046u0043u005fu0030u0032u0030u0033_GBX1PSR1_2560Hz_1_1754_20241117023513.dat ED2\u0000\u0000\u0000\u0000\u0000\u0000\u0000\u0000\u0000\u0000\u0000\u0000\u0000 SMSFC\u0000\u0000\u0000\u0000\u0000\u0000\u0000\u0000\u0000\u0000\u0000 0203\u0000\u0000\u0000\u0000\u0000\u0000\u0000\u0000\u0000\u0000\u0000\u0000  1.56847"
      ]
     },
     "metadata": {},
     "output_type": "display_data"
    },
    {
     "data": {
      "text/plain": [
       " 文件名 F:\\Code\\公司\\SMS203\\ED2_u0053u004du0053u0046u0043u005fu0030u0032u0030u0033_GBX1PSR1_2560Hz_1_1754_20241117033828.dat ED2\u0000\u0000\u0000\u0000\u0000\u0000\u0000\u0000\u0000\u0000\u0000\u0000\u0000 SMSFC\u0000\u0000\u0000\u0000\u0000\u0000\u0000\u0000\u0000\u0000\u0000 0203\u0000\u0000\u0000\u0000\u0000\u0000\u0000\u0000\u0000\u0000\u0000\u0000  1.13384"
      ]
     },
     "metadata": {},
     "output_type": "display_data"
    },
    {
     "data": {
      "text/plain": [
       " 文件名 F:\\Code\\公司\\SMS203\\ED2_u0053u004du0053u0046u0043u005fu0030u0032u0030u0033_GBX1PSR1_2560Hz_1_1754_20241117044114.dat ED2\u0000\u0000\u0000\u0000\u0000\u0000\u0000\u0000\u0000\u0000\u0000\u0000\u0000 SMSFC\u0000\u0000\u0000\u0000\u0000\u0000\u0000\u0000\u0000\u0000\u0000 0203\u0000\u0000\u0000\u0000\u0000\u0000\u0000\u0000\u0000\u0000\u0000\u0000  1.56123"
      ]
     },
     "metadata": {},
     "output_type": "display_data"
    },
    {
     "data": {
      "text/plain": [
       " 文件名 F:\\Code\\公司\\SMS203\\ED2_u0053u004du0053u0046u0043u005fu0030u0032u0030u0033_GBX1PSR1_2560Hz_1_1754_20241117053419.dat ED2\u0000\u0000\u0000\u0000\u0000\u0000\u0000\u0000\u0000\u0000\u0000\u0000\u0000 SMSFC\u0000\u0000\u0000\u0000\u0000\u0000\u0000\u0000\u0000\u0000\u0000 0203\u0000\u0000\u0000\u0000\u0000\u0000\u0000\u0000\u0000\u0000\u0000\u0000  1.13384"
      ]
     },
     "metadata": {},
     "output_type": "display_data"
    },
    {
     "data": {
      "text/plain": [
       " 文件名 F:\\Code\\公司\\SMS203\\ED2_u0053u004du0053u0046u0043u005fu0030u0032u0030u0033_GBX1PSR1_2560Hz_1_1754_20241117073516.dat ED2\u0000\u0000\u0000\u0000\u0000\u0000\u0000\u0000\u0000\u0000\u0000\u0000\u0000 SMSFC\u0000\u0000\u0000\u0000\u0000\u0000\u0000\u0000\u0000\u0000\u0000 0203\u0000\u0000\u0000\u0000\u0000\u0000\u0000\u0000\u0000\u0000\u0000\u0000  1.45407"
      ]
     },
     "metadata": {},
     "output_type": "display_data"
    },
    {
     "data": {
      "text/plain": [
       " 文件名 F:\\Code\\公司\\SMS203\\ED2_u0053u004du0053u0046u0043u005fu0030u0032u0030u0033_GBX1PSR1_2560Hz_1_1754_20241117073517.dat ED2\u0000\u0000\u0000\u0000\u0000\u0000\u0000\u0000\u0000\u0000\u0000\u0000\u0000 SMSFC\u0000\u0000\u0000\u0000\u0000\u0000\u0000\u0000\u0000\u0000\u0000 0203\u0000\u0000\u0000\u0000\u0000\u0000\u0000\u0000\u0000\u0000\u0000\u0000  1.46786"
      ]
     },
     "metadata": {},
     "output_type": "display_data"
    },
    {
     "data": {
      "text/plain": [
       " 文件名 F:\\Code\\公司\\SMS203\\ED2_u0053u004du0053u0046u0043u005fu0030u0032u0030u0033_GBX1PSR1_2560Hz_1_1754_20241117083556.dat ED2\u0000\u0000\u0000\u0000\u0000\u0000\u0000\u0000\u0000\u0000\u0000\u0000\u0000 SMSFC\u0000\u0000\u0000\u0000\u0000\u0000\u0000\u0000\u0000\u0000\u0000 0203\u0000\u0000\u0000\u0000\u0000\u0000\u0000\u0000\u0000\u0000\u0000\u0000  1.34946"
      ]
     },
     "metadata": {},
     "output_type": "display_data"
    },
    {
     "data": {
      "text/plain": [
       " 文件名 F:\\Code\\公司\\SMS203\\ED2_u0053u004du0053u0046u0043u005fu0030u0032u0030u0033_GBX1PSR1_2560Hz_1_1754_20241117083558.dat ED2\u0000\u0000\u0000\u0000\u0000\u0000\u0000\u0000\u0000\u0000\u0000\u0000\u0000 SMSFC\u0000\u0000\u0000\u0000\u0000\u0000\u0000\u0000\u0000\u0000\u0000 0203\u0000\u0000\u0000\u0000\u0000\u0000\u0000\u0000\u0000\u0000\u0000\u0000  1.75111"
      ]
     },
     "metadata": {},
     "output_type": "display_data"
    },
    {
     "data": {
      "text/plain": [
       " 文件名 F:\\Code\\公司\\SMS203\\ED2_u0053u004du0053u0046u0043u005fu0030u0032u0030u0033_GBX1PSR1_2560Hz_1_1754_20241117093812.dat ED2\u0000\u0000\u0000\u0000\u0000\u0000\u0000\u0000\u0000\u0000\u0000\u0000\u0000 SMSFC\u0000\u0000\u0000\u0000\u0000\u0000\u0000\u0000\u0000\u0000\u0000 0203\u0000\u0000\u0000\u0000\u0000\u0000\u0000\u0000\u0000\u0000\u0000\u0000  1.36756"
      ]
     },
     "metadata": {},
     "output_type": "display_data"
    },
    {
     "data": {
      "text/plain": [
       " 文件名 F:\\Code\\公司\\SMS203\\ED2_u0053u004du0053u0046u0043u005fu0030u0032u0030u0033_GBX1PSR1_2560Hz_1_1754_20241117103508.dat ED2\u0000\u0000\u0000\u0000\u0000\u0000\u0000\u0000\u0000\u0000\u0000\u0000\u0000 SMSFC\u0000\u0000\u0000\u0000\u0000\u0000\u0000\u0000\u0000\u0000\u0000 0203\u0000\u0000\u0000\u0000\u0000\u0000\u0000\u0000\u0000\u0000\u0000\u0000  1.44858"
      ]
     },
     "metadata": {},
     "output_type": "display_data"
    },
    {
     "data": {
      "text/plain": [
       " 文件名 F:\\Code\\公司\\SMS203\\ED2_u0053u004du0053u0046u0043u005fu0030u0032u0030u0033_GBX1PSR1_2560Hz_1_1754_20241117103509.dat ED2\u0000\u0000\u0000\u0000\u0000\u0000\u0000\u0000\u0000\u0000\u0000\u0000\u0000 SMSFC\u0000\u0000\u0000\u0000\u0000\u0000\u0000\u0000\u0000\u0000\u0000 0203\u0000\u0000\u0000\u0000\u0000\u0000\u0000\u0000\u0000\u0000\u0000\u0000  1.68328"
      ]
     },
     "metadata": {},
     "output_type": "display_data"
    },
    {
     "data": {
      "text/plain": [
       " 文件名 F:\\Code\\公司\\SMS203\\ED2_u0053u004du0053u0046u0043u005fu0030u0032u0030u0033_GBX1PSR1_2560Hz_1_1754_20241117113430.dat ED2\u0000\u0000\u0000\u0000\u0000\u0000\u0000\u0000\u0000\u0000\u0000\u0000\u0000 SMSFC\u0000\u0000\u0000\u0000\u0000\u0000\u0000\u0000\u0000\u0000\u0000 0203\u0000\u0000\u0000\u0000\u0000\u0000\u0000\u0000\u0000\u0000\u0000\u0000  1.82533"
      ]
     },
     "metadata": {},
     "output_type": "display_data"
    },
    {
     "data": {
      "text/plain": [
       " 文件名 F:\\Code\\公司\\SMS203\\ED2_u0053u004du0053u0046u0043u005fu0030u0032u0030u0033_GBX1PSR1_2560Hz_1_1754_20241117133340.dat ED2\u0000\u0000\u0000\u0000\u0000\u0000\u0000\u0000\u0000\u0000\u0000\u0000\u0000 SMSFC\u0000\u0000\u0000\u0000\u0000\u0000\u0000\u0000\u0000\u0000\u0000 0203\u0000\u0000\u0000\u0000\u0000\u0000\u0000\u0000\u0000\u0000\u0000\u0000  1.81093"
      ]
     },
     "metadata": {},
     "output_type": "display_data"
    },
    {
     "data": {
      "text/plain": [
       " 文件名 F:\\Code\\公司\\SMS203\\ED2_u0053u004du0053u0046u0043u005fu0030u0032u0030u0033_GBX1PSR1_2560Hz_1_1754_20241117133341.dat ED2\u0000\u0000\u0000\u0000\u0000\u0000\u0000\u0000\u0000\u0000\u0000\u0000\u0000 SMSFC\u0000\u0000\u0000\u0000\u0000\u0000\u0000\u0000\u0000\u0000\u0000 0203\u0000\u0000\u0000\u0000\u0000\u0000\u0000\u0000\u0000\u0000\u0000\u0000  1.66736"
      ]
     },
     "metadata": {},
     "output_type": "display_data"
    },
    {
     "data": {
      "text/plain": [
       " 文件名 F:\\Code\\公司\\SMS203\\ED2_u0053u004du0053u0046u0043u005fu0030u0032u0030u0033_GBX1PSR1_2560Hz_1_1754_20241117233750.dat ED2\u0000\u0000\u0000\u0000\u0000\u0000\u0000\u0000\u0000\u0000\u0000\u0000\u0000 SMSFC\u0000\u0000\u0000\u0000\u0000\u0000\u0000\u0000\u0000\u0000\u0000 0203\u0000\u0000\u0000\u0000\u0000\u0000\u0000\u0000\u0000\u0000\u0000\u0000  1.38406"
      ]
     },
     "metadata": {},
     "output_type": "display_data"
    },
    {
     "data": {
      "text/plain": [
       " 文件名 F:\\Code\\公司\\SMS203\\ED2_u0053u004du0053u0046u0043u005fu0030u0032u0030u0033_GBX1PSR1_2560Hz_1_1754_20241117233751.dat ED2\u0000\u0000\u0000\u0000\u0000\u0000\u0000\u0000\u0000\u0000\u0000\u0000\u0000 SMSFC\u0000\u0000\u0000\u0000\u0000\u0000\u0000\u0000\u0000\u0000\u0000 0203\u0000\u0000\u0000\u0000\u0000\u0000\u0000\u0000\u0000\u0000\u0000\u0000  1.37237"
      ]
     },
     "metadata": {},
     "output_type": "display_data"
    },
    {
     "data": {
      "text/plain": [
       " 文件名 F:\\Code\\公司\\SMS203\\ED2_u0053u004du0053u0046u0043u005fu0030u0032u0030u0033_GBX1PSR1_2560Hz_1_1755_20241117013801.dat ED2\u0000\u0000\u0000\u0000\u0000\u0000\u0000\u0000\u0000\u0000\u0000\u0000\u0000 SMSFC\u0000\u0000\u0000\u0000\u0000\u0000\u0000\u0000\u0000\u0000\u0000 0203\u0000\u0000\u0000\u0000\u0000\u0000\u0000\u0000\u0000\u0000\u0000\u0000  1.20861"
      ]
     },
     "metadata": {},
     "output_type": "display_data"
    },
    {
     "data": {
      "text/plain": [
       " 文件名 F:\\Code\\公司\\SMS203\\ED2_u0053u004du0053u0046u0043u005fu0030u0032u0030u0033_GBX1PSR1_2560Hz_1_1755_20241117023515.dat ED2\u0000\u0000\u0000\u0000\u0000\u0000\u0000\u0000\u0000\u0000\u0000\u0000\u0000 SMSFC\u0000\u0000\u0000\u0000\u0000\u0000\u0000\u0000\u0000\u0000\u0000 0203\u0000\u0000\u0000\u0000\u0000\u0000\u0000\u0000\u0000\u0000\u0000\u0000  1.09221"
      ]
     },
     "metadata": {},
     "output_type": "display_data"
    },
    {
     "data": {
      "text/plain": [
       " 文件名 F:\\Code\\公司\\SMS203\\ED2_u0053u004du0053u0046u0043u005fu0030u0032u0030u0033_GBX1PSR1_2560Hz_1_1755_20241117023517.dat ED2\u0000\u0000\u0000\u0000\u0000\u0000\u0000\u0000\u0000\u0000\u0000\u0000\u0000 SMSFC\u0000\u0000\u0000\u0000\u0000\u0000\u0000\u0000\u0000\u0000\u0000 0203\u0000\u0000\u0000\u0000\u0000\u0000\u0000\u0000\u0000\u0000\u0000\u0000  1.4566"
      ]
     },
     "metadata": {},
     "output_type": "display_data"
    },
    {
     "data": {
      "text/plain": [
       " 文件名 F:\\Code\\公司\\SMS203\\ED2_u0053u004du0053u0046u0043u005fu0030u0032u0030u0033_GBX1PSR1_2560Hz_1_1755_20241117033828.dat ED2\u0000\u0000\u0000\u0000\u0000\u0000\u0000\u0000\u0000\u0000\u0000\u0000\u0000 SMSFC\u0000\u0000\u0000\u0000\u0000\u0000\u0000\u0000\u0000\u0000\u0000 0203\u0000\u0000\u0000\u0000\u0000\u0000\u0000\u0000\u0000\u0000\u0000\u0000  1.39579"
      ]
     },
     "metadata": {},
     "output_type": "display_data"
    },
    {
     "data": {
      "text/plain": [
       " 文件名 F:\\Code\\公司\\SMS203\\ED2_u0053u004du0053u0046u0043u005fu0030u0032u0030u0033_GBX1PSR1_2560Hz_1_1755_20241117063301.dat ED2\u0000\u0000\u0000\u0000\u0000\u0000\u0000\u0000\u0000\u0000\u0000\u0000\u0000 SMSFC\u0000\u0000\u0000\u0000\u0000\u0000\u0000\u0000\u0000\u0000\u0000 0203\u0000\u0000\u0000\u0000\u0000\u0000\u0000\u0000\u0000\u0000\u0000\u0000  1.70582"
      ]
     },
     "metadata": {},
     "output_type": "display_data"
    },
    {
     "data": {
      "text/plain": [
       " 文件名 F:\\Code\\公司\\SMS203\\ED2_u0053u004du0053u0046u0043u005fu0030u0032u0030u0033_GBX1PSR1_2560Hz_1_1755_20241117063302.dat ED2\u0000\u0000\u0000\u0000\u0000\u0000\u0000\u0000\u0000\u0000\u0000\u0000\u0000 SMSFC\u0000\u0000\u0000\u0000\u0000\u0000\u0000\u0000\u0000\u0000\u0000 0203\u0000\u0000\u0000\u0000\u0000\u0000\u0000\u0000\u0000\u0000\u0000\u0000  1.85226"
      ]
     },
     "metadata": {},
     "output_type": "display_data"
    },
    {
     "data": {
      "text/plain": [
       " 文件名 F:\\Code\\公司\\SMS203\\ED2_u0053u004du0053u0046u0043u005fu0030u0032u0030u0033_GBX1PSR1_2560Hz_1_1755_20241117083557.dat ED2\u0000\u0000\u0000\u0000\u0000\u0000\u0000\u0000\u0000\u0000\u0000\u0000\u0000 SMSFC\u0000\u0000\u0000\u0000\u0000\u0000\u0000\u0000\u0000\u0000\u0000 0203\u0000\u0000\u0000\u0000\u0000\u0000\u0000\u0000\u0000\u0000\u0000\u0000  1.11231"
      ]
     },
     "metadata": {},
     "output_type": "display_data"
    },
    {
     "data": {
      "text/plain": [
       " 文件名 F:\\Code\\公司\\SMS203\\ED2_u0053u004du0053u0046u0043u005fu0030u0032u0030u0033_GBX1PSR1_2560Hz_1_1755_20241117093810.dat ED2\u0000\u0000\u0000\u0000\u0000\u0000\u0000\u0000\u0000\u0000\u0000\u0000\u0000 SMSFC\u0000\u0000\u0000\u0000\u0000\u0000\u0000\u0000\u0000\u0000\u0000 0203\u0000\u0000\u0000\u0000\u0000\u0000\u0000\u0000\u0000\u0000\u0000\u0000  1.60598"
      ]
     },
     "metadata": {},
     "output_type": "display_data"
    },
    {
     "data": {
      "text/plain": [
       " 文件名 F:\\Code\\公司\\SMS203\\ED2_u0053u004du0053u0046u0043u005fu0030u0032u0030u0033_GBX1PSR1_2560Hz_1_1755_20241117113429.dat ED2\u0000\u0000\u0000\u0000\u0000\u0000\u0000\u0000\u0000\u0000\u0000\u0000\u0000 SMSFC\u0000\u0000\u0000\u0000\u0000\u0000\u0000\u0000\u0000\u0000\u0000 0203\u0000\u0000\u0000\u0000\u0000\u0000\u0000\u0000\u0000\u0000\u0000\u0000  1.77732"
      ]
     },
     "metadata": {},
     "output_type": "display_data"
    },
    {
     "data": {
      "text/plain": [
       " 文件名 F:\\Code\\公司\\SMS203\\ED2_u0053u004du0053u0046u0043u005fu0030u0032u0030u0033_GBX1PSR1_2560Hz_1_1755_20241117123541.dat ED2\u0000\u0000\u0000\u0000\u0000\u0000\u0000\u0000\u0000\u0000\u0000\u0000\u0000 SMSFC\u0000\u0000\u0000\u0000\u0000\u0000\u0000\u0000\u0000\u0000\u0000 0203\u0000\u0000\u0000\u0000\u0000\u0000\u0000\u0000\u0000\u0000\u0000\u0000  1.44389"
      ]
     },
     "metadata": {},
     "output_type": "display_data"
    },
    {
     "data": {
      "text/plain": [
       " 文件名 F:\\Code\\公司\\SMS203\\ED2_u0053u004du0053u0046u0043u005fu0030u0032u0030u0033_GBX1PSR1_2560Hz_1_1755_20241117123542.dat ED2\u0000\u0000\u0000\u0000\u0000\u0000\u0000\u0000\u0000\u0000\u0000\u0000\u0000 SMSFC\u0000\u0000\u0000\u0000\u0000\u0000\u0000\u0000\u0000\u0000\u0000 0203\u0000\u0000\u0000\u0000\u0000\u0000\u0000\u0000\u0000\u0000\u0000\u0000  1.21678"
      ]
     },
     "metadata": {},
     "output_type": "display_data"
    },
    {
     "data": {
      "text/plain": [
       " 文件名 F:\\Code\\公司\\SMS203\\ED2_u0053u004du0053u0046u0043u005fu0030u0032u0030u0033_GBX1PSR1_2560Hz_1_1757_20241117093811.dat ED2\u0000\u0000\u0000\u0000\u0000\u0000\u0000\u0000\u0000\u0000\u0000\u0000\u0000 SMSFC\u0000\u0000\u0000\u0000\u0000\u0000\u0000\u0000\u0000\u0000\u0000 0203\u0000\u0000\u0000\u0000\u0000\u0000\u0000\u0000\u0000\u0000\u0000\u0000  1.693"
      ]
     },
     "metadata": {},
     "output_type": "display_data"
    },
    {
     "data": {
      "text/plain": [
       " 文件名 F:\\Code\\公司\\SMS203\\ED2_u0053u004du0053u0046u0043u005fu0030u0032u0030u0033_GBXHSSR1_25600Hz_1_0_20241117073531.dat ED2\u0000\u0000\u0000\u0000\u0000\u0000\u0000\u0000\u0000\u0000\u0000\u0000\u0000 SMSFC\u0000\u0000\u0000\u0000\u0000\u0000\u0000\u0000\u0000\u0000\u0000 0203\u0000\u0000\u0000\u0000\u0000\u0000\u0000\u0000\u0000\u0000\u0000\u0000  0.0241035"
      ]
     },
     "metadata": {},
     "output_type": "display_data"
    },
    {
     "data": {
      "text/plain": [
       " 文件名 F:\\Code\\公司\\SMS203\\ED2_u0053u004du0053u0046u0043u005fu0030u0032u0030u0033_GBXHSSR1_25600Hz_1_1064_20241117003446.dat ED2\u0000\u0000\u0000\u0000\u0000\u0000\u0000\u0000\u0000\u0000\u0000\u0000\u0000 SMSFC\u0000\u0000\u0000\u0000\u0000\u0000\u0000\u0000\u0000\u0000\u0000 0203\u0000\u0000\u0000\u0000\u0000\u0000\u0000\u0000\u0000\u0000\u0000\u0000  0.98588"
      ]
     },
     "metadata": {},
     "output_type": "display_data"
    },
    {
     "data": {
      "text/plain": [
       " 文件名 F:\\Code\\公司\\SMS203\\ED2_u0053u004du0053u0046u0043u005fu0030u0032u0030u0033_GBXHSSR1_25600Hz_1_1076_20241117013807.dat ED2\u0000\u0000\u0000\u0000\u0000\u0000\u0000\u0000\u0000\u0000\u0000\u0000\u0000 SMSFC\u0000\u0000\u0000\u0000\u0000\u0000\u0000\u0000\u0000\u0000\u0000 0203\u0000\u0000\u0000\u0000\u0000\u0000\u0000\u0000\u0000\u0000\u0000\u0000  0.977523"
      ]
     },
     "metadata": {},
     "output_type": "display_data"
    },
    {
     "data": {
      "text/plain": [
       " 文件名 F:\\Code\\公司\\SMS203\\ED2_u0053u004du0053u0046u0043u005fu0030u0032u0030u0033_GBXHSSR1_25600Hz_1_1253_20241117053423.dat ED2\u0000\u0000\u0000\u0000\u0000\u0000\u0000\u0000\u0000\u0000\u0000\u0000\u0000 SMSFC\u0000\u0000\u0000\u0000\u0000\u0000\u0000\u0000\u0000\u0000\u0000 0203\u0000\u0000\u0000\u0000\u0000\u0000\u0000\u0000\u0000\u0000\u0000\u0000  1.37806"
      ]
     },
     "metadata": {},
     "output_type": "display_data"
    },
    {
     "data": {
      "text/plain": [
       " 文件名 F:\\Code\\公司\\SMS203\\ED2_u0053u004du0053u0046u0043u005fu0030u0032u0030u0033_GBXHSSR1_25600Hz_1_1302_20241117103512.dat ED2\u0000\u0000\u0000\u0000\u0000\u0000\u0000\u0000\u0000\u0000\u0000\u0000\u0000 SMSFC\u0000\u0000\u0000\u0000\u0000\u0000\u0000\u0000\u0000\u0000\u0000 0203\u0000\u0000\u0000\u0000\u0000\u0000\u0000\u0000\u0000\u0000\u0000\u0000  1.57159"
      ]
     },
     "metadata": {},
     "output_type": "display_data"
    },
    {
     "data": {
      "text/plain": [
       " 文件名 F:\\Code\\公司\\SMS203\\ED2_u0053u004du0053u0046u0043u005fu0030u0032u0030u0033_GBXHSSR1_25600Hz_1_1352_20241117044118.dat ED2\u0000\u0000\u0000\u0000\u0000\u0000\u0000\u0000\u0000\u0000\u0000\u0000\u0000 SMSFC\u0000\u0000\u0000\u0000\u0000\u0000\u0000\u0000\u0000\u0000\u0000 0203\u0000\u0000\u0000\u0000\u0000\u0000\u0000\u0000\u0000\u0000\u0000\u0000  1.69274"
      ]
     },
     "metadata": {},
     "output_type": "display_data"
    },
    {
     "data": {
      "text/plain": [
       " 文件名 F:\\Code\\公司\\SMS203\\ED2_u0053u004du0053u0046u0043u005fu0030u0032u0030u0033_GBXHSSR1_25600Hz_1_1364_20241117063304.dat ED2\u0000\u0000\u0000\u0000\u0000\u0000\u0000\u0000\u0000\u0000\u0000\u0000\u0000 SMSFC\u0000\u0000\u0000\u0000\u0000\u0000\u0000\u0000\u0000\u0000\u0000 0203\u0000\u0000\u0000\u0000\u0000\u0000\u0000\u0000\u0000\u0000\u0000\u0000  1.4663"
      ]
     },
     "metadata": {},
     "output_type": "display_data"
    },
    {
     "data": {
      "text/plain": [
       " 文件名 F:\\Code\\公司\\SMS203\\ED2_u0053u004du0053u0046u0043u005fu0030u0032u0030u0033_GBXHSSR1_25600Hz_1_1384_20241117003447.dat ED2\u0000\u0000\u0000\u0000\u0000\u0000\u0000\u0000\u0000\u0000\u0000\u0000\u0000 SMSFC\u0000\u0000\u0000\u0000\u0000\u0000\u0000\u0000\u0000\u0000\u0000 0203\u0000\u0000\u0000\u0000\u0000\u0000\u0000\u0000\u0000\u0000\u0000\u0000  1.71112"
      ]
     },
     "metadata": {},
     "output_type": "display_data"
    },
    {
     "data": {
      "text/plain": [
       " 文件名 F:\\Code\\公司\\SMS203\\ED2_u0053u004du0053u0046u0043u005fu0030u0032u0030u0033_GBXHSSR1_25600Hz_1_1390_20241117033836.dat ED2\u0000\u0000\u0000\u0000\u0000\u0000\u0000\u0000\u0000\u0000\u0000\u0000\u0000 SMSFC\u0000\u0000\u0000\u0000\u0000\u0000\u0000\u0000\u0000\u0000\u0000 0203\u0000\u0000\u0000\u0000\u0000\u0000\u0000\u0000\u0000\u0000\u0000\u0000  2.41253"
      ]
     },
     "metadata": {},
     "output_type": "display_data"
    },
    {
     "data": {
      "text/plain": [
       " 文件名 F:\\Code\\公司\\SMS203\\ED2_u0053u004du0053u0046u0043u005fu0030u0032u0030u0033_GBXHSSR1_25600Hz_1_1531_20241117023524.dat ED2\u0000\u0000\u0000\u0000\u0000\u0000\u0000\u0000\u0000\u0000\u0000\u0000\u0000 SMSFC\u0000\u0000\u0000\u0000\u0000\u0000\u0000\u0000\u0000\u0000\u0000 0203\u0000\u0000\u0000\u0000\u0000\u0000\u0000\u0000\u0000\u0000\u0000\u0000  2.50467"
      ]
     },
     "metadata": {},
     "output_type": "display_data"
    },
    {
     "data": {
      "text/plain": [
       " 文件名 F:\\Code\\公司\\SMS203\\ED2_u0053u004du0053u0046u0043u005fu0030u0032u0030u0033_GBXHSSR1_25600Hz_1_1536_20241117093814.dat ED2\u0000\u0000\u0000\u0000\u0000\u0000\u0000\u0000\u0000\u0000\u0000\u0000\u0000 SMSFC\u0000\u0000\u0000\u0000\u0000\u0000\u0000\u0000\u0000\u0000\u0000 0203\u0000\u0000\u0000\u0000\u0000\u0000\u0000\u0000\u0000\u0000\u0000\u0000  2.57971"
      ]
     },
     "metadata": {},
     "output_type": "display_data"
    },
    {
     "data": {
      "text/plain": [
       " 文件名 F:\\Code\\公司\\SMS203\\ED2_u0053u004du0053u0046u0043u005fu0030u0032u0030u0033_GBXHSSR1_25600Hz_1_1539_20241117033833.dat ED2\u0000\u0000\u0000\u0000\u0000\u0000\u0000\u0000\u0000\u0000\u0000\u0000\u0000 SMSFC\u0000\u0000\u0000\u0000\u0000\u0000\u0000\u0000\u0000\u0000\u0000 0203\u0000\u0000\u0000\u0000\u0000\u0000\u0000\u0000\u0000\u0000\u0000\u0000  2.498"
      ]
     },
     "metadata": {},
     "output_type": "display_data"
    },
    {
     "data": {
      "text/plain": [
       " 文件名 F:\\Code\\公司\\SMS203\\ED2_u0053u004du0053u0046u0043u005fu0030u0032u0030u0033_GBXHSSR1_25600Hz_1_1581_20241117133344.dat ED2\u0000\u0000\u0000\u0000\u0000\u0000\u0000\u0000\u0000\u0000\u0000\u0000\u0000 SMSFC\u0000\u0000\u0000\u0000\u0000\u0000\u0000\u0000\u0000\u0000\u0000 0203\u0000\u0000\u0000\u0000\u0000\u0000\u0000\u0000\u0000\u0000\u0000\u0000  2.59612"
      ]
     },
     "metadata": {},
     "output_type": "display_data"
    },
    {
     "data": {
      "text/plain": [
       " 文件名 F:\\Code\\公司\\SMS203\\ED2_u0053u004du0053u0046u0043u005fu0030u0032u0030u0033_GBXHSSR1_25600Hz_1_1604_20241117133344.dat ED2\u0000\u0000\u0000\u0000\u0000\u0000\u0000\u0000\u0000\u0000\u0000\u0000\u0000 SMSFC\u0000\u0000\u0000\u0000\u0000\u0000\u0000\u0000\u0000\u0000\u0000 0203\u0000\u0000\u0000\u0000\u0000\u0000\u0000\u0000\u0000\u0000\u0000\u0000  2.66884"
      ]
     },
     "metadata": {},
     "output_type": "display_data"
    },
    {
     "data": {
      "text/plain": [
       " 文件名 F:\\Code\\公司\\SMS203\\ED2_u0053u004du0053u0046u0043u005fu0030u0032u0030u0033_GBXHSSR1_25600Hz_1_1623_20241117013807.dat ED2\u0000\u0000\u0000\u0000\u0000\u0000\u0000\u0000\u0000\u0000\u0000\u0000\u0000 SMSFC\u0000\u0000\u0000\u0000\u0000\u0000\u0000\u0000\u0000\u0000\u0000 0203\u0000\u0000\u0000\u0000\u0000\u0000\u0000\u0000\u0000\u0000\u0000\u0000  2.3939"
      ]
     },
     "metadata": {},
     "output_type": "display_data"
    },
    {
     "data": {
      "text/plain": [
       " 文件名 F:\\Code\\公司\\SMS203\\ED2_u0053u004du0053u0046u0043u005fu0030u0032u0030u0033_GBXHSSR1_25600Hz_1_1623_20241117123546.dat ED2\u0000\u0000\u0000\u0000\u0000\u0000\u0000\u0000\u0000\u0000\u0000\u0000\u0000 SMSFC\u0000\u0000\u0000\u0000\u0000\u0000\u0000\u0000\u0000\u0000\u0000 0203\u0000\u0000\u0000\u0000\u0000\u0000\u0000\u0000\u0000\u0000\u0000\u0000  2.3939"
      ]
     },
     "metadata": {},
     "output_type": "display_data"
    },
    {
     "data": {
      "text/plain": [
       " 文件名 F:\\Code\\公司\\SMS203\\ED2_u0053u004du0053u0046u0043u005fu0030u0032u0030u0033_GBXHSSR1_25600Hz_1_1625_20241117063304.dat ED2\u0000\u0000\u0000\u0000\u0000\u0000\u0000\u0000\u0000\u0000\u0000\u0000\u0000 SMSFC\u0000\u0000\u0000\u0000\u0000\u0000\u0000\u0000\u0000\u0000\u0000 0203\u0000\u0000\u0000\u0000\u0000\u0000\u0000\u0000\u0000\u0000\u0000\u0000  2.32981"
      ]
     },
     "metadata": {},
     "output_type": "display_data"
    },
    {
     "data": {
      "text/plain": [
       " 文件名 F:\\Code\\公司\\SMS203\\ED2_u0053u004du0053u0046u0043u005fu0030u0032u0030u0033_GBXHSSR1_25600Hz_1_1625_20241117093815.dat ED2\u0000\u0000\u0000\u0000\u0000\u0000\u0000\u0000\u0000\u0000\u0000\u0000\u0000 SMSFC\u0000\u0000\u0000\u0000\u0000\u0000\u0000\u0000\u0000\u0000\u0000 0203\u0000\u0000\u0000\u0000\u0000\u0000\u0000\u0000\u0000\u0000\u0000\u0000  2.32981"
      ]
     },
     "metadata": {},
     "output_type": "display_data"
    },
    {
     "data": {
      "text/plain": [
       " 文件名 F:\\Code\\公司\\SMS203\\ED2_u0053u004du0053u0046u0043u005fu0030u0032u0030u0033_GBXHSSR1_25600Hz_1_1625_20241117113434.dat ED2\u0000\u0000\u0000\u0000\u0000\u0000\u0000\u0000\u0000\u0000\u0000\u0000\u0000 SMSFC\u0000\u0000\u0000\u0000\u0000\u0000\u0000\u0000\u0000\u0000\u0000 0203\u0000\u0000\u0000\u0000\u0000\u0000\u0000\u0000\u0000\u0000\u0000\u0000  2.32981"
      ]
     },
     "metadata": {},
     "output_type": "display_data"
    },
    {
     "data": {
      "text/plain": [
       " 文件名 F:\\Code\\公司\\SMS203\\ED2_u0053u004du0053u0046u0043u005fu0030u0032u0030u0033_GBXHSSR1_25600Hz_1_1639_20241117063305.dat ED2\u0000\u0000\u0000\u0000\u0000\u0000\u0000\u0000\u0000\u0000\u0000\u0000\u0000 SMSFC\u0000\u0000\u0000\u0000\u0000\u0000\u0000\u0000\u0000\u0000\u0000 0203\u0000\u0000\u0000\u0000\u0000\u0000\u0000\u0000\u0000\u0000\u0000\u0000  2.87471"
      ]
     },
     "metadata": {},
     "output_type": "display_data"
    },
    {
     "data": {
      "text/plain": [
       " 文件名 F:\\Code\\公司\\SMS203\\ED2_u0053u004du0053u0046u0043u005fu0030u0032u0030u0033_GBXHSSR1_25600Hz_1_1656_20241117233755.dat ED2\u0000\u0000\u0000\u0000\u0000\u0000\u0000\u0000\u0000\u0000\u0000\u0000\u0000 SMSFC\u0000\u0000\u0000\u0000\u0000\u0000\u0000\u0000\u0000\u0000\u0000 0203\u0000\u0000\u0000\u0000\u0000\u0000\u0000\u0000\u0000\u0000\u0000\u0000  2.45075"
      ]
     },
     "metadata": {},
     "output_type": "display_data"
    },
    {
     "data": {
      "text/plain": [
       " 文件名 F:\\Code\\公司\\SMS203\\ED2_u0053u004du0053u0046u0043u005fu0030u0032u0030u0033_GBXHSSR1_25600Hz_1_1663_20241117044118.dat ED2\u0000\u0000\u0000\u0000\u0000\u0000\u0000\u0000\u0000\u0000\u0000\u0000\u0000 SMSFC\u0000\u0000\u0000\u0000\u0000\u0000\u0000\u0000\u0000\u0000\u0000 0203\u0000\u0000\u0000\u0000\u0000\u0000\u0000\u0000\u0000\u0000\u0000\u0000  2.1778"
      ]
     },
     "metadata": {},
     "output_type": "display_data"
    },
    {
     "data": {
      "text/plain": [
       " 文件名 F:\\Code\\公司\\SMS203\\ED2_u0053u004du0053u0046u0043u005fu0030u0032u0030u0033_GBXHSSR1_25600Hz_1_1666_20241117113433.dat ED2\u0000\u0000\u0000\u0000\u0000\u0000\u0000\u0000\u0000\u0000\u0000\u0000\u0000 SMSFC\u0000\u0000\u0000\u0000\u0000\u0000\u0000\u0000\u0000\u0000\u0000 0203\u0000\u0000\u0000\u0000\u0000\u0000\u0000\u0000\u0000\u0000\u0000\u0000  2.5641"
      ]
     },
     "metadata": {},
     "output_type": "display_data"
    },
    {
     "data": {
      "text/plain": [
       " 文件名 F:\\Code\\公司\\SMS203\\ED2_u0053u004du0053u0046u0043u005fu0030u0032u0030u0033_GBXHSSR1_25600Hz_1_1667_20241117103511.dat ED2\u0000\u0000\u0000\u0000\u0000\u0000\u0000\u0000\u0000\u0000\u0000\u0000\u0000 SMSFC\u0000\u0000\u0000\u0000\u0000\u0000\u0000\u0000\u0000\u0000\u0000 0203\u0000\u0000\u0000\u0000\u0000\u0000\u0000\u0000\u0000\u0000\u0000\u0000  2.59632"
      ]
     },
     "metadata": {},
     "output_type": "display_data"
    },
    {
     "data": {
      "text/plain": [
       " 文件名 F:\\Code\\公司\\SMS203\\ED2_u0053u004du0053u0046u0043u005fu0030u0032u0030u0033_GBXHSSR1_25600Hz_1_1669_20241117083601.dat ED2\u0000\u0000\u0000\u0000\u0000\u0000\u0000\u0000\u0000\u0000\u0000\u0000\u0000 SMSFC\u0000\u0000\u0000\u0000\u0000\u0000\u0000\u0000\u0000\u0000\u0000 0203\u0000\u0000\u0000\u0000\u0000\u0000\u0000\u0000\u0000\u0000\u0000\u0000  2.41573"
      ]
     },
     "metadata": {},
     "output_type": "display_data"
    },
    {
     "data": {
      "text/plain": [
       " 文件名 F:\\Code\\公司\\SMS203\\ED2_u0053u004du0053u0046u0043u005fu0030u0032u0030u0033_GBXHSSR1_25600Hz_1_1682_20241117023524.dat ED2\u0000\u0000\u0000\u0000\u0000\u0000\u0000\u0000\u0000\u0000\u0000\u0000\u0000 SMSFC\u0000\u0000\u0000\u0000\u0000\u0000\u0000\u0000\u0000\u0000\u0000 0203\u0000\u0000\u0000\u0000\u0000\u0000\u0000\u0000\u0000\u0000\u0000\u0000  2.45262"
      ]
     },
     "metadata": {},
     "output_type": "display_data"
    },
    {
     "data": {
      "text/plain": [
       " 文件名 F:\\Code\\公司\\SMS203\\ED2_u0053u004du0053u0046u0043u005fu0030u0032u0030u0033_GBXHSSR1_25600Hz_1_1723_20241117063303.dat ED2\u0000\u0000\u0000\u0000\u0000\u0000\u0000\u0000\u0000\u0000\u0000\u0000\u0000 SMSFC\u0000\u0000\u0000\u0000\u0000\u0000\u0000\u0000\u0000\u0000\u0000 0203\u0000\u0000\u0000\u0000\u0000\u0000\u0000\u0000\u0000\u0000\u0000\u0000  2.60009"
      ]
     },
     "metadata": {},
     "output_type": "display_data"
    },
    {
     "data": {
      "text/plain": [
       " 文件名 F:\\Code\\公司\\SMS203\\ED2_u0053u004du0053u0046u0043u005fu0030u0032u0030u0033_GBXHSSR1_25600Hz_1_1727_20241117123548.dat ED2\u0000\u0000\u0000\u0000\u0000\u0000\u0000\u0000\u0000\u0000\u0000\u0000\u0000 SMSFC\u0000\u0000\u0000\u0000\u0000\u0000\u0000\u0000\u0000\u0000\u0000 0203\u0000\u0000\u0000\u0000\u0000\u0000\u0000\u0000\u0000\u0000\u0000\u0000  2.56469"
      ]
     },
     "metadata": {},
     "output_type": "display_data"
    },
    {
     "data": {
      "text/plain": [
       " 文件名 F:\\Code\\公司\\SMS203\\ED2_u0053u004du0053u0046u0043u005fu0030u0032u0030u0033_GBXHSSR1_25600Hz_1_1740_20241117023523.dat ED2\u0000\u0000\u0000\u0000\u0000\u0000\u0000\u0000\u0000\u0000\u0000\u0000\u0000 SMSFC\u0000\u0000\u0000\u0000\u0000\u0000\u0000\u0000\u0000\u0000\u0000 0203\u0000\u0000\u0000\u0000\u0000\u0000\u0000\u0000\u0000\u0000\u0000\u0000  2.68914"
      ]
     },
     "metadata": {},
     "output_type": "display_data"
    },
    {
     "data": {
      "text/plain": [
       " 文件名 F:\\Code\\公司\\SMS203\\ED2_u0053u004du0053u0046u0043u005fu0030u0032u0030u0033_GBXHSSR1_25600Hz_1_1740_20241117233755.dat ED2\u0000\u0000\u0000\u0000\u0000\u0000\u0000\u0000\u0000\u0000\u0000\u0000\u0000 SMSFC\u0000\u0000\u0000\u0000\u0000\u0000\u0000\u0000\u0000\u0000\u0000 0203\u0000\u0000\u0000\u0000\u0000\u0000\u0000\u0000\u0000\u0000\u0000\u0000  2.68914"
      ]
     },
     "metadata": {},
     "output_type": "display_data"
    },
    {
     "data": {
      "text/plain": [
       " 文件名 F:\\Code\\公司\\SMS203\\ED2_u0053u004du0053u0046u0043u005fu0030u0032u0030u0033_GBXHSSR1_25600Hz_1_1746_20241117044118.dat ED2\u0000\u0000\u0000\u0000\u0000\u0000\u0000\u0000\u0000\u0000\u0000\u0000\u0000 SMSFC\u0000\u0000\u0000\u0000\u0000\u0000\u0000\u0000\u0000\u0000\u0000 0203\u0000\u0000\u0000\u0000\u0000\u0000\u0000\u0000\u0000\u0000\u0000\u0000  2.56513"
      ]
     },
     "metadata": {},
     "output_type": "display_data"
    },
    {
     "data": {
      "text/plain": [
       " 文件名 F:\\Code\\公司\\SMS203\\ED2_u0053u004du0053u0046u0043u005fu0030u0032u0030u0033_GBXHSSR1_25600Hz_1_1750_20241117083603.dat ED2\u0000\u0000\u0000\u0000\u0000\u0000\u0000\u0000\u0000\u0000\u0000\u0000\u0000 SMSFC\u0000\u0000\u0000\u0000\u0000\u0000\u0000\u0000\u0000\u0000\u0000 0203\u0000\u0000\u0000\u0000\u0000\u0000\u0000\u0000\u0000\u0000\u0000\u0000  2.72477"
      ]
     },
     "metadata": {},
     "output_type": "display_data"
    },
    {
     "data": {
      "text/plain": [
       " 文件名 F:\\Code\\公司\\SMS203\\ED2_u0053u004du0053u0046u0043u005fu0030u0032u0030u0033_GBXHSSR1_25600Hz_1_1751_20241117023523.dat ED2\u0000\u0000\u0000\u0000\u0000\u0000\u0000\u0000\u0000\u0000\u0000\u0000\u0000 SMSFC\u0000\u0000\u0000\u0000\u0000\u0000\u0000\u0000\u0000\u0000\u0000 0203\u0000\u0000\u0000\u0000\u0000\u0000\u0000\u0000\u0000\u0000\u0000\u0000  4.6094"
      ]
     },
     "metadata": {},
     "output_type": "display_data"
    },
    {
     "data": {
      "text/plain": [
       " 文件名 F:\\Code\\公司\\SMS203\\ED2_u0053u004du0053u0046u0043u005fu0030u0032u0030u0033_GBXHSSR1_25600Hz_1_1751_20241117073532.dat ED2\u0000\u0000\u0000\u0000\u0000\u0000\u0000\u0000\u0000\u0000\u0000\u0000\u0000 SMSFC\u0000\u0000\u0000\u0000\u0000\u0000\u0000\u0000\u0000\u0000\u0000 0203\u0000\u0000\u0000\u0000\u0000\u0000\u0000\u0000\u0000\u0000\u0000\u0000  3.49478"
      ]
     },
     "metadata": {},
     "output_type": "display_data"
    },
    {
     "data": {
      "text/plain": [
       " 文件名 F:\\Code\\公司\\SMS203\\ED2_u0053u004du0053u0046u0043u005fu0030u0032u0030u0033_GBXHSSR1_25600Hz_1_1752_20241117013805.dat ED2\u0000\u0000\u0000\u0000\u0000\u0000\u0000\u0000\u0000\u0000\u0000\u0000\u0000 SMSFC\u0000\u0000\u0000\u0000\u0000\u0000\u0000\u0000\u0000\u0000\u0000 0203\u0000\u0000\u0000\u0000\u0000\u0000\u0000\u0000\u0000\u0000\u0000\u0000  3.83665"
      ]
     },
     "metadata": {},
     "output_type": "display_data"
    },
    {
     "data": {
      "text/plain": [
       " 文件名 F:\\Code\\公司\\SMS203\\ED2_u0053u004du0053u0046u0043u005fu0030u0032u0030u0033_GBXHSSR1_25600Hz_1_1752_20241117044118.dat ED2\u0000\u0000\u0000\u0000\u0000\u0000\u0000\u0000\u0000\u0000\u0000\u0000\u0000 SMSFC\u0000\u0000\u0000\u0000\u0000\u0000\u0000\u0000\u0000\u0000\u0000 0203\u0000\u0000\u0000\u0000\u0000\u0000\u0000\u0000\u0000\u0000\u0000\u0000  5.4057"
      ]
     },
     "metadata": {},
     "output_type": "display_data"
    },
    {
     "data": {
      "text/plain": [
       " 文件名 F:\\Code\\公司\\SMS203\\ED2_u0053u004du0053u0046u0043u005fu0030u0032u0030u0033_GBXHSSR1_25600Hz_1_1752_20241117063304.dat ED2\u0000\u0000\u0000\u0000\u0000\u0000\u0000\u0000\u0000\u0000\u0000\u0000\u0000 SMSFC\u0000\u0000\u0000\u0000\u0000\u0000\u0000\u0000\u0000\u0000\u0000 0203\u0000\u0000\u0000\u0000\u0000\u0000\u0000\u0000\u0000\u0000\u0000\u0000  4.84177"
      ]
     },
     "metadata": {},
     "output_type": "display_data"
    },
    {
     "data": {
      "text/plain": [
       " 文件名 F:\\Code\\公司\\SMS203\\ED2_u0053u004du0053u0046u0043u005fu0030u0032u0030u0033_GBXHSSR1_25600Hz_1_1752_20241117123547.dat ED2\u0000\u0000\u0000\u0000\u0000\u0000\u0000\u0000\u0000\u0000\u0000\u0000\u0000 SMSFC\u0000\u0000\u0000\u0000\u0000\u0000\u0000\u0000\u0000\u0000\u0000 0203\u0000\u0000\u0000\u0000\u0000\u0000\u0000\u0000\u0000\u0000\u0000\u0000  4.21649"
      ]
     },
     "metadata": {},
     "output_type": "display_data"
    },
    {
     "data": {
      "text/plain": [
       " 文件名 F:\\Code\\公司\\SMS203\\ED2_u0053u004du0053u0046u0043u005fu0030u0032u0030u0033_GBXHSSR1_25600Hz_1_1753_20241117013807.dat ED2\u0000\u0000\u0000\u0000\u0000\u0000\u0000\u0000\u0000\u0000\u0000\u0000\u0000 SMSFC\u0000\u0000\u0000\u0000\u0000\u0000\u0000\u0000\u0000\u0000\u0000 0203\u0000\u0000\u0000\u0000\u0000\u0000\u0000\u0000\u0000\u0000\u0000\u0000  4.86683"
      ]
     },
     "metadata": {},
     "output_type": "display_data"
    },
    {
     "data": {
      "text/plain": [
       " 文件名 F:\\Code\\公司\\SMS203\\ED2_u0053u004du0053u0046u0043u005fu0030u0032u0030u0033_GBXHSSR1_25600Hz_1_1753_20241117033835.dat ED2\u0000\u0000\u0000\u0000\u0000\u0000\u0000\u0000\u0000\u0000\u0000\u0000\u0000 SMSFC\u0000\u0000\u0000\u0000\u0000\u0000\u0000\u0000\u0000\u0000\u0000 0203\u0000\u0000\u0000\u0000\u0000\u0000\u0000\u0000\u0000\u0000\u0000\u0000  4.47634"
      ]
     },
     "metadata": {},
     "output_type": "display_data"
    },
    {
     "data": {
      "text/plain": [
       " 文件名 F:\\Code\\公司\\SMS203\\ED2_u0053u004du0053u0046u0043u005fu0030u0032u0030u0033_GBXHSSR1_25600Hz_1_1753_20241117073530.dat ED2\u0000\u0000\u0000\u0000\u0000\u0000\u0000\u0000\u0000\u0000\u0000\u0000\u0000 SMSFC\u0000\u0000\u0000\u0000\u0000\u0000\u0000\u0000\u0000\u0000\u0000 0203\u0000\u0000\u0000\u0000\u0000\u0000\u0000\u0000\u0000\u0000\u0000\u0000  5.47843"
      ]
     },
     "metadata": {},
     "output_type": "display_data"
    },
    {
     "data": {
      "text/plain": [
       " 文件名 F:\\Code\\公司\\SMS203\\ED2_u0053u004du0053u0046u0043u005fu0030u0032u0030u0033_GBXHSSR1_25600Hz_1_1753_20241117073531.dat ED2\u0000\u0000\u0000\u0000\u0000\u0000\u0000\u0000\u0000\u0000\u0000\u0000\u0000 SMSFC\u0000\u0000\u0000\u0000\u0000\u0000\u0000\u0000\u0000\u0000\u0000 0203\u0000\u0000\u0000\u0000\u0000\u0000\u0000\u0000\u0000\u0000\u0000\u0000  5.16982"
      ]
     },
     "metadata": {},
     "output_type": "display_data"
    },
    {
     "data": {
      "text/plain": [
       " 文件名 F:\\Code\\公司\\SMS203\\ED2_u0053u004du0053u0046u0043u005fu0030u0032u0030u0033_GBXHSSR1_25600Hz_1_1753_20241117093815.dat ED2\u0000\u0000\u0000\u0000\u0000\u0000\u0000\u0000\u0000\u0000\u0000\u0000\u0000 SMSFC\u0000\u0000\u0000\u0000\u0000\u0000\u0000\u0000\u0000\u0000\u0000 0203\u0000\u0000\u0000\u0000\u0000\u0000\u0000\u0000\u0000\u0000\u0000\u0000  5.06615"
      ]
     },
     "metadata": {},
     "output_type": "display_data"
    },
    {
     "data": {
      "text/plain": [
       " 文件名 F:\\Code\\公司\\SMS203\\ED2_u0053u004du0053u0046u0043u005fu0030u0032u0030u0033_GBXHSSR1_25600Hz_1_1753_20241117103512.dat ED2\u0000\u0000\u0000\u0000\u0000\u0000\u0000\u0000\u0000\u0000\u0000\u0000\u0000 SMSFC\u0000\u0000\u0000\u0000\u0000\u0000\u0000\u0000\u0000\u0000\u0000 0203\u0000\u0000\u0000\u0000\u0000\u0000\u0000\u0000\u0000\u0000\u0000\u0000  4.13552"
      ]
     },
     "metadata": {},
     "output_type": "display_data"
    },
    {
     "data": {
      "text/plain": [
       " 文件名 F:\\Code\\公司\\SMS203\\ED2_u0053u004du0053u0046u0043u005fu0030u0032u0030u0033_GBXHSSR1_25600Hz_1_1753_20241117113434.dat ED2\u0000\u0000\u0000\u0000\u0000\u0000\u0000\u0000\u0000\u0000\u0000\u0000\u0000 SMSFC\u0000\u0000\u0000\u0000\u0000\u0000\u0000\u0000\u0000\u0000\u0000 0203\u0000\u0000\u0000\u0000\u0000\u0000\u0000\u0000\u0000\u0000\u0000\u0000  3.69872"
      ]
     },
     "metadata": {},
     "output_type": "display_data"
    },
    {
     "data": {
      "text/plain": [
       " 文件名 F:\\Code\\公司\\SMS203\\ED2_u0053u004du0053u0046u0043u005fu0030u0032u0030u0033_GBXHSSR1_25600Hz_1_1753_20241117233753.dat ED2\u0000\u0000\u0000\u0000\u0000\u0000\u0000\u0000\u0000\u0000\u0000\u0000\u0000 SMSFC\u0000\u0000\u0000\u0000\u0000\u0000\u0000\u0000\u0000\u0000\u0000 0203\u0000\u0000\u0000\u0000\u0000\u0000\u0000\u0000\u0000\u0000\u0000\u0000  5.47843"
      ]
     },
     "metadata": {},
     "output_type": "display_data"
    },
    {
     "data": {
      "text/plain": [
       " 文件名 F:\\Code\\公司\\SMS203\\ED2_u0053u004du0053u0046u0043u005fu0030u0032u0030u0033_GBXHSSR1_25600Hz_1_1754_20241117003446.dat ED2\u0000\u0000\u0000\u0000\u0000\u0000\u0000\u0000\u0000\u0000\u0000\u0000\u0000 SMSFC\u0000\u0000\u0000\u0000\u0000\u0000\u0000\u0000\u0000\u0000\u0000 0203\u0000\u0000\u0000\u0000\u0000\u0000\u0000\u0000\u0000\u0000\u0000\u0000  3.38402"
      ]
     },
     "metadata": {},
     "output_type": "display_data"
    },
    {
     "data": {
      "text/plain": [
       " 文件名 F:\\Code\\公司\\SMS203\\ED2_u0053u004du0053u0046u0043u005fu0030u0032u0030u0033_GBXHSSR1_25600Hz_1_1754_20241117033836.dat ED2\u0000\u0000\u0000\u0000\u0000\u0000\u0000\u0000\u0000\u0000\u0000\u0000\u0000 SMSFC\u0000\u0000\u0000\u0000\u0000\u0000\u0000\u0000\u0000\u0000\u0000 0203\u0000\u0000\u0000\u0000\u0000\u0000\u0000\u0000\u0000\u0000\u0000\u0000  5.39977"
      ]
     },
     "metadata": {},
     "output_type": "display_data"
    },
    {
     "data": {
      "text/plain": [
       " 文件名 F:\\Code\\公司\\SMS203\\ED2_u0053u004du0053u0046u0043u005fu0030u0032u0030u0033_GBXHSSR1_25600Hz_1_1754_20241117044117.dat ED2\u0000\u0000\u0000\u0000\u0000\u0000\u0000\u0000\u0000\u0000\u0000\u0000\u0000 SMSFC\u0000\u0000\u0000\u0000\u0000\u0000\u0000\u0000\u0000\u0000\u0000 0203\u0000\u0000\u0000\u0000\u0000\u0000\u0000\u0000\u0000\u0000\u0000\u0000  3.71826"
      ]
     },
     "metadata": {},
     "output_type": "display_data"
    },
    {
     "data": {
      "text/plain": [
       " 文件名 F:\\Code\\公司\\SMS203\\ED2_u0053u004du0053u0046u0043u005fu0030u0032u0030u0033_GBXHSSR1_25600Hz_1_1754_20241117053422.dat ED2\u0000\u0000\u0000\u0000\u0000\u0000\u0000\u0000\u0000\u0000\u0000\u0000\u0000 SMSFC\u0000\u0000\u0000\u0000\u0000\u0000\u0000\u0000\u0000\u0000\u0000 0203\u0000\u0000\u0000\u0000\u0000\u0000\u0000\u0000\u0000\u0000\u0000\u0000  3.4585"
      ]
     },
     "metadata": {},
     "output_type": "display_data"
    },
    {
     "data": {
      "text/plain": [
       " 文件名 F:\\Code\\公司\\SMS203\\ED2_u0053u004du0053u0046u0043u005fu0030u0032u0030u0033_GBXHSSR1_25600Hz_1_1754_20241117053423.dat ED2\u0000\u0000\u0000\u0000\u0000\u0000\u0000\u0000\u0000\u0000\u0000\u0000\u0000 SMSFC\u0000\u0000\u0000\u0000\u0000\u0000\u0000\u0000\u0000\u0000\u0000 0203\u0000\u0000\u0000\u0000\u0000\u0000\u0000\u0000\u0000\u0000\u0000\u0000  3.73498"
      ]
     },
     "metadata": {},
     "output_type": "display_data"
    },
    {
     "data": {
      "text/plain": [
       " 文件名 F:\\Code\\公司\\SMS203\\ED2_u0053u004du0053u0046u0043u005fu0030u0032u0030u0033_GBXHSSR1_25600Hz_1_1754_20241117083603.dat ED2\u0000\u0000\u0000\u0000\u0000\u0000\u0000\u0000\u0000\u0000\u0000\u0000\u0000 SMSFC\u0000\u0000\u0000\u0000\u0000\u0000\u0000\u0000\u0000\u0000\u0000 0203\u0000\u0000\u0000\u0000\u0000\u0000\u0000\u0000\u0000\u0000\u0000\u0000  4.63037"
      ]
     },
     "metadata": {},
     "output_type": "display_data"
    },
    {
     "data": {
      "text/plain": [
       " 文件名 F:\\Code\\公司\\SMS203\\ED2_u0053u004du0053u0046u0043u005fu0030u0032u0030u0033_GBXHSSR1_25600Hz_1_1754_20241117083604.dat ED2\u0000\u0000\u0000\u0000\u0000\u0000\u0000\u0000\u0000\u0000\u0000\u0000\u0000 SMSFC\u0000\u0000\u0000\u0000\u0000\u0000\u0000\u0000\u0000\u0000\u0000 0203\u0000\u0000\u0000\u0000\u0000\u0000\u0000\u0000\u0000\u0000\u0000\u0000  5.03271"
      ]
     },
     "metadata": {},
     "output_type": "display_data"
    },
    {
     "data": {
      "text/plain": [
       " 文件名 F:\\Code\\公司\\SMS203\\ED2_u0053u004du0053u0046u0043u005fu0030u0032u0030u0033_GBXHSSR1_25600Hz_1_1754_20241117093814.dat ED2\u0000\u0000\u0000\u0000\u0000\u0000\u0000\u0000\u0000\u0000\u0000\u0000\u0000 SMSFC\u0000\u0000\u0000\u0000\u0000\u0000\u0000\u0000\u0000\u0000\u0000 0203\u0000\u0000\u0000\u0000\u0000\u0000\u0000\u0000\u0000\u0000\u0000\u0000  4.75142"
      ]
     },
     "metadata": {},
     "output_type": "display_data"
    },
    {
     "data": {
      "text/plain": [
       " 文件名 F:\\Code\\公司\\SMS203\\ED2_u0053u004du0053u0046u0043u005fu0030u0032u0030u0033_GBXHSSR1_25600Hz_1_1754_20241117093815.dat ED2\u0000\u0000\u0000\u0000\u0000\u0000\u0000\u0000\u0000\u0000\u0000\u0000\u0000 SMSFC\u0000\u0000\u0000\u0000\u0000\u0000\u0000\u0000\u0000\u0000\u0000 0203\u0000\u0000\u0000\u0000\u0000\u0000\u0000\u0000\u0000\u0000\u0000\u0000  3.44959"
      ]
     },
     "metadata": {},
     "output_type": "display_data"
    },
    {
     "data": {
      "text/plain": [
       " 文件名 F:\\Code\\公司\\SMS203\\ED2_u0053u004du0053u0046u0043u005fu0030u0032u0030u0033_GBXHSSR1_25600Hz_1_1754_20241117103513.dat ED2\u0000\u0000\u0000\u0000\u0000\u0000\u0000\u0000\u0000\u0000\u0000\u0000\u0000 SMSFC\u0000\u0000\u0000\u0000\u0000\u0000\u0000\u0000\u0000\u0000\u0000 0203\u0000\u0000\u0000\u0000\u0000\u0000\u0000\u0000\u0000\u0000\u0000\u0000  4.70411"
      ]
     },
     "metadata": {},
     "output_type": "display_data"
    },
    {
     "data": {
      "text/plain": [
       " 文件名 F:\\Code\\公司\\SMS203\\ED2_u0053u004du0053u0046u0043u005fu0030u0032u0030u0033_GBXHSSR1_25600Hz_1_1754_20241117113434.dat ED2\u0000\u0000\u0000\u0000\u0000\u0000\u0000\u0000\u0000\u0000\u0000\u0000\u0000 SMSFC\u0000\u0000\u0000\u0000\u0000\u0000\u0000\u0000\u0000\u0000\u0000 0203\u0000\u0000\u0000\u0000\u0000\u0000\u0000\u0000\u0000\u0000\u0000\u0000  4.85481"
      ]
     },
     "metadata": {},
     "output_type": "display_data"
    },
    {
     "data": {
      "text/plain": [
       " 文件名 F:\\Code\\公司\\SMS203\\ED2_u0053u004du0053u0046u0043u005fu0030u0032u0030u0033_GBXHSSR1_25600Hz_1_1754_20241117123547.dat ED2\u0000\u0000\u0000\u0000\u0000\u0000\u0000\u0000\u0000\u0000\u0000\u0000\u0000 SMSFC\u0000\u0000\u0000\u0000\u0000\u0000\u0000\u0000\u0000\u0000\u0000 0203\u0000\u0000\u0000\u0000\u0000\u0000\u0000\u0000\u0000\u0000\u0000\u0000  2.95454"
      ]
     },
     "metadata": {},
     "output_type": "display_data"
    },
    {
     "data": {
      "text/plain": [
       " 文件名 F:\\Code\\公司\\SMS203\\ED2_u0053u004du0053u0046u0043u005fu0030u0032u0030u0033_GBXHSSR1_25600Hz_1_1754_20241117133343.dat ED2\u0000\u0000\u0000\u0000\u0000\u0000\u0000\u0000\u0000\u0000\u0000\u0000\u0000 SMSFC\u0000\u0000\u0000\u0000\u0000\u0000\u0000\u0000\u0000\u0000\u0000 0203\u0000\u0000\u0000\u0000\u0000\u0000\u0000\u0000\u0000\u0000\u0000\u0000  4.63037"
      ]
     },
     "metadata": {},
     "output_type": "display_data"
    },
    {
     "data": {
      "text/plain": [
       " 文件名 F:\\Code\\公司\\SMS203\\ED2_u0053u004du0053u0046u0043u005fu0030u0032u0030u0033_GBXHSSR1_25600Hz_1_1754_20241117133344.dat ED2\u0000\u0000\u0000\u0000\u0000\u0000\u0000\u0000\u0000\u0000\u0000\u0000\u0000 SMSFC\u0000\u0000\u0000\u0000\u0000\u0000\u0000\u0000\u0000\u0000\u0000 0203\u0000\u0000\u0000\u0000\u0000\u0000\u0000\u0000\u0000\u0000\u0000\u0000  3.57377"
      ]
     },
     "metadata": {},
     "output_type": "display_data"
    },
    {
     "data": {
      "text/plain": [
       " 文件名 F:\\Code\\公司\\SMS203\\ED2_u0053u004du0053u0046u0043u005fu0030u0032u0030u0033_GBXHSSR1_25600Hz_1_1754_20241117233755.dat ED2\u0000\u0000\u0000\u0000\u0000\u0000\u0000\u0000\u0000\u0000\u0000\u0000\u0000 SMSFC\u0000\u0000\u0000\u0000\u0000\u0000\u0000\u0000\u0000\u0000\u0000 0203\u0000\u0000\u0000\u0000\u0000\u0000\u0000\u0000\u0000\u0000\u0000\u0000  5.30625"
      ]
     },
     "metadata": {},
     "output_type": "display_data"
    },
    {
     "data": {
      "text/plain": [
       " 文件名 F:\\Code\\公司\\SMS203\\ED2_u0053u004du0053u0046u0043u005fu0030u0032u0030u0033_GBXHSSR1_25600Hz_1_1755_20241117003444.dat ED2\u0000\u0000\u0000\u0000\u0000\u0000\u0000\u0000\u0000\u0000\u0000\u0000\u0000 SMSFC\u0000\u0000\u0000\u0000\u0000\u0000\u0000\u0000\u0000\u0000\u0000 0203\u0000\u0000\u0000\u0000\u0000\u0000\u0000\u0000\u0000\u0000\u0000\u0000  4.78156"
      ]
     },
     "metadata": {},
     "output_type": "display_data"
    },
    {
     "data": {
      "text/plain": [
       " 文件名 F:\\Code\\公司\\SMS203\\ED2_u0053u004du0053u0046u0043u005fu0030u0032u0030u0033_GBXHSSR1_25600Hz_1_1755_20241117013807.dat ED2\u0000\u0000\u0000\u0000\u0000\u0000\u0000\u0000\u0000\u0000\u0000\u0000\u0000 SMSFC\u0000\u0000\u0000\u0000\u0000\u0000\u0000\u0000\u0000\u0000\u0000 0203\u0000\u0000\u0000\u0000\u0000\u0000\u0000\u0000\u0000\u0000\u0000\u0000  3.8949"
      ]
     },
     "metadata": {},
     "output_type": "display_data"
    },
    {
     "data": {
      "text/plain": [
       " 文件名 F:\\Code\\公司\\SMS203\\ED2_u0053u004du0053u0046u0043u005fu0030u0032u0030u0033_GBXHSSR1_25600Hz_1_1755_20241117023521.dat ED2\u0000\u0000\u0000\u0000\u0000\u0000\u0000\u0000\u0000\u0000\u0000\u0000\u0000 SMSFC\u0000\u0000\u0000\u0000\u0000\u0000\u0000\u0000\u0000\u0000\u0000 0203\u0000\u0000\u0000\u0000\u0000\u0000\u0000\u0000\u0000\u0000\u0000\u0000  3.81866"
      ]
     },
     "metadata": {},
     "output_type": "display_data"
    },
    {
     "data": {
      "text/plain": [
       " 文件名 F:\\Code\\公司\\SMS203\\ED2_u0053u004du0053u0046u0043u005fu0030u0032u0030u0033_GBXHSSR1_25600Hz_1_1755_20241117053423.dat ED2\u0000\u0000\u0000\u0000\u0000\u0000\u0000\u0000\u0000\u0000\u0000\u0000\u0000 SMSFC\u0000\u0000\u0000\u0000\u0000\u0000\u0000\u0000\u0000\u0000\u0000 0203\u0000\u0000\u0000\u0000\u0000\u0000\u0000\u0000\u0000\u0000\u0000\u0000  4.77474"
      ]
     },
     "metadata": {},
     "output_type": "display_data"
    },
    {
     "data": {
      "text/plain": [
       " 文件名 F:\\Code\\公司\\SMS203\\ED2_u0053u004du0053u0046u0043u005fu0030u0032u0030u0033_GBXHSSR1_25600Hz_1_1755_20241117073531.dat ED2\u0000\u0000\u0000\u0000\u0000\u0000\u0000\u0000\u0000\u0000\u0000\u0000\u0000 SMSFC\u0000\u0000\u0000\u0000\u0000\u0000\u0000\u0000\u0000\u0000\u0000 0203\u0000\u0000\u0000\u0000\u0000\u0000\u0000\u0000\u0000\u0000\u0000\u0000  3.06244"
      ]
     },
     "metadata": {},
     "output_type": "display_data"
    },
    {
     "data": {
      "text/plain": [
       " 文件名 F:\\Code\\公司\\SMS203\\ED2_u0053u004du0053u0046u0043u005fu0030u0032u0030u0033_GBXHSSR1_25600Hz_1_1755_20241117083603.dat ED2\u0000\u0000\u0000\u0000\u0000\u0000\u0000\u0000\u0000\u0000\u0000\u0000\u0000 SMSFC\u0000\u0000\u0000\u0000\u0000\u0000\u0000\u0000\u0000\u0000\u0000 0203\u0000\u0000\u0000\u0000\u0000\u0000\u0000\u0000\u0000\u0000\u0000\u0000  3.21157"
      ]
     },
     "metadata": {},
     "output_type": "display_data"
    },
    {
     "data": {
      "text/plain": [
       " 文件名 F:\\Code\\公司\\SMS203\\ED2_u0053u004du0053u0046u0043u005fu0030u0032u0030u0033_GBXHSSR1_25600Hz_1_1755_20241117113434.dat ED2\u0000\u0000\u0000\u0000\u0000\u0000\u0000\u0000\u0000\u0000\u0000\u0000\u0000 SMSFC\u0000\u0000\u0000\u0000\u0000\u0000\u0000\u0000\u0000\u0000\u0000 0203\u0000\u0000\u0000\u0000\u0000\u0000\u0000\u0000\u0000\u0000\u0000\u0000  3.62262"
      ]
     },
     "metadata": {},
     "output_type": "display_data"
    },
    {
     "data": {
      "text/plain": [
       " 文件名 F:\\Code\\公司\\SMS203\\ED2_u0053u004du0053u0046u0043u005fu0030u0032u0030u0033_GBXHSSR1_25600Hz_1_1755_20241117133345.dat ED2\u0000\u0000\u0000\u0000\u0000\u0000\u0000\u0000\u0000\u0000\u0000\u0000\u0000 SMSFC\u0000\u0000\u0000\u0000\u0000\u0000\u0000\u0000\u0000\u0000\u0000 0203\u0000\u0000\u0000\u0000\u0000\u0000\u0000\u0000\u0000\u0000\u0000\u0000  3.13076"
      ]
     },
     "metadata": {},
     "output_type": "display_data"
    },
    {
     "data": {
      "text/plain": [
       " 文件名 F:\\Code\\公司\\SMS203\\ED2_u0053u004du0053u0046u0043u005fu0030u0032u0030u0033_GBXHSSR1_25600Hz_1_1755_20241117233754.dat ED2\u0000\u0000\u0000\u0000\u0000\u0000\u0000\u0000\u0000\u0000\u0000\u0000\u0000 SMSFC\u0000\u0000\u0000\u0000\u0000\u0000\u0000\u0000\u0000\u0000\u0000 0203\u0000\u0000\u0000\u0000\u0000\u0000\u0000\u0000\u0000\u0000\u0000\u0000  2.8818"
      ]
     },
     "metadata": {},
     "output_type": "display_data"
    },
    {
     "data": {
      "text/plain": [
       " 文件名 F:\\Code\\公司\\SMS203\\ED2_u0053u004du0053u0046u0043u005fu0030u0032u0030u0033_GBXLSSR1_25600Hz_1_1369_20241117033831.dat ED2\u0000\u0000\u0000\u0000\u0000\u0000\u0000\u0000\u0000\u0000\u0000\u0000\u0000 SMSFC\u0000\u0000\u0000\u0000\u0000\u0000\u0000\u0000\u0000\u0000\u0000 0203\u0000\u0000\u0000\u0000\u0000\u0000\u0000\u0000\u0000\u0000\u0000\u0000  2.09168"
      ]
     },
     "metadata": {},
     "output_type": "display_data"
    },
    {
     "data": {
      "text/plain": [
       " 文件名 F:\\Code\\公司\\SMS203\\ED2_u0053u004du0053u0046u0043u005fu0030u0032u0030u0033_GBXLSSR1_25600Hz_1_1399_20241117053421.dat ED2\u0000\u0000\u0000\u0000\u0000\u0000\u0000\u0000\u0000\u0000\u0000\u0000\u0000 SMSFC\u0000\u0000\u0000\u0000\u0000\u0000\u0000\u0000\u0000\u0000\u0000 0203\u0000\u0000\u0000\u0000\u0000\u0000\u0000\u0000\u0000\u0000\u0000\u0000  1.62165"
      ]
     },
     "metadata": {},
     "output_type": "display_data"
    },
    {
     "data": {
      "text/plain": [
       " 文件名 F:\\Code\\公司\\SMS203\\ED2_u0053u004du0053u0046u0043u005fu0030u0032u0030u0033_GBXLSSR1_25600Hz_1_1418_20241117033829.dat ED2\u0000\u0000\u0000\u0000\u0000\u0000\u0000\u0000\u0000\u0000\u0000\u0000\u0000 SMSFC\u0000\u0000\u0000\u0000\u0000\u0000\u0000\u0000\u0000\u0000\u0000 0203\u0000\u0000\u0000\u0000\u0000\u0000\u0000\u0000\u0000\u0000\u0000\u0000  2.29124"
      ]
     },
     "metadata": {},
     "output_type": "display_data"
    },
    {
     "data": {
      "text/plain": [
       " 文件名 F:\\Code\\公司\\SMS203\\ED2_u0053u004du0053u0046u0043u005fu0030u0032u0030u0033_GBXLSSR1_25600Hz_1_1423_20241117123545.dat ED2\u0000\u0000\u0000\u0000\u0000\u0000\u0000\u0000\u0000\u0000\u0000\u0000\u0000 SMSFC\u0000\u0000\u0000\u0000\u0000\u0000\u0000\u0000\u0000\u0000\u0000 0203\u0000\u0000\u0000\u0000\u0000\u0000\u0000\u0000\u0000\u0000\u0000\u0000  4.16959"
      ]
     },
     "metadata": {},
     "output_type": "display_data"
    },
    {
     "data": {
      "text/plain": [
       " 文件名 F:\\Code\\公司\\SMS203\\ED2_u0053u004du0053u0046u0043u005fu0030u0032u0030u0033_GBXLSSR1_25600Hz_1_1425_20241117053421.dat ED2\u0000\u0000\u0000\u0000\u0000\u0000\u0000\u0000\u0000\u0000\u0000\u0000\u0000 SMSFC\u0000\u0000\u0000\u0000\u0000\u0000\u0000\u0000\u0000\u0000\u0000 0203\u0000\u0000\u0000\u0000\u0000\u0000\u0000\u0000\u0000\u0000\u0000\u0000  2.49854"
      ]
     },
     "metadata": {},
     "output_type": "display_data"
    },
    {
     "data": {
      "text/plain": [
       " 文件名 F:\\Code\\公司\\SMS203\\ED2_u0053u004du0053u0046u0043u005fu0030u0032u0030u0033_GBXLSSR1_25600Hz_1_1448_20241117083601.dat ED2\u0000\u0000\u0000\u0000\u0000\u0000\u0000\u0000\u0000\u0000\u0000\u0000\u0000 SMSFC\u0000\u0000\u0000\u0000\u0000\u0000\u0000\u0000\u0000\u0000\u0000 0203\u0000\u0000\u0000\u0000\u0000\u0000\u0000\u0000\u0000\u0000\u0000\u0000  2.44031"
      ]
     },
     "metadata": {},
     "output_type": "display_data"
    },
    {
     "data": {
      "text/plain": [
       " 文件名 F:\\Code\\公司\\SMS203\\ED2_u0053u004du0053u0046u0043u005fu0030u0032u0030u0033_GBXLSSR1_25600Hz_1_1471_20241117044116.dat ED2\u0000\u0000\u0000\u0000\u0000\u0000\u0000\u0000\u0000\u0000\u0000\u0000\u0000 SMSFC\u0000\u0000\u0000\u0000\u0000\u0000\u0000\u0000\u0000\u0000\u0000 0203\u0000\u0000\u0000\u0000\u0000\u0000\u0000\u0000\u0000\u0000\u0000\u0000  2.35332"
      ]
     },
     "metadata": {},
     "output_type": "display_data"
    },
    {
     "data": {
      "text/plain": [
       " 文件名 F:\\Code\\公司\\SMS203\\ED2_u0053u004du0053u0046u0043u005fu0030u0032u0030u0033_GBXLSSR1_25600Hz_1_1536_20241117233753.dat ED2\u0000\u0000\u0000\u0000\u0000\u0000\u0000\u0000\u0000\u0000\u0000\u0000\u0000 SMSFC\u0000\u0000\u0000\u0000\u0000\u0000\u0000\u0000\u0000\u0000\u0000 0203\u0000\u0000\u0000\u0000\u0000\u0000\u0000\u0000\u0000\u0000\u0000\u0000  2.31715"
      ]
     },
     "metadata": {},
     "output_type": "display_data"
    },
    {
     "data": {
      "text/plain": [
       " 文件名 F:\\Code\\公司\\SMS203\\ED2_u0053u004du0053u0046u0043u005fu0030u0032u0030u0033_GBXLSSR1_25600Hz_1_1545_20241117033833.dat ED2\u0000\u0000\u0000\u0000\u0000\u0000\u0000\u0000\u0000\u0000\u0000\u0000\u0000 SMSFC\u0000\u0000\u0000\u0000\u0000\u0000\u0000\u0000\u0000\u0000\u0000 0203\u0000\u0000\u0000\u0000\u0000\u0000\u0000\u0000\u0000\u0000\u0000\u0000  2.61351"
      ]
     },
     "metadata": {},
     "output_type": "display_data"
    },
    {
     "data": {
      "text/plain": [
       " 文件名 F:\\Code\\公司\\SMS203\\ED2_u0053u004du0053u0046u0043u005fu0030u0032u0030u0033_GBXLSSR1_25600Hz_1_1557_20241117044116.dat ED2\u0000\u0000\u0000\u0000\u0000\u0000\u0000\u0000\u0000\u0000\u0000\u0000\u0000 SMSFC\u0000\u0000\u0000\u0000\u0000\u0000\u0000\u0000\u0000\u0000\u0000 0203\u0000\u0000\u0000\u0000\u0000\u0000\u0000\u0000\u0000\u0000\u0000\u0000  1.98317"
      ]
     },
     "metadata": {},
     "output_type": "display_data"
    },
    {
     "data": {
      "text/plain": [
       " 文件名 F:\\Code\\公司\\SMS203\\ED2_u0053u004du0053u0046u0043u005fu0030u0032u0030u0033_GBXLSSR1_25600Hz_1_1610_20241117233752.dat ED2\u0000\u0000\u0000\u0000\u0000\u0000\u0000\u0000\u0000\u0000\u0000\u0000\u0000 SMSFC\u0000\u0000\u0000\u0000\u0000\u0000\u0000\u0000\u0000\u0000\u0000 0203\u0000\u0000\u0000\u0000\u0000\u0000\u0000\u0000\u0000\u0000\u0000\u0000  1.98372"
      ]
     },
     "metadata": {},
     "output_type": "display_data"
    },
    {
     "data": {
      "text/plain": [
       " 文件名 F:\\Code\\公司\\SMS203\\ED2_u0053u004du0053u0046u0043u005fu0030u0032u0030u0033_GBXLSSR1_25600Hz_1_1636_20241117053421.dat ED2\u0000\u0000\u0000\u0000\u0000\u0000\u0000\u0000\u0000\u0000\u0000\u0000\u0000 SMSFC\u0000\u0000\u0000\u0000\u0000\u0000\u0000\u0000\u0000\u0000\u0000 0203\u0000\u0000\u0000\u0000\u0000\u0000\u0000\u0000\u0000\u0000\u0000\u0000  1.96327"
      ]
     },
     "metadata": {},
     "output_type": "display_data"
    },
    {
     "data": {
      "text/plain": [
       " 文件名 F:\\Code\\公司\\SMS203\\ED2_u0053u004du0053u0046u0043u005fu0030u0032u0030u0033_GBXLSSR1_25600Hz_1_1663_20241117023519.dat ED2\u0000\u0000\u0000\u0000\u0000\u0000\u0000\u0000\u0000\u0000\u0000\u0000\u0000 SMSFC\u0000\u0000\u0000\u0000\u0000\u0000\u0000\u0000\u0000\u0000\u0000 0203\u0000\u0000\u0000\u0000\u0000\u0000\u0000\u0000\u0000\u0000\u0000\u0000  1.96531"
      ]
     },
     "metadata": {},
     "output_type": "display_data"
    },
    {
     "data": {
      "text/plain": [
       " 文件名 F:\\Code\\公司\\SMS203\\ED2_u0053u004du0053u0046u0043u005fu0030u0032u0030u0033_GBXLSSR1_25600Hz_1_1663_20241117044116.dat ED2\u0000\u0000\u0000\u0000\u0000\u0000\u0000\u0000\u0000\u0000\u0000\u0000\u0000 SMSFC\u0000\u0000\u0000\u0000\u0000\u0000\u0000\u0000\u0000\u0000\u0000 0203\u0000\u0000\u0000\u0000\u0000\u0000\u0000\u0000\u0000\u0000\u0000\u0000  1.96531"
      ]
     },
     "metadata": {},
     "output_type": "display_data"
    },
    {
     "data": {
      "text/plain": [
       " 文件名 F:\\Code\\公司\\SMS203\\ED2_u0053u004du0053u0046u0043u005fu0030u0032u0030u0033_GBXLSSR1_25600Hz_1_1702_20241117013803.dat ED2\u0000\u0000\u0000\u0000\u0000\u0000\u0000\u0000\u0000\u0000\u0000\u0000\u0000 SMSFC\u0000\u0000\u0000\u0000\u0000\u0000\u0000\u0000\u0000\u0000\u0000 0203\u0000\u0000\u0000\u0000\u0000\u0000\u0000\u0000\u0000\u0000\u0000\u0000  2.08479"
      ]
     },
     "metadata": {},
     "output_type": "display_data"
    },
    {
     "data": {
      "text/plain": [
       " 文件名 F:\\Code\\公司\\SMS203\\ED2_u0053u004du0053u0046u0043u005fu0030u0032u0030u0033_GBXLSSR1_25600Hz_1_1722_20241117044115.dat ED2\u0000\u0000\u0000\u0000\u0000\u0000\u0000\u0000\u0000\u0000\u0000\u0000\u0000 SMSFC\u0000\u0000\u0000\u0000\u0000\u0000\u0000\u0000\u0000\u0000\u0000 0203\u0000\u0000\u0000\u0000\u0000\u0000\u0000\u0000\u0000\u0000\u0000\u0000  2.65196"
      ]
     },
     "metadata": {},
     "output_type": "display_data"
    },
    {
     "data": {
      "text/plain": [
       " 文件名 F:\\Code\\公司\\SMS203\\ED2_u0053u004du0053u0046u0043u005fu0030u0032u0030u0033_GBXLSSR1_25600Hz_1_1738_20241117093813.dat ED2\u0000\u0000\u0000\u0000\u0000\u0000\u0000\u0000\u0000\u0000\u0000\u0000\u0000 SMSFC\u0000\u0000\u0000\u0000\u0000\u0000\u0000\u0000\u0000\u0000\u0000 0203\u0000\u0000\u0000\u0000\u0000\u0000\u0000\u0000\u0000\u0000\u0000\u0000  4.0057"
      ]
     },
     "metadata": {},
     "output_type": "display_data"
    },
    {
     "data": {
      "text/plain": [
       " 文件名 F:\\Code\\公司\\SMS203\\ED2_u0053u004du0053u0046u0043u005fu0030u0032u0030u0033_GBXLSSR1_25600Hz_1_1739_20241117083601.dat ED2\u0000\u0000\u0000\u0000\u0000\u0000\u0000\u0000\u0000\u0000\u0000\u0000\u0000 SMSFC\u0000\u0000\u0000\u0000\u0000\u0000\u0000\u0000\u0000\u0000\u0000 0203\u0000\u0000\u0000\u0000\u0000\u0000\u0000\u0000\u0000\u0000\u0000\u0000  2.64874"
      ]
     },
     "metadata": {},
     "output_type": "display_data"
    },
    {
     "data": {
      "text/plain": [
       " 文件名 F:\\Code\\公司\\SMS203\\ED2_u0053u004du0053u0046u0043u005fu0030u0032u0030u0033_GBXLSSR1_25600Hz_1_1750_20241117063302.dat ED2\u0000\u0000\u0000\u0000\u0000\u0000\u0000\u0000\u0000\u0000\u0000\u0000\u0000 SMSFC\u0000\u0000\u0000\u0000\u0000\u0000\u0000\u0000\u0000\u0000\u0000 0203\u0000\u0000\u0000\u0000\u0000\u0000\u0000\u0000\u0000\u0000\u0000\u0000  6.39246"
      ]
     },
     "metadata": {},
     "output_type": "display_data"
    },
    {
     "data": {
      "text/plain": [
       " 文件名 F:\\Code\\公司\\SMS203\\ED2_u0053u004du0053u0046u0043u005fu0030u0032u0030u0033_GBXLSSR1_25600Hz_1_1751_20241117003444.dat ED2\u0000\u0000\u0000\u0000\u0000\u0000\u0000\u0000\u0000\u0000\u0000\u0000\u0000 SMSFC\u0000\u0000\u0000\u0000\u0000\u0000\u0000\u0000\u0000\u0000\u0000 0203\u0000\u0000\u0000\u0000\u0000\u0000\u0000\u0000\u0000\u0000\u0000\u0000  3.74499"
      ]
     },
     "metadata": {},
     "output_type": "display_data"
    },
    {
     "data": {
      "text/plain": [
       " 文件名 F:\\Code\\公司\\SMS203\\ED2_u0053u004du0053u0046u0043u005fu0030u0032u0030u0033_GBXLSSR1_25600Hz_1_1751_20241117013805.dat ED2\u0000\u0000\u0000\u0000\u0000\u0000\u0000\u0000\u0000\u0000\u0000\u0000\u0000 SMSFC\u0000\u0000\u0000\u0000\u0000\u0000\u0000\u0000\u0000\u0000\u0000 0203\u0000\u0000\u0000\u0000\u0000\u0000\u0000\u0000\u0000\u0000\u0000\u0000  4.40456"
      ]
     },
     "metadata": {},
     "output_type": "display_data"
    },
    {
     "data": {
      "text/plain": [
       " 文件名 F:\\Code\\公司\\SMS203\\ED2_u0053u004du0053u0046u0043u005fu0030u0032u0030u0033_GBXLSSR1_25600Hz_1_1752_20241117003441.dat ED2\u0000\u0000\u0000\u0000\u0000\u0000\u0000\u0000\u0000\u0000\u0000\u0000\u0000 SMSFC\u0000\u0000\u0000\u0000\u0000\u0000\u0000\u0000\u0000\u0000\u0000 0203\u0000\u0000\u0000\u0000\u0000\u0000\u0000\u0000\u0000\u0000\u0000\u0000  5.25284"
      ]
     },
     "metadata": {},
     "output_type": "display_data"
    },
    {
     "data": {
      "text/plain": [
       " 文件名 F:\\Code\\公司\\SMS203\\ED2_u0053u004du0053u0046u0043u005fu0030u0032u0030u0033_GBXLSSR1_25600Hz_1_1752_20241117013805.dat ED2\u0000\u0000\u0000\u0000\u0000\u0000\u0000\u0000\u0000\u0000\u0000\u0000\u0000 SMSFC\u0000\u0000\u0000\u0000\u0000\u0000\u0000\u0000\u0000\u0000\u0000 0203\u0000\u0000\u0000\u0000\u0000\u0000\u0000\u0000\u0000\u0000\u0000\u0000  4.28065"
      ]
     },
     "metadata": {},
     "output_type": "display_data"
    },
    {
     "data": {
      "text/plain": [
       " 文件名 F:\\Code\\公司\\SMS203\\ED2_u0053u004du0053u0046u0043u005fu0030u0032u0030u0033_GBXLSSR1_25600Hz_1_1752_20241117023520.dat ED2\u0000\u0000\u0000\u0000\u0000\u0000\u0000\u0000\u0000\u0000\u0000\u0000\u0000 SMSFC\u0000\u0000\u0000\u0000\u0000\u0000\u0000\u0000\u0000\u0000\u0000 0203\u0000\u0000\u0000\u0000\u0000\u0000\u0000\u0000\u0000\u0000\u0000\u0000  4.90019"
      ]
     },
     "metadata": {},
     "output_type": "display_data"
    },
    {
     "data": {
      "text/plain": [
       " 文件名 F:\\Code\\公司\\SMS203\\ED2_u0053u004du0053u0046u0043u005fu0030u0032u0030u0033_GBXLSSR1_25600Hz_1_1752_20241117033832.dat ED2\u0000\u0000\u0000\u0000\u0000\u0000\u0000\u0000\u0000\u0000\u0000\u0000\u0000 SMSFC\u0000\u0000\u0000\u0000\u0000\u0000\u0000\u0000\u0000\u0000\u0000 0203\u0000\u0000\u0000\u0000\u0000\u0000\u0000\u0000\u0000\u0000\u0000\u0000  4.75645"
      ]
     },
     "metadata": {},
     "output_type": "display_data"
    },
    {
     "data": {
      "text/plain": [
       " 文件名 F:\\Code\\公司\\SMS203\\ED2_u0053u004du0053u0046u0043u005fu0030u0032u0030u0033_GBXLSSR1_25600Hz_1_1752_20241117093812.dat ED2\u0000\u0000\u0000\u0000\u0000\u0000\u0000\u0000\u0000\u0000\u0000\u0000\u0000 SMSFC\u0000\u0000\u0000\u0000\u0000\u0000\u0000\u0000\u0000\u0000\u0000 0203\u0000\u0000\u0000\u0000\u0000\u0000\u0000\u0000\u0000\u0000\u0000\u0000  6.15101"
      ]
     },
     "metadata": {},
     "output_type": "display_data"
    },
    {
     "data": {
      "text/plain": [
       " 文件名 F:\\Code\\公司\\SMS203\\ED2_u0053u004du0053u0046u0043u005fu0030u0032u0030u0033_GBXLSSR1_25600Hz_1_1752_20241117093813.dat ED2\u0000\u0000\u0000\u0000\u0000\u0000\u0000\u0000\u0000\u0000\u0000\u0000\u0000 SMSFC\u0000\u0000\u0000\u0000\u0000\u0000\u0000\u0000\u0000\u0000\u0000 0203\u0000\u0000\u0000\u0000\u0000\u0000\u0000\u0000\u0000\u0000\u0000\u0000  6.15101"
      ]
     },
     "metadata": {},
     "output_type": "display_data"
    },
    {
     "data": {
      "text/plain": [
       " 文件名 F:\\Code\\公司\\SMS203\\ED2_u0053u004du0053u0046u0043u005fu0030u0032u0030u0033_GBXLSSR1_25600Hz_1_1752_20241117113431.dat ED2\u0000\u0000\u0000\u0000\u0000\u0000\u0000\u0000\u0000\u0000\u0000\u0000\u0000 SMSFC\u0000\u0000\u0000\u0000\u0000\u0000\u0000\u0000\u0000\u0000\u0000 0203\u0000\u0000\u0000\u0000\u0000\u0000\u0000\u0000\u0000\u0000\u0000\u0000  4.90019"
      ]
     },
     "metadata": {},
     "output_type": "display_data"
    },
    {
     "data": {
      "text/plain": [
       " 文件名 F:\\Code\\公司\\SMS203\\ED2_u0053u004du0053u0046u0043u005fu0030u0032u0030u0033_GBXLSSR1_25600Hz_1_1752_20241117133342.dat ED2\u0000\u0000\u0000\u0000\u0000\u0000\u0000\u0000\u0000\u0000\u0000\u0000\u0000 SMSFC\u0000\u0000\u0000\u0000\u0000\u0000\u0000\u0000\u0000\u0000\u0000 0203\u0000\u0000\u0000\u0000\u0000\u0000\u0000\u0000\u0000\u0000\u0000\u0000  4.90019"
      ]
     },
     "metadata": {},
     "output_type": "display_data"
    },
    {
     "data": {
      "text/plain": [
       " 文件名 F:\\Code\\公司\\SMS203\\ED2_u0053u004du0053u0046u0043u005fu0030u0032u0030u0033_GBXLSSR1_25600Hz_1_1753_20241117063303.dat ED2\u0000\u0000\u0000\u0000\u0000\u0000\u0000\u0000\u0000\u0000\u0000\u0000\u0000 SMSFC\u0000\u0000\u0000\u0000\u0000\u0000\u0000\u0000\u0000\u0000\u0000 0203\u0000\u0000\u0000\u0000\u0000\u0000\u0000\u0000\u0000\u0000\u0000\u0000  4.47857"
      ]
     },
     "metadata": {},
     "output_type": "display_data"
    },
    {
     "data": {
      "text/plain": [
       " 文件名 F:\\Code\\公司\\SMS203\\ED2_u0053u004du0053u0046u0043u005fu0030u0032u0030u0033_GBXLSSR1_25600Hz_1_1753_20241117073517.dat ED2\u0000\u0000\u0000\u0000\u0000\u0000\u0000\u0000\u0000\u0000\u0000\u0000\u0000 SMSFC\u0000\u0000\u0000\u0000\u0000\u0000\u0000\u0000\u0000\u0000\u0000 0203\u0000\u0000\u0000\u0000\u0000\u0000\u0000\u0000\u0000\u0000\u0000\u0000  2.7502"
      ]
     },
     "metadata": {},
     "output_type": "display_data"
    },
    {
     "data": {
      "text/plain": [
       " 文件名 F:\\Code\\公司\\SMS203\\ED2_u0053u004du0053u0046u0043u005fu0030u0032u0030u0033_GBXLSSR1_25600Hz_1_1753_20241117083559.dat ED2\u0000\u0000\u0000\u0000\u0000\u0000\u0000\u0000\u0000\u0000\u0000\u0000\u0000 SMSFC\u0000\u0000\u0000\u0000\u0000\u0000\u0000\u0000\u0000\u0000\u0000 0203\u0000\u0000\u0000\u0000\u0000\u0000\u0000\u0000\u0000\u0000\u0000\u0000  4.71176"
      ]
     },
     "metadata": {},
     "output_type": "display_data"
    },
    {
     "data": {
      "text/plain": [
       " 文件名 F:\\Code\\公司\\SMS203\\ED2_u0053u004du0053u0046u0043u005fu0030u0032u0030u0033_GBXLSSR1_25600Hz_1_1753_20241117093813.dat ED2\u0000\u0000\u0000\u0000\u0000\u0000\u0000\u0000\u0000\u0000\u0000\u0000\u0000 SMSFC\u0000\u0000\u0000\u0000\u0000\u0000\u0000\u0000\u0000\u0000\u0000 0203\u0000\u0000\u0000\u0000\u0000\u0000\u0000\u0000\u0000\u0000\u0000\u0000  5.11919"
      ]
     },
     "metadata": {},
     "output_type": "display_data"
    },
    {
     "data": {
      "text/plain": [
       " 文件名 F:\\Code\\公司\\SMS203\\ED2_u0053u004du0053u0046u0043u005fu0030u0032u0030u0033_GBXLSSR1_25600Hz_1_1753_20241117103510.dat ED2\u0000\u0000\u0000\u0000\u0000\u0000\u0000\u0000\u0000\u0000\u0000\u0000\u0000 SMSFC\u0000\u0000\u0000\u0000\u0000\u0000\u0000\u0000\u0000\u0000\u0000 0203\u0000\u0000\u0000\u0000\u0000\u0000\u0000\u0000\u0000\u0000\u0000\u0000  4.73371"
      ]
     },
     "metadata": {},
     "output_type": "display_data"
    },
    {
     "data": {
      "text/plain": [
       " 文件名 F:\\Code\\公司\\SMS203\\ED2_u0053u004du0053u0046u0043u005fu0030u0032u0030u0033_GBXLSSR1_25600Hz_1_1753_20241117123542.dat ED2\u0000\u0000\u0000\u0000\u0000\u0000\u0000\u0000\u0000\u0000\u0000\u0000\u0000 SMSFC\u0000\u0000\u0000\u0000\u0000\u0000\u0000\u0000\u0000\u0000\u0000 0203\u0000\u0000\u0000\u0000\u0000\u0000\u0000\u0000\u0000\u0000\u0000\u0000  5.11919"
      ]
     },
     "metadata": {},
     "output_type": "display_data"
    },
    {
     "data": {
      "text/plain": [
       " 文件名 F:\\Code\\公司\\SMS203\\ED2_u0053u004du0053u0046u0043u005fu0030u0032u0030u0033_GBXLSSR1_25600Hz_1_1753_20241117133342.dat ED2\u0000\u0000\u0000\u0000\u0000\u0000\u0000\u0000\u0000\u0000\u0000\u0000\u0000 SMSFC\u0000\u0000\u0000\u0000\u0000\u0000\u0000\u0000\u0000\u0000\u0000 0203\u0000\u0000\u0000\u0000\u0000\u0000\u0000\u0000\u0000\u0000\u0000\u0000  6.19493"
      ]
     },
     "metadata": {},
     "output_type": "display_data"
    },
    {
     "data": {
      "text/plain": [
       " 文件名 F:\\Code\\公司\\SMS203\\ED2_u0053u004du0053u0046u0043u005fu0030u0032u0030u0033_GBXLSSR1_25600Hz_1_1753_20241117233753.dat ED2\u0000\u0000\u0000\u0000\u0000\u0000\u0000\u0000\u0000\u0000\u0000\u0000\u0000 SMSFC\u0000\u0000\u0000\u0000\u0000\u0000\u0000\u0000\u0000\u0000\u0000 0203\u0000\u0000\u0000\u0000\u0000\u0000\u0000\u0000\u0000\u0000\u0000\u0000  5.14831"
      ]
     },
     "metadata": {},
     "output_type": "display_data"
    },
    {
     "data": {
      "text/plain": [
       " 文件名 F:\\Code\\公司\\SMS203\\ED2_u0053u004du0053u0046u0043u005fu0030u0032u0030u0033_GBXLSSR1_25600Hz_1_1754_20241117003444.dat ED2\u0000\u0000\u0000\u0000\u0000\u0000\u0000\u0000\u0000\u0000\u0000\u0000\u0000 SMSFC\u0000\u0000\u0000\u0000\u0000\u0000\u0000\u0000\u0000\u0000\u0000 0203\u0000\u0000\u0000\u0000\u0000\u0000\u0000\u0000\u0000\u0000\u0000\u0000  3.10476"
      ]
     },
     "metadata": {},
     "output_type": "display_data"
    },
    {
     "data": {
      "text/plain": [
       " 文件名 F:\\Code\\公司\\SMS203\\ED2_u0053u004du0053u0046u0043u005fu0030u0032u0030u0033_GBXLSSR1_25600Hz_1_1754_20241117013804.dat ED2\u0000\u0000\u0000\u0000\u0000\u0000\u0000\u0000\u0000\u0000\u0000\u0000\u0000 SMSFC\u0000\u0000\u0000\u0000\u0000\u0000\u0000\u0000\u0000\u0000\u0000 0203\u0000\u0000\u0000\u0000\u0000\u0000\u0000\u0000\u0000\u0000\u0000\u0000  3.56244"
      ]
     },
     "metadata": {},
     "output_type": "display_data"
    },
    {
     "data": {
      "text/plain": [
       " 文件名 F:\\Code\\公司\\SMS203\\ED2_u0053u004du0053u0046u0043u005fu0030u0032u0030u0033_GBXLSSR1_25600Hz_1_1754_20241117023519.dat ED2\u0000\u0000\u0000\u0000\u0000\u0000\u0000\u0000\u0000\u0000\u0000\u0000\u0000 SMSFC\u0000\u0000\u0000\u0000\u0000\u0000\u0000\u0000\u0000\u0000\u0000 0203\u0000\u0000\u0000\u0000\u0000\u0000\u0000\u0000\u0000\u0000\u0000\u0000  6.07896"
      ]
     },
     "metadata": {},
     "output_type": "display_data"
    },
    {
     "data": {
      "text/plain": [
       " 文件名 F:\\Code\\公司\\SMS203\\ED2_u0053u004du0053u0046u0043u005fu0030u0032u0030u0033_GBXLSSR1_25600Hz_1_1754_20241117053419.dat ED2\u0000\u0000\u0000\u0000\u0000\u0000\u0000\u0000\u0000\u0000\u0000\u0000\u0000 SMSFC\u0000\u0000\u0000\u0000\u0000\u0000\u0000\u0000\u0000\u0000\u0000 0203\u0000\u0000\u0000\u0000\u0000\u0000\u0000\u0000\u0000\u0000\u0000\u0000  3.55839"
      ]
     },
     "metadata": {},
     "output_type": "display_data"
    },
    {
     "data": {
      "text/plain": [
       " 文件名 F:\\Code\\公司\\SMS203\\ED2_u0053u004du0053u0046u0043u005fu0030u0032u0030u0033_GBXLSSR1_25600Hz_1_1754_20241117053421.dat ED2\u0000\u0000\u0000\u0000\u0000\u0000\u0000\u0000\u0000\u0000\u0000\u0000\u0000 SMSFC\u0000\u0000\u0000\u0000\u0000\u0000\u0000\u0000\u0000\u0000\u0000 0203\u0000\u0000\u0000\u0000\u0000\u0000\u0000\u0000\u0000\u0000\u0000\u0000  5.09286"
      ]
     },
     "metadata": {},
     "output_type": "display_data"
    },
    {
     "data": {
      "text/plain": [
       " 文件名 F:\\Code\\公司\\SMS203\\ED2_u0053u004du0053u0046u0043u005fu0030u0032u0030u0033_GBXLSSR1_25600Hz_1_1754_20241117063303.dat ED2\u0000\u0000\u0000\u0000\u0000\u0000\u0000\u0000\u0000\u0000\u0000\u0000\u0000 SMSFC\u0000\u0000\u0000\u0000\u0000\u0000\u0000\u0000\u0000\u0000\u0000 0203\u0000\u0000\u0000\u0000\u0000\u0000\u0000\u0000\u0000\u0000\u0000\u0000  4.51841"
      ]
     },
     "metadata": {},
     "output_type": "display_data"
    },
    {
     "data": {
      "text/plain": [
       " 文件名 F:\\Code\\公司\\SMS203\\ED2_u0053u004du0053u0046u0043u005fu0030u0032u0030u0033_GBXLSSR1_25600Hz_1_1754_20241117073529.dat ED2\u0000\u0000\u0000\u0000\u0000\u0000\u0000\u0000\u0000\u0000\u0000\u0000\u0000 SMSFC\u0000\u0000\u0000\u0000\u0000\u0000\u0000\u0000\u0000\u0000\u0000 0203\u0000\u0000\u0000\u0000\u0000\u0000\u0000\u0000\u0000\u0000\u0000\u0000  4.89648"
      ]
     },
     "metadata": {},
     "output_type": "display_data"
    },
    {
     "data": {
      "text/plain": [
       " 文件名 F:\\Code\\公司\\SMS203\\ED2_u0053u004du0053u0046u0043u005fu0030u0032u0030u0033_GBXLSSR1_25600Hz_1_1754_20241117093813.dat ED2\u0000\u0000\u0000\u0000\u0000\u0000\u0000\u0000\u0000\u0000\u0000\u0000\u0000 SMSFC\u0000\u0000\u0000\u0000\u0000\u0000\u0000\u0000\u0000\u0000\u0000 0203\u0000\u0000\u0000\u0000\u0000\u0000\u0000\u0000\u0000\u0000\u0000\u0000  4.81539"
      ]
     },
     "metadata": {},
     "output_type": "display_data"
    },
    {
     "data": {
      "text/plain": [
       " 文件名 F:\\Code\\公司\\SMS203\\ED2_u0053u004du0053u0046u0043u005fu0030u0032u0030u0033_GBXLSSR1_25600Hz_1_1754_20241117103509.dat ED2\u0000\u0000\u0000\u0000\u0000\u0000\u0000\u0000\u0000\u0000\u0000\u0000\u0000 SMSFC\u0000\u0000\u0000\u0000\u0000\u0000\u0000\u0000\u0000\u0000\u0000 0203\u0000\u0000\u0000\u0000\u0000\u0000\u0000\u0000\u0000\u0000\u0000\u0000  4.96451"
      ]
     },
     "metadata": {},
     "output_type": "display_data"
    },
    {
     "data": {
      "text/plain": [
       " 文件名 F:\\Code\\公司\\SMS203\\ED2_u0053u004du0053u0046u0043u005fu0030u0032u0030u0033_GBXLSSR1_25600Hz_1_1754_20241117103510.dat ED2\u0000\u0000\u0000\u0000\u0000\u0000\u0000\u0000\u0000\u0000\u0000\u0000\u0000 SMSFC\u0000\u0000\u0000\u0000\u0000\u0000\u0000\u0000\u0000\u0000\u0000 0203\u0000\u0000\u0000\u0000\u0000\u0000\u0000\u0000\u0000\u0000\u0000\u0000  6.24424"
      ]
     },
     "metadata": {},
     "output_type": "display_data"
    },
    {
     "data": {
      "text/plain": [
       " 文件名 F:\\Code\\公司\\SMS203\\ED2_u0053u004du0053u0046u0043u005fu0030u0032u0030u0033_GBXLSSR1_25600Hz_1_1754_20241117103511.dat ED2\u0000\u0000\u0000\u0000\u0000\u0000\u0000\u0000\u0000\u0000\u0000\u0000\u0000 SMSFC\u0000\u0000\u0000\u0000\u0000\u0000\u0000\u0000\u0000\u0000\u0000 0203\u0000\u0000\u0000\u0000\u0000\u0000\u0000\u0000\u0000\u0000\u0000\u0000  5.34673"
      ]
     },
     "metadata": {},
     "output_type": "display_data"
    },
    {
     "data": {
      "text/plain": [
       " 文件名 F:\\Code\\公司\\SMS203\\ED2_u0053u004du0053u0046u0043u005fu0030u0032u0030u0033_GBXLSSR1_25600Hz_1_1754_20241117113432.dat ED2\u0000\u0000\u0000\u0000\u0000\u0000\u0000\u0000\u0000\u0000\u0000\u0000\u0000 SMSFC\u0000\u0000\u0000\u0000\u0000\u0000\u0000\u0000\u0000\u0000\u0000 0203\u0000\u0000\u0000\u0000\u0000\u0000\u0000\u0000\u0000\u0000\u0000\u0000  4.78728"
      ]
     },
     "metadata": {},
     "output_type": "display_data"
    },
    {
     "data": {
      "text/plain": [
       " 文件名 F:\\Code\\公司\\SMS203\\ED2_u0053u004du0053u0046u0043u005fu0030u0032u0030u0033_GBXLSSR1_25600Hz_1_1754_20241117123544.dat ED2\u0000\u0000\u0000\u0000\u0000\u0000\u0000\u0000\u0000\u0000\u0000\u0000\u0000 SMSFC\u0000\u0000\u0000\u0000\u0000\u0000\u0000\u0000\u0000\u0000\u0000 0203\u0000\u0000\u0000\u0000\u0000\u0000\u0000\u0000\u0000\u0000\u0000\u0000  5.85727"
      ]
     },
     "metadata": {},
     "output_type": "display_data"
    },
    {
     "data": {
      "text/plain": [
       " 文件名 F:\\Code\\公司\\SMS203\\ED2_u0053u004du0053u0046u0043u005fu0030u0032u0030u0033_GBXLSSR1_25600Hz_1_1754_20241117123545.dat ED2\u0000\u0000\u0000\u0000\u0000\u0000\u0000\u0000\u0000\u0000\u0000\u0000\u0000 SMSFC\u0000\u0000\u0000\u0000\u0000\u0000\u0000\u0000\u0000\u0000\u0000 0203\u0000\u0000\u0000\u0000\u0000\u0000\u0000\u0000\u0000\u0000\u0000\u0000  3.81666"
      ]
     },
     "metadata": {},
     "output_type": "display_data"
    },
    {
     "data": {
      "text/plain": [
       " 文件名 F:\\Code\\公司\\SMS203\\ED2_u0053u004du0053u0046u0043u005fu0030u0032u0030u0033_GBXLSSR1_25600Hz_1_1754_20241117133341.dat ED2\u0000\u0000\u0000\u0000\u0000\u0000\u0000\u0000\u0000\u0000\u0000\u0000\u0000 SMSFC\u0000\u0000\u0000\u0000\u0000\u0000\u0000\u0000\u0000\u0000\u0000 0203\u0000\u0000\u0000\u0000\u0000\u0000\u0000\u0000\u0000\u0000\u0000\u0000  4.20366"
      ]
     },
     "metadata": {},
     "output_type": "display_data"
    },
    {
     "data": {
      "text/plain": [
       " 文件名 F:\\Code\\公司\\SMS203\\ED2_u0053u004du0053u0046u0043u005fu0030u0032u0030u0033_GBXLSSR1_25600Hz_1_1754_20241117133342.dat ED2\u0000\u0000\u0000\u0000\u0000\u0000\u0000\u0000\u0000\u0000\u0000\u0000\u0000 SMSFC\u0000\u0000\u0000\u0000\u0000\u0000\u0000\u0000\u0000\u0000\u0000 0203\u0000\u0000\u0000\u0000\u0000\u0000\u0000\u0000\u0000\u0000\u0000\u0000  3.81666"
      ]
     },
     "metadata": {},
     "output_type": "display_data"
    },
    {
     "data": {
      "text/plain": [
       " 文件名 F:\\Code\\公司\\SMS203\\ED2_u0053u004du0053u0046u0043u005fu0030u0032u0030u0033_GBXLSSR1_25600Hz_1_1754_20241117133343.dat ED2\u0000\u0000\u0000\u0000\u0000\u0000\u0000\u0000\u0000\u0000\u0000\u0000\u0000 SMSFC\u0000\u0000\u0000\u0000\u0000\u0000\u0000\u0000\u0000\u0000\u0000 0203\u0000\u0000\u0000\u0000\u0000\u0000\u0000\u0000\u0000\u0000\u0000\u0000  6.06685"
      ]
     },
     "metadata": {},
     "output_type": "display_data"
    },
    {
     "data": {
      "text/plain": [
       " 文件名 F:\\Code\\公司\\SMS203\\ED2_u0053u004du0053u0046u0043u005fu0030u0032u0030u0033_GBXLSSR1_25600Hz_1_1754_20241117233753.dat ED2\u0000\u0000\u0000\u0000\u0000\u0000\u0000\u0000\u0000\u0000\u0000\u0000\u0000 SMSFC\u0000\u0000\u0000\u0000\u0000\u0000\u0000\u0000\u0000\u0000\u0000 0203\u0000\u0000\u0000\u0000\u0000\u0000\u0000\u0000\u0000\u0000\u0000\u0000  4.56736"
      ]
     },
     "metadata": {},
     "output_type": "display_data"
    },
    {
     "data": {
      "text/plain": [
       " 文件名 F:\\Code\\公司\\SMS203\\ED2_u0053u004du0053u0046u0043u005fu0030u0032u0030u0033_GBXLSSR1_25600Hz_1_1755_20241117003443.dat ED2\u0000\u0000\u0000\u0000\u0000\u0000\u0000\u0000\u0000\u0000\u0000\u0000\u0000 SMSFC\u0000\u0000\u0000\u0000\u0000\u0000\u0000\u0000\u0000\u0000\u0000 0203\u0000\u0000\u0000\u0000\u0000\u0000\u0000\u0000\u0000\u0000\u0000\u0000  3.77967"
      ]
     },
     "metadata": {},
     "output_type": "display_data"
    },
    {
     "data": {
      "text/plain": [
       " 文件名 F:\\Code\\公司\\SMS203\\ED2_u0053u004du0053u0046u0043u005fu0030u0032u0030u0033_GBXLSSR1_25600Hz_1_1755_20241117013805.dat ED2\u0000\u0000\u0000\u0000\u0000\u0000\u0000\u0000\u0000\u0000\u0000\u0000\u0000 SMSFC\u0000\u0000\u0000\u0000\u0000\u0000\u0000\u0000\u0000\u0000\u0000 0203\u0000\u0000\u0000\u0000\u0000\u0000\u0000\u0000\u0000\u0000\u0000\u0000  4.32151"
      ]
     },
     "metadata": {},
     "output_type": "display_data"
    },
    {
     "data": {
      "text/plain": [
       " 文件名 F:\\Code\\公司\\SMS203\\ED2_u0053u004du0053u0046u0043u005fu0030u0032u0030u0033_GBXLSSR1_25600Hz_1_1755_20241117023517.dat ED2\u0000\u0000\u0000\u0000\u0000\u0000\u0000\u0000\u0000\u0000\u0000\u0000\u0000 SMSFC\u0000\u0000\u0000\u0000\u0000\u0000\u0000\u0000\u0000\u0000\u0000 0203\u0000\u0000\u0000\u0000\u0000\u0000\u0000\u0000\u0000\u0000\u0000\u0000  3.51223"
      ]
     },
     "metadata": {},
     "output_type": "display_data"
    },
    {
     "data": {
      "text/plain": [
       " 文件名 F:\\Code\\公司\\SMS203\\ED2_u0053u004du0053u0046u0043u005fu0030u0032u0030u0033_GBXLSSR1_25600Hz_1_1755_20241117023519.dat ED2\u0000\u0000\u0000\u0000\u0000\u0000\u0000\u0000\u0000\u0000\u0000\u0000\u0000 SMSFC\u0000\u0000\u0000\u0000\u0000\u0000\u0000\u0000\u0000\u0000\u0000 0203\u0000\u0000\u0000\u0000\u0000\u0000\u0000\u0000\u0000\u0000\u0000\u0000  3.04535"
      ]
     },
     "metadata": {},
     "output_type": "display_data"
    },
    {
     "data": {
      "text/plain": [
       " 文件名 F:\\Code\\公司\\SMS203\\ED2_u0053u004du0053u0046u0043u005fu0030u0032u0030u0033_GBXLSSR1_25600Hz_1_1755_20241117033831.dat ED2\u0000\u0000\u0000\u0000\u0000\u0000\u0000\u0000\u0000\u0000\u0000\u0000\u0000 SMSFC\u0000\u0000\u0000\u0000\u0000\u0000\u0000\u0000\u0000\u0000\u0000 0203\u0000\u0000\u0000\u0000\u0000\u0000\u0000\u0000\u0000\u0000\u0000\u0000  3.15132"
      ]
     },
     "metadata": {},
     "output_type": "display_data"
    },
    {
     "data": {
      "text/plain": [
       " 文件名 F:\\Code\\公司\\SMS203\\ED2_u0053u004du0053u0046u0043u005fu0030u0032u0030u0033_GBXLSSR1_25600Hz_1_1755_20241117044116.dat ED2\u0000\u0000\u0000\u0000\u0000\u0000\u0000\u0000\u0000\u0000\u0000\u0000\u0000 SMSFC\u0000\u0000\u0000\u0000\u0000\u0000\u0000\u0000\u0000\u0000\u0000 0203\u0000\u0000\u0000\u0000\u0000\u0000\u0000\u0000\u0000\u0000\u0000\u0000  6.4122"
      ]
     },
     "metadata": {},
     "output_type": "display_data"
    },
    {
     "data": {
      "text/plain": [
       " 文件名 F:\\Code\\公司\\SMS203\\ED2_u0053u004du0053u0046u0043u005fu0030u0032u0030u0033_GBXLSSR1_25600Hz_1_1755_20241117063303.dat ED2\u0000\u0000\u0000\u0000\u0000\u0000\u0000\u0000\u0000\u0000\u0000\u0000\u0000 SMSFC\u0000\u0000\u0000\u0000\u0000\u0000\u0000\u0000\u0000\u0000\u0000 0203\u0000\u0000\u0000\u0000\u0000\u0000\u0000\u0000\u0000\u0000\u0000\u0000  4.17715"
      ]
     },
     "metadata": {},
     "output_type": "display_data"
    },
    {
     "data": {
      "text/plain": [
       " 文件名 F:\\Code\\公司\\SMS203\\ED2_u0053u004du0053u0046u0043u005fu0030u0032u0030u0033_GBXLSSR1_25600Hz_1_1755_20241117073529.dat ED2\u0000\u0000\u0000\u0000\u0000\u0000\u0000\u0000\u0000\u0000\u0000\u0000\u0000 SMSFC\u0000\u0000\u0000\u0000\u0000\u0000\u0000\u0000\u0000\u0000\u0000 0203\u0000\u0000\u0000\u0000\u0000\u0000\u0000\u0000\u0000\u0000\u0000\u0000  3.34623"
      ]
     },
     "metadata": {},
     "output_type": "display_data"
    },
    {
     "data": {
      "text/plain": [
       " 文件名 F:\\Code\\公司\\SMS203\\ED2_u0053u004du0053u0046u0043u005fu0030u0032u0030u0033_GBXLSSR1_25600Hz_1_1755_20241117073530.dat ED2\u0000\u0000\u0000\u0000\u0000\u0000\u0000\u0000\u0000\u0000\u0000\u0000\u0000 SMSFC\u0000\u0000\u0000\u0000\u0000\u0000\u0000\u0000\u0000\u0000\u0000 0203\u0000\u0000\u0000\u0000\u0000\u0000\u0000\u0000\u0000\u0000\u0000\u0000  3.75191"
      ]
     },
     "metadata": {},
     "output_type": "display_data"
    },
    {
     "data": {
      "text/plain": [
       " 文件名 F:\\Code\\公司\\SMS203\\ED2_u0053u004du0053u0046u0043u005fu0030u0032u0030u0033_GBXLSSR1_25600Hz_1_1755_20241117083600.dat ED2\u0000\u0000\u0000\u0000\u0000\u0000\u0000\u0000\u0000\u0000\u0000\u0000\u0000 SMSFC\u0000\u0000\u0000\u0000\u0000\u0000\u0000\u0000\u0000\u0000\u0000 0203\u0000\u0000\u0000\u0000\u0000\u0000\u0000\u0000\u0000\u0000\u0000\u0000  5.56515"
      ]
     },
     "metadata": {},
     "output_type": "display_data"
    },
    {
     "data": {
      "text/plain": [
       " 文件名 F:\\Code\\公司\\SMS203\\ED2_u0053u004du0053u0046u0043u005fu0030u0032u0030u0033_GBXLSSR1_25600Hz_1_1755_20241117083601.dat ED2\u0000\u0000\u0000\u0000\u0000\u0000\u0000\u0000\u0000\u0000\u0000\u0000\u0000 SMSFC\u0000\u0000\u0000\u0000\u0000\u0000\u0000\u0000\u0000\u0000\u0000 0203\u0000\u0000\u0000\u0000\u0000\u0000\u0000\u0000\u0000\u0000\u0000\u0000  4.17715"
      ]
     },
     "metadata": {},
     "output_type": "display_data"
    },
    {
     "data": {
      "text/plain": [
       " 文件名 F:\\Code\\公司\\SMS203\\ED2_u0053u004du0053u0046u0043u005fu0030u0032u0030u0033_GBXLSSR1_25600Hz_1_1755_20241117113432.dat ED2\u0000\u0000\u0000\u0000\u0000\u0000\u0000\u0000\u0000\u0000\u0000\u0000\u0000 SMSFC\u0000\u0000\u0000\u0000\u0000\u0000\u0000\u0000\u0000\u0000\u0000 0203\u0000\u0000\u0000\u0000\u0000\u0000\u0000\u0000\u0000\u0000\u0000\u0000  3.10044"
      ]
     },
     "metadata": {},
     "output_type": "display_data"
    },
    {
     "data": {
      "text/plain": [
       " 文件名 F:\\Code\\公司\\SMS203\\ED2_u0053u004du0053u0046u0043u005fu0030u0032u0030u0033_GBXLSSR1_25600Hz_1_1755_20241117113433.dat ED2\u0000\u0000\u0000\u0000\u0000\u0000\u0000\u0000\u0000\u0000\u0000\u0000\u0000 SMSFC\u0000\u0000\u0000\u0000\u0000\u0000\u0000\u0000\u0000\u0000\u0000 0203\u0000\u0000\u0000\u0000\u0000\u0000\u0000\u0000\u0000\u0000\u0000\u0000  2.83749"
      ]
     },
     "metadata": {},
     "output_type": "display_data"
    },
    {
     "data": {
      "text/plain": [
       " 文件名 F:\\Code\\公司\\SMS203\\ED2_u0053u004du0053u0046u0043u005fu0030u0032u0030u0033_GBXLSSR1_25600Hz_1_1755_20241117123545.dat ED2\u0000\u0000\u0000\u0000\u0000\u0000\u0000\u0000\u0000\u0000\u0000\u0000\u0000 SMSFC\u0000\u0000\u0000\u0000\u0000\u0000\u0000\u0000\u0000\u0000\u0000 0203\u0000\u0000\u0000\u0000\u0000\u0000\u0000\u0000\u0000\u0000\u0000\u0000  5.37334"
      ]
     },
     "metadata": {},
     "output_type": "display_data"
    },
    {
     "data": {
      "text/plain": [
       " 文件名 F:\\Code\\公司\\SMS203\\ED2_u0053u004du0053u0046u0043u005fu0030u0032u0030u0033_GBXLSSR1_25600Hz_1_1755_20241117233751.dat ED2\u0000\u0000\u0000\u0000\u0000\u0000\u0000\u0000\u0000\u0000\u0000\u0000\u0000 SMSFC\u0000\u0000\u0000\u0000\u0000\u0000\u0000\u0000\u0000\u0000\u0000 0203\u0000\u0000\u0000\u0000\u0000\u0000\u0000\u0000\u0000\u0000\u0000\u0000  6.47993"
      ]
     },
     "metadata": {},
     "output_type": "display_data"
    },
    {
     "data": {
      "text/plain": [
       " 文件名 F:\\Code\\公司\\SMS203\\ED2_u0053u004du0053u0046u0043u005fu0030u0032u0030u0033_GENDEA1_25600Hz_1_0_20241117023526.dat ED2\u0000\u0000\u0000\u0000\u0000\u0000\u0000\u0000\u0000\u0000\u0000\u0000\u0000 SMSFC\u0000\u0000\u0000\u0000\u0000\u0000\u0000\u0000\u0000\u0000\u0000 0203\u0000\u0000\u0000\u0000\u0000\u0000\u0000\u0000\u0000\u0000\u0000\u0000  0.037601"
      ]
     },
     "metadata": {},
     "output_type": "display_data"
    },
    {
     "data": {
      "text/plain": [
       " 文件名 F:\\Code\\公司\\SMS203\\ED2_u0053u004du0053u0046u0043u005fu0030u0032u0030u0033_GENDEA1_25600Hz_1_0_20241117023527.dat ED2\u0000\u0000\u0000\u0000\u0000\u0000\u0000\u0000\u0000\u0000\u0000\u0000\u0000 SMSFC\u0000\u0000\u0000\u0000\u0000\u0000\u0000\u0000\u0000\u0000\u0000 0203\u0000\u0000\u0000\u0000\u0000\u0000\u0000\u0000\u0000\u0000\u0000\u0000  0.037601"
      ]
     },
     "metadata": {},
     "output_type": "display_data"
    },
    {
     "data": {
      "text/plain": [
       " 文件名 F:\\Code\\公司\\SMS203\\ED2_u0053u004du0053u0046u0043u005fu0030u0032u0030u0033_GENDEA1_25600Hz_1_1300_20241117053425.dat ED2\u0000\u0000\u0000\u0000\u0000\u0000\u0000\u0000\u0000\u0000\u0000\u0000\u0000 SMSFC\u0000\u0000\u0000\u0000\u0000\u0000\u0000\u0000\u0000\u0000\u0000 0203\u0000\u0000\u0000\u0000\u0000\u0000\u0000\u0000\u0000\u0000\u0000\u0000  2.34836"
      ]
     },
     "metadata": {},
     "output_type": "display_data"
    },
    {
     "data": {
      "text/plain": [
       " 文件名 F:\\Code\\公司\\SMS203\\ED2_u0053u004du0053u0046u0043u005fu0030u0032u0030u0033_GENDEA1_25600Hz_1_1302_20241117233757.dat ED2\u0000\u0000\u0000\u0000\u0000\u0000\u0000\u0000\u0000\u0000\u0000\u0000\u0000 SMSFC\u0000\u0000\u0000\u0000\u0000\u0000\u0000\u0000\u0000\u0000\u0000 0203\u0000\u0000\u0000\u0000\u0000\u0000\u0000\u0000\u0000\u0000\u0000\u0000  2.30718"
      ]
     },
     "metadata": {},
     "output_type": "display_data"
    },
    {
     "data": {
      "text/plain": [
       " 文件名 F:\\Code\\公司\\SMS203\\ED2_u0053u004du0053u0046u0043u005fu0030u0032u0030u0033_GENDEA1_25600Hz_1_1331_20241117073533.dat ED2\u0000\u0000\u0000\u0000\u0000\u0000\u0000\u0000\u0000\u0000\u0000\u0000\u0000 SMSFC\u0000\u0000\u0000\u0000\u0000\u0000\u0000\u0000\u0000\u0000\u0000 0203\u0000\u0000\u0000\u0000\u0000\u0000\u0000\u0000\u0000\u0000\u0000\u0000  2.35955"
      ]
     },
     "metadata": {},
     "output_type": "display_data"
    },
    {
     "data": {
      "text/plain": [
       " 文件名 F:\\Code\\公司\\SMS203\\ED2_u0053u004du0053u0046u0043u005fu0030u0032u0030u0033_GENDEA1_25600Hz_1_1418_20241117073533.dat ED2\u0000\u0000\u0000\u0000\u0000\u0000\u0000\u0000\u0000\u0000\u0000\u0000\u0000 SMSFC\u0000\u0000\u0000\u0000\u0000\u0000\u0000\u0000\u0000\u0000\u0000 0203\u0000\u0000\u0000\u0000\u0000\u0000\u0000\u0000\u0000\u0000\u0000\u0000  3.14715"
      ]
     },
     "metadata": {},
     "output_type": "display_data"
    },
    {
     "data": {
      "text/plain": [
       " 文件名 F:\\Code\\公司\\SMS203\\ED2_u0053u004du0053u0046u0043u005fu0030u0032u0030u0033_GENDEA1_25600Hz_1_1536_20241117063306.dat ED2\u0000\u0000\u0000\u0000\u0000\u0000\u0000\u0000\u0000\u0000\u0000\u0000\u0000 SMSFC\u0000\u0000\u0000\u0000\u0000\u0000\u0000\u0000\u0000\u0000\u0000 0203\u0000\u0000\u0000\u0000\u0000\u0000\u0000\u0000\u0000\u0000\u0000\u0000  3.07522"
      ]
     },
     "metadata": {},
     "output_type": "display_data"
    },
    {
     "data": {
      "text/plain": [
       " 文件名 F:\\Code\\公司\\SMS203\\ED2_u0053u004du0053u0046u0043u005fu0030u0032u0030u0033_GENDEA1_25600Hz_1_1536_20241117083605.dat ED2\u0000\u0000\u0000\u0000\u0000\u0000\u0000\u0000\u0000\u0000\u0000\u0000\u0000 SMSFC\u0000\u0000\u0000\u0000\u0000\u0000\u0000\u0000\u0000\u0000\u0000 0203\u0000\u0000\u0000\u0000\u0000\u0000\u0000\u0000\u0000\u0000\u0000\u0000  3.61942"
      ]
     },
     "metadata": {},
     "output_type": "display_data"
    },
    {
     "data": {
      "text/plain": [
       " 文件名 F:\\Code\\公司\\SMS203\\ED2_u0053u004du0053u0046u0043u005fu0030u0032u0030u0033_GENDEA1_25600Hz_1_1554_20241117013809.dat ED2\u0000\u0000\u0000\u0000\u0000\u0000\u0000\u0000\u0000\u0000\u0000\u0000\u0000 SMSFC\u0000\u0000\u0000\u0000\u0000\u0000\u0000\u0000\u0000\u0000\u0000 0203\u0000\u0000\u0000\u0000\u0000\u0000\u0000\u0000\u0000\u0000\u0000\u0000  3.1575"
      ]
     },
     "metadata": {},
     "output_type": "display_data"
    },
    {
     "data": {
      "text/plain": [
       " 文件名 F:\\Code\\公司\\SMS203\\ED2_u0053u004du0053u0046u0043u005fu0030u0032u0030u0033_GENDEA1_25600Hz_1_1554_20241117093817.dat ED2\u0000\u0000\u0000\u0000\u0000\u0000\u0000\u0000\u0000\u0000\u0000\u0000\u0000 SMSFC\u0000\u0000\u0000\u0000\u0000\u0000\u0000\u0000\u0000\u0000\u0000 0203\u0000\u0000\u0000\u0000\u0000\u0000\u0000\u0000\u0000\u0000\u0000\u0000  3.1575"
      ]
     },
     "metadata": {},
     "output_type": "display_data"
    },
    {
     "data": {
      "text/plain": [
       " 文件名 F:\\Code\\公司\\SMS203\\ED2_u0053u004du0053u0046u0043u005fu0030u0032u0030u0033_GENDEA1_25600Hz_1_1557_20241117093816.dat ED2\u0000\u0000\u0000\u0000\u0000\u0000\u0000\u0000\u0000\u0000\u0000\u0000\u0000 SMSFC\u0000\u0000\u0000\u0000\u0000\u0000\u0000\u0000\u0000\u0000\u0000 0203\u0000\u0000\u0000\u0000\u0000\u0000\u0000\u0000\u0000\u0000\u0000\u0000  3.32367"
      ]
     },
     "metadata": {},
     "output_type": "display_data"
    },
    {
     "data": {
      "text/plain": [
       " 文件名 F:\\Code\\公司\\SMS203\\ED2_u0053u004du0053u0046u0043u005fu0030u0032u0030u0033_GENDEA1_25600Hz_1_1610_20241117044119.dat ED2\u0000\u0000\u0000\u0000\u0000\u0000\u0000\u0000\u0000\u0000\u0000\u0000\u0000 SMSFC\u0000\u0000\u0000\u0000\u0000\u0000\u0000\u0000\u0000\u0000\u0000 0203\u0000\u0000\u0000\u0000\u0000\u0000\u0000\u0000\u0000\u0000\u0000\u0000  3.3591"
      ]
     },
     "metadata": {},
     "output_type": "display_data"
    },
    {
     "data": {
      "text/plain": [
       " 文件名 F:\\Code\\公司\\SMS203\\ED2_u0053u004du0053u0046u0043u005fu0030u0032u0030u0033_GENDEA1_25600Hz_1_1625_20241117003447.dat ED2\u0000\u0000\u0000\u0000\u0000\u0000\u0000\u0000\u0000\u0000\u0000\u0000\u0000 SMSFC\u0000\u0000\u0000\u0000\u0000\u0000\u0000\u0000\u0000\u0000\u0000 0203\u0000\u0000\u0000\u0000\u0000\u0000\u0000\u0000\u0000\u0000\u0000\u0000  3.49967"
      ]
     },
     "metadata": {},
     "output_type": "display_data"
    },
    {
     "data": {
      "text/plain": [
       " 文件名 F:\\Code\\公司\\SMS203\\ED2_u0053u004du0053u0046u0043u005fu0030u0032u0030u0033_GENDEA1_25600Hz_1_1634_20241117103514.dat ED2\u0000\u0000\u0000\u0000\u0000\u0000\u0000\u0000\u0000\u0000\u0000\u0000\u0000 SMSFC\u0000\u0000\u0000\u0000\u0000\u0000\u0000\u0000\u0000\u0000\u0000 0203\u0000\u0000\u0000\u0000\u0000\u0000\u0000\u0000\u0000\u0000\u0000\u0000  4.06909"
      ]
     },
     "metadata": {},
     "output_type": "display_data"
    },
    {
     "data": {
      "text/plain": [
       " 文件名 F:\\Code\\公司\\SMS203\\ED2_u0053u004du0053u0046u0043u005fu0030u0032u0030u0033_GENDEA1_25600Hz_1_1639_20241117033839.dat ED2\u0000\u0000\u0000\u0000\u0000\u0000\u0000\u0000\u0000\u0000\u0000\u0000\u0000 SMSFC\u0000\u0000\u0000\u0000\u0000\u0000\u0000\u0000\u0000\u0000\u0000 0203\u0000\u0000\u0000\u0000\u0000\u0000\u0000\u0000\u0000\u0000\u0000\u0000  3.04578"
      ]
     },
     "metadata": {},
     "output_type": "display_data"
    },
    {
     "data": {
      "text/plain": [
       " 文件名 F:\\Code\\公司\\SMS203\\ED2_u0053u004du0053u0046u0043u005fu0030u0032u0030u0033_GENDEA1_25600Hz_1_1656_20241117073532.dat ED2\u0000\u0000\u0000\u0000\u0000\u0000\u0000\u0000\u0000\u0000\u0000\u0000\u0000 SMSFC\u0000\u0000\u0000\u0000\u0000\u0000\u0000\u0000\u0000\u0000\u0000 0203\u0000\u0000\u0000\u0000\u0000\u0000\u0000\u0000\u0000\u0000\u0000\u0000  3.80563"
      ]
     },
     "metadata": {},
     "output_type": "display_data"
    },
    {
     "data": {
      "text/plain": [
       " 文件名 F:\\Code\\公司\\SMS203\\ED2_u0053u004du0053u0046u0043u005fu0030u0032u0030u0033_GENDEA1_25600Hz_1_1718_20241117053424.dat ED2\u0000\u0000\u0000\u0000\u0000\u0000\u0000\u0000\u0000\u0000\u0000\u0000\u0000 SMSFC\u0000\u0000\u0000\u0000\u0000\u0000\u0000\u0000\u0000\u0000\u0000 0203\u0000\u0000\u0000\u0000\u0000\u0000\u0000\u0000\u0000\u0000\u0000\u0000  6.67449"
      ]
     },
     "metadata": {},
     "output_type": "display_data"
    },
    {
     "data": {
      "text/plain": [
       " 文件名 F:\\Code\\公司\\SMS203\\ED2_u0053u004du0053u0046u0043u005fu0030u0032u0030u0033_GENDEA1_25600Hz_1_1737_20241117113435.dat ED2\u0000\u0000\u0000\u0000\u0000\u0000\u0000\u0000\u0000\u0000\u0000\u0000\u0000 SMSFC\u0000\u0000\u0000\u0000\u0000\u0000\u0000\u0000\u0000\u0000\u0000 0203\u0000\u0000\u0000\u0000\u0000\u0000\u0000\u0000\u0000\u0000\u0000\u0000  3.95376"
      ]
     },
     "metadata": {},
     "output_type": "display_data"
    },
    {
     "data": {
      "text/plain": [
       " 文件名 F:\\Code\\公司\\SMS203\\ED2_u0053u004du0053u0046u0043u005fu0030u0032u0030u0033_GENDEA1_25600Hz_1_1738_20241117053425.dat ED2\u0000\u0000\u0000\u0000\u0000\u0000\u0000\u0000\u0000\u0000\u0000\u0000\u0000 SMSFC\u0000\u0000\u0000\u0000\u0000\u0000\u0000\u0000\u0000\u0000\u0000 0203\u0000\u0000\u0000\u0000\u0000\u0000\u0000\u0000\u0000\u0000\u0000\u0000  7.19517"
      ]
     },
     "metadata": {},
     "output_type": "display_data"
    },
    {
     "data": {
      "text/plain": [
       " 文件名 F:\\Code\\公司\\SMS203\\ED2_u0053u004du0053u0046u0043u005fu0030u0032u0030u0033_GENDEA1_25600Hz_1_1740_20241117233757.dat ED2\u0000\u0000\u0000\u0000\u0000\u0000\u0000\u0000\u0000\u0000\u0000\u0000\u0000 SMSFC\u0000\u0000\u0000\u0000\u0000\u0000\u0000\u0000\u0000\u0000\u0000 0203\u0000\u0000\u0000\u0000\u0000\u0000\u0000\u0000\u0000\u0000\u0000\u0000  5.92527"
      ]
     },
     "metadata": {},
     "output_type": "display_data"
    },
    {
     "data": {
      "text/plain": [
       " 文件名 F:\\Code\\公司\\SMS203\\ED2_u0053u004du0053u0046u0043u005fu0030u0032u0030u0033_GENDEA1_25600Hz_1_1745_20241117103513.dat ED2\u0000\u0000\u0000\u0000\u0000\u0000\u0000\u0000\u0000\u0000\u0000\u0000\u0000 SMSFC\u0000\u0000\u0000\u0000\u0000\u0000\u0000\u0000\u0000\u0000\u0000 0203\u0000\u0000\u0000\u0000\u0000\u0000\u0000\u0000\u0000\u0000\u0000\u0000  3.84181"
      ]
     },
     "metadata": {},
     "output_type": "display_data"
    },
    {
     "data": {
      "text/plain": [
       " 文件名 F:\\Code\\公司\\SMS203\\ED2_u0053u004du0053u0046u0043u005fu0030u0032u0030u0033_GENDEA1_25600Hz_1_1749_20241117063306.dat ED2\u0000\u0000\u0000\u0000\u0000\u0000\u0000\u0000\u0000\u0000\u0000\u0000\u0000 SMSFC\u0000\u0000\u0000\u0000\u0000\u0000\u0000\u0000\u0000\u0000\u0000 0203\u0000\u0000\u0000\u0000\u0000\u0000\u0000\u0000\u0000\u0000\u0000\u0000  3.77051"
      ]
     },
     "metadata": {},
     "output_type": "display_data"
    },
    {
     "data": {
      "text/plain": [
       " 文件名 F:\\Code\\公司\\SMS203\\ED2_u0053u004du0053u0046u0043u005fu0030u0032u0030u0033_GENDEA1_25600Hz_1_1750_20241117003449.dat ED2\u0000\u0000\u0000\u0000\u0000\u0000\u0000\u0000\u0000\u0000\u0000\u0000\u0000 SMSFC\u0000\u0000\u0000\u0000\u0000\u0000\u0000\u0000\u0000\u0000\u0000 0203\u0000\u0000\u0000\u0000\u0000\u0000\u0000\u0000\u0000\u0000\u0000\u0000  3.04581"
      ]
     },
     "metadata": {},
     "output_type": "display_data"
    },
    {
     "data": {
      "text/plain": [
       " 文件名 F:\\Code\\公司\\SMS203\\ED2_u0053u004du0053u0046u0043u005fu0030u0032u0030u0033_GENDEA1_25600Hz_1_1750_20241117063305.dat ED2\u0000\u0000\u0000\u0000\u0000\u0000\u0000\u0000\u0000\u0000\u0000\u0000\u0000 SMSFC\u0000\u0000\u0000\u0000\u0000\u0000\u0000\u0000\u0000\u0000\u0000 0203\u0000\u0000\u0000\u0000\u0000\u0000\u0000\u0000\u0000\u0000\u0000\u0000  7.16813"
      ]
     },
     "metadata": {},
     "output_type": "display_data"
    },
    {
     "data": {
      "text/plain": [
       " 文件名 F:\\Code\\公司\\SMS203\\ED2_u0053u004du0053u0046u0043u005fu0030u0032u0030u0033_GENDEA1_25600Hz_1_1751_20241117083605.dat ED2\u0000\u0000\u0000\u0000\u0000\u0000\u0000\u0000\u0000\u0000\u0000\u0000\u0000 SMSFC\u0000\u0000\u0000\u0000\u0000\u0000\u0000\u0000\u0000\u0000\u0000 0203\u0000\u0000\u0000\u0000\u0000\u0000\u0000\u0000\u0000\u0000\u0000\u0000  4.5849"
      ]
     },
     "metadata": {},
     "output_type": "display_data"
    },
    {
     "data": {
      "text/plain": [
       " 文件名 F:\\Code\\公司\\SMS203\\ED2_u0053u004du0053u0046u0043u005fu0030u0032u0030u0033_GENDEA1_25600Hz_1_1751_20241117103514.dat ED2\u0000\u0000\u0000\u0000\u0000\u0000\u0000\u0000\u0000\u0000\u0000\u0000\u0000 SMSFC\u0000\u0000\u0000\u0000\u0000\u0000\u0000\u0000\u0000\u0000\u0000 0203\u0000\u0000\u0000\u0000\u0000\u0000\u0000\u0000\u0000\u0000\u0000\u0000  6.26828"
      ]
     },
     "metadata": {},
     "output_type": "display_data"
    },
    {
     "data": {
      "text/plain": [
       " 文件名 F:\\Code\\公司\\SMS203\\ED2_u0053u004du0053u0046u0043u005fu0030u0032u0030u0033_GENDEA1_25600Hz_1_1751_20241117133346.dat ED2\u0000\u0000\u0000\u0000\u0000\u0000\u0000\u0000\u0000\u0000\u0000\u0000\u0000 SMSFC\u0000\u0000\u0000\u0000\u0000\u0000\u0000\u0000\u0000\u0000\u0000 0203\u0000\u0000\u0000\u0000\u0000\u0000\u0000\u0000\u0000\u0000\u0000\u0000  6.5175"
      ]
     },
     "metadata": {},
     "output_type": "display_data"
    },
    {
     "data": {
      "text/plain": [
       " 文件名 F:\\Code\\公司\\SMS203\\ED2_u0053u004du0053u0046u0043u005fu0030u0032u0030u0033_GENDEA1_25600Hz_1_1752_20241117023524.dat ED2\u0000\u0000\u0000\u0000\u0000\u0000\u0000\u0000\u0000\u0000\u0000\u0000\u0000 SMSFC\u0000\u0000\u0000\u0000\u0000\u0000\u0000\u0000\u0000\u0000\u0000 0203\u0000\u0000\u0000\u0000\u0000\u0000\u0000\u0000\u0000\u0000\u0000\u0000  3.47838"
      ]
     },
     "metadata": {},
     "output_type": "display_data"
    },
    {
     "data": {
      "text/plain": [
       " 文件名 F:\\Code\\公司\\SMS203\\ED2_u0053u004du0053u0046u0043u005fu0030u0032u0030u0033_GENDEA1_25600Hz_1_1752_20241117083605.dat ED2\u0000\u0000\u0000\u0000\u0000\u0000\u0000\u0000\u0000\u0000\u0000\u0000\u0000 SMSFC\u0000\u0000\u0000\u0000\u0000\u0000\u0000\u0000\u0000\u0000\u0000 0203\u0000\u0000\u0000\u0000\u0000\u0000\u0000\u0000\u0000\u0000\u0000\u0000  3.87738"
      ]
     },
     "metadata": {},
     "output_type": "display_data"
    },
    {
     "data": {
      "text/plain": [
       " 文件名 F:\\Code\\公司\\SMS203\\ED2_u0053u004du0053u0046u0043u005fu0030u0032u0030u0033_GENDEA1_25600Hz_1_1752_20241117123548.dat ED2\u0000\u0000\u0000\u0000\u0000\u0000\u0000\u0000\u0000\u0000\u0000\u0000\u0000 SMSFC\u0000\u0000\u0000\u0000\u0000\u0000\u0000\u0000\u0000\u0000\u0000 0203\u0000\u0000\u0000\u0000\u0000\u0000\u0000\u0000\u0000\u0000\u0000\u0000  3.85061"
      ]
     },
     "metadata": {},
     "output_type": "display_data"
    },
    {
     "data": {
      "text/plain": [
       " 文件名 F:\\Code\\公司\\SMS203\\ED2_u0053u004du0053u0046u0043u005fu0030u0032u0030u0033_GENDEA1_25600Hz_1_1753_20241117003448.dat ED2\u0000\u0000\u0000\u0000\u0000\u0000\u0000\u0000\u0000\u0000\u0000\u0000\u0000 SMSFC\u0000\u0000\u0000\u0000\u0000\u0000\u0000\u0000\u0000\u0000\u0000 0203\u0000\u0000\u0000\u0000\u0000\u0000\u0000\u0000\u0000\u0000\u0000\u0000  7.71288"
      ]
     },
     "metadata": {},
     "output_type": "display_data"
    },
    {
     "data": {
      "text/plain": [
       " 文件名 F:\\Code\\公司\\SMS203\\ED2_u0053u004du0053u0046u0043u005fu0030u0032u0030u0033_GENDEA1_25600Hz_1_1753_20241117033840.dat ED2\u0000\u0000\u0000\u0000\u0000\u0000\u0000\u0000\u0000\u0000\u0000\u0000\u0000 SMSFC\u0000\u0000\u0000\u0000\u0000\u0000\u0000\u0000\u0000\u0000\u0000 0203\u0000\u0000\u0000\u0000\u0000\u0000\u0000\u0000\u0000\u0000\u0000\u0000  6.76199"
      ]
     },
     "metadata": {},
     "output_type": "display_data"
    },
    {
     "data": {
      "text/plain": [
       " 文件名 F:\\Code\\公司\\SMS203\\ED2_u0053u004du0053u0046u0043u005fu0030u0032u0030u0033_GENDEA1_25600Hz_1_1753_20241117063306.dat ED2\u0000\u0000\u0000\u0000\u0000\u0000\u0000\u0000\u0000\u0000\u0000\u0000\u0000 SMSFC\u0000\u0000\u0000\u0000\u0000\u0000\u0000\u0000\u0000\u0000\u0000 0203\u0000\u0000\u0000\u0000\u0000\u0000\u0000\u0000\u0000\u0000\u0000\u0000  7.00727"
      ]
     },
     "metadata": {},
     "output_type": "display_data"
    },
    {
     "data": {
      "text/plain": [
       " 文件名 F:\\Code\\公司\\SMS203\\ED2_u0053u004du0053u0046u0043u005fu0030u0032u0030u0033_GENDEA1_25600Hz_1_1753_20241117073533.dat ED2\u0000\u0000\u0000\u0000\u0000\u0000\u0000\u0000\u0000\u0000\u0000\u0000\u0000 SMSFC\u0000\u0000\u0000\u0000\u0000\u0000\u0000\u0000\u0000\u0000\u0000 0203\u0000\u0000\u0000\u0000\u0000\u0000\u0000\u0000\u0000\u0000\u0000\u0000  3.44281"
      ]
     },
     "metadata": {},
     "output_type": "display_data"
    },
    {
     "data": {
      "text/plain": [
       " 文件名 F:\\Code\\公司\\SMS203\\ED2_u0053u004du0053u0046u0043u005fu0030u0032u0030u0033_GENDEA1_25600Hz_1_1753_20241117093817.dat ED2\u0000\u0000\u0000\u0000\u0000\u0000\u0000\u0000\u0000\u0000\u0000\u0000\u0000 SMSFC\u0000\u0000\u0000\u0000\u0000\u0000\u0000\u0000\u0000\u0000\u0000 0203\u0000\u0000\u0000\u0000\u0000\u0000\u0000\u0000\u0000\u0000\u0000\u0000  5.59647"
      ]
     },
     "metadata": {},
     "output_type": "display_data"
    },
    {
     "data": {
      "text/plain": [
       " 文件名 F:\\Code\\公司\\SMS203\\ED2_u0053u004du0053u0046u0043u005fu0030u0032u0030u0033_GENDEA1_25600Hz_1_1753_20241117123550.dat ED2\u0000\u0000\u0000\u0000\u0000\u0000\u0000\u0000\u0000\u0000\u0000\u0000\u0000 SMSFC\u0000\u0000\u0000\u0000\u0000\u0000\u0000\u0000\u0000\u0000\u0000 0203\u0000\u0000\u0000\u0000\u0000\u0000\u0000\u0000\u0000\u0000\u0000\u0000  3.53214"
      ]
     },
     "metadata": {},
     "output_type": "display_data"
    },
    {
     "data": {
      "text/plain": [
       " 文件名 F:\\Code\\公司\\SMS203\\ED2_u0053u004du0053u0046u0043u005fu0030u0032u0030u0033_GENDEA1_25600Hz_1_1753_20241117133345.dat ED2\u0000\u0000\u0000\u0000\u0000\u0000\u0000\u0000\u0000\u0000\u0000\u0000\u0000 SMSFC\u0000\u0000\u0000\u0000\u0000\u0000\u0000\u0000\u0000\u0000\u0000 0203\u0000\u0000\u0000\u0000\u0000\u0000\u0000\u0000\u0000\u0000\u0000\u0000  3.95633"
      ]
     },
     "metadata": {},
     "output_type": "display_data"
    },
    {
     "data": {
      "text/plain": [
       " 文件名 F:\\Code\\公司\\SMS203\\ED2_u0053u004du0053u0046u0043u005fu0030u0032u0030u0033_GENDEA1_25600Hz_1_1754_20241117003448.dat ED2\u0000\u0000\u0000\u0000\u0000\u0000\u0000\u0000\u0000\u0000\u0000\u0000\u0000 SMSFC\u0000\u0000\u0000\u0000\u0000\u0000\u0000\u0000\u0000\u0000\u0000 0203\u0000\u0000\u0000\u0000\u0000\u0000\u0000\u0000\u0000\u0000\u0000\u0000  8.12857"
      ]
     },
     "metadata": {},
     "output_type": "display_data"
    },
    {
     "data": {
      "text/plain": [
       " 文件名 F:\\Code\\公司\\SMS203\\ED2_u0053u004du0053u0046u0043u005fu0030u0032u0030u0033_GENDEA1_25600Hz_1_1754_20241117013807.dat ED2\u0000\u0000\u0000\u0000\u0000\u0000\u0000\u0000\u0000\u0000\u0000\u0000\u0000 SMSFC\u0000\u0000\u0000\u0000\u0000\u0000\u0000\u0000\u0000\u0000\u0000 0203\u0000\u0000\u0000\u0000\u0000\u0000\u0000\u0000\u0000\u0000\u0000\u0000  3.46536"
      ]
     },
     "metadata": {},
     "output_type": "display_data"
    },
    {
     "data": {
      "text/plain": [
       " 文件名 F:\\Code\\公司\\SMS203\\ED2_u0053u004du0053u0046u0043u005fu0030u0032u0030u0033_GENDEA1_25600Hz_1_1754_20241117013809.dat ED2\u0000\u0000\u0000\u0000\u0000\u0000\u0000\u0000\u0000\u0000\u0000\u0000\u0000 SMSFC\u0000\u0000\u0000\u0000\u0000\u0000\u0000\u0000\u0000\u0000\u0000 0203\u0000\u0000\u0000\u0000\u0000\u0000\u0000\u0000\u0000\u0000\u0000\u0000  4.73212"
      ]
     },
     "metadata": {},
     "output_type": "display_data"
    },
    {
     "data": {
      "text/plain": [
       " 文件名 F:\\Code\\公司\\SMS203\\ED2_u0053u004du0053u0046u0043u005fu0030u0032u0030u0033_GENDEA1_25600Hz_1_1754_20241117023527.dat ED2\u0000\u0000\u0000\u0000\u0000\u0000\u0000\u0000\u0000\u0000\u0000\u0000\u0000 SMSFC\u0000\u0000\u0000\u0000\u0000\u0000\u0000\u0000\u0000\u0000\u0000 0203\u0000\u0000\u0000\u0000\u0000\u0000\u0000\u0000\u0000\u0000\u0000\u0000  3.61976"
      ]
     },
     "metadata": {},
     "output_type": "display_data"
    },
    {
     "data": {
      "text/plain": [
       " 文件名 F:\\Code\\公司\\SMS203\\ED2_u0053u004du0053u0046u0043u005fu0030u0032u0030u0033_GENDEA1_25600Hz_1_1754_20241117033837.dat ED2\u0000\u0000\u0000\u0000\u0000\u0000\u0000\u0000\u0000\u0000\u0000\u0000\u0000 SMSFC\u0000\u0000\u0000\u0000\u0000\u0000\u0000\u0000\u0000\u0000\u0000 0203\u0000\u0000\u0000\u0000\u0000\u0000\u0000\u0000\u0000\u0000\u0000\u0000  3.56161"
      ]
     },
     "metadata": {},
     "output_type": "display_data"
    },
    {
     "data": {
      "text/plain": [
       " 文件名 F:\\Code\\公司\\SMS203\\ED2_u0053u004du0053u0046u0043u005fu0030u0032u0030u0033_GENDEA1_25600Hz_1_1754_20241117033840.dat ED2\u0000\u0000\u0000\u0000\u0000\u0000\u0000\u0000\u0000\u0000\u0000\u0000\u0000 SMSFC\u0000\u0000\u0000\u0000\u0000\u0000\u0000\u0000\u0000\u0000\u0000 0203\u0000\u0000\u0000\u0000\u0000\u0000\u0000\u0000\u0000\u0000\u0000\u0000  3.9877"
      ]
     },
     "metadata": {},
     "output_type": "display_data"
    },
    {
     "data": {
      "text/plain": [
       " 文件名 F:\\Code\\公司\\SMS203\\ED2_u0053u004du0053u0046u0043u005fu0030u0032u0030u0033_GENDEA1_25600Hz_1_1754_20241117044120.dat ED2\u0000\u0000\u0000\u0000\u0000\u0000\u0000\u0000\u0000\u0000\u0000\u0000\u0000 SMSFC\u0000\u0000\u0000\u0000\u0000\u0000\u0000\u0000\u0000\u0000\u0000 0203\u0000\u0000\u0000\u0000\u0000\u0000\u0000\u0000\u0000\u0000\u0000\u0000  4.62119"
      ]
     },
     "metadata": {},
     "output_type": "display_data"
    },
    {
     "data": {
      "text/plain": [
       " 文件名 F:\\Code\\公司\\SMS203\\ED2_u0053u004du0053u0046u0043u005fu0030u0032u0030u0033_GENDEA1_25600Hz_1_1754_20241117053424.dat ED2\u0000\u0000\u0000\u0000\u0000\u0000\u0000\u0000\u0000\u0000\u0000\u0000\u0000 SMSFC\u0000\u0000\u0000\u0000\u0000\u0000\u0000\u0000\u0000\u0000\u0000 0203\u0000\u0000\u0000\u0000\u0000\u0000\u0000\u0000\u0000\u0000\u0000\u0000  2.87731"
      ]
     },
     "metadata": {},
     "output_type": "display_data"
    },
    {
     "data": {
      "text/plain": [
       " 文件名 F:\\Code\\公司\\SMS203\\ED2_u0053u004du0053u0046u0043u005fu0030u0032u0030u0033_GENDEA1_25600Hz_1_1754_20241117063306.dat ED2\u0000\u0000\u0000\u0000\u0000\u0000\u0000\u0000\u0000\u0000\u0000\u0000\u0000 SMSFC\u0000\u0000\u0000\u0000\u0000\u0000\u0000\u0000\u0000\u0000\u0000 0203\u0000\u0000\u0000\u0000\u0000\u0000\u0000\u0000\u0000\u0000\u0000\u0000  3.9877"
      ]
     },
     "metadata": {},
     "output_type": "display_data"
    },
    {
     "data": {
      "text/plain": [
       " 文件名 F:\\Code\\公司\\SMS203\\ED2_u0053u004du0053u0046u0043u005fu0030u0032u0030u0033_GENDEA1_25600Hz_1_1754_20241117073533.dat ED2\u0000\u0000\u0000\u0000\u0000\u0000\u0000\u0000\u0000\u0000\u0000\u0000\u0000 SMSFC\u0000\u0000\u0000\u0000\u0000\u0000\u0000\u0000\u0000\u0000\u0000 0203\u0000\u0000\u0000\u0000\u0000\u0000\u0000\u0000\u0000\u0000\u0000\u0000  6.94673"
      ]
     },
     "metadata": {},
     "output_type": "display_data"
    },
    {
     "data": {
      "text/plain": [
       " 文件名 F:\\Code\\公司\\SMS203\\ED2_u0053u004du0053u0046u0043u005fu0030u0032u0030u0033_GENDEA1_25600Hz_1_1754_20241117083604.dat ED2\u0000\u0000\u0000\u0000\u0000\u0000\u0000\u0000\u0000\u0000\u0000\u0000\u0000 SMSFC\u0000\u0000\u0000\u0000\u0000\u0000\u0000\u0000\u0000\u0000\u0000 0203\u0000\u0000\u0000\u0000\u0000\u0000\u0000\u0000\u0000\u0000\u0000\u0000  3.49024"
      ]
     },
     "metadata": {},
     "output_type": "display_data"
    },
    {
     "data": {
      "text/plain": [
       " 文件名 F:\\Code\\公司\\SMS203\\ED2_u0053u004du0053u0046u0043u005fu0030u0032u0030u0033_GENDEA1_25600Hz_1_1754_20241117093816.dat ED2\u0000\u0000\u0000\u0000\u0000\u0000\u0000\u0000\u0000\u0000\u0000\u0000\u0000 SMSFC\u0000\u0000\u0000\u0000\u0000\u0000\u0000\u0000\u0000\u0000\u0000 0203\u0000\u0000\u0000\u0000\u0000\u0000\u0000\u0000\u0000\u0000\u0000\u0000  2.87731"
      ]
     },
     "metadata": {},
     "output_type": "display_data"
    },
    {
     "data": {
      "text/plain": [
       " 文件名 F:\\Code\\公司\\SMS203\\ED2_u0053u004du0053u0046u0043u005fu0030u0032u0030u0033_GENDEA1_25600Hz_1_1754_20241117103514.dat ED2\u0000\u0000\u0000\u0000\u0000\u0000\u0000\u0000\u0000\u0000\u0000\u0000\u0000 SMSFC\u0000\u0000\u0000\u0000\u0000\u0000\u0000\u0000\u0000\u0000\u0000 0203\u0000\u0000\u0000\u0000\u0000\u0000\u0000\u0000\u0000\u0000\u0000\u0000  7.27728"
      ]
     },
     "metadata": {},
     "output_type": "display_data"
    },
    {
     "data": {
      "text/plain": [
       " 文件名 F:\\Code\\公司\\SMS203\\ED2_u0053u004du0053u0046u0043u005fu0030u0032u0030u0033_GENDEA1_25600Hz_1_1754_20241117113436.dat ED2\u0000\u0000\u0000\u0000\u0000\u0000\u0000\u0000\u0000\u0000\u0000\u0000\u0000 SMSFC\u0000\u0000\u0000\u0000\u0000\u0000\u0000\u0000\u0000\u0000\u0000 0203\u0000\u0000\u0000\u0000\u0000\u0000\u0000\u0000\u0000\u0000\u0000\u0000  3.77585"
      ]
     },
     "metadata": {},
     "output_type": "display_data"
    },
    {
     "data": {
      "text/plain": [
       " 文件名 F:\\Code\\公司\\SMS203\\ED2_u0053u004du0053u0046u0043u005fu0030u0032u0030u0033_GENDEA1_25600Hz_1_1754_20241117123549.dat ED2\u0000\u0000\u0000\u0000\u0000\u0000\u0000\u0000\u0000\u0000\u0000\u0000\u0000 SMSFC\u0000\u0000\u0000\u0000\u0000\u0000\u0000\u0000\u0000\u0000\u0000 0203\u0000\u0000\u0000\u0000\u0000\u0000\u0000\u0000\u0000\u0000\u0000\u0000  7.62077"
      ]
     },
     "metadata": {},
     "output_type": "display_data"
    },
    {
     "data": {
      "text/plain": [
       " 文件名 F:\\Code\\公司\\SMS203\\ED2_u0053u004du0053u0046u0043u005fu0030u0032u0030u0033_GENDEA1_25600Hz_1_1754_20241117123550.dat ED2\u0000\u0000\u0000\u0000\u0000\u0000\u0000\u0000\u0000\u0000\u0000\u0000\u0000 SMSFC\u0000\u0000\u0000\u0000\u0000\u0000\u0000\u0000\u0000\u0000\u0000 0203\u0000\u0000\u0000\u0000\u0000\u0000\u0000\u0000\u0000\u0000\u0000\u0000  7.27728"
      ]
     },
     "metadata": {},
     "output_type": "display_data"
    },
    {
     "data": {
      "text/plain": [
       " 文件名 F:\\Code\\公司\\SMS203\\ED2_u0053u004du0053u0046u0043u005fu0030u0032u0030u0033_GENDEA1_25600Hz_1_1754_20241117133346.dat ED2\u0000\u0000\u0000\u0000\u0000\u0000\u0000\u0000\u0000\u0000\u0000\u0000\u0000 SMSFC\u0000\u0000\u0000\u0000\u0000\u0000\u0000\u0000\u0000\u0000\u0000 0203\u0000\u0000\u0000\u0000\u0000\u0000\u0000\u0000\u0000\u0000\u0000\u0000  4.62119"
      ]
     },
     "metadata": {},
     "output_type": "display_data"
    },
    {
     "data": {
      "text/plain": [
       " 文件名 F:\\Code\\公司\\SMS203\\ED2_u0053u004du0053u0046u0043u005fu0030u0032u0030u0033_GENDEA1_25600Hz_1_1754_20241117233755.dat ED2\u0000\u0000\u0000\u0000\u0000\u0000\u0000\u0000\u0000\u0000\u0000\u0000\u0000 SMSFC\u0000\u0000\u0000\u0000\u0000\u0000\u0000\u0000\u0000\u0000\u0000 0203\u0000\u0000\u0000\u0000\u0000\u0000\u0000\u0000\u0000\u0000\u0000\u0000  7.60999"
      ]
     },
     "metadata": {},
     "output_type": "display_data"
    },
    {
     "data": {
      "text/plain": [
       " 文件名 F:\\Code\\公司\\SMS203\\ED2_u0053u004du0053u0046u0043u005fu0030u0032u0030u0033_GENDEA1_25600Hz_1_1755_20241117003448.dat ED2\u0000\u0000\u0000\u0000\u0000\u0000\u0000\u0000\u0000\u0000\u0000\u0000\u0000 SMSFC\u0000\u0000\u0000\u0000\u0000\u0000\u0000\u0000\u0000\u0000\u0000 0203\u0000\u0000\u0000\u0000\u0000\u0000\u0000\u0000\u0000\u0000\u0000\u0000  3.15518"
      ]
     },
     "metadata": {},
     "output_type": "display_data"
    },
    {
     "data": {
      "text/plain": [
       " 文件名 F:\\Code\\公司\\SMS203\\ED2_u0053u004du0053u0046u0043u005fu0030u0032u0030u0033_GENDEA1_25600Hz_1_1755_20241117013809.dat ED2\u0000\u0000\u0000\u0000\u0000\u0000\u0000\u0000\u0000\u0000\u0000\u0000\u0000 SMSFC\u0000\u0000\u0000\u0000\u0000\u0000\u0000\u0000\u0000\u0000\u0000 0203\u0000\u0000\u0000\u0000\u0000\u0000\u0000\u0000\u0000\u0000\u0000\u0000  7.08625"
      ]
     },
     "metadata": {},
     "output_type": "display_data"
    },
    {
     "data": {
      "text/plain": [
       " 文件名 F:\\Code\\公司\\SMS203\\ED2_u0053u004du0053u0046u0043u005fu0030u0032u0030u0033_GENDEA1_25600Hz_1_1755_20241117023527.dat ED2\u0000\u0000\u0000\u0000\u0000\u0000\u0000\u0000\u0000\u0000\u0000\u0000\u0000 SMSFC\u0000\u0000\u0000\u0000\u0000\u0000\u0000\u0000\u0000\u0000\u0000 0203\u0000\u0000\u0000\u0000\u0000\u0000\u0000\u0000\u0000\u0000\u0000\u0000  7.15128"
      ]
     },
     "metadata": {},
     "output_type": "display_data"
    },
    {
     "data": {
      "text/plain": [
       " 文件名 F:\\Code\\公司\\SMS203\\ED2_u0053u004du0053u0046u0043u005fu0030u0032u0030u0033_GENDEA1_25600Hz_1_1755_20241117033840.dat ED2\u0000\u0000\u0000\u0000\u0000\u0000\u0000\u0000\u0000\u0000\u0000\u0000\u0000 SMSFC\u0000\u0000\u0000\u0000\u0000\u0000\u0000\u0000\u0000\u0000\u0000 0203\u0000\u0000\u0000\u0000\u0000\u0000\u0000\u0000\u0000\u0000\u0000\u0000  3.0082"
      ]
     },
     "metadata": {},
     "output_type": "display_data"
    },
    {
     "data": {
      "text/plain": [
       " 文件名 F:\\Code\\公司\\SMS203\\ED2_u0053u004du0053u0046u0043u005fu0030u0032u0030u0033_GENDEA1_25600Hz_1_1755_20241117083605.dat ED2\u0000\u0000\u0000\u0000\u0000\u0000\u0000\u0000\u0000\u0000\u0000\u0000\u0000 SMSFC\u0000\u0000\u0000\u0000\u0000\u0000\u0000\u0000\u0000\u0000\u0000 0203\u0000\u0000\u0000\u0000\u0000\u0000\u0000\u0000\u0000\u0000\u0000\u0000  3.35672"
      ]
     },
     "metadata": {},
     "output_type": "display_data"
    },
    {
     "data": {
      "text/plain": [
       " 文件名 F:\\Code\\公司\\SMS203\\ED2_u0053u004du0053u0046u0043u005fu0030u0032u0030u0033_GENDEA1_25600Hz_1_1755_20241117093816.dat ED2\u0000\u0000\u0000\u0000\u0000\u0000\u0000\u0000\u0000\u0000\u0000\u0000\u0000 SMSFC\u0000\u0000\u0000\u0000\u0000\u0000\u0000\u0000\u0000\u0000\u0000 0203\u0000\u0000\u0000\u0000\u0000\u0000\u0000\u0000\u0000\u0000\u0000\u0000  6.87172"
      ]
     },
     "metadata": {},
     "output_type": "display_data"
    },
    {
     "data": {
      "text/plain": [
       " 文件名 F:\\Code\\公司\\SMS203\\ED2_u0053u004du0053u0046u0043u005fu0030u0032u0030u0033_GENDEA1_25600Hz_1_1755_20241117113435.dat ED2\u0000\u0000\u0000\u0000\u0000\u0000\u0000\u0000\u0000\u0000\u0000\u0000\u0000 SMSFC\u0000\u0000\u0000\u0000\u0000\u0000\u0000\u0000\u0000\u0000\u0000 0203\u0000\u0000\u0000\u0000\u0000\u0000\u0000\u0000\u0000\u0000\u0000\u0000  3.42797"
      ]
     },
     "metadata": {},
     "output_type": "display_data"
    },
    {
     "data": {
      "text/plain": [
       " 文件名 F:\\Code\\公司\\SMS203\\ED2_u0053u004du0053u0046u0043u005fu0030u0032u0030u0033_GENDEA1_25600Hz_1_1755_20241117133346.dat ED2\u0000\u0000\u0000\u0000\u0000\u0000\u0000\u0000\u0000\u0000\u0000\u0000\u0000 SMSFC\u0000\u0000\u0000\u0000\u0000\u0000\u0000\u0000\u0000\u0000\u0000 0203\u0000\u0000\u0000\u0000\u0000\u0000\u0000\u0000\u0000\u0000\u0000\u0000  6.77502"
      ]
     },
     "metadata": {},
     "output_type": "display_data"
    },
    {
     "data": {
      "text/plain": [
       " 文件名 F:\\Code\\公司\\SMS203\\ED2_u0053u004du0053u0046u0043u005fu0030u0032u0030u0033_GENDEA1_25600Hz_1_1755_20241117233757.dat ED2\u0000\u0000\u0000\u0000\u0000\u0000\u0000\u0000\u0000\u0000\u0000\u0000\u0000 SMSFC\u0000\u0000\u0000\u0000\u0000\u0000\u0000\u0000\u0000\u0000\u0000 0203\u0000\u0000\u0000\u0000\u0000\u0000\u0000\u0000\u0000\u0000\u0000\u0000  6.77502"
      ]
     },
     "metadata": {},
     "output_type": "display_data"
    },
    {
     "data": {
      "text/plain": [
       " 文件名 F:\\Code\\公司\\SMS203\\ED2_u0053u004du0053u0046u0043u005fu0030u0032u0030u0033_GENDEA1_25600Hz_1_1756_20241117044119.dat ED2\u0000\u0000\u0000\u0000\u0000\u0000\u0000\u0000\u0000\u0000\u0000\u0000\u0000 SMSFC\u0000\u0000\u0000\u0000\u0000\u0000\u0000\u0000\u0000\u0000\u0000 0203\u0000\u0000\u0000\u0000\u0000\u0000\u0000\u0000\u0000\u0000\u0000\u0000  3.28107"
      ]
     },
     "metadata": {},
     "output_type": "display_data"
    },
    {
     "data": {
      "text/plain": [
       " 文件名 F:\\Code\\公司\\SMS203\\ED2_u0053u004du0053u0046u0043u005fu0030u0032u0030u0033_GENDEA1_25600Hz_1_1756_20241117053423.dat ED2\u0000\u0000\u0000\u0000\u0000\u0000\u0000\u0000\u0000\u0000\u0000\u0000\u0000 SMSFC\u0000\u0000\u0000\u0000\u0000\u0000\u0000\u0000\u0000\u0000\u0000 0203\u0000\u0000\u0000\u0000\u0000\u0000\u0000\u0000\u0000\u0000\u0000\u0000  3.71626"
      ]
     },
     "metadata": {},
     "output_type": "display_data"
    },
    {
     "data": {
      "text/plain": [
       " 文件名 F:\\Code\\公司\\SMS203\\ED2_u0053u004du0053u0046u0043u005fu0030u0032u0030u0033_GENDEA1_25600Hz_1_1757_20241117113436.dat ED2\u0000\u0000\u0000\u0000\u0000\u0000\u0000\u0000\u0000\u0000\u0000\u0000\u0000 SMSFC\u0000\u0000\u0000\u0000\u0000\u0000\u0000\u0000\u0000\u0000\u0000 0203\u0000\u0000\u0000\u0000\u0000\u0000\u0000\u0000\u0000\u0000\u0000\u0000  5.60436"
      ]
     },
     "metadata": {},
     "output_type": "display_data"
    },
    {
     "data": {
      "text/plain": [
       " 文件名 F:\\Code\\公司\\SMS203\\ED2_u0053u004du0053u0046u0043u005fu0030u0032u0030u0033_GENDER1_25600Hz_1_1076_20241117233758.dat ED2\u0000\u0000\u0000\u0000\u0000\u0000\u0000\u0000\u0000\u0000\u0000\u0000\u0000 SMSFC\u0000\u0000\u0000\u0000\u0000\u0000\u0000\u0000\u0000\u0000\u0000 0203\u0000\u0000\u0000\u0000\u0000\u0000\u0000\u0000\u0000\u0000\u0000\u0000  3.75041"
      ]
     },
     "metadata": {},
     "output_type": "display_data"
    },
    {
     "data": {
      "text/plain": [
       " 文件名 F:\\Code\\公司\\SMS203\\ED2_u0053u004du0053u0046u0043u005fu0030u0032u0030u0033_GENDER1_25600Hz_1_1214_20241117093817.dat ED2\u0000\u0000\u0000\u0000\u0000\u0000\u0000\u0000\u0000\u0000\u0000\u0000\u0000 SMSFC\u0000\u0000\u0000\u0000\u0000\u0000\u0000\u0000\u0000\u0000\u0000 0203\u0000\u0000\u0000\u0000\u0000\u0000\u0000\u0000\u0000\u0000\u0000\u0000  4.71198"
      ]
     },
     "metadata": {},
     "output_type": "display_data"
    },
    {
     "data": {
      "text/plain": [
       " 文件名 F:\\Code\\公司\\SMS203\\ED2_u0053u004du0053u0046u0043u005fu0030u0032u0030u0033_GENDER1_25600Hz_1_1300_20241117093819.dat ED2\u0000\u0000\u0000\u0000\u0000\u0000\u0000\u0000\u0000\u0000\u0000\u0000\u0000 SMSFC\u0000\u0000\u0000\u0000\u0000\u0000\u0000\u0000\u0000\u0000\u0000 0203\u0000\u0000\u0000\u0000\u0000\u0000\u0000\u0000\u0000\u0000\u0000\u0000  3.73293"
      ]
     },
     "metadata": {},
     "output_type": "display_data"
    },
    {
     "data": {
      "text/plain": [
       " 文件名 F:\\Code\\公司\\SMS203\\ED2_u0053u004du0053u0046u0043u005fu0030u0032u0030u0033_GENDER1_25600Hz_1_1425_20241117033842.dat ED2\u0000\u0000\u0000\u0000\u0000\u0000\u0000\u0000\u0000\u0000\u0000\u0000\u0000 SMSFC\u0000\u0000\u0000\u0000\u0000\u0000\u0000\u0000\u0000\u0000\u0000 0203\u0000\u0000\u0000\u0000\u0000\u0000\u0000\u0000\u0000\u0000\u0000\u0000  5.86397"
      ]
     },
     "metadata": {},
     "output_type": "display_data"
    },
    {
     "data": {
      "text/plain": [
       " 文件名 F:\\Code\\公司\\SMS203\\ED2_u0053u004du0053u0046u0043u005fu0030u0032u0030u0033_GENDER1_25600Hz_1_1448_20241117063307.dat ED2\u0000\u0000\u0000\u0000\u0000\u0000\u0000\u0000\u0000\u0000\u0000\u0000\u0000 SMSFC\u0000\u0000\u0000\u0000\u0000\u0000\u0000\u0000\u0000\u0000\u0000 0203\u0000\u0000\u0000\u0000\u0000\u0000\u0000\u0000\u0000\u0000\u0000\u0000  6.09566"
      ]
     },
     "metadata": {},
     "output_type": "display_data"
    },
    {
     "data": {
      "text/plain": [
       " 文件名 F:\\Code\\公司\\SMS203\\ED2_u0053u004du0053u0046u0043u005fu0030u0032u0030u0033_GENDER1_25600Hz_1_1453_20241117003450.dat ED2\u0000\u0000\u0000\u0000\u0000\u0000\u0000\u0000\u0000\u0000\u0000\u0000\u0000 SMSFC\u0000\u0000\u0000\u0000\u0000\u0000\u0000\u0000\u0000\u0000\u0000 0203\u0000\u0000\u0000\u0000\u0000\u0000\u0000\u0000\u0000\u0000\u0000\u0000  4.89081"
      ]
     },
     "metadata": {},
     "output_type": "display_data"
    },
    {
     "data": {
      "text/plain": [
       " 文件名 F:\\Code\\公司\\SMS203\\ED2_u0053u004du0053u0046u0043u005fu0030u0032u0030u0033_GENDER1_25600Hz_1_1539_20241117233759.dat ED2\u0000\u0000\u0000\u0000\u0000\u0000\u0000\u0000\u0000\u0000\u0000\u0000\u0000 SMSFC\u0000\u0000\u0000\u0000\u0000\u0000\u0000\u0000\u0000\u0000\u0000 0203\u0000\u0000\u0000\u0000\u0000\u0000\u0000\u0000\u0000\u0000\u0000\u0000  5.96839"
      ]
     },
     "metadata": {},
     "output_type": "display_data"
    },
    {
     "data": {
      "text/plain": [
       " 文件名 F:\\Code\\公司\\SMS203\\ED2_u0053u004du0053u0046u0043u005fu0030u0032u0030u0033_GENDER1_25600Hz_1_1549_20241117053426.dat ED2\u0000\u0000\u0000\u0000\u0000\u0000\u0000\u0000\u0000\u0000\u0000\u0000\u0000 SMSFC\u0000\u0000\u0000\u0000\u0000\u0000\u0000\u0000\u0000\u0000\u0000 0203\u0000\u0000\u0000\u0000\u0000\u0000\u0000\u0000\u0000\u0000\u0000\u0000  8.6827"
      ]
     },
     "metadata": {},
     "output_type": "display_data"
    },
    {
     "data": {
      "text/plain": [
       " 文件名 F:\\Code\\公司\\SMS203\\ED2_u0053u004du0053u0046u0043u005fu0030u0032u0030u0033_GENDER1_25600Hz_1_1581_20241117003450.dat ED2\u0000\u0000\u0000\u0000\u0000\u0000\u0000\u0000\u0000\u0000\u0000\u0000\u0000 SMSFC\u0000\u0000\u0000\u0000\u0000\u0000\u0000\u0000\u0000\u0000\u0000 0203\u0000\u0000\u0000\u0000\u0000\u0000\u0000\u0000\u0000\u0000\u0000\u0000  5.88723"
      ]
     },
     "metadata": {},
     "output_type": "display_data"
    },
    {
     "data": {
      "text/plain": [
       " 文件名 F:\\Code\\公司\\SMS203\\ED2_u0053u004du0053u0046u0043u005fu0030u0032u0030u0033_GENDER1_25600Hz_1_1604_20241117044122.dat ED2\u0000\u0000\u0000\u0000\u0000\u0000\u0000\u0000\u0000\u0000\u0000\u0000\u0000 SMSFC\u0000\u0000\u0000\u0000\u0000\u0000\u0000\u0000\u0000\u0000\u0000 0203\u0000\u0000\u0000\u0000\u0000\u0000\u0000\u0000\u0000\u0000\u0000\u0000  5.61808"
      ]
     },
     "metadata": {},
     "output_type": "display_data"
    },
    {
     "data": {
      "text/plain": [
       " 文件名 F:\\Code\\公司\\SMS203\\ED2_u0053u004du0053u0046u0043u005fu0030u0032u0030u0033_GENDER1_25600Hz_1_1604_20241117053427.dat ED2\u0000\u0000\u0000\u0000\u0000\u0000\u0000\u0000\u0000\u0000\u0000\u0000\u0000 SMSFC\u0000\u0000\u0000\u0000\u0000\u0000\u0000\u0000\u0000\u0000\u0000 0203\u0000\u0000\u0000\u0000\u0000\u0000\u0000\u0000\u0000\u0000\u0000\u0000  5.61808"
      ]
     },
     "metadata": {},
     "output_type": "display_data"
    },
    {
     "data": {
      "text/plain": [
       " 文件名 F:\\Code\\公司\\SMS203\\ED2_u0053u004du0053u0046u0043u005fu0030u0032u0030u0033_GENDER1_25600Hz_1_1634_20241117113438.dat ED2\u0000\u0000\u0000\u0000\u0000\u0000\u0000\u0000\u0000\u0000\u0000\u0000\u0000 SMSFC\u0000\u0000\u0000\u0000\u0000\u0000\u0000\u0000\u0000\u0000\u0000 0203\u0000\u0000\u0000\u0000\u0000\u0000\u0000\u0000\u0000\u0000\u0000\u0000  5.23012"
      ]
     },
     "metadata": {},
     "output_type": "display_data"
    },
    {
     "data": {
      "text/plain": [
       " 文件名 F:\\Code\\公司\\SMS203\\ED2_u0053u004du0053u0046u0043u005fu0030u0032u0030u0033_GENDER1_25600Hz_1_1636_20241117003449.dat ED2\u0000\u0000\u0000\u0000\u0000\u0000\u0000\u0000\u0000\u0000\u0000\u0000\u0000 SMSFC\u0000\u0000\u0000\u0000\u0000\u0000\u0000\u0000\u0000\u0000\u0000 0203\u0000\u0000\u0000\u0000\u0000\u0000\u0000\u0000\u0000\u0000\u0000\u0000  5.07887"
      ]
     },
     "metadata": {},
     "output_type": "display_data"
    },
    {
     "data": {
      "text/plain": [
       " 文件名 F:\\Code\\公司\\SMS203\\ED2_u0053u004du0053u0046u0043u005fu0030u0032u0030u0033_GENDER1_25600Hz_1_1646_20241117044121.dat ED2\u0000\u0000\u0000\u0000\u0000\u0000\u0000\u0000\u0000\u0000\u0000\u0000\u0000 SMSFC\u0000\u0000\u0000\u0000\u0000\u0000\u0000\u0000\u0000\u0000\u0000 0203\u0000\u0000\u0000\u0000\u0000\u0000\u0000\u0000\u0000\u0000\u0000\u0000  4.75293"
      ]
     },
     "metadata": {},
     "output_type": "display_data"
    },
    {
     "data": {
      "text/plain": [
       " 文件名 F:\\Code\\公司\\SMS203\\ED2_u0053u004du0053u0046u0043u005fu0030u0032u0030u0033_GENDER1_25600Hz_1_1666_20241117013810.dat ED2\u0000\u0000\u0000\u0000\u0000\u0000\u0000\u0000\u0000\u0000\u0000\u0000\u0000 SMSFC\u0000\u0000\u0000\u0000\u0000\u0000\u0000\u0000\u0000\u0000\u0000 0203\u0000\u0000\u0000\u0000\u0000\u0000\u0000\u0000\u0000\u0000\u0000\u0000  5.03324"
      ]
     },
     "metadata": {},
     "output_type": "display_data"
    },
    {
     "data": {
      "text/plain": [
       " 文件名 F:\\Code\\公司\\SMS203\\ED2_u0053u004du0053u0046u0043u005fu0030u0032u0030u0033_GENDER1_25600Hz_1_1670_20241117123550.dat ED2\u0000\u0000\u0000\u0000\u0000\u0000\u0000\u0000\u0000\u0000\u0000\u0000\u0000 SMSFC\u0000\u0000\u0000\u0000\u0000\u0000\u0000\u0000\u0000\u0000\u0000 0203\u0000\u0000\u0000\u0000\u0000\u0000\u0000\u0000\u0000\u0000\u0000\u0000  4.09694"
      ]
     },
     "metadata": {},
     "output_type": "display_data"
    },
    {
     "data": {
      "text/plain": [
       " 文件名 F:\\Code\\公司\\SMS203\\ED2_u0053u004du0053u0046u0043u005fu0030u0032u0030u0033_GENDER1_25600Hz_1_1718_20241117044122.dat ED2\u0000\u0000\u0000\u0000\u0000\u0000\u0000\u0000\u0000\u0000\u0000\u0000\u0000 SMSFC\u0000\u0000\u0000\u0000\u0000\u0000\u0000\u0000\u0000\u0000\u0000 0203\u0000\u0000\u0000\u0000\u0000\u0000\u0000\u0000\u0000\u0000\u0000\u0000  11.2845"
      ]
     },
     "metadata": {},
     "output_type": "display_data"
    },
    {
     "data": {
      "text/plain": [
       " 文件名 F:\\Code\\公司\\SMS203\\ED2_u0053u004du0053u0046u0043u005fu0030u0032u0030u0033_GENDER1_25600Hz_1_1723_20241117073535.dat ED2\u0000\u0000\u0000\u0000\u0000\u0000\u0000\u0000\u0000\u0000\u0000\u0000\u0000 SMSFC\u0000\u0000\u0000\u0000\u0000\u0000\u0000\u0000\u0000\u0000\u0000 0203\u0000\u0000\u0000\u0000\u0000\u0000\u0000\u0000\u0000\u0000\u0000\u0000  9.30451"
      ]
     },
     "metadata": {},
     "output_type": "display_data"
    },
    {
     "data": {
      "text/plain": [
       " 文件名 F:\\Code\\公司\\SMS203\\ED2_u0053u004du0053u0046u0043u005fu0030u0032u0030u0033_GENDER1_25600Hz_1_1723_20241117103516.dat ED2\u0000\u0000\u0000\u0000\u0000\u0000\u0000\u0000\u0000\u0000\u0000\u0000\u0000 SMSFC\u0000\u0000\u0000\u0000\u0000\u0000\u0000\u0000\u0000\u0000\u0000 0203\u0000\u0000\u0000\u0000\u0000\u0000\u0000\u0000\u0000\u0000\u0000\u0000  9.30451"
      ]
     },
     "metadata": {},
     "output_type": "display_data"
    },
    {
     "data": {
      "text/plain": [
       " 文件名 F:\\Code\\公司\\SMS203\\ED2_u0053u004du0053u0046u0043u005fu0030u0032u0030u0033_GENDER1_25600Hz_1_1731_20241117073535.dat ED2\u0000\u0000\u0000\u0000\u0000\u0000\u0000\u0000\u0000\u0000\u0000\u0000\u0000 SMSFC\u0000\u0000\u0000\u0000\u0000\u0000\u0000\u0000\u0000\u0000\u0000 0203\u0000\u0000\u0000\u0000\u0000\u0000\u0000\u0000\u0000\u0000\u0000\u0000  6.68038"
      ]
     },
     "metadata": {},
     "output_type": "display_data"
    },
    {
     "data": {
      "text/plain": [
       " 文件名 F:\\Code\\公司\\SMS203\\ED2_u0053u004du0053u0046u0043u005fu0030u0032u0030u0033_GENDER1_25600Hz_1_1735_20241117044122.dat ED2\u0000\u0000\u0000\u0000\u0000\u0000\u0000\u0000\u0000\u0000\u0000\u0000\u0000 SMSFC\u0000\u0000\u0000\u0000\u0000\u0000\u0000\u0000\u0000\u0000\u0000 0203\u0000\u0000\u0000\u0000\u0000\u0000\u0000\u0000\u0000\u0000\u0000\u0000  7.38615"
      ]
     },
     "metadata": {},
     "output_type": "display_data"
    },
    {
     "data": {
      "text/plain": [
       " 文件名 F:\\Code\\公司\\SMS203\\ED2_u0053u004du0053u0046u0043u005fu0030u0032u0030u0033_GENDER1_25600Hz_1_1738_20241117233758.dat ED2\u0000\u0000\u0000\u0000\u0000\u0000\u0000\u0000\u0000\u0000\u0000\u0000\u0000 SMSFC\u0000\u0000\u0000\u0000\u0000\u0000\u0000\u0000\u0000\u0000\u0000 0203\u0000\u0000\u0000\u0000\u0000\u0000\u0000\u0000\u0000\u0000\u0000\u0000  13.1598"
      ]
     },
     "metadata": {},
     "output_type": "display_data"
    },
    {
     "data": {
      "text/plain": [
       " 文件名 F:\\Code\\公司\\SMS203\\ED2_u0053u004du0053u0046u0043u005fu0030u0032u0030u0033_GENDER1_25600Hz_1_1739_20241117023532.dat ED2\u0000\u0000\u0000\u0000\u0000\u0000\u0000\u0000\u0000\u0000\u0000\u0000\u0000 SMSFC\u0000\u0000\u0000\u0000\u0000\u0000\u0000\u0000\u0000\u0000\u0000 0203\u0000\u0000\u0000\u0000\u0000\u0000\u0000\u0000\u0000\u0000\u0000\u0000  8.25338"
      ]
     },
     "metadata": {},
     "output_type": "display_data"
    },
    {
     "data": {
      "text/plain": [
       " 文件名 F:\\Code\\公司\\SMS203\\ED2_u0053u004du0053u0046u0043u005fu0030u0032u0030u0033_GENDER1_25600Hz_1_1746_20241117033843.dat ED2\u0000\u0000\u0000\u0000\u0000\u0000\u0000\u0000\u0000\u0000\u0000\u0000\u0000 SMSFC\u0000\u0000\u0000\u0000\u0000\u0000\u0000\u0000\u0000\u0000\u0000 0203\u0000\u0000\u0000\u0000\u0000\u0000\u0000\u0000\u0000\u0000\u0000\u0000  8.2342"
      ]
     },
     "metadata": {},
     "output_type": "display_data"
    },
    {
     "data": {
      "text/plain": [
       " 文件名 F:\\Code\\公司\\SMS203\\ED2_u0053u004du0053u0046u0043u005fu0030u0032u0030u0033_GENDER1_25600Hz_1_1751_20241117063308.dat ED2\u0000\u0000\u0000\u0000\u0000\u0000\u0000\u0000\u0000\u0000\u0000\u0000\u0000 SMSFC\u0000\u0000\u0000\u0000\u0000\u0000\u0000\u0000\u0000\u0000\u0000 0203\u0000\u0000\u0000\u0000\u0000\u0000\u0000\u0000\u0000\u0000\u0000\u0000  9.98256"
      ]
     },
     "metadata": {},
     "output_type": "display_data"
    },
    {
     "data": {
      "text/plain": [
       " 文件名 F:\\Code\\公司\\SMS203\\ED2_u0053u004du0053u0046u0043u005fu0030u0032u0030u0033_GENDER1_25600Hz_1_1751_20241117083607.dat ED2\u0000\u0000\u0000\u0000\u0000\u0000\u0000\u0000\u0000\u0000\u0000\u0000\u0000 SMSFC\u0000\u0000\u0000\u0000\u0000\u0000\u0000\u0000\u0000\u0000\u0000 0203\u0000\u0000\u0000\u0000\u0000\u0000\u0000\u0000\u0000\u0000\u0000\u0000  5.84087"
      ]
     },
     "metadata": {},
     "output_type": "display_data"
    },
    {
     "data": {
      "text/plain": [
       " 文件名 F:\\Code\\公司\\SMS203\\ED2_u0053u004du0053u0046u0043u005fu0030u0032u0030u0033_GENDER1_25600Hz_1_1751_20241117093818.dat ED2\u0000\u0000\u0000\u0000\u0000\u0000\u0000\u0000\u0000\u0000\u0000\u0000\u0000 SMSFC\u0000\u0000\u0000\u0000\u0000\u0000\u0000\u0000\u0000\u0000\u0000 0203\u0000\u0000\u0000\u0000\u0000\u0000\u0000\u0000\u0000\u0000\u0000\u0000  6.53751"
      ]
     },
     "metadata": {},
     "output_type": "display_data"
    },
    {
     "data": {
      "text/plain": [
       " 文件名 F:\\Code\\公司\\SMS203\\ED2_u0053u004du0053u0046u0043u005fu0030u0032u0030u0033_GENDER1_25600Hz_1_1752_20241117023533.dat ED2\u0000\u0000\u0000\u0000\u0000\u0000\u0000\u0000\u0000\u0000\u0000\u0000\u0000 SMSFC\u0000\u0000\u0000\u0000\u0000\u0000\u0000\u0000\u0000\u0000\u0000 0203\u0000\u0000\u0000\u0000\u0000\u0000\u0000\u0000\u0000\u0000\u0000\u0000  5.92307"
      ]
     },
     "metadata": {},
     "output_type": "display_data"
    },
    {
     "data": {
      "text/plain": [
       " 文件名 F:\\Code\\公司\\SMS203\\ED2_u0053u004du0053u0046u0043u005fu0030u0032u0030u0033_GENDER1_25600Hz_1_1752_20241117093818.dat ED2\u0000\u0000\u0000\u0000\u0000\u0000\u0000\u0000\u0000\u0000\u0000\u0000\u0000 SMSFC\u0000\u0000\u0000\u0000\u0000\u0000\u0000\u0000\u0000\u0000\u0000 0203\u0000\u0000\u0000\u0000\u0000\u0000\u0000\u0000\u0000\u0000\u0000\u0000  6.84939"
      ]
     },
     "metadata": {},
     "output_type": "display_data"
    },
    {
     "data": {
      "text/plain": [
       " 文件名 F:\\Code\\公司\\SMS203\\ED2_u0053u004du0053u0046u0043u005fu0030u0032u0030u0033_GENDER1_25600Hz_1_1752_20241117103515.dat ED2\u0000\u0000\u0000\u0000\u0000\u0000\u0000\u0000\u0000\u0000\u0000\u0000\u0000 SMSFC\u0000\u0000\u0000\u0000\u0000\u0000\u0000\u0000\u0000\u0000\u0000 0203\u0000\u0000\u0000\u0000\u0000\u0000\u0000\u0000\u0000\u0000\u0000\u0000  8.77536"
      ]
     },
     "metadata": {},
     "output_type": "display_data"
    },
    {
     "data": {
      "text/plain": [
       " 文件名 F:\\Code\\公司\\SMS203\\ED2_u0053u004du0053u0046u0043u005fu0030u0032u0030u0033_GENDER1_25600Hz_1_1752_20241117233759.dat ED2\u0000\u0000\u0000\u0000\u0000\u0000\u0000\u0000\u0000\u0000\u0000\u0000\u0000 SMSFC\u0000\u0000\u0000\u0000\u0000\u0000\u0000\u0000\u0000\u0000\u0000 0203\u0000\u0000\u0000\u0000\u0000\u0000\u0000\u0000\u0000\u0000\u0000\u0000  10.9165"
      ]
     },
     "metadata": {},
     "output_type": "display_data"
    },
    {
     "data": {
      "text/plain": [
       " 文件名 F:\\Code\\公司\\SMS203\\ED2_u0053u004du0053u0046u0043u005fu0030u0032u0030u0033_GENDER1_25600Hz_1_1753_20241117023528.dat ED2\u0000\u0000\u0000\u0000\u0000\u0000\u0000\u0000\u0000\u0000\u0000\u0000\u0000 SMSFC\u0000\u0000\u0000\u0000\u0000\u0000\u0000\u0000\u0000\u0000\u0000 0203\u0000\u0000\u0000\u0000\u0000\u0000\u0000\u0000\u0000\u0000\u0000\u0000  6.81155"
      ]
     },
     "metadata": {},
     "output_type": "display_data"
    },
    {
     "data": {
      "text/plain": [
       " 文件名 F:\\Code\\公司\\SMS203\\ED2_u0053u004du0053u0046u0043u005fu0030u0032u0030u0033_GENDER1_25600Hz_1_1753_20241117063308.dat ED2\u0000\u0000\u0000\u0000\u0000\u0000\u0000\u0000\u0000\u0000\u0000\u0000\u0000 SMSFC\u0000\u0000\u0000\u0000\u0000\u0000\u0000\u0000\u0000\u0000\u0000 0203\u0000\u0000\u0000\u0000\u0000\u0000\u0000\u0000\u0000\u0000\u0000\u0000  11.4721"
      ]
     },
     "metadata": {},
     "output_type": "display_data"
    },
    {
     "data": {
      "text/plain": [
       " 文件名 F:\\Code\\公司\\SMS203\\ED2_u0053u004du0053u0046u0043u005fu0030u0032u0030u0033_GENDER1_25600Hz_1_1753_20241117073534.dat ED2\u0000\u0000\u0000\u0000\u0000\u0000\u0000\u0000\u0000\u0000\u0000\u0000\u0000 SMSFC\u0000\u0000\u0000\u0000\u0000\u0000\u0000\u0000\u0000\u0000\u0000 0203\u0000\u0000\u0000\u0000\u0000\u0000\u0000\u0000\u0000\u0000\u0000\u0000  13.7913"
      ]
     },
     "metadata": {},
     "output_type": "display_data"
    },
    {
     "data": {
      "text/plain": [
       " 文件名 F:\\Code\\公司\\SMS203\\ED2_u0053u004du0053u0046u0043u005fu0030u0032u0030u0033_GENDER1_25600Hz_1_1753_20241117073535.dat ED2\u0000\u0000\u0000\u0000\u0000\u0000\u0000\u0000\u0000\u0000\u0000\u0000\u0000 SMSFC\u0000\u0000\u0000\u0000\u0000\u0000\u0000\u0000\u0000\u0000\u0000 0203\u0000\u0000\u0000\u0000\u0000\u0000\u0000\u0000\u0000\u0000\u0000\u0000  5.94555"
      ]
     },
     "metadata": {},
     "output_type": "display_data"
    },
    {
     "data": {
      "text/plain": [
       " 文件名 F:\\Code\\公司\\SMS203\\ED2_u0053u004du0053u0046u0043u005fu0030u0032u0030u0033_GENDER1_25600Hz_1_1753_20241117083607.dat ED2\u0000\u0000\u0000\u0000\u0000\u0000\u0000\u0000\u0000\u0000\u0000\u0000\u0000 SMSFC\u0000\u0000\u0000\u0000\u0000\u0000\u0000\u0000\u0000\u0000\u0000 0203\u0000\u0000\u0000\u0000\u0000\u0000\u0000\u0000\u0000\u0000\u0000\u0000  12.8351"
      ]
     },
     "metadata": {},
     "output_type": "display_data"
    },
    {
     "data": {
      "text/plain": [
       " 文件名 F:\\Code\\公司\\SMS203\\ED2_u0053u004du0053u0046u0043u005fu0030u0032u0030u0033_GENDER1_25600Hz_1_1753_20241117113438.dat ED2\u0000\u0000\u0000\u0000\u0000\u0000\u0000\u0000\u0000\u0000\u0000\u0000\u0000 SMSFC\u0000\u0000\u0000\u0000\u0000\u0000\u0000\u0000\u0000\u0000\u0000 0203\u0000\u0000\u0000\u0000\u0000\u0000\u0000\u0000\u0000\u0000\u0000\u0000  13.9819"
      ]
     },
     "metadata": {},
     "output_type": "display_data"
    },
    {
     "data": {
      "text/plain": [
       " 文件名 F:\\Code\\公司\\SMS203\\ED2_u0053u004du0053u0046u0043u005fu0030u0032u0030u0033_GENDER1_25600Hz_1_1754_20241117003451.dat ED2\u0000\u0000\u0000\u0000\u0000\u0000\u0000\u0000\u0000\u0000\u0000\u0000\u0000 SMSFC\u0000\u0000\u0000\u0000\u0000\u0000\u0000\u0000\u0000\u0000\u0000 0203\u0000\u0000\u0000\u0000\u0000\u0000\u0000\u0000\u0000\u0000\u0000\u0000  12.3472"
      ]
     },
     "metadata": {},
     "output_type": "display_data"
    },
    {
     "data": {
      "text/plain": [
       " 文件名 F:\\Code\\公司\\SMS203\\ED2_u0053u004du0053u0046u0043u005fu0030u0032u0030u0033_GENDER1_25600Hz_1_1754_20241117013811.dat ED2\u0000\u0000\u0000\u0000\u0000\u0000\u0000\u0000\u0000\u0000\u0000\u0000\u0000 SMSFC\u0000\u0000\u0000\u0000\u0000\u0000\u0000\u0000\u0000\u0000\u0000 0203\u0000\u0000\u0000\u0000\u0000\u0000\u0000\u0000\u0000\u0000\u0000\u0000  13.7715"
      ]
     },
     "metadata": {},
     "output_type": "display_data"
    },
    {
     "data": {
      "text/plain": [
       " 文件名 F:\\Code\\公司\\SMS203\\ED2_u0053u004du0053u0046u0043u005fu0030u0032u0030u0033_GENDER1_25600Hz_1_1754_20241117033841.dat ED2\u0000\u0000\u0000\u0000\u0000\u0000\u0000\u0000\u0000\u0000\u0000\u0000\u0000 SMSFC\u0000\u0000\u0000\u0000\u0000\u0000\u0000\u0000\u0000\u0000\u0000 0203\u0000\u0000\u0000\u0000\u0000\u0000\u0000\u0000\u0000\u0000\u0000\u0000  5.85632"
      ]
     },
     "metadata": {},
     "output_type": "display_data"
    },
    {
     "data": {
      "text/plain": [
       " 文件名 F:\\Code\\公司\\SMS203\\ED2_u0053u004du0053u0046u0043u005fu0030u0032u0030u0033_GENDER1_25600Hz_1_1754_20241117033843.dat ED2\u0000\u0000\u0000\u0000\u0000\u0000\u0000\u0000\u0000\u0000\u0000\u0000\u0000 SMSFC\u0000\u0000\u0000\u0000\u0000\u0000\u0000\u0000\u0000\u0000\u0000 0203\u0000\u0000\u0000\u0000\u0000\u0000\u0000\u0000\u0000\u0000\u0000\u0000  4.96124"
      ]
     },
     "metadata": {},
     "output_type": "display_data"
    },
    {
     "data": {
      "text/plain": [
       " 文件名 F:\\Code\\公司\\SMS203\\ED2_u0053u004du0053u0046u0043u005fu0030u0032u0030u0033_GENDER1_25600Hz_1_1754_20241117044122.dat ED2\u0000\u0000\u0000\u0000\u0000\u0000\u0000\u0000\u0000\u0000\u0000\u0000\u0000 SMSFC\u0000\u0000\u0000\u0000\u0000\u0000\u0000\u0000\u0000\u0000\u0000 0203\u0000\u0000\u0000\u0000\u0000\u0000\u0000\u0000\u0000\u0000\u0000\u0000  5.5258"
      ]
     },
     "metadata": {},
     "output_type": "display_data"
    },
    {
     "data": {
      "text/plain": [
       " 文件名 F:\\Code\\公司\\SMS203\\ED2_u0053u004du0053u0046u0043u005fu0030u0032u0030u0033_GENDER1_25600Hz_1_1754_20241117053427.dat ED2\u0000\u0000\u0000\u0000\u0000\u0000\u0000\u0000\u0000\u0000\u0000\u0000\u0000 SMSFC\u0000\u0000\u0000\u0000\u0000\u0000\u0000\u0000\u0000\u0000\u0000 0203\u0000\u0000\u0000\u0000\u0000\u0000\u0000\u0000\u0000\u0000\u0000\u0000  6.14925"
      ]
     },
     "metadata": {},
     "output_type": "display_data"
    },
    {
     "data": {
      "text/plain": [
       " 文件名 F:\\Code\\公司\\SMS203\\ED2_u0053u004du0053u0046u0043u005fu0030u0032u0030u0033_GENDER1_25600Hz_1_1754_20241117063308.dat ED2\u0000\u0000\u0000\u0000\u0000\u0000\u0000\u0000\u0000\u0000\u0000\u0000\u0000 SMSFC\u0000\u0000\u0000\u0000\u0000\u0000\u0000\u0000\u0000\u0000\u0000 0203\u0000\u0000\u0000\u0000\u0000\u0000\u0000\u0000\u0000\u0000\u0000\u0000  6.05083"
      ]
     },
     "metadata": {},
     "output_type": "display_data"
    },
    {
     "data": {
      "text/plain": [
       " 文件名 F:\\Code\\公司\\SMS203\\ED2_u0053u004du0053u0046u0043u005fu0030u0032u0030u0033_GENDER1_25600Hz_1_1754_20241117083606.dat ED2\u0000\u0000\u0000\u0000\u0000\u0000\u0000\u0000\u0000\u0000\u0000\u0000\u0000 SMSFC\u0000\u0000\u0000\u0000\u0000\u0000\u0000\u0000\u0000\u0000\u0000 0203\u0000\u0000\u0000\u0000\u0000\u0000\u0000\u0000\u0000\u0000\u0000\u0000  5.91194"
      ]
     },
     "metadata": {},
     "output_type": "display_data"
    },
    {
     "data": {
      "text/plain": [
       " 文件名 F:\\Code\\公司\\SMS203\\ED2_u0053u004du0053u0046u0043u005fu0030u0032u0030u0033_GENDER1_25600Hz_1_1754_20241117083607.dat ED2\u0000\u0000\u0000\u0000\u0000\u0000\u0000\u0000\u0000\u0000\u0000\u0000\u0000 SMSFC\u0000\u0000\u0000\u0000\u0000\u0000\u0000\u0000\u0000\u0000\u0000 0203\u0000\u0000\u0000\u0000\u0000\u0000\u0000\u0000\u0000\u0000\u0000\u0000  6.50006"
      ]
     },
     "metadata": {},
     "output_type": "display_data"
    },
    {
     "data": {
      "text/plain": [
       " 文件名 F:\\Code\\公司\\SMS203\\ED2_u0053u004du0053u0046u0043u005fu0030u0032u0030u0033_GENDER1_25600Hz_1_1754_20241117083608.dat ED2\u0000\u0000\u0000\u0000\u0000\u0000\u0000\u0000\u0000\u0000\u0000\u0000\u0000 SMSFC\u0000\u0000\u0000\u0000\u0000\u0000\u0000\u0000\u0000\u0000\u0000 0203\u0000\u0000\u0000\u0000\u0000\u0000\u0000\u0000\u0000\u0000\u0000\u0000  5.59316"
      ]
     },
     "metadata": {},
     "output_type": "display_data"
    },
    {
     "data": {
      "text/plain": [
       " 文件名 F:\\Code\\公司\\SMS203\\ED2_u0053u004du0053u0046u0043u005fu0030u0032u0030u0033_GENDER1_25600Hz_1_1754_20241117093818.dat ED2\u0000\u0000\u0000\u0000\u0000\u0000\u0000\u0000\u0000\u0000\u0000\u0000\u0000 SMSFC\u0000\u0000\u0000\u0000\u0000\u0000\u0000\u0000\u0000\u0000\u0000 0203\u0000\u0000\u0000\u0000\u0000\u0000\u0000\u0000\u0000\u0000\u0000\u0000  5.88232"
      ]
     },
     "metadata": {},
     "output_type": "display_data"
    },
    {
     "data": {
      "text/plain": [
       " 文件名 F:\\Code\\公司\\SMS203\\ED2_u0053u004du0053u0046u0043u005fu0030u0032u0030u0033_GENDER1_25600Hz_1_1754_20241117103516.dat ED2\u0000\u0000\u0000\u0000\u0000\u0000\u0000\u0000\u0000\u0000\u0000\u0000\u0000 SMSFC\u0000\u0000\u0000\u0000\u0000\u0000\u0000\u0000\u0000\u0000\u0000 0203\u0000\u0000\u0000\u0000\u0000\u0000\u0000\u0000\u0000\u0000\u0000\u0000  5.91698"
      ]
     },
     "metadata": {},
     "output_type": "display_data"
    },
    {
     "data": {
      "text/plain": [
       " 文件名 F:\\Code\\公司\\SMS203\\ED2_u0053u004du0053u0046u0043u005fu0030u0032u0030u0033_GENDER1_25600Hz_1_1754_20241117113437.dat ED2\u0000\u0000\u0000\u0000\u0000\u0000\u0000\u0000\u0000\u0000\u0000\u0000\u0000 SMSFC\u0000\u0000\u0000\u0000\u0000\u0000\u0000\u0000\u0000\u0000\u0000 0203\u0000\u0000\u0000\u0000\u0000\u0000\u0000\u0000\u0000\u0000\u0000\u0000  13.0679"
      ]
     },
     "metadata": {},
     "output_type": "display_data"
    },
    {
     "data": {
      "text/plain": [
       " 文件名 F:\\Code\\公司\\SMS203\\ED2_u0053u004du0053u0046u0043u005fu0030u0032u0030u0033_GENDER1_25600Hz_1_1754_20241117113438.dat ED2\u0000\u0000\u0000\u0000\u0000\u0000\u0000\u0000\u0000\u0000\u0000\u0000\u0000 SMSFC\u0000\u0000\u0000\u0000\u0000\u0000\u0000\u0000\u0000\u0000\u0000 0203\u0000\u0000\u0000\u0000\u0000\u0000\u0000\u0000\u0000\u0000\u0000\u0000  5.70958"
      ]
     },
     "metadata": {},
     "output_type": "display_data"
    },
    {
     "data": {
      "text/plain": [
       " 文件名 F:\\Code\\公司\\SMS203\\ED2_u0053u004du0053u0046u0043u005fu0030u0032u0030u0033_GENDER1_25600Hz_1_1754_20241117123552.dat ED2\u0000\u0000\u0000\u0000\u0000\u0000\u0000\u0000\u0000\u0000\u0000\u0000\u0000 SMSFC\u0000\u0000\u0000\u0000\u0000\u0000\u0000\u0000\u0000\u0000\u0000 0203\u0000\u0000\u0000\u0000\u0000\u0000\u0000\u0000\u0000\u0000\u0000\u0000  5.99851"
      ]
     },
     "metadata": {},
     "output_type": "display_data"
    },
    {
     "data": {
      "text/plain": [
       " 文件名 F:\\Code\\公司\\SMS203\\ED2_u0053u004du0053u0046u0043u005fu0030u0032u0030u0033_GENDER1_25600Hz_1_1754_20241117123553.dat ED2\u0000\u0000\u0000\u0000\u0000\u0000\u0000\u0000\u0000\u0000\u0000\u0000\u0000 SMSFC\u0000\u0000\u0000\u0000\u0000\u0000\u0000\u0000\u0000\u0000\u0000 0203\u0000\u0000\u0000\u0000\u0000\u0000\u0000\u0000\u0000\u0000\u0000\u0000  5.0614"
      ]
     },
     "metadata": {},
     "output_type": "display_data"
    },
    {
     "data": {
      "text/plain": [
       " 文件名 F:\\Code\\公司\\SMS203\\ED2_u0053u004du0053u0046u0043u005fu0030u0032u0030u0033_GENDER1_25600Hz_1_1754_20241117133347.dat ED2\u0000\u0000\u0000\u0000\u0000\u0000\u0000\u0000\u0000\u0000\u0000\u0000\u0000 SMSFC\u0000\u0000\u0000\u0000\u0000\u0000\u0000\u0000\u0000\u0000\u0000 0203\u0000\u0000\u0000\u0000\u0000\u0000\u0000\u0000\u0000\u0000\u0000\u0000  5.75276"
      ]
     },
     "metadata": {},
     "output_type": "display_data"
    },
    {
     "data": {
      "text/plain": [
       " 文件名 F:\\Code\\公司\\SMS203\\ED2_u0053u004du0053u0046u0043u005fu0030u0032u0030u0033_GENDER1_25600Hz_1_1754_20241117133348.dat ED2\u0000\u0000\u0000\u0000\u0000\u0000\u0000\u0000\u0000\u0000\u0000\u0000\u0000 SMSFC\u0000\u0000\u0000\u0000\u0000\u0000\u0000\u0000\u0000\u0000\u0000 0203\u0000\u0000\u0000\u0000\u0000\u0000\u0000\u0000\u0000\u0000\u0000\u0000  5.75484"
      ]
     },
     "metadata": {},
     "output_type": "display_data"
    },
    {
     "data": {
      "text/plain": [
       " 文件名 F:\\Code\\公司\\SMS203\\ED2_u0053u004du0053u0046u0043u005fu0030u0032u0030u0033_GENDER1_25600Hz_1_1754_20241117233757.dat ED2\u0000\u0000\u0000\u0000\u0000\u0000\u0000\u0000\u0000\u0000\u0000\u0000\u0000 SMSFC\u0000\u0000\u0000\u0000\u0000\u0000\u0000\u0000\u0000\u0000\u0000 0203\u0000\u0000\u0000\u0000\u0000\u0000\u0000\u0000\u0000\u0000\u0000\u0000  10.6113"
      ]
     },
     "metadata": {},
     "output_type": "display_data"
    },
    {
     "data": {
      "text/plain": [
       " 文件名 F:\\Code\\公司\\SMS203\\ED2_u0053u004du0053u0046u0043u005fu0030u0032u0030u0033_GENDER1_25600Hz_1_1755_20241117003451.dat ED2\u0000\u0000\u0000\u0000\u0000\u0000\u0000\u0000\u0000\u0000\u0000\u0000\u0000 SMSFC\u0000\u0000\u0000\u0000\u0000\u0000\u0000\u0000\u0000\u0000\u0000 0203\u0000\u0000\u0000\u0000\u0000\u0000\u0000\u0000\u0000\u0000\u0000\u0000  14.5079"
      ]
     },
     "metadata": {},
     "output_type": "display_data"
    },
    {
     "data": {
      "text/plain": [
       " 文件名 F:\\Code\\公司\\SMS203\\ED2_u0053u004du0053u0046u0043u005fu0030u0032u0030u0033_GENDER1_25600Hz_1_1755_20241117013809.dat ED2\u0000\u0000\u0000\u0000\u0000\u0000\u0000\u0000\u0000\u0000\u0000\u0000\u0000 SMSFC\u0000\u0000\u0000\u0000\u0000\u0000\u0000\u0000\u0000\u0000\u0000 0203\u0000\u0000\u0000\u0000\u0000\u0000\u0000\u0000\u0000\u0000\u0000\u0000  5.69121"
      ]
     },
     "metadata": {},
     "output_type": "display_data"
    },
    {
     "data": {
      "text/plain": [
       " 文件名 F:\\Code\\公司\\SMS203\\ED2_u0053u004du0053u0046u0043u005fu0030u0032u0030u0033_GENDER1_25600Hz_1_1755_20241117013811.dat ED2\u0000\u0000\u0000\u0000\u0000\u0000\u0000\u0000\u0000\u0000\u0000\u0000\u0000 SMSFC\u0000\u0000\u0000\u0000\u0000\u0000\u0000\u0000\u0000\u0000\u0000 0203\u0000\u0000\u0000\u0000\u0000\u0000\u0000\u0000\u0000\u0000\u0000\u0000  5.56817"
      ]
     },
     "metadata": {},
     "output_type": "display_data"
    },
    {
     "data": {
      "text/plain": [
       " 文件名 F:\\Code\\公司\\SMS203\\ED2_u0053u004du0053u0046u0043u005fu0030u0032u0030u0033_GENDER1_25600Hz_1_1755_20241117023531.dat ED2\u0000\u0000\u0000\u0000\u0000\u0000\u0000\u0000\u0000\u0000\u0000\u0000\u0000 SMSFC\u0000\u0000\u0000\u0000\u0000\u0000\u0000\u0000\u0000\u0000\u0000 0203\u0000\u0000\u0000\u0000\u0000\u0000\u0000\u0000\u0000\u0000\u0000\u0000  5.41264"
      ]
     },
     "metadata": {},
     "output_type": "display_data"
    },
    {
     "data": {
      "text/plain": [
       " 文件名 F:\\Code\\公司\\SMS203\\ED2_u0053u004du0053u0046u0043u005fu0030u0032u0030u0033_GENDER1_25600Hz_1_1755_20241117053425.dat ED2\u0000\u0000\u0000\u0000\u0000\u0000\u0000\u0000\u0000\u0000\u0000\u0000\u0000 SMSFC\u0000\u0000\u0000\u0000\u0000\u0000\u0000\u0000\u0000\u0000\u0000 0203\u0000\u0000\u0000\u0000\u0000\u0000\u0000\u0000\u0000\u0000\u0000\u0000  6.0314"
      ]
     },
     "metadata": {},
     "output_type": "display_data"
    },
    {
     "data": {
      "text/plain": [
       " 文件名 F:\\Code\\公司\\SMS203\\ED2_u0053u004du0053u0046u0043u005fu0030u0032u0030u0033_GENDER1_25600Hz_1_1755_20241117053427.dat ED2\u0000\u0000\u0000\u0000\u0000\u0000\u0000\u0000\u0000\u0000\u0000\u0000\u0000 SMSFC\u0000\u0000\u0000\u0000\u0000\u0000\u0000\u0000\u0000\u0000\u0000 0203\u0000\u0000\u0000\u0000\u0000\u0000\u0000\u0000\u0000\u0000\u0000\u0000  5.75272"
      ]
     },
     "metadata": {},
     "output_type": "display_data"
    },
    {
     "data": {
      "text/plain": [
       " 文件名 F:\\Code\\公司\\SMS203\\ED2_u0053u004du0053u0046u0043u005fu0030u0032u0030u0033_GENDER1_25600Hz_1_1755_20241117063309.dat ED2\u0000\u0000\u0000\u0000\u0000\u0000\u0000\u0000\u0000\u0000\u0000\u0000\u0000 SMSFC\u0000\u0000\u0000\u0000\u0000\u0000\u0000\u0000\u0000\u0000\u0000 0203\u0000\u0000\u0000\u0000\u0000\u0000\u0000\u0000\u0000\u0000\u0000\u0000  5.95245"
      ]
     },
     "metadata": {},
     "output_type": "display_data"
    },
    {
     "data": {
      "text/plain": [
       " 文件名 F:\\Code\\公司\\SMS203\\ED2_u0053u004du0053u0046u0043u005fu0030u0032u0030u0033_GENDER1_25600Hz_1_1755_20241117073535.dat ED2\u0000\u0000\u0000\u0000\u0000\u0000\u0000\u0000\u0000\u0000\u0000\u0000\u0000 SMSFC\u0000\u0000\u0000\u0000\u0000\u0000\u0000\u0000\u0000\u0000\u0000 0203\u0000\u0000\u0000\u0000\u0000\u0000\u0000\u0000\u0000\u0000\u0000\u0000  5.41264"
      ]
     },
     "metadata": {},
     "output_type": "display_data"
    },
    {
     "data": {
      "text/plain": [
       " 文件名 F:\\Code\\公司\\SMS203\\ED2_u0053u004du0053u0046u0043u005fu0030u0032u0030u0033_GENDER1_25600Hz_1_1755_20241117103515.dat ED2\u0000\u0000\u0000\u0000\u0000\u0000\u0000\u0000\u0000\u0000\u0000\u0000\u0000 SMSFC\u0000\u0000\u0000\u0000\u0000\u0000\u0000\u0000\u0000\u0000\u0000 0203\u0000\u0000\u0000\u0000\u0000\u0000\u0000\u0000\u0000\u0000\u0000\u0000  5.72749"
      ]
     },
     "metadata": {},
     "output_type": "display_data"
    },
    {
     "data": {
      "text/plain": [
       " 文件名 F:\\Code\\公司\\SMS203\\ED2_u0053u004du0053u0046u0043u005fu0030u0032u0030u0033_GENDER1_25600Hz_1_1755_20241117123553.dat ED2\u0000\u0000\u0000\u0000\u0000\u0000\u0000\u0000\u0000\u0000\u0000\u0000\u0000 SMSFC\u0000\u0000\u0000\u0000\u0000\u0000\u0000\u0000\u0000\u0000\u0000 0203\u0000\u0000\u0000\u0000\u0000\u0000\u0000\u0000\u0000\u0000\u0000\u0000  5.69121"
      ]
     },
     "metadata": {},
     "output_type": "display_data"
    },
    {
     "data": {
      "text/plain": [
       " 文件名 F:\\Code\\公司\\SMS203\\ED2_u0053u004du0053u0046u0043u005fu0030u0032u0030u0033_GENDER1_25600Hz_1_1755_20241117133347.dat ED2\u0000\u0000\u0000\u0000\u0000\u0000\u0000\u0000\u0000\u0000\u0000\u0000\u0000 SMSFC\u0000\u0000\u0000\u0000\u0000\u0000\u0000\u0000\u0000\u0000\u0000 0203\u0000\u0000\u0000\u0000\u0000\u0000\u0000\u0000\u0000\u0000\u0000\u0000  6.22869"
      ]
     },
     "metadata": {},
     "output_type": "display_data"
    },
    {
     "data": {
      "text/plain": [
       " 文件名 F:\\Code\\公司\\SMS203\\ED2_u0053u004du0053u0046u0043u005fu0030u0032u0030u0033_GENDER1_25600Hz_1_1756_20241117033844.dat ED2\u0000\u0000\u0000\u0000\u0000\u0000\u0000\u0000\u0000\u0000\u0000\u0000\u0000 SMSFC\u0000\u0000\u0000\u0000\u0000\u0000\u0000\u0000\u0000\u0000\u0000 0203\u0000\u0000\u0000\u0000\u0000\u0000\u0000\u0000\u0000\u0000\u0000\u0000  5.03159"
      ]
     },
     "metadata": {},
     "output_type": "display_data"
    },
    {
     "data": {
      "text/plain": [
       " 文件名 F:\\Code\\公司\\SMS203\\ED2_u0053u004du0053u0046u0043u005fu0030u0032u0030u0033_GENDER1_25600Hz_1_1756_20241117113438.dat ED2\u0000\u0000\u0000\u0000\u0000\u0000\u0000\u0000\u0000\u0000\u0000\u0000\u0000 SMSFC\u0000\u0000\u0000\u0000\u0000\u0000\u0000\u0000\u0000\u0000\u0000 0203\u0000\u0000\u0000\u0000\u0000\u0000\u0000\u0000\u0000\u0000\u0000\u0000  5.03159"
      ]
     },
     "metadata": {},
     "output_type": "display_data"
    },
    {
     "data": {
      "text/plain": [
       " 文件名 F:\\Code\\公司\\SMS203\\ED2_u0053u004du0053u0046u0043u005fu0030u0032u0030u0033_GENNDER1_25600Hz_1_1064_20241117003453.dat ED2\u0000\u0000\u0000\u0000\u0000\u0000\u0000\u0000\u0000\u0000\u0000\u0000\u0000 SMSFC\u0000\u0000\u0000\u0000\u0000\u0000\u0000\u0000\u0000\u0000\u0000 0203\u0000\u0000\u0000\u0000\u0000\u0000\u0000\u0000\u0000\u0000\u0000\u0000  3.93128"
      ]
     },
     "metadata": {},
     "output_type": "display_data"
    },
    {
     "data": {
      "text/plain": [
       " 文件名 F:\\Code\\公司\\SMS203\\ED2_u0053u004du0053u0046u0043u005fu0030u0032u0030u0033_GENNDER1_25600Hz_1_1193_20241117053428.dat ED2\u0000\u0000\u0000\u0000\u0000\u0000\u0000\u0000\u0000\u0000\u0000\u0000\u0000 SMSFC\u0000\u0000\u0000\u0000\u0000\u0000\u0000\u0000\u0000\u0000\u0000 0203\u0000\u0000\u0000\u0000\u0000\u0000\u0000\u0000\u0000\u0000\u0000\u0000  2.91459"
      ]
     },
     "metadata": {},
     "output_type": "display_data"
    },
    {
     "data": {
      "text/plain": [
       " 文件名 F:\\Code\\公司\\SMS203\\ED2_u0053u004du0053u0046u0043u005fu0030u0032u0030u0033_GENNDER1_25600Hz_1_1193_20241117093821.dat ED2\u0000\u0000\u0000\u0000\u0000\u0000\u0000\u0000\u0000\u0000\u0000\u0000\u0000 SMSFC\u0000\u0000\u0000\u0000\u0000\u0000\u0000\u0000\u0000\u0000\u0000 0203\u0000\u0000\u0000\u0000\u0000\u0000\u0000\u0000\u0000\u0000\u0000\u0000  2.91459"
      ]
     },
     "metadata": {},
     "output_type": "display_data"
    },
    {
     "data": {
      "text/plain": [
       " 文件名 F:\\Code\\公司\\SMS203\\ED2_u0053u004du0053u0046u0043u005fu0030u0032u0030u0033_GENNDER1_25600Hz_1_1349_20241117123555.dat ED2\u0000\u0000\u0000\u0000\u0000\u0000\u0000\u0000\u0000\u0000\u0000\u0000\u0000 SMSFC\u0000\u0000\u0000\u0000\u0000\u0000\u0000\u0000\u0000\u0000\u0000 0203\u0000\u0000\u0000\u0000\u0000\u0000\u0000\u0000\u0000\u0000\u0000\u0000  3.92124"
      ]
     },
     "metadata": {},
     "output_type": "display_data"
    },
    {
     "data": {
      "text/plain": [
       " 文件名 F:\\Code\\公司\\SMS203\\ED2_u0053u004du0053u0046u0043u005fu0030u0032u0030u0033_GENNDER1_25600Hz_1_1352_20241117133348.dat ED2\u0000\u0000\u0000\u0000\u0000\u0000\u0000\u0000\u0000\u0000\u0000\u0000\u0000 SMSFC\u0000\u0000\u0000\u0000\u0000\u0000\u0000\u0000\u0000\u0000\u0000 0203\u0000\u0000\u0000\u0000\u0000\u0000\u0000\u0000\u0000\u0000\u0000\u0000  2.98588"
      ]
     },
     "metadata": {},
     "output_type": "display_data"
    },
    {
     "data": {
      "text/plain": [
       " 文件名 F:\\Code\\公司\\SMS203\\ED2_u0053u004du0053u0046u0043u005fu0030u0032u0030u0033_GENNDER1_25600Hz_1_1369_20241117013813.dat ED2\u0000\u0000\u0000\u0000\u0000\u0000\u0000\u0000\u0000\u0000\u0000\u0000\u0000 SMSFC\u0000\u0000\u0000\u0000\u0000\u0000\u0000\u0000\u0000\u0000\u0000 0203\u0000\u0000\u0000\u0000\u0000\u0000\u0000\u0000\u0000\u0000\u0000\u0000  3.13238"
      ]
     },
     "metadata": {},
     "output_type": "display_data"
    },
    {
     "data": {
      "text/plain": [
       " 文件名 F:\\Code\\公司\\SMS203\\ED2_u0053u004du0053u0046u0043u005fu0030u0032u0030u0033_GENNDER1_25600Hz_1_1384_20241117023535.dat ED2\u0000\u0000\u0000\u0000\u0000\u0000\u0000\u0000\u0000\u0000\u0000\u0000\u0000 SMSFC\u0000\u0000\u0000\u0000\u0000\u0000\u0000\u0000\u0000\u0000\u0000 0203\u0000\u0000\u0000\u0000\u0000\u0000\u0000\u0000\u0000\u0000\u0000\u0000  2.42818"
      ]
     },
     "metadata": {},
     "output_type": "display_data"
    },
    {
     "data": {
      "text/plain": [
       " 文件名 F:\\Code\\公司\\SMS203\\ED2_u0053u004du0053u0046u0043u005fu0030u0032u0030u0033_GENNDER1_25600Hz_1_1399_20241117033844.dat ED2\u0000\u0000\u0000\u0000\u0000\u0000\u0000\u0000\u0000\u0000\u0000\u0000\u0000 SMSFC\u0000\u0000\u0000\u0000\u0000\u0000\u0000\u0000\u0000\u0000\u0000 0203\u0000\u0000\u0000\u0000\u0000\u0000\u0000\u0000\u0000\u0000\u0000\u0000  2.42532"
      ]
     },
     "metadata": {},
     "output_type": "display_data"
    },
    {
     "data": {
      "text/plain": [
       " 文件名 F:\\Code\\公司\\SMS203\\ED2_u0053u004du0053u0046u0043u005fu0030u0032u0030u0033_GENNDER1_25600Hz_1_1425_20241117023535.dat ED2\u0000\u0000\u0000\u0000\u0000\u0000\u0000\u0000\u0000\u0000\u0000\u0000\u0000 SMSFC\u0000\u0000\u0000\u0000\u0000\u0000\u0000\u0000\u0000\u0000\u0000 0203\u0000\u0000\u0000\u0000\u0000\u0000\u0000\u0000\u0000\u0000\u0000\u0000  4.70864"
      ]
     },
     "metadata": {},
     "output_type": "display_data"
    },
    {
     "data": {
      "text/plain": [
       " 文件名 F:\\Code\\公司\\SMS203\\ED2_u0053u004du0053u0046u0043u005fu0030u0032u0030u0033_GENNDER1_25600Hz_1_1425_20241117063309.dat ED2\u0000\u0000\u0000\u0000\u0000\u0000\u0000\u0000\u0000\u0000\u0000\u0000\u0000 SMSFC\u0000\u0000\u0000\u0000\u0000\u0000\u0000\u0000\u0000\u0000\u0000 0203\u0000\u0000\u0000\u0000\u0000\u0000\u0000\u0000\u0000\u0000\u0000\u0000  4.70864"
      ]
     },
     "metadata": {},
     "output_type": "display_data"
    },
    {
     "data": {
      "text/plain": [
       " 文件名 F:\\Code\\公司\\SMS203\\ED2_u0053u004du0053u0046u0043u005fu0030u0032u0030u0033_GENNDER1_25600Hz_1_1536_20241117133350.dat ED2\u0000\u0000\u0000\u0000\u0000\u0000\u0000\u0000\u0000\u0000\u0000\u0000\u0000 SMSFC\u0000\u0000\u0000\u0000\u0000\u0000\u0000\u0000\u0000\u0000\u0000 0203\u0000\u0000\u0000\u0000\u0000\u0000\u0000\u0000\u0000\u0000\u0000\u0000  3.2865"
      ]
     },
     "metadata": {},
     "output_type": "display_data"
    },
    {
     "data": {
      "text/plain": [
       " 文件名 F:\\Code\\公司\\SMS203\\ED2_u0053u004du0053u0046u0043u005fu0030u0032u0030u0033_GENNDER1_25600Hz_1_1537_20241117083609.dat ED2\u0000\u0000\u0000\u0000\u0000\u0000\u0000\u0000\u0000\u0000\u0000\u0000\u0000 SMSFC\u0000\u0000\u0000\u0000\u0000\u0000\u0000\u0000\u0000\u0000\u0000 0203\u0000\u0000\u0000\u0000\u0000\u0000\u0000\u0000\u0000\u0000\u0000\u0000  4.67623"
      ]
     },
     "metadata": {},
     "output_type": "display_data"
    },
    {
     "data": {
      "text/plain": [
       " 文件名 F:\\Code\\公司\\SMS203\\ED2_u0053u004du0053u0046u0043u005fu0030u0032u0030u0033_GENNDER1_25600Hz_1_1545_20241117113439.dat ED2\u0000\u0000\u0000\u0000\u0000\u0000\u0000\u0000\u0000\u0000\u0000\u0000\u0000 SMSFC\u0000\u0000\u0000\u0000\u0000\u0000\u0000\u0000\u0000\u0000\u0000 0203\u0000\u0000\u0000\u0000\u0000\u0000\u0000\u0000\u0000\u0000\u0000\u0000  2.98418"
      ]
     },
     "metadata": {},
     "output_type": "display_data"
    },
    {
     "data": {
      "text/plain": [
       " 文件名 F:\\Code\\公司\\SMS203\\ED2_u0053u004du0053u0046u0043u005fu0030u0032u0030u0033_GENNDER1_25600Hz_1_1567_20241117023533.dat ED2\u0000\u0000\u0000\u0000\u0000\u0000\u0000\u0000\u0000\u0000\u0000\u0000\u0000 SMSFC\u0000\u0000\u0000\u0000\u0000\u0000\u0000\u0000\u0000\u0000\u0000 0203\u0000\u0000\u0000\u0000\u0000\u0000\u0000\u0000\u0000\u0000\u0000\u0000  3.21865"
      ]
     },
     "metadata": {},
     "output_type": "display_data"
    },
    {
     "data": {
      "text/plain": [
       " 文件名 F:\\Code\\公司\\SMS203\\ED2_u0053u004du0053u0046u0043u005fu0030u0032u0030u0033_GENNDER1_25600Hz_1_1580_20241117083608.dat ED2\u0000\u0000\u0000\u0000\u0000\u0000\u0000\u0000\u0000\u0000\u0000\u0000\u0000 SMSFC\u0000\u0000\u0000\u0000\u0000\u0000\u0000\u0000\u0000\u0000\u0000 0203\u0000\u0000\u0000\u0000\u0000\u0000\u0000\u0000\u0000\u0000\u0000\u0000  3.16359"
      ]
     },
     "metadata": {},
     "output_type": "display_data"
    },
    {
     "data": {
      "text/plain": [
       " 文件名 F:\\Code\\公司\\SMS203\\ED2_u0053u004du0053u0046u0043u005fu0030u0032u0030u0033_GENNDER1_25600Hz_1_1603_20241117233759.dat ED2\u0000\u0000\u0000\u0000\u0000\u0000\u0000\u0000\u0000\u0000\u0000\u0000\u0000 SMSFC\u0000\u0000\u0000\u0000\u0000\u0000\u0000\u0000\u0000\u0000\u0000 0203\u0000\u0000\u0000\u0000\u0000\u0000\u0000\u0000\u0000\u0000\u0000\u0000  4.04911"
      ]
     },
     "metadata": {},
     "output_type": "display_data"
    },
    {
     "data": {
      "text/plain": [
       " 文件名 F:\\Code\\公司\\SMS203\\ED2_u0053u004du0053u0046u0043u005fu0030u0032u0030u0033_GENNDER1_25600Hz_1_1604_20241117133350.dat ED2\u0000\u0000\u0000\u0000\u0000\u0000\u0000\u0000\u0000\u0000\u0000\u0000\u0000 SMSFC\u0000\u0000\u0000\u0000\u0000\u0000\u0000\u0000\u0000\u0000\u0000 0203\u0000\u0000\u0000\u0000\u0000\u0000\u0000\u0000\u0000\u0000\u0000\u0000  3.05513"
      ]
     },
     "metadata": {},
     "output_type": "display_data"
    },
    {
     "data": {
      "text/plain": [
       " 文件名 F:\\Code\\公司\\SMS203\\ED2_u0053u004du0053u0046u0043u005fu0030u0032u0030u0033_GENNDER1_25600Hz_1_1623_20241117113439.dat ED2\u0000\u0000\u0000\u0000\u0000\u0000\u0000\u0000\u0000\u0000\u0000\u0000\u0000 SMSFC\u0000\u0000\u0000\u0000\u0000\u0000\u0000\u0000\u0000\u0000\u0000 0203\u0000\u0000\u0000\u0000\u0000\u0000\u0000\u0000\u0000\u0000\u0000\u0000  3.54535"
      ]
     },
     "metadata": {},
     "output_type": "display_data"
    },
    {
     "data": {
      "text/plain": [
       " 文件名 F:\\Code\\公司\\SMS203\\ED2_u0053u004du0053u0046u0043u005fu0030u0032u0030u0033_GENNDER1_25600Hz_1_1636_20241117013813.dat ED2\u0000\u0000\u0000\u0000\u0000\u0000\u0000\u0000\u0000\u0000\u0000\u0000\u0000 SMSFC\u0000\u0000\u0000\u0000\u0000\u0000\u0000\u0000\u0000\u0000\u0000 0203\u0000\u0000\u0000\u0000\u0000\u0000\u0000\u0000\u0000\u0000\u0000\u0000  3.51587"
      ]
     },
     "metadata": {},
     "output_type": "display_data"
    },
    {
     "data": {
      "text/plain": [
       " 文件名 F:\\Code\\公司\\SMS203\\ED2_u0053u004du0053u0046u0043u005fu0030u0032u0030u0033_GENNDER1_25600Hz_1_1636_20241117103518.dat ED2\u0000\u0000\u0000\u0000\u0000\u0000\u0000\u0000\u0000\u0000\u0000\u0000\u0000 SMSFC\u0000\u0000\u0000\u0000\u0000\u0000\u0000\u0000\u0000\u0000\u0000 0203\u0000\u0000\u0000\u0000\u0000\u0000\u0000\u0000\u0000\u0000\u0000\u0000  3.51587"
      ]
     },
     "metadata": {},
     "output_type": "display_data"
    },
    {
     "data": {
      "text/plain": [
       " 文件名 F:\\Code\\公司\\SMS203\\ED2_u0053u004du0053u0046u0043u005fu0030u0032u0030u0033_GENNDER1_25600Hz_1_1639_20241117083609.dat ED2\u0000\u0000\u0000\u0000\u0000\u0000\u0000\u0000\u0000\u0000\u0000\u0000\u0000 SMSFC\u0000\u0000\u0000\u0000\u0000\u0000\u0000\u0000\u0000\u0000\u0000 0203\u0000\u0000\u0000\u0000\u0000\u0000\u0000\u0000\u0000\u0000\u0000\u0000  2.97787"
      ]
     },
     "metadata": {},
     "output_type": "display_data"
    },
    {
     "data": {
      "text/plain": [
       " 文件名 F:\\Code\\公司\\SMS203\\ED2_u0053u004du0053u0046u0043u005fu0030u0032u0030u0033_GENNDER1_25600Hz_1_1674_20241117103518.dat ED2\u0000\u0000\u0000\u0000\u0000\u0000\u0000\u0000\u0000\u0000\u0000\u0000\u0000 SMSFC\u0000\u0000\u0000\u0000\u0000\u0000\u0000\u0000\u0000\u0000\u0000 0203\u0000\u0000\u0000\u0000\u0000\u0000\u0000\u0000\u0000\u0000\u0000\u0000  5.10419"
      ]
     },
     "metadata": {},
     "output_type": "display_data"
    },
    {
     "data": {
      "text/plain": [
       " 文件名 F:\\Code\\公司\\SMS203\\ED2_u0053u004du0053u0046u0043u005fu0030u0032u0030u0033_GENNDER1_25600Hz_1_1735_20241117093820.dat ED2\u0000\u0000\u0000\u0000\u0000\u0000\u0000\u0000\u0000\u0000\u0000\u0000\u0000 SMSFC\u0000\u0000\u0000\u0000\u0000\u0000\u0000\u0000\u0000\u0000\u0000 0203\u0000\u0000\u0000\u0000\u0000\u0000\u0000\u0000\u0000\u0000\u0000\u0000  7.79882"
      ]
     },
     "metadata": {},
     "output_type": "display_data"
    },
    {
     "data": {
      "text/plain": [
       " 文件名 F:\\Code\\公司\\SMS203\\ED2_u0053u004du0053u0046u0043u005fu0030u0032u0030u0033_GENNDER1_25600Hz_1_1737_20241117073537.dat ED2\u0000\u0000\u0000\u0000\u0000\u0000\u0000\u0000\u0000\u0000\u0000\u0000\u0000 SMSFC\u0000\u0000\u0000\u0000\u0000\u0000\u0000\u0000\u0000\u0000\u0000 0203\u0000\u0000\u0000\u0000\u0000\u0000\u0000\u0000\u0000\u0000\u0000\u0000  7.43599"
      ]
     },
     "metadata": {},
     "output_type": "display_data"
    },
    {
     "data": {
      "text/plain": [
       " 文件名 F:\\Code\\公司\\SMS203\\ED2_u0053u004du0053u0046u0043u005fu0030u0032u0030u0033_GENNDER1_25600Hz_1_1745_20241117044123.dat ED2\u0000\u0000\u0000\u0000\u0000\u0000\u0000\u0000\u0000\u0000\u0000\u0000\u0000 SMSFC\u0000\u0000\u0000\u0000\u0000\u0000\u0000\u0000\u0000\u0000\u0000 0203\u0000\u0000\u0000\u0000\u0000\u0000\u0000\u0000\u0000\u0000\u0000\u0000  7.33741"
      ]
     },
     "metadata": {},
     "output_type": "display_data"
    },
    {
     "data": {
      "text/plain": [
       " 文件名 F:\\Code\\公司\\SMS203\\ED2_u0053u004du0053u0046u0043u005fu0030u0032u0030u0033_GENNDER1_25600Hz_1_1745_20241117044124.dat ED2\u0000\u0000\u0000\u0000\u0000\u0000\u0000\u0000\u0000\u0000\u0000\u0000\u0000 SMSFC\u0000\u0000\u0000\u0000\u0000\u0000\u0000\u0000\u0000\u0000\u0000 0203\u0000\u0000\u0000\u0000\u0000\u0000\u0000\u0000\u0000\u0000\u0000\u0000  7.33741"
      ]
     },
     "metadata": {},
     "output_type": "display_data"
    },
    {
     "data": {
      "text/plain": [
       " 文件名 F:\\Code\\公司\\SMS203\\ED2_u0053u004du0053u0046u0043u005fu0030u0032u0030u0033_GENNDER1_25600Hz_1_1745_20241117053428.dat ED2\u0000\u0000\u0000\u0000\u0000\u0000\u0000\u0000\u0000\u0000\u0000\u0000\u0000 SMSFC\u0000\u0000\u0000\u0000\u0000\u0000\u0000\u0000\u0000\u0000\u0000 0203\u0000\u0000\u0000\u0000\u0000\u0000\u0000\u0000\u0000\u0000\u0000\u0000  7.33741"
      ]
     },
     "metadata": {},
     "output_type": "display_data"
    },
    {
     "data": {
      "text/plain": [
       " 文件名 F:\\Code\\公司\\SMS203\\ED2_u0053u004du0053u0046u0043u005fu0030u0032u0030u0033_GENNDER1_25600Hz_1_1750_20241117023535.dat ED2\u0000\u0000\u0000\u0000\u0000\u0000\u0000\u0000\u0000\u0000\u0000\u0000\u0000 SMSFC\u0000\u0000\u0000\u0000\u0000\u0000\u0000\u0000\u0000\u0000\u0000 0203\u0000\u0000\u0000\u0000\u0000\u0000\u0000\u0000\u0000\u0000\u0000\u0000  4.49333"
      ]
     },
     "metadata": {},
     "output_type": "display_data"
    },
    {
     "data": {
      "text/plain": [
       " 文件名 F:\\Code\\公司\\SMS203\\ED2_u0053u004du0053u0046u0043u005fu0030u0032u0030u0033_GENNDER1_25600Hz_1_1751_20241117003452.dat ED2\u0000\u0000\u0000\u0000\u0000\u0000\u0000\u0000\u0000\u0000\u0000\u0000\u0000 SMSFC\u0000\u0000\u0000\u0000\u0000\u0000\u0000\u0000\u0000\u0000\u0000 0203\u0000\u0000\u0000\u0000\u0000\u0000\u0000\u0000\u0000\u0000\u0000\u0000  3.93647"
      ]
     },
     "metadata": {},
     "output_type": "display_data"
    },
    {
     "data": {
      "text/plain": [
       " 文件名 F:\\Code\\公司\\SMS203\\ED2_u0053u004du0053u0046u0043u005fu0030u0032u0030u0033_GENNDER1_25600Hz_1_1751_20241117063310.dat ED2\u0000\u0000\u0000\u0000\u0000\u0000\u0000\u0000\u0000\u0000\u0000\u0000\u0000 SMSFC\u0000\u0000\u0000\u0000\u0000\u0000\u0000\u0000\u0000\u0000\u0000 0203\u0000\u0000\u0000\u0000\u0000\u0000\u0000\u0000\u0000\u0000\u0000\u0000  4.2421"
      ]
     },
     "metadata": {},
     "output_type": "display_data"
    },
    {
     "data": {
      "text/plain": [
       " 文件名 F:\\Code\\公司\\SMS203\\ED2_u0053u004du0053u0046u0043u005fu0030u0032u0030u0033_GENNDER1_25600Hz_1_1751_20241117073537.dat ED2\u0000\u0000\u0000\u0000\u0000\u0000\u0000\u0000\u0000\u0000\u0000\u0000\u0000 SMSFC\u0000\u0000\u0000\u0000\u0000\u0000\u0000\u0000\u0000\u0000\u0000 0203\u0000\u0000\u0000\u0000\u0000\u0000\u0000\u0000\u0000\u0000\u0000\u0000  4.24819"
      ]
     },
     "metadata": {},
     "output_type": "display_data"
    },
    {
     "data": {
      "text/plain": [
       " 文件名 F:\\Code\\公司\\SMS203\\ED2_u0053u004du0053u0046u0043u005fu0030u0032u0030u0033_GENNDER1_25600Hz_1_1751_20241117103518.dat ED2\u0000\u0000\u0000\u0000\u0000\u0000\u0000\u0000\u0000\u0000\u0000\u0000\u0000 SMSFC\u0000\u0000\u0000\u0000\u0000\u0000\u0000\u0000\u0000\u0000\u0000 0203\u0000\u0000\u0000\u0000\u0000\u0000\u0000\u0000\u0000\u0000\u0000\u0000  3.83103"
      ]
     },
     "metadata": {},
     "output_type": "display_data"
    },
    {
     "data": {
      "text/plain": [
       " 文件名 F:\\Code\\公司\\SMS203\\ED2_u0053u004du0053u0046u0043u005fu0030u0032u0030u0033_GENNDER1_25600Hz_1_1752_20241117023536.dat ED2\u0000\u0000\u0000\u0000\u0000\u0000\u0000\u0000\u0000\u0000\u0000\u0000\u0000 SMSFC\u0000\u0000\u0000\u0000\u0000\u0000\u0000\u0000\u0000\u0000\u0000 0203\u0000\u0000\u0000\u0000\u0000\u0000\u0000\u0000\u0000\u0000\u0000\u0000  4.2167"
      ]
     },
     "metadata": {},
     "output_type": "display_data"
    },
    {
     "data": {
      "text/plain": [
       " 文件名 F:\\Code\\公司\\SMS203\\ED2_u0053u004du0053u0046u0043u005fu0030u0032u0030u0033_GENNDER1_25600Hz_1_1752_20241117063311.dat ED2\u0000\u0000\u0000\u0000\u0000\u0000\u0000\u0000\u0000\u0000\u0000\u0000\u0000 SMSFC\u0000\u0000\u0000\u0000\u0000\u0000\u0000\u0000\u0000\u0000\u0000 0203\u0000\u0000\u0000\u0000\u0000\u0000\u0000\u0000\u0000\u0000\u0000\u0000  4.52277"
      ]
     },
     "metadata": {},
     "output_type": "display_data"
    },
    {
     "data": {
      "text/plain": [
       " 文件名 F:\\Code\\公司\\SMS203\\ED2_u0053u004du0053u0046u0043u005fu0030u0032u0030u0033_GENNDER1_25600Hz_1_1752_20241117093819.dat ED2\u0000\u0000\u0000\u0000\u0000\u0000\u0000\u0000\u0000\u0000\u0000\u0000\u0000 SMSFC\u0000\u0000\u0000\u0000\u0000\u0000\u0000\u0000\u0000\u0000\u0000 0203\u0000\u0000\u0000\u0000\u0000\u0000\u0000\u0000\u0000\u0000\u0000\u0000  4.84512"
      ]
     },
     "metadata": {},
     "output_type": "display_data"
    },
    {
     "data": {
      "text/plain": [
       " 文件名 F:\\Code\\公司\\SMS203\\ED2_u0053u004du0053u0046u0043u005fu0030u0032u0030u0033_GENNDER1_25600Hz_1_1752_20241117233800.dat ED2\u0000\u0000\u0000\u0000\u0000\u0000\u0000\u0000\u0000\u0000\u0000\u0000\u0000 SMSFC\u0000\u0000\u0000\u0000\u0000\u0000\u0000\u0000\u0000\u0000\u0000 0203\u0000\u0000\u0000\u0000\u0000\u0000\u0000\u0000\u0000\u0000\u0000\u0000  3.85263"
      ]
     },
     "metadata": {},
     "output_type": "display_data"
    },
    {
     "data": {
      "text/plain": [
       " 文件名 F:\\Code\\公司\\SMS203\\ED2_u0053u004du0053u0046u0043u005fu0030u0032u0030u0033_GENNDER1_25600Hz_1_1753_20241117044123.dat ED2\u0000\u0000\u0000\u0000\u0000\u0000\u0000\u0000\u0000\u0000\u0000\u0000\u0000 SMSFC\u0000\u0000\u0000\u0000\u0000\u0000\u0000\u0000\u0000\u0000\u0000 0203\u0000\u0000\u0000\u0000\u0000\u0000\u0000\u0000\u0000\u0000\u0000\u0000  4.4999"
      ]
     },
     "metadata": {},
     "output_type": "display_data"
    },
    {
     "data": {
      "text/plain": [
       " 文件名 F:\\Code\\公司\\SMS203\\ED2_u0053u004du0053u0046u0043u005fu0030u0032u0030u0033_GENNDER1_25600Hz_1_1753_20241117053429.dat ED2\u0000\u0000\u0000\u0000\u0000\u0000\u0000\u0000\u0000\u0000\u0000\u0000\u0000 SMSFC\u0000\u0000\u0000\u0000\u0000\u0000\u0000\u0000\u0000\u0000\u0000 0203\u0000\u0000\u0000\u0000\u0000\u0000\u0000\u0000\u0000\u0000\u0000\u0000  4.36256"
      ]
     },
     "metadata": {},
     "output_type": "display_data"
    },
    {
     "data": {
      "text/plain": [
       " 文件名 F:\\Code\\公司\\SMS203\\ED2_u0053u004du0053u0046u0043u005fu0030u0032u0030u0033_GENNDER1_25600Hz_1_1753_20241117063311.dat ED2\u0000\u0000\u0000\u0000\u0000\u0000\u0000\u0000\u0000\u0000\u0000\u0000\u0000 SMSFC\u0000\u0000\u0000\u0000\u0000\u0000\u0000\u0000\u0000\u0000\u0000 0203\u0000\u0000\u0000\u0000\u0000\u0000\u0000\u0000\u0000\u0000\u0000\u0000  4.36256"
      ]
     },
     "metadata": {},
     "output_type": "display_data"
    },
    {
     "data": {
      "text/plain": [
       " 文件名 F:\\Code\\公司\\SMS203\\ED2_u0053u004du0053u0046u0043u005fu0030u0032u0030u0033_GENNDER1_25600Hz_1_1753_20241117073536.dat ED2\u0000\u0000\u0000\u0000\u0000\u0000\u0000\u0000\u0000\u0000\u0000\u0000\u0000 SMSFC\u0000\u0000\u0000\u0000\u0000\u0000\u0000\u0000\u0000\u0000\u0000 0203\u0000\u0000\u0000\u0000\u0000\u0000\u0000\u0000\u0000\u0000\u0000\u0000  4.51283"
      ]
     },
     "metadata": {},
     "output_type": "display_data"
    },
    {
     "data": {
      "text/plain": [
       " 文件名 F:\\Code\\公司\\SMS203\\ED2_u0053u004du0053u0046u0043u005fu0030u0032u0030u0033_GENNDER1_25600Hz_1_1753_20241117093821.dat ED2\u0000\u0000\u0000\u0000\u0000\u0000\u0000\u0000\u0000\u0000\u0000\u0000\u0000 SMSFC\u0000\u0000\u0000\u0000\u0000\u0000\u0000\u0000\u0000\u0000\u0000 0203\u0000\u0000\u0000\u0000\u0000\u0000\u0000\u0000\u0000\u0000\u0000\u0000  4.40094"
      ]
     },
     "metadata": {},
     "output_type": "display_data"
    },
    {
     "data": {
      "text/plain": [
       " 文件名 F:\\Code\\公司\\SMS203\\ED2_u0053u004du0053u0046u0043u005fu0030u0032u0030u0033_GENNDER1_25600Hz_1_1753_20241117113440.dat ED2\u0000\u0000\u0000\u0000\u0000\u0000\u0000\u0000\u0000\u0000\u0000\u0000\u0000 SMSFC\u0000\u0000\u0000\u0000\u0000\u0000\u0000\u0000\u0000\u0000\u0000 0203\u0000\u0000\u0000\u0000\u0000\u0000\u0000\u0000\u0000\u0000\u0000\u0000  4.44357"
      ]
     },
     "metadata": {},
     "output_type": "display_data"
    },
    {
     "data": {
      "text/plain": [
       " 文件名 F:\\Code\\公司\\SMS203\\ED2_u0053u004du0053u0046u0043u005fu0030u0032u0030u0033_GENNDER1_25600Hz_1_1753_20241117123553.dat ED2\u0000\u0000\u0000\u0000\u0000\u0000\u0000\u0000\u0000\u0000\u0000\u0000\u0000 SMSFC\u0000\u0000\u0000\u0000\u0000\u0000\u0000\u0000\u0000\u0000\u0000 0203\u0000\u0000\u0000\u0000\u0000\u0000\u0000\u0000\u0000\u0000\u0000\u0000  4.41636"
      ]
     },
     "metadata": {},
     "output_type": "display_data"
    },
    {
     "data": {
      "text/plain": [
       " 文件名 F:\\Code\\公司\\SMS203\\ED2_u0053u004du0053u0046u0043u005fu0030u0032u0030u0033_GENNDER1_25600Hz_1_1753_20241117123555.dat ED2\u0000\u0000\u0000\u0000\u0000\u0000\u0000\u0000\u0000\u0000\u0000\u0000\u0000 SMSFC\u0000\u0000\u0000\u0000\u0000\u0000\u0000\u0000\u0000\u0000\u0000 0203\u0000\u0000\u0000\u0000\u0000\u0000\u0000\u0000\u0000\u0000\u0000\u0000  4.40937"
      ]
     },
     "metadata": {},
     "output_type": "display_data"
    },
    {
     "data": {
      "text/plain": [
       " 文件名 F:\\Code\\公司\\SMS203\\ED2_u0053u004du0053u0046u0043u005fu0030u0032u0030u0033_GENNDER1_25600Hz_1_1753_20241117133349.dat ED2\u0000\u0000\u0000\u0000\u0000\u0000\u0000\u0000\u0000\u0000\u0000\u0000\u0000 SMSFC\u0000\u0000\u0000\u0000\u0000\u0000\u0000\u0000\u0000\u0000\u0000 0203\u0000\u0000\u0000\u0000\u0000\u0000\u0000\u0000\u0000\u0000\u0000\u0000  4.44357"
      ]
     },
     "metadata": {},
     "output_type": "display_data"
    },
    {
     "data": {
      "text/plain": [
       " 文件名 F:\\Code\\公司\\SMS203\\ED2_u0053u004du0053u0046u0043u005fu0030u0032u0030u0033_GENNDER1_25600Hz_1_1753_20241117233800.dat ED2\u0000\u0000\u0000\u0000\u0000\u0000\u0000\u0000\u0000\u0000\u0000\u0000\u0000 SMSFC\u0000\u0000\u0000\u0000\u0000\u0000\u0000\u0000\u0000\u0000\u0000 0203\u0000\u0000\u0000\u0000\u0000\u0000\u0000\u0000\u0000\u0000\u0000\u0000  4.21675"
      ]
     },
     "metadata": {},
     "output_type": "display_data"
    },
    {
     "data": {
      "text/plain": [
       " 文件名 F:\\Code\\公司\\SMS203\\ED2_u0053u004du0053u0046u0043u005fu0030u0032u0030u0033_GENNDER1_25600Hz_1_1754_20241117003451.dat ED2\u0000\u0000\u0000\u0000\u0000\u0000\u0000\u0000\u0000\u0000\u0000\u0000\u0000 SMSFC\u0000\u0000\u0000\u0000\u0000\u0000\u0000\u0000\u0000\u0000\u0000 0203\u0000\u0000\u0000\u0000\u0000\u0000\u0000\u0000\u0000\u0000\u0000\u0000  4.33079"
      ]
     },
     "metadata": {},
     "output_type": "display_data"
    },
    {
     "data": {
      "text/plain": [
       " 文件名 F:\\Code\\公司\\SMS203\\ED2_u0053u004du0053u0046u0043u005fu0030u0032u0030u0033_GENNDER1_25600Hz_1_1754_20241117003453.dat ED2\u0000\u0000\u0000\u0000\u0000\u0000\u0000\u0000\u0000\u0000\u0000\u0000\u0000 SMSFC\u0000\u0000\u0000\u0000\u0000\u0000\u0000\u0000\u0000\u0000\u0000 0203\u0000\u0000\u0000\u0000\u0000\u0000\u0000\u0000\u0000\u0000\u0000\u0000  4.38527"
      ]
     },
     "metadata": {},
     "output_type": "display_data"
    },
    {
     "data": {
      "text/plain": [
       " 文件名 F:\\Code\\公司\\SMS203\\ED2_u0053u004du0053u0046u0043u005fu0030u0032u0030u0033_GENNDER1_25600Hz_1_1754_20241117013811.dat ED2\u0000\u0000\u0000\u0000\u0000\u0000\u0000\u0000\u0000\u0000\u0000\u0000\u0000 SMSFC\u0000\u0000\u0000\u0000\u0000\u0000\u0000\u0000\u0000\u0000\u0000 0203\u0000\u0000\u0000\u0000\u0000\u0000\u0000\u0000\u0000\u0000\u0000\u0000  3.80632"
      ]
     },
     "metadata": {},
     "output_type": "display_data"
    },
    {
     "data": {
      "text/plain": [
       " 文件名 F:\\Code\\公司\\SMS203\\ED2_u0053u004du0053u0046u0043u005fu0030u0032u0030u0033_GENNDER1_25600Hz_1_1754_20241117013812.dat ED2\u0000\u0000\u0000\u0000\u0000\u0000\u0000\u0000\u0000\u0000\u0000\u0000\u0000 SMSFC\u0000\u0000\u0000\u0000\u0000\u0000\u0000\u0000\u0000\u0000\u0000 0203\u0000\u0000\u0000\u0000\u0000\u0000\u0000\u0000\u0000\u0000\u0000\u0000  4.23318"
      ]
     },
     "metadata": {},
     "output_type": "display_data"
    },
    {
     "data": {
      "text/plain": [
       " 文件名 F:\\Code\\公司\\SMS203\\ED2_u0053u004du0053u0046u0043u005fu0030u0032u0030u0033_GENNDER1_25600Hz_1_1754_20241117013813.dat ED2\u0000\u0000\u0000\u0000\u0000\u0000\u0000\u0000\u0000\u0000\u0000\u0000\u0000 SMSFC\u0000\u0000\u0000\u0000\u0000\u0000\u0000\u0000\u0000\u0000\u0000 0203\u0000\u0000\u0000\u0000\u0000\u0000\u0000\u0000\u0000\u0000\u0000\u0000  4.67757"
      ]
     },
     "metadata": {},
     "output_type": "display_data"
    },
    {
     "data": {
      "text/plain": [
       " 文件名 F:\\Code\\公司\\SMS203\\ED2_u0053u004du0053u0046u0043u005fu0030u0032u0030u0033_GENNDER1_25600Hz_1_1754_20241117033846.dat ED2\u0000\u0000\u0000\u0000\u0000\u0000\u0000\u0000\u0000\u0000\u0000\u0000\u0000 SMSFC\u0000\u0000\u0000\u0000\u0000\u0000\u0000\u0000\u0000\u0000\u0000 0203\u0000\u0000\u0000\u0000\u0000\u0000\u0000\u0000\u0000\u0000\u0000\u0000  4.27118"
      ]
     },
     "metadata": {},
     "output_type": "display_data"
    },
    {
     "data": {
      "text/plain": [
       " 文件名 F:\\Code\\公司\\SMS203\\ED2_u0053u004du0053u0046u0043u005fu0030u0032u0030u0033_GENNDER1_25600Hz_1_1754_20241117033847.dat ED2\u0000\u0000\u0000\u0000\u0000\u0000\u0000\u0000\u0000\u0000\u0000\u0000\u0000 SMSFC\u0000\u0000\u0000\u0000\u0000\u0000\u0000\u0000\u0000\u0000\u0000 0203\u0000\u0000\u0000\u0000\u0000\u0000\u0000\u0000\u0000\u0000\u0000\u0000  4.06605"
      ]
     },
     "metadata": {},
     "output_type": "display_data"
    },
    {
     "data": {
      "text/plain": [
       " 文件名 F:\\Code\\公司\\SMS203\\ED2_u0053u004du0053u0046u0043u005fu0030u0032u0030u0033_GENNDER1_25600Hz_1_1754_20241117044124.dat ED2\u0000\u0000\u0000\u0000\u0000\u0000\u0000\u0000\u0000\u0000\u0000\u0000\u0000 SMSFC\u0000\u0000\u0000\u0000\u0000\u0000\u0000\u0000\u0000\u0000\u0000 0203\u0000\u0000\u0000\u0000\u0000\u0000\u0000\u0000\u0000\u0000\u0000\u0000  3.83172"
      ]
     },
     "metadata": {},
     "output_type": "display_data"
    },
    {
     "data": {
      "text/plain": [
       " 文件名 F:\\Code\\公司\\SMS203\\ED2_u0053u004du0053u0046u0043u005fu0030u0032u0030u0033_GENNDER1_25600Hz_1_1754_20241117053427.dat ED2\u0000\u0000\u0000\u0000\u0000\u0000\u0000\u0000\u0000\u0000\u0000\u0000\u0000 SMSFC\u0000\u0000\u0000\u0000\u0000\u0000\u0000\u0000\u0000\u0000\u0000 0203\u0000\u0000\u0000\u0000\u0000\u0000\u0000\u0000\u0000\u0000\u0000\u0000  4.55561"
      ]
     },
     "metadata": {},
     "output_type": "display_data"
    },
    {
     "data": {
      "text/plain": [
       " 文件名 F:\\Code\\公司\\SMS203\\ED2_u0053u004du0053u0046u0043u005fu0030u0032u0030u0033_GENNDER1_25600Hz_1_1754_20241117053429.dat ED2\u0000\u0000\u0000\u0000\u0000\u0000\u0000\u0000\u0000\u0000\u0000\u0000\u0000 SMSFC\u0000\u0000\u0000\u0000\u0000\u0000\u0000\u0000\u0000\u0000\u0000 0203\u0000\u0000\u0000\u0000\u0000\u0000\u0000\u0000\u0000\u0000\u0000\u0000  4.48318"
      ]
     },
     "metadata": {},
     "output_type": "display_data"
    },
    {
     "data": {
      "text/plain": [
       " 文件名 F:\\Code\\公司\\SMS203\\ED2_u0053u004du0053u0046u0043u005fu0030u0032u0030u0033_GENNDER1_25600Hz_1_1754_20241117063311.dat ED2\u0000\u0000\u0000\u0000\u0000\u0000\u0000\u0000\u0000\u0000\u0000\u0000\u0000 SMSFC\u0000\u0000\u0000\u0000\u0000\u0000\u0000\u0000\u0000\u0000\u0000 0203\u0000\u0000\u0000\u0000\u0000\u0000\u0000\u0000\u0000\u0000\u0000\u0000  4.1503"
      ]
     },
     "metadata": {},
     "output_type": "display_data"
    },
    {
     "data": {
      "text/plain": [
       " 文件名 F:\\Code\\公司\\SMS203\\ED2_u0053u004du0053u0046u0043u005fu0030u0032u0030u0033_GENNDER1_25600Hz_1_1754_20241117073536.dat ED2\u0000\u0000\u0000\u0000\u0000\u0000\u0000\u0000\u0000\u0000\u0000\u0000\u0000 SMSFC\u0000\u0000\u0000\u0000\u0000\u0000\u0000\u0000\u0000\u0000\u0000 0203\u0000\u0000\u0000\u0000\u0000\u0000\u0000\u0000\u0000\u0000\u0000\u0000  4.51169"
      ]
     },
     "metadata": {},
     "output_type": "display_data"
    },
    {
     "data": {
      "text/plain": [
       " 文件名 F:\\Code\\公司\\SMS203\\ED2_u0053u004du0053u0046u0043u005fu0030u0032u0030u0033_GENNDER1_25600Hz_1_1754_20241117073537.dat ED2\u0000\u0000\u0000\u0000\u0000\u0000\u0000\u0000\u0000\u0000\u0000\u0000\u0000 SMSFC\u0000\u0000\u0000\u0000\u0000\u0000\u0000\u0000\u0000\u0000\u0000 0203\u0000\u0000\u0000\u0000\u0000\u0000\u0000\u0000\u0000\u0000\u0000\u0000  4.11047"
      ]
     },
     "metadata": {},
     "output_type": "display_data"
    },
    {
     "data": {
      "text/plain": [
       " 文件名 F:\\Code\\公司\\SMS203\\ED2_u0053u004du0053u0046u0043u005fu0030u0032u0030u0033_GENNDER1_25600Hz_1_1754_20241117093820.dat ED2\u0000\u0000\u0000\u0000\u0000\u0000\u0000\u0000\u0000\u0000\u0000\u0000\u0000 SMSFC\u0000\u0000\u0000\u0000\u0000\u0000\u0000\u0000\u0000\u0000\u0000 0203\u0000\u0000\u0000\u0000\u0000\u0000\u0000\u0000\u0000\u0000\u0000\u0000  3.81739"
      ]
     },
     "metadata": {},
     "output_type": "display_data"
    },
    {
     "data": {
      "text/plain": [
       " 文件名 F:\\Code\\公司\\SMS203\\ED2_u0053u004du0053u0046u0043u005fu0030u0032u0030u0033_GENNDER1_25600Hz_1_1754_20241117103517.dat ED2\u0000\u0000\u0000\u0000\u0000\u0000\u0000\u0000\u0000\u0000\u0000\u0000\u0000 SMSFC\u0000\u0000\u0000\u0000\u0000\u0000\u0000\u0000\u0000\u0000\u0000 0203\u0000\u0000\u0000\u0000\u0000\u0000\u0000\u0000\u0000\u0000\u0000\u0000  3.9763"
      ]
     },
     "metadata": {},
     "output_type": "display_data"
    },
    {
     "data": {
      "text/plain": [
       " 文件名 F:\\Code\\公司\\SMS203\\ED2_u0053u004du0053u0046u0043u005fu0030u0032u0030u0033_GENNDER1_25600Hz_1_1754_20241117113440.dat ED2\u0000\u0000\u0000\u0000\u0000\u0000\u0000\u0000\u0000\u0000\u0000\u0000\u0000 SMSFC\u0000\u0000\u0000\u0000\u0000\u0000\u0000\u0000\u0000\u0000\u0000 0203\u0000\u0000\u0000\u0000\u0000\u0000\u0000\u0000\u0000\u0000\u0000\u0000  4.5524"
      ]
     },
     "metadata": {},
     "output_type": "display_data"
    },
    {
     "data": {
      "text/plain": [
       " 文件名 F:\\Code\\公司\\SMS203\\ED2_u0053u004du0053u0046u0043u005fu0030u0032u0030u0033_GENNDER1_25600Hz_1_1754_20241117133349.dat ED2\u0000\u0000\u0000\u0000\u0000\u0000\u0000\u0000\u0000\u0000\u0000\u0000\u0000 SMSFC\u0000\u0000\u0000\u0000\u0000\u0000\u0000\u0000\u0000\u0000\u0000 0203\u0000\u0000\u0000\u0000\u0000\u0000\u0000\u0000\u0000\u0000\u0000\u0000  4.33057"
      ]
     },
     "metadata": {},
     "output_type": "display_data"
    },
    {
     "data": {
      "text/plain": [
       " 文件名 F:\\Code\\公司\\SMS203\\ED2_u0053u004du0053u0046u0043u005fu0030u0032u0030u0033_GENNDER1_25600Hz_1_1755_20241117033846.dat ED2\u0000\u0000\u0000\u0000\u0000\u0000\u0000\u0000\u0000\u0000\u0000\u0000\u0000 SMSFC\u0000\u0000\u0000\u0000\u0000\u0000\u0000\u0000\u0000\u0000\u0000 0203\u0000\u0000\u0000\u0000\u0000\u0000\u0000\u0000\u0000\u0000\u0000\u0000  3.73214"
      ]
     },
     "metadata": {},
     "output_type": "display_data"
    },
    {
     "data": {
      "text/plain": [
       " 文件名 F:\\Code\\公司\\SMS203\\ED2_u0053u004du0053u0046u0043u005fu0030u0032u0030u0033_GENNDER1_25600Hz_1_1755_20241117044122.dat ED2\u0000\u0000\u0000\u0000\u0000\u0000\u0000\u0000\u0000\u0000\u0000\u0000\u0000 SMSFC\u0000\u0000\u0000\u0000\u0000\u0000\u0000\u0000\u0000\u0000\u0000 0203\u0000\u0000\u0000\u0000\u0000\u0000\u0000\u0000\u0000\u0000\u0000\u0000  3.64303"
      ]
     },
     "metadata": {},
     "output_type": "display_data"
    },
    {
     "data": {
      "text/plain": [
       " 文件名 F:\\Code\\公司\\SMS203\\ED2_u0053u004du0053u0046u0043u005fu0030u0032u0030u0033_GENNDER1_25600Hz_1_1755_20241117083609.dat ED2\u0000\u0000\u0000\u0000\u0000\u0000\u0000\u0000\u0000\u0000\u0000\u0000\u0000 SMSFC\u0000\u0000\u0000\u0000\u0000\u0000\u0000\u0000\u0000\u0000\u0000 0203\u0000\u0000\u0000\u0000\u0000\u0000\u0000\u0000\u0000\u0000\u0000\u0000  4.70755"
      ]
     },
     "metadata": {},
     "output_type": "display_data"
    },
    {
     "data": {
      "text/plain": [
       " 文件名 F:\\Code\\公司\\SMS203\\ED2_u0053u004du0053u0046u0043u005fu0030u0032u0030u0033_GENNDER1_25600Hz_1_1755_20241117103516.dat ED2\u0000\u0000\u0000\u0000\u0000\u0000\u0000\u0000\u0000\u0000\u0000\u0000\u0000 SMSFC\u0000\u0000\u0000\u0000\u0000\u0000\u0000\u0000\u0000\u0000\u0000 0203\u0000\u0000\u0000\u0000\u0000\u0000\u0000\u0000\u0000\u0000\u0000\u0000  3.84435"
      ]
     },
     "metadata": {},
     "output_type": "display_data"
    },
    {
     "data": {
      "text/plain": [
       " 文件名 F:\\Code\\公司\\SMS203\\ED2_u0053u004du0053u0046u0043u005fu0030u0032u0030u0033_GENNDER1_25600Hz_1_1755_20241117113440.dat ED2\u0000\u0000\u0000\u0000\u0000\u0000\u0000\u0000\u0000\u0000\u0000\u0000\u0000 SMSFC\u0000\u0000\u0000\u0000\u0000\u0000\u0000\u0000\u0000\u0000\u0000 0203\u0000\u0000\u0000\u0000\u0000\u0000\u0000\u0000\u0000\u0000\u0000\u0000  4.01625"
      ]
     },
     "metadata": {},
     "output_type": "display_data"
    },
    {
     "data": {
      "text/plain": [
       " 文件名 F:\\Code\\公司\\SMS203\\ED2_u0053u004du0053u0046u0043u005fu0030u0032u0030u0033_GENNDER1_25600Hz_1_1755_20241117123556.dat ED2\u0000\u0000\u0000\u0000\u0000\u0000\u0000\u0000\u0000\u0000\u0000\u0000\u0000 SMSFC\u0000\u0000\u0000\u0000\u0000\u0000\u0000\u0000\u0000\u0000\u0000 0203\u0000\u0000\u0000\u0000\u0000\u0000\u0000\u0000\u0000\u0000\u0000\u0000  4.32534"
      ]
     },
     "metadata": {},
     "output_type": "display_data"
    },
    {
     "data": {
      "text/plain": [
       " 文件名 F:\\Code\\公司\\SMS203\\ED2_u0053u004du0053u0046u0043u005fu0030u0032u0030u0033_GENNDER1_25600Hz_1_1755_20241117233801.dat ED2\u0000\u0000\u0000\u0000\u0000\u0000\u0000\u0000\u0000\u0000\u0000\u0000\u0000 SMSFC\u0000\u0000\u0000\u0000\u0000\u0000\u0000\u0000\u0000\u0000\u0000 0203\u0000\u0000\u0000\u0000\u0000\u0000\u0000\u0000\u0000\u0000\u0000\u0000  4.149"
      ]
     },
     "metadata": {},
     "output_type": "display_data"
    },
    {
     "data": {
      "text/plain": [
       " 文件名 F:\\Code\\公司\\SMS203\\ED2_u0053u004du0053u0046u0043u005fu0030u0032u0030u0033_MBBR1_2560Hz_1_1218_20241117053414.dat ED2\u0000\u0000\u0000\u0000\u0000\u0000\u0000\u0000\u0000\u0000\u0000\u0000\u0000 SMSFC\u0000\u0000\u0000\u0000\u0000\u0000\u0000\u0000\u0000\u0000\u0000 0203\u0000\u0000\u0000\u0000\u0000\u0000\u0000\u0000\u0000\u0000\u0000\u0000  0"
      ]
     },
     "metadata": {},
     "output_type": "display_data"
    },
    {
     "data": {
      "text/plain": [
       " 文件名 F:\\Code\\公司\\SMS203\\ED2_u0053u004du0053u0046u0043u005fu0030u0032u0030u0033_MBBR1_2560Hz_1_1222_20241117123536.dat ED2\u0000\u0000\u0000\u0000\u0000\u0000\u0000\u0000\u0000\u0000\u0000\u0000\u0000 SMSFC\u0000\u0000\u0000\u0000\u0000\u0000\u0000\u0000\u0000\u0000\u0000 0203\u0000\u0000\u0000\u0000\u0000\u0000\u0000\u0000\u0000\u0000\u0000\u0000  0"
      ]
     },
     "metadata": {},
     "output_type": "display_data"
    },
    {
     "data": {
      "text/plain": [
       " 文件名 F:\\Code\\公司\\SMS203\\ED2_u0053u004du0053u0046u0043u005fu0030u0032u0030u0033_MBBR1_2560Hz_1_1302_20241117013757.dat ED2\u0000\u0000\u0000\u0000\u0000\u0000\u0000\u0000\u0000\u0000\u0000\u0000\u0000 SMSFC\u0000\u0000\u0000\u0000\u0000\u0000\u0000\u0000\u0000\u0000\u0000 0203\u0000\u0000\u0000\u0000\u0000\u0000\u0000\u0000\u0000\u0000\u0000\u0000  0"
      ]
     },
     "metadata": {},
     "output_type": "display_data"
    },
    {
     "data": {
      "text/plain": [
       " 文件名 F:\\Code\\公司\\SMS203\\ED2_u0053u004du0053u0046u0043u005fu0030u0032u0030u0033_MBBR1_2560Hz_1_1319_20241117033821.dat ED2\u0000\u0000\u0000\u0000\u0000\u0000\u0000\u0000\u0000\u0000\u0000\u0000\u0000 SMSFC\u0000\u0000\u0000\u0000\u0000\u0000\u0000\u0000\u0000\u0000\u0000 0203\u0000\u0000\u0000\u0000\u0000\u0000\u0000\u0000\u0000\u0000\u0000\u0000  0"
      ]
     },
     "metadata": {},
     "output_type": "display_data"
    },
    {
     "data": {
      "text/plain": [
       " 文件名 F:\\Code\\公司\\SMS203\\ED2_u0053u004du0053u0046u0043u005fu0030u0032u0030u0033_MBBR1_2560Hz_1_1319_20241117063257.dat ED2\u0000\u0000\u0000\u0000\u0000\u0000\u0000\u0000\u0000\u0000\u0000\u0000\u0000 SMSFC\u0000\u0000\u0000\u0000\u0000\u0000\u0000\u0000\u0000\u0000\u0000 0203\u0000\u0000\u0000\u0000\u0000\u0000\u0000\u0000\u0000\u0000\u0000\u0000  0"
      ]
     },
     "metadata": {},
     "output_type": "display_data"
    },
    {
     "data": {
      "text/plain": [
       " 文件名 F:\\Code\\公司\\SMS203\\ED2_u0053u004du0053u0046u0043u005fu0030u0032u0030u0033_MBBR1_2560Hz_1_1331_20241117044109.dat ED2\u0000\u0000\u0000\u0000\u0000\u0000\u0000\u0000\u0000\u0000\u0000\u0000\u0000 SMSFC\u0000\u0000\u0000\u0000\u0000\u0000\u0000\u0000\u0000\u0000\u0000 0203\u0000\u0000\u0000\u0000\u0000\u0000\u0000\u0000\u0000\u0000\u0000\u0000  0"
      ]
     },
     "metadata": {},
     "output_type": "display_data"
    },
    {
     "data": {
      "text/plain": [
       " 文件名 F:\\Code\\公司\\SMS203\\ED2_u0053u004du0053u0046u0043u005fu0030u0032u0030u0033_MBBR1_2560Hz_1_1448_20241117073512.dat ED2\u0000\u0000\u0000\u0000\u0000\u0000\u0000\u0000\u0000\u0000\u0000\u0000\u0000 SMSFC\u0000\u0000\u0000\u0000\u0000\u0000\u0000\u0000\u0000\u0000\u0000 0203\u0000\u0000\u0000\u0000\u0000\u0000\u0000\u0000\u0000\u0000\u0000\u0000  0"
      ]
     },
     "metadata": {},
     "output_type": "display_data"
    },
    {
     "data": {
      "text/plain": [
       " 文件名 F:\\Code\\公司\\SMS203\\ED2_u0053u004du0053u0046u0043u005fu0030u0032u0030u0033_MBBR1_2560Hz_1_1463_20241117023509.dat ED2\u0000\u0000\u0000\u0000\u0000\u0000\u0000\u0000\u0000\u0000\u0000\u0000\u0000 SMSFC\u0000\u0000\u0000\u0000\u0000\u0000\u0000\u0000\u0000\u0000\u0000 0203\u0000\u0000\u0000\u0000\u0000\u0000\u0000\u0000\u0000\u0000\u0000\u0000  0"
      ]
     },
     "metadata": {},
     "output_type": "display_data"
    },
    {
     "data": {
      "text/plain": [
       " 文件名 F:\\Code\\公司\\SMS203\\ED2_u0053u004du0053u0046u0043u005fu0030u0032u0030u0033_MBBR1_2560Hz_1_1536_20241117093807.dat ED2\u0000\u0000\u0000\u0000\u0000\u0000\u0000\u0000\u0000\u0000\u0000\u0000\u0000 SMSFC\u0000\u0000\u0000\u0000\u0000\u0000\u0000\u0000\u0000\u0000\u0000 0203\u0000\u0000\u0000\u0000\u0000\u0000\u0000\u0000\u0000\u0000\u0000\u0000  0"
      ]
     },
     "metadata": {},
     "output_type": "display_data"
    },
    {
     "data": {
      "text/plain": [
       " 文件名 F:\\Code\\公司\\SMS203\\ED2_u0053u004du0053u0046u0043u005fu0030u0032u0030u0033_MBBR1_2560Hz_1_1537_20241117103503.dat ED2\u0000\u0000\u0000\u0000\u0000\u0000\u0000\u0000\u0000\u0000\u0000\u0000\u0000 SMSFC\u0000\u0000\u0000\u0000\u0000\u0000\u0000\u0000\u0000\u0000\u0000 0203\u0000\u0000\u0000\u0000\u0000\u0000\u0000\u0000\u0000\u0000\u0000\u0000  0"
      ]
     },
     "metadata": {},
     "output_type": "display_data"
    },
    {
     "data": {
      "text/plain": [
       " 文件名 F:\\Code\\公司\\SMS203\\ED2_u0053u004du0053u0046u0043u005fu0030u0032u0030u0033_MBBR1_2560Hz_1_1554_20241117083554.dat ED2\u0000\u0000\u0000\u0000\u0000\u0000\u0000\u0000\u0000\u0000\u0000\u0000\u0000 SMSFC\u0000\u0000\u0000\u0000\u0000\u0000\u0000\u0000\u0000\u0000\u0000 0203\u0000\u0000\u0000\u0000\u0000\u0000\u0000\u0000\u0000\u0000\u0000\u0000  0"
      ]
     },
     "metadata": {},
     "output_type": "display_data"
    },
    {
     "data": {
      "text/plain": [
       " 文件名 F:\\Code\\公司\\SMS203\\ED2_u0053u004du0053u0046u0043u005fu0030u0032u0030u0033_MBBR1_2560Hz_1_1554_20241117133337.dat ED2\u0000\u0000\u0000\u0000\u0000\u0000\u0000\u0000\u0000\u0000\u0000\u0000\u0000 SMSFC\u0000\u0000\u0000\u0000\u0000\u0000\u0000\u0000\u0000\u0000\u0000 0203\u0000\u0000\u0000\u0000\u0000\u0000\u0000\u0000\u0000\u0000\u0000\u0000  0"
      ]
     },
     "metadata": {},
     "output_type": "display_data"
    },
    {
     "data": {
      "text/plain": [
       " 文件名 F:\\Code\\公司\\SMS203\\ED2_u0053u004du0053u0046u0043u005fu0030u0032u0030u0033_MBBR1_2560Hz_1_1557_20241117023509.dat ED2\u0000\u0000\u0000\u0000\u0000\u0000\u0000\u0000\u0000\u0000\u0000\u0000\u0000 SMSFC\u0000\u0000\u0000\u0000\u0000\u0000\u0000\u0000\u0000\u0000\u0000 0203\u0000\u0000\u0000\u0000\u0000\u0000\u0000\u0000\u0000\u0000\u0000\u0000  0"
      ]
     },
     "metadata": {},
     "output_type": "display_data"
    },
    {
     "data": {
      "text/plain": [
       " 文件名 F:\\Code\\公司\\SMS203\\ED2_u0053u004du0053u0046u0043u005fu0030u0032u0030u0033_MBBR1_2560Hz_1_1573_20241117003434.dat ED2\u0000\u0000\u0000\u0000\u0000\u0000\u0000\u0000\u0000\u0000\u0000\u0000\u0000 SMSFC\u0000\u0000\u0000\u0000\u0000\u0000\u0000\u0000\u0000\u0000\u0000 0203\u0000\u0000\u0000\u0000\u0000\u0000\u0000\u0000\u0000\u0000\u0000\u0000  0"
      ]
     },
     "metadata": {},
     "output_type": "display_data"
    },
    {
     "data": {
      "text/plain": [
       " 文件名 F:\\Code\\公司\\SMS203\\ED2_u0053u004du0053u0046u0043u005fu0030u0032u0030u0033_MBBR1_2560Hz_1_1618_20241117093807.dat ED2\u0000\u0000\u0000\u0000\u0000\u0000\u0000\u0000\u0000\u0000\u0000\u0000\u0000 SMSFC\u0000\u0000\u0000\u0000\u0000\u0000\u0000\u0000\u0000\u0000\u0000 0203\u0000\u0000\u0000\u0000\u0000\u0000\u0000\u0000\u0000\u0000\u0000\u0000  0"
      ]
     },
     "metadata": {},
     "output_type": "display_data"
    },
    {
     "data": {
      "text/plain": [
       " 文件名 F:\\Code\\公司\\SMS203\\ED2_u0053u004du0053u0046u0043u005fu0030u0032u0030u0033_MBBR1_2560Hz_1_1631_20241117093807.dat ED2\u0000\u0000\u0000\u0000\u0000\u0000\u0000\u0000\u0000\u0000\u0000\u0000\u0000 SMSFC\u0000\u0000\u0000\u0000\u0000\u0000\u0000\u0000\u0000\u0000\u0000 0203\u0000\u0000\u0000\u0000\u0000\u0000\u0000\u0000\u0000\u0000\u0000\u0000  0"
      ]
     },
     "metadata": {},
     "output_type": "display_data"
    },
    {
     "data": {
      "text/plain": [
       " 文件名 F:\\Code\\公司\\SMS203\\ED2_u0053u004du0053u0046u0043u005fu0030u0032u0030u0033_MBBR1_2560Hz_1_1639_20241117083539.dat ED2\u0000\u0000\u0000\u0000\u0000\u0000\u0000\u0000\u0000\u0000\u0000\u0000\u0000 SMSFC\u0000\u0000\u0000\u0000\u0000\u0000\u0000\u0000\u0000\u0000\u0000 0203\u0000\u0000\u0000\u0000\u0000\u0000\u0000\u0000\u0000\u0000\u0000\u0000  0"
      ]
     },
     "metadata": {},
     "output_type": "display_data"
    },
    {
     "data": {
      "text/plain": [
       " 文件名 F:\\Code\\公司\\SMS203\\ED2_u0053u004du0053u0046u0043u005fu0030u0032u0030u0033_MBBR1_2560Hz_1_1646_20241117023507.dat ED2\u0000\u0000\u0000\u0000\u0000\u0000\u0000\u0000\u0000\u0000\u0000\u0000\u0000 SMSFC\u0000\u0000\u0000\u0000\u0000\u0000\u0000\u0000\u0000\u0000\u0000 0203\u0000\u0000\u0000\u0000\u0000\u0000\u0000\u0000\u0000\u0000\u0000\u0000  0"
      ]
     },
     "metadata": {},
     "output_type": "display_data"
    },
    {
     "data": {
      "text/plain": [
       " 文件名 F:\\Code\\公司\\SMS203\\ED2_u0053u004du0053u0046u0043u005fu0030u0032u0030u0033_MBBR1_2560Hz_1_1646_20241117073512.dat ED2\u0000\u0000\u0000\u0000\u0000\u0000\u0000\u0000\u0000\u0000\u0000\u0000\u0000 SMSFC\u0000\u0000\u0000\u0000\u0000\u0000\u0000\u0000\u0000\u0000\u0000 0203\u0000\u0000\u0000\u0000\u0000\u0000\u0000\u0000\u0000\u0000\u0000\u0000  0"
      ]
     },
     "metadata": {},
     "output_type": "display_data"
    },
    {
     "data": {
      "text/plain": [
       " 文件名 F:\\Code\\公司\\SMS203\\ED2_u0053u004du0053u0046u0043u005fu0030u0032u0030u0033_MBBR1_2560Hz_1_1670_20241117113425.dat ED2\u0000\u0000\u0000\u0000\u0000\u0000\u0000\u0000\u0000\u0000\u0000\u0000\u0000 SMSFC\u0000\u0000\u0000\u0000\u0000\u0000\u0000\u0000\u0000\u0000\u0000 0203\u0000\u0000\u0000\u0000\u0000\u0000\u0000\u0000\u0000\u0000\u0000\u0000  0"
      ]
     },
     "metadata": {},
     "output_type": "display_data"
    },
    {
     "data": {
      "text/plain": [
       " 文件名 F:\\Code\\公司\\SMS203\\ED2_u0053u004du0053u0046u0043u005fu0030u0032u0030u0033_MBBR1_2560Hz_1_1674_20241117044109.dat ED2\u0000\u0000\u0000\u0000\u0000\u0000\u0000\u0000\u0000\u0000\u0000\u0000\u0000 SMSFC\u0000\u0000\u0000\u0000\u0000\u0000\u0000\u0000\u0000\u0000\u0000 0203\u0000\u0000\u0000\u0000\u0000\u0000\u0000\u0000\u0000\u0000\u0000\u0000  0"
      ]
     },
     "metadata": {},
     "output_type": "display_data"
    },
    {
     "data": {
      "text/plain": [
       " 文件名 F:\\Code\\公司\\SMS203\\ED2_u0053u004du0053u0046u0043u005fu0030u0032u0030u0033_MBBR1_2560Hz_1_1683_20241117033821.dat ED2\u0000\u0000\u0000\u0000\u0000\u0000\u0000\u0000\u0000\u0000\u0000\u0000\u0000 SMSFC\u0000\u0000\u0000\u0000\u0000\u0000\u0000\u0000\u0000\u0000\u0000 0203\u0000\u0000\u0000\u0000\u0000\u0000\u0000\u0000\u0000\u0000\u0000\u0000  0"
      ]
     },
     "metadata": {},
     "output_type": "display_data"
    },
    {
     "data": {
      "text/plain": [
       " 文件名 F:\\Code\\公司\\SMS203\\ED2_u0053u004du0053u0046u0043u005fu0030u0032u0030u0033_MBBR1_2560Hz_1_1683_20241117103504.dat ED2\u0000\u0000\u0000\u0000\u0000\u0000\u0000\u0000\u0000\u0000\u0000\u0000\u0000 SMSFC\u0000\u0000\u0000\u0000\u0000\u0000\u0000\u0000\u0000\u0000\u0000 0203\u0000\u0000\u0000\u0000\u0000\u0000\u0000\u0000\u0000\u0000\u0000\u0000  0"
      ]
     },
     "metadata": {},
     "output_type": "display_data"
    },
    {
     "data": {
      "text/plain": [
       " 文件名 F:\\Code\\公司\\SMS203\\ED2_u0053u004du0053u0046u0043u005fu0030u0032u0030u0033_MBBR1_2560Hz_1_1711_20241117033821.dat ED2\u0000\u0000\u0000\u0000\u0000\u0000\u0000\u0000\u0000\u0000\u0000\u0000\u0000 SMSFC\u0000\u0000\u0000\u0000\u0000\u0000\u0000\u0000\u0000\u0000\u0000 0203\u0000\u0000\u0000\u0000\u0000\u0000\u0000\u0000\u0000\u0000\u0000\u0000  0"
      ]
     },
     "metadata": {},
     "output_type": "display_data"
    },
    {
     "data": {
      "text/plain": [
       " 文件名 F:\\Code\\公司\\SMS203\\ED2_u0053u004du0053u0046u0043u005fu0030u0032u0030u0033_MBBR1_2560Hz_1_1722_20241117003435.dat ED2\u0000\u0000\u0000\u0000\u0000\u0000\u0000\u0000\u0000\u0000\u0000\u0000\u0000 SMSFC\u0000\u0000\u0000\u0000\u0000\u0000\u0000\u0000\u0000\u0000\u0000 0203\u0000\u0000\u0000\u0000\u0000\u0000\u0000\u0000\u0000\u0000\u0000\u0000  0"
      ]
     },
     "metadata": {},
     "output_type": "display_data"
    },
    {
     "data": {
      "text/plain": [
       " 文件名 F:\\Code\\公司\\SMS203\\ED2_u0053u004du0053u0046u0043u005fu0030u0032u0030u0033_MBBR1_2560Hz_1_1727_20241117113425.dat ED2\u0000\u0000\u0000\u0000\u0000\u0000\u0000\u0000\u0000\u0000\u0000\u0000\u0000 SMSFC\u0000\u0000\u0000\u0000\u0000\u0000\u0000\u0000\u0000\u0000\u0000 0203\u0000\u0000\u0000\u0000\u0000\u0000\u0000\u0000\u0000\u0000\u0000\u0000  0"
      ]
     },
     "metadata": {},
     "output_type": "display_data"
    },
    {
     "data": {
      "text/plain": [
       " 文件名 F:\\Code\\公司\\SMS203\\ED2_u0053u004du0053u0046u0043u005fu0030u0032u0030u0033_MBBR1_2560Hz_1_1730_20241117073512.dat ED2\u0000\u0000\u0000\u0000\u0000\u0000\u0000\u0000\u0000\u0000\u0000\u0000\u0000 SMSFC\u0000\u0000\u0000\u0000\u0000\u0000\u0000\u0000\u0000\u0000\u0000 0203\u0000\u0000\u0000\u0000\u0000\u0000\u0000\u0000\u0000\u0000\u0000\u0000  0"
      ]
     },
     "metadata": {},
     "output_type": "display_data"
    },
    {
     "data": {
      "text/plain": [
       " 文件名 F:\\Code\\公司\\SMS203\\ED2_u0053u004du0053u0046u0043u005fu0030u0032u0030u0033_MBBR1_2560Hz_1_1735_20241117133337.dat ED2\u0000\u0000\u0000\u0000\u0000\u0000\u0000\u0000\u0000\u0000\u0000\u0000\u0000 SMSFC\u0000\u0000\u0000\u0000\u0000\u0000\u0000\u0000\u0000\u0000\u0000 0203\u0000\u0000\u0000\u0000\u0000\u0000\u0000\u0000\u0000\u0000\u0000\u0000  0"
      ]
     },
     "metadata": {},
     "output_type": "display_data"
    },
    {
     "data": {
      "text/plain": [
       " 文件名 F:\\Code\\公司\\SMS203\\ED2_u0053u004du0053u0046u0043u005fu0030u0032u0030u0033_MBBR1_2560Hz_1_1745_20241117233747.dat ED2\u0000\u0000\u0000\u0000\u0000\u0000\u0000\u0000\u0000\u0000\u0000\u0000\u0000 SMSFC\u0000\u0000\u0000\u0000\u0000\u0000\u0000\u0000\u0000\u0000\u0000 0203\u0000\u0000\u0000\u0000\u0000\u0000\u0000\u0000\u0000\u0000\u0000\u0000  0"
      ]
     },
     "metadata": {},
     "output_type": "display_data"
    },
    {
     "data": {
      "text/plain": [
       " 文件名 F:\\Code\\公司\\SMS203\\ED2_u0053u004du0053u0046u0043u005fu0030u0032u0030u0033_MBBR1_2560Hz_1_1750_20241117083539.dat ED2\u0000\u0000\u0000\u0000\u0000\u0000\u0000\u0000\u0000\u0000\u0000\u0000\u0000 SMSFC\u0000\u0000\u0000\u0000\u0000\u0000\u0000\u0000\u0000\u0000\u0000 0203\u0000\u0000\u0000\u0000\u0000\u0000\u0000\u0000\u0000\u0000\u0000\u0000  0"
      ]
     },
     "metadata": {},
     "output_type": "display_data"
    },
    {
     "data": {
      "text/plain": [
       " 文件名 F:\\Code\\公司\\SMS203\\ED2_u0053u004du0053u0046u0043u005fu0030u0032u0030u0033_MBBR1_2560Hz_1_1751_20241117063257.dat ED2\u0000\u0000\u0000\u0000\u0000\u0000\u0000\u0000\u0000\u0000\u0000\u0000\u0000 SMSFC\u0000\u0000\u0000\u0000\u0000\u0000\u0000\u0000\u0000\u0000\u0000 0203\u0000\u0000\u0000\u0000\u0000\u0000\u0000\u0000\u0000\u0000\u0000\u0000  0"
      ]
     },
     "metadata": {},
     "output_type": "display_data"
    },
    {
     "data": {
      "text/plain": [
       " 文件名 F:\\Code\\公司\\SMS203\\ED2_u0053u004du0053u0046u0043u005fu0030u0032u0030u0033_MBBR1_2560Hz_1_1752_20241117003435.dat ED2\u0000\u0000\u0000\u0000\u0000\u0000\u0000\u0000\u0000\u0000\u0000\u0000\u0000 SMSFC\u0000\u0000\u0000\u0000\u0000\u0000\u0000\u0000\u0000\u0000\u0000 0203\u0000\u0000\u0000\u0000\u0000\u0000\u0000\u0000\u0000\u0000\u0000\u0000  0"
      ]
     },
     "metadata": {},
     "output_type": "display_data"
    },
    {
     "data": {
      "text/plain": [
       " 文件名 F:\\Code\\公司\\SMS203\\ED2_u0053u004du0053u0046u0043u005fu0030u0032u0030u0033_MBBR1_2560Hz_1_1752_20241117073512.dat ED2\u0000\u0000\u0000\u0000\u0000\u0000\u0000\u0000\u0000\u0000\u0000\u0000\u0000 SMSFC\u0000\u0000\u0000\u0000\u0000\u0000\u0000\u0000\u0000\u0000\u0000 0203\u0000\u0000\u0000\u0000\u0000\u0000\u0000\u0000\u0000\u0000\u0000\u0000  0"
      ]
     },
     "metadata": {},
     "output_type": "display_data"
    },
    {
     "data": {
      "text/plain": [
       " 文件名 F:\\Code\\公司\\SMS203\\ED2_u0053u004du0053u0046u0043u005fu0030u0032u0030u0033_MBBR1_2560Hz_1_1752_20241117083538.dat ED2\u0000\u0000\u0000\u0000\u0000\u0000\u0000\u0000\u0000\u0000\u0000\u0000\u0000 SMSFC\u0000\u0000\u0000\u0000\u0000\u0000\u0000\u0000\u0000\u0000\u0000 0203\u0000\u0000\u0000\u0000\u0000\u0000\u0000\u0000\u0000\u0000\u0000\u0000  0"
      ]
     },
     "metadata": {},
     "output_type": "display_data"
    },
    {
     "data": {
      "text/plain": [
       " 文件名 F:\\Code\\公司\\SMS203\\ED2_u0053u004du0053u0046u0043u005fu0030u0032u0030u0033_MBBR1_2560Hz_1_1752_20241117133337.dat ED2\u0000\u0000\u0000\u0000\u0000\u0000\u0000\u0000\u0000\u0000\u0000\u0000\u0000 SMSFC\u0000\u0000\u0000\u0000\u0000\u0000\u0000\u0000\u0000\u0000\u0000 0203\u0000\u0000\u0000\u0000\u0000\u0000\u0000\u0000\u0000\u0000\u0000\u0000  0"
      ]
     },
     "metadata": {},
     "output_type": "display_data"
    },
    {
     "data": {
      "text/plain": [
       " 文件名 F:\\Code\\公司\\SMS203\\ED2_u0053u004du0053u0046u0043u005fu0030u0032u0030u0033_MBBR1_2560Hz_1_1752_20241117233747.dat ED2\u0000\u0000\u0000\u0000\u0000\u0000\u0000\u0000\u0000\u0000\u0000\u0000\u0000 SMSFC\u0000\u0000\u0000\u0000\u0000\u0000\u0000\u0000\u0000\u0000\u0000 0203\u0000\u0000\u0000\u0000\u0000\u0000\u0000\u0000\u0000\u0000\u0000\u0000  0"
      ]
     },
     "metadata": {},
     "output_type": "display_data"
    },
    {
     "data": {
      "text/plain": [
       " 文件名 F:\\Code\\公司\\SMS203\\ED2_u0053u004du0053u0046u0043u005fu0030u0032u0030u0033_MBBR1_2560Hz_1_1753_20241117003433.dat ED2\u0000\u0000\u0000\u0000\u0000\u0000\u0000\u0000\u0000\u0000\u0000\u0000\u0000 SMSFC\u0000\u0000\u0000\u0000\u0000\u0000\u0000\u0000\u0000\u0000\u0000 0203\u0000\u0000\u0000\u0000\u0000\u0000\u0000\u0000\u0000\u0000\u0000\u0000  0"
      ]
     },
     "metadata": {},
     "output_type": "display_data"
    },
    {
     "data": {
      "text/plain": [
       " 文件名 F:\\Code\\公司\\SMS203\\ED2_u0053u004du0053u0046u0043u005fu0030u0032u0030u0033_MBBR1_2560Hz_1_1753_20241117003435.dat ED2\u0000\u0000\u0000\u0000\u0000\u0000\u0000\u0000\u0000\u0000\u0000\u0000\u0000 SMSFC\u0000\u0000\u0000\u0000\u0000\u0000\u0000\u0000\u0000\u0000\u0000 0203\u0000\u0000\u0000\u0000\u0000\u0000\u0000\u0000\u0000\u0000\u0000\u0000  0"
      ]
     },
     "metadata": {},
     "output_type": "display_data"
    },
    {
     "data": {
      "text/plain": [
       " 文件名 F:\\Code\\公司\\SMS203\\ED2_u0053u004du0053u0046u0043u005fu0030u0032u0030u0033_MBBR1_2560Hz_1_1753_20241117013755.dat ED2\u0000\u0000\u0000\u0000\u0000\u0000\u0000\u0000\u0000\u0000\u0000\u0000\u0000 SMSFC\u0000\u0000\u0000\u0000\u0000\u0000\u0000\u0000\u0000\u0000\u0000 0203\u0000\u0000\u0000\u0000\u0000\u0000\u0000\u0000\u0000\u0000\u0000\u0000  0"
      ]
     },
     "metadata": {},
     "output_type": "display_data"
    },
    {
     "data": {
      "text/plain": [
       " 文件名 F:\\Code\\公司\\SMS203\\ED2_u0053u004du0053u0046u0043u005fu0030u0032u0030u0033_MBBR1_2560Hz_1_1753_20241117013757.dat ED2\u0000\u0000\u0000\u0000\u0000\u0000\u0000\u0000\u0000\u0000\u0000\u0000\u0000 SMSFC\u0000\u0000\u0000\u0000\u0000\u0000\u0000\u0000\u0000\u0000\u0000 0203\u0000\u0000\u0000\u0000\u0000\u0000\u0000\u0000\u0000\u0000\u0000\u0000  0"
      ]
     },
     "metadata": {},
     "output_type": "display_data"
    },
    {
     "data": {
      "text/plain": [
       " 文件名 F:\\Code\\公司\\SMS203\\ED2_u0053u004du0053u0046u0043u005fu0030u0032u0030u0033_MBBR1_2560Hz_1_1753_20241117033821.dat ED2\u0000\u0000\u0000\u0000\u0000\u0000\u0000\u0000\u0000\u0000\u0000\u0000\u0000 SMSFC\u0000\u0000\u0000\u0000\u0000\u0000\u0000\u0000\u0000\u0000\u0000 0203\u0000\u0000\u0000\u0000\u0000\u0000\u0000\u0000\u0000\u0000\u0000\u0000  0"
      ]
     },
     "metadata": {},
     "output_type": "display_data"
    },
    {
     "data": {
      "text/plain": [
       " 文件名 F:\\Code\\公司\\SMS203\\ED2_u0053u004du0053u0046u0043u005fu0030u0032u0030u0033_MBBR1_2560Hz_1_1753_20241117044107.dat ED2\u0000\u0000\u0000\u0000\u0000\u0000\u0000\u0000\u0000\u0000\u0000\u0000\u0000 SMSFC\u0000\u0000\u0000\u0000\u0000\u0000\u0000\u0000\u0000\u0000\u0000 0203\u0000\u0000\u0000\u0000\u0000\u0000\u0000\u0000\u0000\u0000\u0000\u0000  0"
      ]
     },
     "metadata": {},
     "output_type": "display_data"
    },
    {
     "data": {
      "text/plain": [
       " 文件名 F:\\Code\\公司\\SMS203\\ED2_u0053u004du0053u0046u0043u005fu0030u0032u0030u0033_MBBR1_2560Hz_1_1753_20241117053413.dat ED2\u0000\u0000\u0000\u0000\u0000\u0000\u0000\u0000\u0000\u0000\u0000\u0000\u0000 SMSFC\u0000\u0000\u0000\u0000\u0000\u0000\u0000\u0000\u0000\u0000\u0000 0203\u0000\u0000\u0000\u0000\u0000\u0000\u0000\u0000\u0000\u0000\u0000\u0000  0"
      ]
     },
     "metadata": {},
     "output_type": "display_data"
    },
    {
     "data": {
      "text/plain": [
       " 文件名 F:\\Code\\公司\\SMS203\\ED2_u0053u004du0053u0046u0043u005fu0030u0032u0030u0033_MBBR1_2560Hz_1_1753_20241117083537.dat ED2\u0000\u0000\u0000\u0000\u0000\u0000\u0000\u0000\u0000\u0000\u0000\u0000\u0000 SMSFC\u0000\u0000\u0000\u0000\u0000\u0000\u0000\u0000\u0000\u0000\u0000 0203\u0000\u0000\u0000\u0000\u0000\u0000\u0000\u0000\u0000\u0000\u0000\u0000  0"
      ]
     },
     "metadata": {},
     "output_type": "display_data"
    },
    {
     "data": {
      "text/plain": [
       " 文件名 F:\\Code\\公司\\SMS203\\ED2_u0053u004du0053u0046u0043u005fu0030u0032u0030u0033_MBBR1_2560Hz_1_1753_20241117103504.dat ED2\u0000\u0000\u0000\u0000\u0000\u0000\u0000\u0000\u0000\u0000\u0000\u0000\u0000 SMSFC\u0000\u0000\u0000\u0000\u0000\u0000\u0000\u0000\u0000\u0000\u0000 0203\u0000\u0000\u0000\u0000\u0000\u0000\u0000\u0000\u0000\u0000\u0000\u0000  0"
      ]
     },
     "metadata": {},
     "output_type": "display_data"
    },
    {
     "data": {
      "text/plain": [
       " 文件名 F:\\Code\\公司\\SMS203\\ED2_u0053u004du0053u0046u0043u005fu0030u0032u0030u0033_MBBR1_2560Hz_1_1753_20241117113423.dat ED2\u0000\u0000\u0000\u0000\u0000\u0000\u0000\u0000\u0000\u0000\u0000\u0000\u0000 SMSFC\u0000\u0000\u0000\u0000\u0000\u0000\u0000\u0000\u0000\u0000\u0000 0203\u0000\u0000\u0000\u0000\u0000\u0000\u0000\u0000\u0000\u0000\u0000\u0000  0"
      ]
     },
     "metadata": {},
     "output_type": "display_data"
    },
    {
     "data": {
      "text/plain": [
       " 文件名 F:\\Code\\公司\\SMS203\\ED2_u0053u004du0053u0046u0043u005fu0030u0032u0030u0033_MBBR1_2560Hz_1_1753_20241117123537.dat ED2\u0000\u0000\u0000\u0000\u0000\u0000\u0000\u0000\u0000\u0000\u0000\u0000\u0000 SMSFC\u0000\u0000\u0000\u0000\u0000\u0000\u0000\u0000\u0000\u0000\u0000 0203\u0000\u0000\u0000\u0000\u0000\u0000\u0000\u0000\u0000\u0000\u0000\u0000  0"
      ]
     },
     "metadata": {},
     "output_type": "display_data"
    },
    {
     "data": {
      "text/plain": [
       " 文件名 F:\\Code\\公司\\SMS203\\ED2_u0053u004du0053u0046u0043u005fu0030u0032u0030u0033_MBBR1_2560Hz_1_1753_20241117233747.dat ED2\u0000\u0000\u0000\u0000\u0000\u0000\u0000\u0000\u0000\u0000\u0000\u0000\u0000 SMSFC\u0000\u0000\u0000\u0000\u0000\u0000\u0000\u0000\u0000\u0000\u0000 0203\u0000\u0000\u0000\u0000\u0000\u0000\u0000\u0000\u0000\u0000\u0000\u0000  0"
      ]
     },
     "metadata": {},
     "output_type": "display_data"
    },
    {
     "data": {
      "text/plain": [
       " 文件名 F:\\Code\\公司\\SMS203\\ED2_u0053u004du0053u0046u0043u005fu0030u0032u0030u0033_MBBR1_2560Hz_1_1754_20241117013757.dat ED2\u0000\u0000\u0000\u0000\u0000\u0000\u0000\u0000\u0000\u0000\u0000\u0000\u0000 SMSFC\u0000\u0000\u0000\u0000\u0000\u0000\u0000\u0000\u0000\u0000\u0000 0203\u0000\u0000\u0000\u0000\u0000\u0000\u0000\u0000\u0000\u0000\u0000\u0000  0"
      ]
     },
     "metadata": {},
     "output_type": "display_data"
    },
    {
     "data": {
      "text/plain": [
       " 文件名 F:\\Code\\公司\\SMS203\\ED2_u0053u004du0053u0046u0043u005fu0030u0032u0030u0033_MBBR1_2560Hz_1_1754_20241117023509.dat ED2\u0000\u0000\u0000\u0000\u0000\u0000\u0000\u0000\u0000\u0000\u0000\u0000\u0000 SMSFC\u0000\u0000\u0000\u0000\u0000\u0000\u0000\u0000\u0000\u0000\u0000 0203\u0000\u0000\u0000\u0000\u0000\u0000\u0000\u0000\u0000\u0000\u0000\u0000  0"
      ]
     },
     "metadata": {},
     "output_type": "display_data"
    },
    {
     "data": {
      "text/plain": [
       " 文件名 F:\\Code\\公司\\SMS203\\ED2_u0053u004du0053u0046u0043u005fu0030u0032u0030u0033_MBBR1_2560Hz_1_1754_20241117044109.dat ED2\u0000\u0000\u0000\u0000\u0000\u0000\u0000\u0000\u0000\u0000\u0000\u0000\u0000 SMSFC\u0000\u0000\u0000\u0000\u0000\u0000\u0000\u0000\u0000\u0000\u0000 0203\u0000\u0000\u0000\u0000\u0000\u0000\u0000\u0000\u0000\u0000\u0000\u0000  0"
      ]
     },
     "metadata": {},
     "output_type": "display_data"
    },
    {
     "data": {
      "text/plain": [
       " 文件名 F:\\Code\\公司\\SMS203\\ED2_u0053u004du0053u0046u0043u005fu0030u0032u0030u0033_MBBR1_2560Hz_1_1754_20241117053414.dat ED2\u0000\u0000\u0000\u0000\u0000\u0000\u0000\u0000\u0000\u0000\u0000\u0000\u0000 SMSFC\u0000\u0000\u0000\u0000\u0000\u0000\u0000\u0000\u0000\u0000\u0000 0203\u0000\u0000\u0000\u0000\u0000\u0000\u0000\u0000\u0000\u0000\u0000\u0000  0"
      ]
     },
     "metadata": {},
     "output_type": "display_data"
    },
    {
     "data": {
      "text/plain": [
       " 文件名 F:\\Code\\公司\\SMS203\\ED2_u0053u004du0053u0046u0043u005fu0030u0032u0030u0033_MBBR1_2560Hz_1_1754_20241117053415.dat ED2\u0000\u0000\u0000\u0000\u0000\u0000\u0000\u0000\u0000\u0000\u0000\u0000\u0000 SMSFC\u0000\u0000\u0000\u0000\u0000\u0000\u0000\u0000\u0000\u0000\u0000 0203\u0000\u0000\u0000\u0000\u0000\u0000\u0000\u0000\u0000\u0000\u0000\u0000  0"
      ]
     },
     "metadata": {},
     "output_type": "display_data"
    },
    {
     "data": {
      "text/plain": [
       " 文件名 F:\\Code\\公司\\SMS203\\ED2_u0053u004du0053u0046u0043u005fu0030u0032u0030u0033_MBBR1_2560Hz_1_1754_20241117063257.dat ED2\u0000\u0000\u0000\u0000\u0000\u0000\u0000\u0000\u0000\u0000\u0000\u0000\u0000 SMSFC\u0000\u0000\u0000\u0000\u0000\u0000\u0000\u0000\u0000\u0000\u0000 0203\u0000\u0000\u0000\u0000\u0000\u0000\u0000\u0000\u0000\u0000\u0000\u0000  0"
      ]
     },
     "metadata": {},
     "output_type": "display_data"
    },
    {
     "data": {
      "text/plain": [
       " 文件名 F:\\Code\\公司\\SMS203\\ED2_u0053u004du0053u0046u0043u005fu0030u0032u0030u0033_MBBR1_2560Hz_1_1754_20241117073510.dat ED2\u0000\u0000\u0000\u0000\u0000\u0000\u0000\u0000\u0000\u0000\u0000\u0000\u0000 SMSFC\u0000\u0000\u0000\u0000\u0000\u0000\u0000\u0000\u0000\u0000\u0000 0203\u0000\u0000\u0000\u0000\u0000\u0000\u0000\u0000\u0000\u0000\u0000\u0000  0"
      ]
     },
     "metadata": {},
     "output_type": "display_data"
    },
    {
     "data": {
      "text/plain": [
       " 文件名 F:\\Code\\公司\\SMS203\\ED2_u0053u004du0053u0046u0043u005fu0030u0032u0030u0033_MBBR1_2560Hz_1_1754_20241117093805.dat ED2\u0000\u0000\u0000\u0000\u0000\u0000\u0000\u0000\u0000\u0000\u0000\u0000\u0000 SMSFC\u0000\u0000\u0000\u0000\u0000\u0000\u0000\u0000\u0000\u0000\u0000 0203\u0000\u0000\u0000\u0000\u0000\u0000\u0000\u0000\u0000\u0000\u0000\u0000  0"
      ]
     },
     "metadata": {},
     "output_type": "display_data"
    },
    {
     "data": {
      "text/plain": [
       " 文件名 F:\\Code\\公司\\SMS203\\ED2_u0053u004du0053u0046u0043u005fu0030u0032u0030u0033_MBBR1_2560Hz_1_1754_20241117103504.dat ED2\u0000\u0000\u0000\u0000\u0000\u0000\u0000\u0000\u0000\u0000\u0000\u0000\u0000 SMSFC\u0000\u0000\u0000\u0000\u0000\u0000\u0000\u0000\u0000\u0000\u0000 0203\u0000\u0000\u0000\u0000\u0000\u0000\u0000\u0000\u0000\u0000\u0000\u0000  0"
      ]
     },
     "metadata": {},
     "output_type": "display_data"
    },
    {
     "data": {
      "text/plain": [
       " 文件名 F:\\Code\\公司\\SMS203\\ED2_u0053u004du0053u0046u0043u005fu0030u0032u0030u0033_MBBR1_2560Hz_1_1754_20241117103505.dat ED2\u0000\u0000\u0000\u0000\u0000\u0000\u0000\u0000\u0000\u0000\u0000\u0000\u0000 SMSFC\u0000\u0000\u0000\u0000\u0000\u0000\u0000\u0000\u0000\u0000\u0000 0203\u0000\u0000\u0000\u0000\u0000\u0000\u0000\u0000\u0000\u0000\u0000\u0000  0"
      ]
     },
     "metadata": {},
     "output_type": "display_data"
    },
    {
     "data": {
      "text/plain": [
       " 文件名 F:\\Code\\公司\\SMS203\\ED2_u0053u004du0053u0046u0043u005fu0030u0032u0030u0033_MBBR1_2560Hz_1_1754_20241117123535.dat ED2\u0000\u0000\u0000\u0000\u0000\u0000\u0000\u0000\u0000\u0000\u0000\u0000\u0000 SMSFC\u0000\u0000\u0000\u0000\u0000\u0000\u0000\u0000\u0000\u0000\u0000 0203\u0000\u0000\u0000\u0000\u0000\u0000\u0000\u0000\u0000\u0000\u0000\u0000  0"
      ]
     },
     "metadata": {},
     "output_type": "display_data"
    },
    {
     "data": {
      "text/plain": [
       " 文件名 F:\\Code\\公司\\SMS203\\ED2_u0053u004du0053u0046u0043u005fu0030u0032u0030u0033_MBBR1_2560Hz_1_1754_20241117123537.dat ED2\u0000\u0000\u0000\u0000\u0000\u0000\u0000\u0000\u0000\u0000\u0000\u0000\u0000 SMSFC\u0000\u0000\u0000\u0000\u0000\u0000\u0000\u0000\u0000\u0000\u0000 0203\u0000\u0000\u0000\u0000\u0000\u0000\u0000\u0000\u0000\u0000\u0000\u0000  0"
      ]
     },
     "metadata": {},
     "output_type": "display_data"
    },
    {
     "data": {
      "text/plain": [
       " 文件名 F:\\Code\\公司\\SMS203\\ED2_u0053u004du0053u0046u0043u005fu0030u0032u0030u0033_MBBR1_2560Hz_1_1754_20241117133336.dat ED2\u0000\u0000\u0000\u0000\u0000\u0000\u0000\u0000\u0000\u0000\u0000\u0000\u0000 SMSFC\u0000\u0000\u0000\u0000\u0000\u0000\u0000\u0000\u0000\u0000\u0000 0203\u0000\u0000\u0000\u0000\u0000\u0000\u0000\u0000\u0000\u0000\u0000\u0000  0"
      ]
     },
     "metadata": {},
     "output_type": "display_data"
    },
    {
     "data": {
      "text/plain": [
       " 文件名 F:\\Code\\公司\\SMS203\\ED2_u0053u004du0053u0046u0043u005fu0030u0032u0030u0033_MBBR1_2560Hz_1_1754_20241117133337.dat ED2\u0000\u0000\u0000\u0000\u0000\u0000\u0000\u0000\u0000\u0000\u0000\u0000\u0000 SMSFC\u0000\u0000\u0000\u0000\u0000\u0000\u0000\u0000\u0000\u0000\u0000 0203\u0000\u0000\u0000\u0000\u0000\u0000\u0000\u0000\u0000\u0000\u0000\u0000  0"
      ]
     },
     "metadata": {},
     "output_type": "display_data"
    },
    {
     "data": {
      "text/plain": [
       " 文件名 F:\\Code\\公司\\SMS203\\ED2_u0053u004du0053u0046u0043u005fu0030u0032u0030u0033_MBBR1_2560Hz_1_1754_20241117233747.dat ED2\u0000\u0000\u0000\u0000\u0000\u0000\u0000\u0000\u0000\u0000\u0000\u0000\u0000 SMSFC\u0000\u0000\u0000\u0000\u0000\u0000\u0000\u0000\u0000\u0000\u0000 0203\u0000\u0000\u0000\u0000\u0000\u0000\u0000\u0000\u0000\u0000\u0000\u0000  0"
      ]
     },
     "metadata": {},
     "output_type": "display_data"
    },
    {
     "data": {
      "text/plain": [
       " 文件名 F:\\Code\\公司\\SMS203\\ED2_u0053u004du0053u0046u0043u005fu0030u0032u0030u0033_MBBR1_2560Hz_1_1755_20241117023509.dat ED2\u0000\u0000\u0000\u0000\u0000\u0000\u0000\u0000\u0000\u0000\u0000\u0000\u0000 SMSFC\u0000\u0000\u0000\u0000\u0000\u0000\u0000\u0000\u0000\u0000\u0000 0203\u0000\u0000\u0000\u0000\u0000\u0000\u0000\u0000\u0000\u0000\u0000\u0000  0"
      ]
     },
     "metadata": {},
     "output_type": "display_data"
    },
    {
     "data": {
      "text/plain": [
       " 文件名 F:\\Code\\公司\\SMS203\\ED2_u0053u004du0053u0046u0043u005fu0030u0032u0030u0033_MBBR1_2560Hz_1_1755_20241117033818.dat ED2\u0000\u0000\u0000\u0000\u0000\u0000\u0000\u0000\u0000\u0000\u0000\u0000\u0000 SMSFC\u0000\u0000\u0000\u0000\u0000\u0000\u0000\u0000\u0000\u0000\u0000 0203\u0000\u0000\u0000\u0000\u0000\u0000\u0000\u0000\u0000\u0000\u0000\u0000  0"
      ]
     },
     "metadata": {},
     "output_type": "display_data"
    },
    {
     "data": {
      "text/plain": [
       " 文件名 F:\\Code\\公司\\SMS203\\ED2_u0053u004du0053u0046u0043u005fu0030u0032u0030u0033_MBBR1_2560Hz_1_1755_20241117063256.dat ED2\u0000\u0000\u0000\u0000\u0000\u0000\u0000\u0000\u0000\u0000\u0000\u0000\u0000 SMSFC\u0000\u0000\u0000\u0000\u0000\u0000\u0000\u0000\u0000\u0000\u0000 0203\u0000\u0000\u0000\u0000\u0000\u0000\u0000\u0000\u0000\u0000\u0000\u0000  0"
      ]
     },
     "metadata": {},
     "output_type": "display_data"
    },
    {
     "data": {
      "text/plain": [
       " 文件名 F:\\Code\\公司\\SMS203\\ED2_u0053u004du0053u0046u0043u005fu0030u0032u0030u0033_MBBR1_2560Hz_1_1755_20241117093807.dat ED2\u0000\u0000\u0000\u0000\u0000\u0000\u0000\u0000\u0000\u0000\u0000\u0000\u0000 SMSFC\u0000\u0000\u0000\u0000\u0000\u0000\u0000\u0000\u0000\u0000\u0000 0203\u0000\u0000\u0000\u0000\u0000\u0000\u0000\u0000\u0000\u0000\u0000\u0000  0"
      ]
     },
     "metadata": {},
     "output_type": "display_data"
    },
    {
     "data": {
      "text/plain": [
       " 文件名 F:\\Code\\公司\\SMS203\\ED2_u0053u004du0053u0046u0043u005fu0030u0032u0030u0033_MBBR1_2560Hz_1_1755_20241117113425.dat ED2\u0000\u0000\u0000\u0000\u0000\u0000\u0000\u0000\u0000\u0000\u0000\u0000\u0000 SMSFC\u0000\u0000\u0000\u0000\u0000\u0000\u0000\u0000\u0000\u0000\u0000 0203\u0000\u0000\u0000\u0000\u0000\u0000\u0000\u0000\u0000\u0000\u0000\u0000  0"
      ]
     },
     "metadata": {},
     "output_type": "display_data"
    },
    {
     "data": {
      "text/plain": [
       " 文件名 F:\\Code\\公司\\SMS203\\ED2_u0053u004du0053u0046u0043u005fu0030u0032u0030u0033_MBBR1_2560Hz_1_1755_20241117123537.dat ED2\u0000\u0000\u0000\u0000\u0000\u0000\u0000\u0000\u0000\u0000\u0000\u0000\u0000 SMSFC\u0000\u0000\u0000\u0000\u0000\u0000\u0000\u0000\u0000\u0000\u0000 0203\u0000\u0000\u0000\u0000\u0000\u0000\u0000\u0000\u0000\u0000\u0000\u0000  0"
      ]
     },
     "metadata": {},
     "output_type": "display_data"
    },
    {
     "data": {
      "text/plain": [
       " 文件名 F:\\Code\\公司\\SMS203\\ED2_u0053u004du0053u0046u0043u005fu0030u0032u0030u0033_MBBR1_2560Hz_1_1755_20241117233746.dat ED2\u0000\u0000\u0000\u0000\u0000\u0000\u0000\u0000\u0000\u0000\u0000\u0000\u0000 SMSFC\u0000\u0000\u0000\u0000\u0000\u0000\u0000\u0000\u0000\u0000\u0000 0203\u0000\u0000\u0000\u0000\u0000\u0000\u0000\u0000\u0000\u0000\u0000\u0000  0"
      ]
     },
     "metadata": {},
     "output_type": "display_data"
    },
    {
     "data": {
      "text/plain": [
       " 文件名 F:\\Code\\公司\\SMS203\\ED2_u0053u004du0053u0046u0043u005fu0030u0032u0030u0033_MBBR1_2560Hz_1_1756_20241117013757.dat ED2\u0000\u0000\u0000\u0000\u0000\u0000\u0000\u0000\u0000\u0000\u0000\u0000\u0000 SMSFC\u0000\u0000\u0000\u0000\u0000\u0000\u0000\u0000\u0000\u0000\u0000 0203\u0000\u0000\u0000\u0000\u0000\u0000\u0000\u0000\u0000\u0000\u0000\u0000  0"
      ]
     },
     "metadata": {},
     "output_type": "display_data"
    },
    {
     "data": {
      "text/plain": [
       " 文件名 F:\\Code\\公司\\SMS203\\ED2_u0053u004du0053u0046u0043u005fu0030u0032u0030u0033_MBGR1_2560Hz_1_0_20241117063259.dat ED2\u0000\u0000\u0000\u0000\u0000\u0000\u0000\u0000\u0000\u0000\u0000\u0000\u0000 SMSFC\u0000\u0000\u0000\u0000\u0000\u0000\u0000\u0000\u0000\u0000\u0000 0203\u0000\u0000\u0000\u0000\u0000\u0000\u0000\u0000\u0000\u0000\u0000\u0000  0.185299"
      ]
     },
     "metadata": {},
     "output_type": "display_data"
    },
    {
     "data": {
      "text/plain": [
       " 文件名 F:\\Code\\公司\\SMS203\\ED2_u0053u004du0053u0046u0043u005fu0030u0032u0030u0033_MBGR1_2560Hz_1_1152_20241117053417.dat ED2\u0000\u0000\u0000\u0000\u0000\u0000\u0000\u0000\u0000\u0000\u0000\u0000\u0000 SMSFC\u0000\u0000\u0000\u0000\u0000\u0000\u0000\u0000\u0000\u0000\u0000 0203\u0000\u0000\u0000\u0000\u0000\u0000\u0000\u0000\u0000\u0000\u0000\u0000  0.231822"
      ]
     },
     "metadata": {},
     "output_type": "display_data"
    },
    {
     "data": {
      "text/plain": [
       " 文件名 F:\\Code\\公司\\SMS203\\ED2_u0053u004du0053u0046u0043u005fu0030u0032u0030u0033_MBGR1_2560Hz_1_1253_20241117053416.dat ED2\u0000\u0000\u0000\u0000\u0000\u0000\u0000\u0000\u0000\u0000\u0000\u0000\u0000 SMSFC\u0000\u0000\u0000\u0000\u0000\u0000\u0000\u0000\u0000\u0000\u0000 0203\u0000\u0000\u0000\u0000\u0000\u0000\u0000\u0000\u0000\u0000\u0000\u0000  0.243225"
      ]
     },
     "metadata": {},
     "output_type": "display_data"
    },
    {
     "data": {
      "text/plain": [
       " 文件名 F:\\Code\\公司\\SMS203\\ED2_u0053u004du0053u0046u0043u005fu0030u0032u0030u0033_MBGR1_2560Hz_1_1384_20241117113427.dat ED2\u0000\u0000\u0000\u0000\u0000\u0000\u0000\u0000\u0000\u0000\u0000\u0000\u0000 SMSFC\u0000\u0000\u0000\u0000\u0000\u0000\u0000\u0000\u0000\u0000\u0000 0203\u0000\u0000\u0000\u0000\u0000\u0000\u0000\u0000\u0000\u0000\u0000\u0000  0.285933"
      ]
     },
     "metadata": {},
     "output_type": "display_data"
    },
    {
     "data": {
      "text/plain": [
       " 文件名 F:\\Code\\公司\\SMS203\\ED2_u0053u004du0053u0046u0043u005fu0030u0032u0030u0033_MBGR1_2560Hz_1_1425_20241117033824.dat ED2\u0000\u0000\u0000\u0000\u0000\u0000\u0000\u0000\u0000\u0000\u0000\u0000\u0000 SMSFC\u0000\u0000\u0000\u0000\u0000\u0000\u0000\u0000\u0000\u0000\u0000 0203\u0000\u0000\u0000\u0000\u0000\u0000\u0000\u0000\u0000\u0000\u0000\u0000  0.257967"
      ]
     },
     "metadata": {},
     "output_type": "display_data"
    },
    {
     "data": {
      "text/plain": [
       " 文件名 F:\\Code\\公司\\SMS203\\ED2_u0053u004du0053u0046u0043u005fu0030u0032u0030u0033_MBGR1_2560Hz_1_1554_20241117003437.dat ED2\u0000\u0000\u0000\u0000\u0000\u0000\u0000\u0000\u0000\u0000\u0000\u0000\u0000 SMSFC\u0000\u0000\u0000\u0000\u0000\u0000\u0000\u0000\u0000\u0000\u0000 0203\u0000\u0000\u0000\u0000\u0000\u0000\u0000\u0000\u0000\u0000\u0000\u0000  0.257149"
      ]
     },
     "metadata": {},
     "output_type": "display_data"
    },
    {
     "data": {
      "text/plain": [
       " 文件名 F:\\Code\\公司\\SMS203\\ED2_u0053u004du0053u0046u0043u005fu0030u0032u0030u0033_MBGR1_2560Hz_1_1581_20241117033823.dat ED2\u0000\u0000\u0000\u0000\u0000\u0000\u0000\u0000\u0000\u0000\u0000\u0000\u0000 SMSFC\u0000\u0000\u0000\u0000\u0000\u0000\u0000\u0000\u0000\u0000\u0000 0203\u0000\u0000\u0000\u0000\u0000\u0000\u0000\u0000\u0000\u0000\u0000\u0000  0.27849"
      ]
     },
     "metadata": {},
     "output_type": "display_data"
    },
    {
     "data": {
      "text/plain": [
       " 文件名 F:\\Code\\公司\\SMS203\\ED2_u0053u004du0053u0046u0043u005fu0030u0032u0030u0033_MBGR1_2560Hz_1_1581_20241117123539.dat ED2\u0000\u0000\u0000\u0000\u0000\u0000\u0000\u0000\u0000\u0000\u0000\u0000\u0000 SMSFC\u0000\u0000\u0000\u0000\u0000\u0000\u0000\u0000\u0000\u0000\u0000 0203\u0000\u0000\u0000\u0000\u0000\u0000\u0000\u0000\u0000\u0000\u0000\u0000  0.27849"
      ]
     },
     "metadata": {},
     "output_type": "display_data"
    },
    {
     "data": {
      "text/plain": [
       " 文件名 F:\\Code\\公司\\SMS203\\ED2_u0053u004du0053u0046u0043u005fu0030u0032u0030u0033_MBGR1_2560Hz_1_1603_20241117003437.dat ED2\u0000\u0000\u0000\u0000\u0000\u0000\u0000\u0000\u0000\u0000\u0000\u0000\u0000 SMSFC\u0000\u0000\u0000\u0000\u0000\u0000\u0000\u0000\u0000\u0000\u0000 0203\u0000\u0000\u0000\u0000\u0000\u0000\u0000\u0000\u0000\u0000\u0000\u0000  0.257355"
      ]
     },
     "metadata": {},
     "output_type": "display_data"
    },
    {
     "data": {
      "text/plain": [
       " 文件名 F:\\Code\\公司\\SMS203\\ED2_u0053u004du0053u0046u0043u005fu0030u0032u0030u0033_MBGR1_2560Hz_1_1618_20241117013759.dat ED2\u0000\u0000\u0000\u0000\u0000\u0000\u0000\u0000\u0000\u0000\u0000\u0000\u0000 SMSFC\u0000\u0000\u0000\u0000\u0000\u0000\u0000\u0000\u0000\u0000\u0000 0203\u0000\u0000\u0000\u0000\u0000\u0000\u0000\u0000\u0000\u0000\u0000\u0000  0.269842"
      ]
     },
     "metadata": {},
     "output_type": "display_data"
    },
    {
     "data": {
      "text/plain": [
       " 文件名 F:\\Code\\公司\\SMS203\\ED2_u0053u004du0053u0046u0043u005fu0030u0032u0030u0033_MBGR1_2560Hz_1_1625_20241117033822.dat ED2\u0000\u0000\u0000\u0000\u0000\u0000\u0000\u0000\u0000\u0000\u0000\u0000\u0000 SMSFC\u0000\u0000\u0000\u0000\u0000\u0000\u0000\u0000\u0000\u0000\u0000 0203\u0000\u0000\u0000\u0000\u0000\u0000\u0000\u0000\u0000\u0000\u0000\u0000  0.273295"
      ]
     },
     "metadata": {},
     "output_type": "display_data"
    },
    {
     "data": {
      "text/plain": [
       " 文件名 F:\\Code\\公司\\SMS203\\ED2_u0053u004du0053u0046u0043u005fu0030u0032u0030u0033_MBGR1_2560Hz_1_1630_20241117083556.dat ED2\u0000\u0000\u0000\u0000\u0000\u0000\u0000\u0000\u0000\u0000\u0000\u0000\u0000 SMSFC\u0000\u0000\u0000\u0000\u0000\u0000\u0000\u0000\u0000\u0000\u0000 0203\u0000\u0000\u0000\u0000\u0000\u0000\u0000\u0000\u0000\u0000\u0000\u0000  0.272188"
      ]
     },
     "metadata": {},
     "output_type": "display_data"
    },
    {
     "data": {
      "text/plain": [
       " 文件名 F:\\Code\\公司\\SMS203\\ED2_u0053u004du0053u0046u0043u005fu0030u0032u0030u0033_MBGR1_2560Hz_1_1636_20241117123539.dat ED2\u0000\u0000\u0000\u0000\u0000\u0000\u0000\u0000\u0000\u0000\u0000\u0000\u0000 SMSFC\u0000\u0000\u0000\u0000\u0000\u0000\u0000\u0000\u0000\u0000\u0000 0203\u0000\u0000\u0000\u0000\u0000\u0000\u0000\u0000\u0000\u0000\u0000\u0000  0.257794"
      ]
     },
     "metadata": {},
     "output_type": "display_data"
    },
    {
     "data": {
      "text/plain": [
       " 文件名 F:\\Code\\公司\\SMS203\\ED2_u0053u004du0053u0046u0043u005fu0030u0032u0030u0033_MBGR1_2560Hz_1_1639_20241117063259.dat ED2\u0000\u0000\u0000\u0000\u0000\u0000\u0000\u0000\u0000\u0000\u0000\u0000\u0000 SMSFC\u0000\u0000\u0000\u0000\u0000\u0000\u0000\u0000\u0000\u0000\u0000 0203\u0000\u0000\u0000\u0000\u0000\u0000\u0000\u0000\u0000\u0000\u0000\u0000  0.267691"
      ]
     },
     "metadata": {},
     "output_type": "display_data"
    },
    {
     "data": {
      "text/plain": [
       " 文件名 F:\\Code\\公司\\SMS203\\ED2_u0053u004du0053u0046u0043u005fu0030u0032u0030u0033_MBGR1_2560Hz_1_1682_20241117003437.dat ED2\u0000\u0000\u0000\u0000\u0000\u0000\u0000\u0000\u0000\u0000\u0000\u0000\u0000 SMSFC\u0000\u0000\u0000\u0000\u0000\u0000\u0000\u0000\u0000\u0000\u0000 0203\u0000\u0000\u0000\u0000\u0000\u0000\u0000\u0000\u0000\u0000\u0000\u0000  0.244384"
      ]
     },
     "metadata": {},
     "output_type": "display_data"
    },
    {
     "data": {
      "text/plain": [
       " 文件名 F:\\Code\\公司\\SMS203\\ED2_u0053u004du0053u0046u0043u005fu0030u0032u0030u0033_MBGR1_2560Hz_1_1711_20241117023513.dat ED2\u0000\u0000\u0000\u0000\u0000\u0000\u0000\u0000\u0000\u0000\u0000\u0000\u0000 SMSFC\u0000\u0000\u0000\u0000\u0000\u0000\u0000\u0000\u0000\u0000\u0000 0203\u0000\u0000\u0000\u0000\u0000\u0000\u0000\u0000\u0000\u0000\u0000\u0000  0.267706"
      ]
     },
     "metadata": {},
     "output_type": "display_data"
    },
    {
     "data": {
      "text/plain": [
       " 文件名 F:\\Code\\公司\\SMS203\\ED2_u0053u004du0053u0046u0043u005fu0030u0032u0030u0033_MBGR1_2560Hz_1_1730_20241117123539.dat ED2\u0000\u0000\u0000\u0000\u0000\u0000\u0000\u0000\u0000\u0000\u0000\u0000\u0000 SMSFC\u0000\u0000\u0000\u0000\u0000\u0000\u0000\u0000\u0000\u0000\u0000 0203\u0000\u0000\u0000\u0000\u0000\u0000\u0000\u0000\u0000\u0000\u0000\u0000  0.261971"
      ]
     },
     "metadata": {},
     "output_type": "display_data"
    },
    {
     "data": {
      "text/plain": [
       " 文件名 F:\\Code\\公司\\SMS203\\ED2_u0053u004du0053u0046u0043u005fu0030u0032u0030u0033_MBGR1_2560Hz_1_1735_20241117013759.dat ED2\u0000\u0000\u0000\u0000\u0000\u0000\u0000\u0000\u0000\u0000\u0000\u0000\u0000 SMSFC\u0000\u0000\u0000\u0000\u0000\u0000\u0000\u0000\u0000\u0000\u0000 0203\u0000\u0000\u0000\u0000\u0000\u0000\u0000\u0000\u0000\u0000\u0000\u0000  0.270154"
      ]
     },
     "metadata": {},
     "output_type": "display_data"
    },
    {
     "data": {
      "text/plain": [
       " 文件名 F:\\Code\\公司\\SMS203\\ED2_u0053u004du0053u0046u0043u005fu0030u0032u0030u0033_MBGR1_2560Hz_1_1740_20241117083556.dat ED2\u0000\u0000\u0000\u0000\u0000\u0000\u0000\u0000\u0000\u0000\u0000\u0000\u0000 SMSFC\u0000\u0000\u0000\u0000\u0000\u0000\u0000\u0000\u0000\u0000\u0000 0203\u0000\u0000\u0000\u0000\u0000\u0000\u0000\u0000\u0000\u0000\u0000\u0000  0.277477"
      ]
     },
     "metadata": {},
     "output_type": "display_data"
    },
    {
     "data": {
      "text/plain": [
       " 文件名 F:\\Code\\公司\\SMS203\\ED2_u0053u004du0053u0046u0043u005fu0030u0032u0030u0033_MBGR1_2560Hz_1_1746_20241117013757.dat ED2\u0000\u0000\u0000\u0000\u0000\u0000\u0000\u0000\u0000\u0000\u0000\u0000\u0000 SMSFC\u0000\u0000\u0000\u0000\u0000\u0000\u0000\u0000\u0000\u0000\u0000 0203\u0000\u0000\u0000\u0000\u0000\u0000\u0000\u0000\u0000\u0000\u0000\u0000  0.268975"
      ]
     },
     "metadata": {},
     "output_type": "display_data"
    },
    {
     "data": {
      "text/plain": [
       " 文件名 F:\\Code\\公司\\SMS203\\ED2_u0053u004du0053u0046u0043u005fu0030u0032u0030u0033_MBGR1_2560Hz_1_1746_20241117113428.dat ED2\u0000\u0000\u0000\u0000\u0000\u0000\u0000\u0000\u0000\u0000\u0000\u0000\u0000 SMSFC\u0000\u0000\u0000\u0000\u0000\u0000\u0000\u0000\u0000\u0000\u0000 0203\u0000\u0000\u0000\u0000\u0000\u0000\u0000\u0000\u0000\u0000\u0000\u0000  0.268975"
      ]
     },
     "metadata": {},
     "output_type": "display_data"
    },
    {
     "data": {
      "text/plain": [
       " 文件名 F:\\Code\\公司\\SMS203\\ED2_u0053u004du0053u0046u0043u005fu0030u0032u0030u0033_MBGR1_2560Hz_1_1749_20241117003435.dat ED2\u0000\u0000\u0000\u0000\u0000\u0000\u0000\u0000\u0000\u0000\u0000\u0000\u0000 SMSFC\u0000\u0000\u0000\u0000\u0000\u0000\u0000\u0000\u0000\u0000\u0000 0203\u0000\u0000\u0000\u0000\u0000\u0000\u0000\u0000\u0000\u0000\u0000\u0000  0.276208"
      ]
     },
     "metadata": {},
     "output_type": "display_data"
    },
    {
     "data": {
      "text/plain": [
       " 文件名 F:\\Code\\公司\\SMS203\\ED2_u0053u004du0053u0046u0043u005fu0030u0032u0030u0033_MBGR1_2560Hz_1_1750_20241117023512.dat ED2\u0000\u0000\u0000\u0000\u0000\u0000\u0000\u0000\u0000\u0000\u0000\u0000\u0000 SMSFC\u0000\u0000\u0000\u0000\u0000\u0000\u0000\u0000\u0000\u0000\u0000 0203\u0000\u0000\u0000\u0000\u0000\u0000\u0000\u0000\u0000\u0000\u0000\u0000  0.470588"
      ]
     },
     "metadata": {},
     "output_type": "display_data"
    },
    {
     "data": {
      "text/plain": [
       " 文件名 F:\\Code\\公司\\SMS203\\ED2_u0053u004du0053u0046u0043u005fu0030u0032u0030u0033_MBGR1_2560Hz_1_1750_20241117093809.dat ED2\u0000\u0000\u0000\u0000\u0000\u0000\u0000\u0000\u0000\u0000\u0000\u0000\u0000 SMSFC\u0000\u0000\u0000\u0000\u0000\u0000\u0000\u0000\u0000\u0000\u0000 0203\u0000\u0000\u0000\u0000\u0000\u0000\u0000\u0000\u0000\u0000\u0000\u0000  0.305024"
      ]
     },
     "metadata": {},
     "output_type": "display_data"
    },
    {
     "data": {
      "text/plain": [
       " 文件名 F:\\Code\\公司\\SMS203\\ED2_u0053u004du0053u0046u0043u005fu0030u0032u0030u0033_MBGR1_2560Hz_1_1751_20241117103505.dat ED2\u0000\u0000\u0000\u0000\u0000\u0000\u0000\u0000\u0000\u0000\u0000\u0000\u0000 SMSFC\u0000\u0000\u0000\u0000\u0000\u0000\u0000\u0000\u0000\u0000\u0000 0203\u0000\u0000\u0000\u0000\u0000\u0000\u0000\u0000\u0000\u0000\u0000\u0000  0.300679"
      ]
     },
     "metadata": {},
     "output_type": "display_data"
    },
    {
     "data": {
      "text/plain": [
       " 文件名 F:\\Code\\公司\\SMS203\\ED2_u0053u004du0053u0046u0043u005fu0030u0032u0030u0033_MBGR1_2560Hz_1_1751_20241117103506.dat ED2\u0000\u0000\u0000\u0000\u0000\u0000\u0000\u0000\u0000\u0000\u0000\u0000\u0000 SMSFC\u0000\u0000\u0000\u0000\u0000\u0000\u0000\u0000\u0000\u0000\u0000 0203\u0000\u0000\u0000\u0000\u0000\u0000\u0000\u0000\u0000\u0000\u0000\u0000  0.276754"
      ]
     },
     "metadata": {},
     "output_type": "display_data"
    },
    {
     "data": {
      "text/plain": [
       " 文件名 F:\\Code\\公司\\SMS203\\ED2_u0053u004du0053u0046u0043u005fu0030u0032u0030u0033_MBGR1_2560Hz_1_1751_20241117103507.dat ED2\u0000\u0000\u0000\u0000\u0000\u0000\u0000\u0000\u0000\u0000\u0000\u0000\u0000 SMSFC\u0000\u0000\u0000\u0000\u0000\u0000\u0000\u0000\u0000\u0000\u0000 0203\u0000\u0000\u0000\u0000\u0000\u0000\u0000\u0000\u0000\u0000\u0000\u0000  0.295445"
      ]
     },
     "metadata": {},
     "output_type": "display_data"
    },
    {
     "data": {
      "text/plain": [
       " 文件名 F:\\Code\\公司\\SMS203\\ED2_u0053u004du0053u0046u0043u005fu0030u0032u0030u0033_MBGR1_2560Hz_1_1751_20241117233749.dat ED2\u0000\u0000\u0000\u0000\u0000\u0000\u0000\u0000\u0000\u0000\u0000\u0000\u0000 SMSFC\u0000\u0000\u0000\u0000\u0000\u0000\u0000\u0000\u0000\u0000\u0000 0203\u0000\u0000\u0000\u0000\u0000\u0000\u0000\u0000\u0000\u0000\u0000\u0000  0.295445"
      ]
     },
     "metadata": {},
     "output_type": "display_data"
    },
    {
     "data": {
      "text/plain": [
       " 文件名 F:\\Code\\公司\\SMS203\\ED2_u0053u004du0053u0046u0043u005fu0030u0032u0030u0033_MBGR1_2560Hz_1_1752_20241117044110.dat ED2\u0000\u0000\u0000\u0000\u0000\u0000\u0000\u0000\u0000\u0000\u0000\u0000\u0000 SMSFC\u0000\u0000\u0000\u0000\u0000\u0000\u0000\u0000\u0000\u0000\u0000 0203\u0000\u0000\u0000\u0000\u0000\u0000\u0000\u0000\u0000\u0000\u0000\u0000  0.354567"
      ]
     },
     "metadata": {},
     "output_type": "display_data"
    },
    {
     "data": {
      "text/plain": [
       " 文件名 F:\\Code\\公司\\SMS203\\ED2_u0053u004du0053u0046u0043u005fu0030u0032u0030u0033_MBGR1_2560Hz_1_1752_20241117044112.dat ED2\u0000\u0000\u0000\u0000\u0000\u0000\u0000\u0000\u0000\u0000\u0000\u0000\u0000 SMSFC\u0000\u0000\u0000\u0000\u0000\u0000\u0000\u0000\u0000\u0000\u0000 0203\u0000\u0000\u0000\u0000\u0000\u0000\u0000\u0000\u0000\u0000\u0000\u0000  0.329557"
      ]
     },
     "metadata": {},
     "output_type": "display_data"
    },
    {
     "data": {
      "text/plain": [
       " 文件名 F:\\Code\\公司\\SMS203\\ED2_u0053u004du0053u0046u0043u005fu0030u0032u0030u0033_MBGR1_2560Hz_1_1752_20241117103506.dat ED2\u0000\u0000\u0000\u0000\u0000\u0000\u0000\u0000\u0000\u0000\u0000\u0000\u0000 SMSFC\u0000\u0000\u0000\u0000\u0000\u0000\u0000\u0000\u0000\u0000\u0000 0203\u0000\u0000\u0000\u0000\u0000\u0000\u0000\u0000\u0000\u0000\u0000\u0000  0.354567"
      ]
     },
     "metadata": {},
     "output_type": "display_data"
    },
    {
     "data": {
      "text/plain": [
       " 文件名 F:\\Code\\公司\\SMS203\\ED2_u0053u004du0053u0046u0043u005fu0030u0032u0030u0033_MBGR1_2560Hz_1_1752_20241117133338.dat ED2\u0000\u0000\u0000\u0000\u0000\u0000\u0000\u0000\u0000\u0000\u0000\u0000\u0000 SMSFC\u0000\u0000\u0000\u0000\u0000\u0000\u0000\u0000\u0000\u0000\u0000 0203\u0000\u0000\u0000\u0000\u0000\u0000\u0000\u0000\u0000\u0000\u0000\u0000  0.29268"
      ]
     },
     "metadata": {},
     "output_type": "display_data"
    },
    {
     "data": {
      "text/plain": [
       " 文件名 F:\\Code\\公司\\SMS203\\ED2_u0053u004du0053u0046u0043u005fu0030u0032u0030u0033_MBGR1_2560Hz_1_1753_20241117013800.dat ED2\u0000\u0000\u0000\u0000\u0000\u0000\u0000\u0000\u0000\u0000\u0000\u0000\u0000 SMSFC\u0000\u0000\u0000\u0000\u0000\u0000\u0000\u0000\u0000\u0000\u0000 0203\u0000\u0000\u0000\u0000\u0000\u0000\u0000\u0000\u0000\u0000\u0000\u0000  0.323893"
      ]
     },
     "metadata": {},
     "output_type": "display_data"
    },
    {
     "data": {
      "text/plain": [
       " 文件名 F:\\Code\\公司\\SMS203\\ED2_u0053u004du0053u0046u0043u005fu0030u0032u0030u0033_MBGR1_2560Hz_1_1753_20241117023510.dat ED2\u0000\u0000\u0000\u0000\u0000\u0000\u0000\u0000\u0000\u0000\u0000\u0000\u0000 SMSFC\u0000\u0000\u0000\u0000\u0000\u0000\u0000\u0000\u0000\u0000\u0000 0203\u0000\u0000\u0000\u0000\u0000\u0000\u0000\u0000\u0000\u0000\u0000\u0000  0.415036"
      ]
     },
     "metadata": {},
     "output_type": "display_data"
    },
    {
     "data": {
      "text/plain": [
       " 文件名 F:\\Code\\公司\\SMS203\\ED2_u0053u004du0053u0046u0043u005fu0030u0032u0030u0033_MBGR1_2560Hz_1_1753_20241117023512.dat ED2\u0000\u0000\u0000\u0000\u0000\u0000\u0000\u0000\u0000\u0000\u0000\u0000\u0000 SMSFC\u0000\u0000\u0000\u0000\u0000\u0000\u0000\u0000\u0000\u0000\u0000 0203\u0000\u0000\u0000\u0000\u0000\u0000\u0000\u0000\u0000\u0000\u0000\u0000  0.432707"
      ]
     },
     "metadata": {},
     "output_type": "display_data"
    },
    {
     "data": {
      "text/plain": [
       " 文件名 F:\\Code\\公司\\SMS203\\ED2_u0053u004du0053u0046u0043u005fu0030u0032u0030u0033_MBGR1_2560Hz_1_1753_20241117044112.dat ED2\u0000\u0000\u0000\u0000\u0000\u0000\u0000\u0000\u0000\u0000\u0000\u0000\u0000 SMSFC\u0000\u0000\u0000\u0000\u0000\u0000\u0000\u0000\u0000\u0000\u0000 0203\u0000\u0000\u0000\u0000\u0000\u0000\u0000\u0000\u0000\u0000\u0000\u0000  0.339796"
      ]
     },
     "metadata": {},
     "output_type": "display_data"
    },
    {
     "data": {
      "text/plain": [
       " 文件名 F:\\Code\\公司\\SMS203\\ED2_u0053u004du0053u0046u0043u005fu0030u0032u0030u0033_MBGR1_2560Hz_1_1753_20241117053415.dat ED2\u0000\u0000\u0000\u0000\u0000\u0000\u0000\u0000\u0000\u0000\u0000\u0000\u0000 SMSFC\u0000\u0000\u0000\u0000\u0000\u0000\u0000\u0000\u0000\u0000\u0000 0203\u0000\u0000\u0000\u0000\u0000\u0000\u0000\u0000\u0000\u0000\u0000\u0000  0.309999"
      ]
     },
     "metadata": {},
     "output_type": "display_data"
    },
    {
     "data": {
      "text/plain": [
       " 文件名 F:\\Code\\公司\\SMS203\\ED2_u0053u004du0053u0046u0043u005fu0030u0032u0030u0033_MBGR1_2560Hz_1_1753_20241117053417.dat ED2\u0000\u0000\u0000\u0000\u0000\u0000\u0000\u0000\u0000\u0000\u0000\u0000\u0000 SMSFC\u0000\u0000\u0000\u0000\u0000\u0000\u0000\u0000\u0000\u0000\u0000 0203\u0000\u0000\u0000\u0000\u0000\u0000\u0000\u0000\u0000\u0000\u0000\u0000  0.349564"
      ]
     },
     "metadata": {},
     "output_type": "display_data"
    },
    {
     "data": {
      "text/plain": [
       " 文件名 F:\\Code\\公司\\SMS203\\ED2_u0053u004du0053u0046u0043u005fu0030u0032u0030u0033_MBGR1_2560Hz_1_1753_20241117073514.dat ED2\u0000\u0000\u0000\u0000\u0000\u0000\u0000\u0000\u0000\u0000\u0000\u0000\u0000 SMSFC\u0000\u0000\u0000\u0000\u0000\u0000\u0000\u0000\u0000\u0000\u0000 0203\u0000\u0000\u0000\u0000\u0000\u0000\u0000\u0000\u0000\u0000\u0000\u0000  0.330848"
      ]
     },
     "metadata": {},
     "output_type": "display_data"
    },
    {
     "data": {
      "text/plain": [
       " 文件名 F:\\Code\\公司\\SMS203\\ED2_u0053u004du0053u0046u0043u005fu0030u0032u0030u0033_MBGR1_2560Hz_1_1753_20241117093809.dat ED2\u0000\u0000\u0000\u0000\u0000\u0000\u0000\u0000\u0000\u0000\u0000\u0000\u0000 SMSFC\u0000\u0000\u0000\u0000\u0000\u0000\u0000\u0000\u0000\u0000\u0000 0203\u0000\u0000\u0000\u0000\u0000\u0000\u0000\u0000\u0000\u0000\u0000\u0000  0.458362"
      ]
     },
     "metadata": {},
     "output_type": "display_data"
    },
    {
     "data": {
      "text/plain": [
       " 文件名 F:\\Code\\公司\\SMS203\\ED2_u0053u004du0053u0046u0043u005fu0030u0032u0030u0033_MBGR1_2560Hz_1_1753_20241117133339.dat ED2\u0000\u0000\u0000\u0000\u0000\u0000\u0000\u0000\u0000\u0000\u0000\u0000\u0000 SMSFC\u0000\u0000\u0000\u0000\u0000\u0000\u0000\u0000\u0000\u0000\u0000 0203\u0000\u0000\u0000\u0000\u0000\u0000\u0000\u0000\u0000\u0000\u0000\u0000  0.273249"
      ]
     },
     "metadata": {},
     "output_type": "display_data"
    },
    {
     "data": {
      "text/plain": [
       " 文件名 F:\\Code\\公司\\SMS203\\ED2_u0053u004du0053u0046u0043u005fu0030u0032u0030u0033_MBGR1_2560Hz_1_1753_20241117233749.dat ED2\u0000\u0000\u0000\u0000\u0000\u0000\u0000\u0000\u0000\u0000\u0000\u0000\u0000 SMSFC\u0000\u0000\u0000\u0000\u0000\u0000\u0000\u0000\u0000\u0000\u0000 0203\u0000\u0000\u0000\u0000\u0000\u0000\u0000\u0000\u0000\u0000\u0000\u0000  0.415036"
      ]
     },
     "metadata": {},
     "output_type": "display_data"
    },
    {
     "data": {
      "text/plain": [
       " 文件名 F:\\Code\\公司\\SMS203\\ED2_u0053u004du0053u0046u0043u005fu0030u0032u0030u0033_MBGR1_2560Hz_1_1754_20241117023513.dat ED2\u0000\u0000\u0000\u0000\u0000\u0000\u0000\u0000\u0000\u0000\u0000\u0000\u0000 SMSFC\u0000\u0000\u0000\u0000\u0000\u0000\u0000\u0000\u0000\u0000\u0000 0203\u0000\u0000\u0000\u0000\u0000\u0000\u0000\u0000\u0000\u0000\u0000\u0000  0.295311"
      ]
     },
     "metadata": {},
     "output_type": "display_data"
    },
    {
     "data": {
      "text/plain": [
       " 文件名 F:\\Code\\公司\\SMS203\\ED2_u0053u004du0053u0046u0043u005fu0030u0032u0030u0033_MBGR1_2560Hz_1_1754_20241117033825.dat ED2\u0000\u0000\u0000\u0000\u0000\u0000\u0000\u0000\u0000\u0000\u0000\u0000\u0000 SMSFC\u0000\u0000\u0000\u0000\u0000\u0000\u0000\u0000\u0000\u0000\u0000 0203\u0000\u0000\u0000\u0000\u0000\u0000\u0000\u0000\u0000\u0000\u0000\u0000  0.311414"
      ]
     },
     "metadata": {},
     "output_type": "display_data"
    },
    {
     "data": {
      "text/plain": [
       " 文件名 F:\\Code\\公司\\SMS203\\ED2_u0053u004du0053u0046u0043u005fu0030u0032u0030u0033_MBGR1_2560Hz_1_1754_20241117044111.dat ED2\u0000\u0000\u0000\u0000\u0000\u0000\u0000\u0000\u0000\u0000\u0000\u0000\u0000 SMSFC\u0000\u0000\u0000\u0000\u0000\u0000\u0000\u0000\u0000\u0000\u0000 0203\u0000\u0000\u0000\u0000\u0000\u0000\u0000\u0000\u0000\u0000\u0000\u0000  0.298313"
      ]
     },
     "metadata": {},
     "output_type": "display_data"
    },
    {
     "data": {
      "text/plain": [
       " 文件名 F:\\Code\\公司\\SMS203\\ED2_u0053u004du0053u0046u0043u005fu0030u0032u0030u0033_MBGR1_2560Hz_1_1754_20241117053417.dat ED2\u0000\u0000\u0000\u0000\u0000\u0000\u0000\u0000\u0000\u0000\u0000\u0000\u0000 SMSFC\u0000\u0000\u0000\u0000\u0000\u0000\u0000\u0000\u0000\u0000\u0000 0203\u0000\u0000\u0000\u0000\u0000\u0000\u0000\u0000\u0000\u0000\u0000\u0000  0.318671"
      ]
     },
     "metadata": {},
     "output_type": "display_data"
    },
    {
     "data": {
      "text/plain": [
       " 文件名 F:\\Code\\公司\\SMS203\\ED2_u0053u004du0053u0046u0043u005fu0030u0032u0030u0033_MBGR1_2560Hz_1_1754_20241117063257.dat ED2\u0000\u0000\u0000\u0000\u0000\u0000\u0000\u0000\u0000\u0000\u0000\u0000\u0000 SMSFC\u0000\u0000\u0000\u0000\u0000\u0000\u0000\u0000\u0000\u0000\u0000 0203\u0000\u0000\u0000\u0000\u0000\u0000\u0000\u0000\u0000\u0000\u0000\u0000  0.282607"
      ]
     },
     "metadata": {},
     "output_type": "display_data"
    },
    {
     "data": {
      "text/plain": [
       " 文件名 F:\\Code\\公司\\SMS203\\ED2_u0053u004du0053u0046u0043u005fu0030u0032u0030u0033_MBGR1_2560Hz_1_1754_20241117063258.dat ED2\u0000\u0000\u0000\u0000\u0000\u0000\u0000\u0000\u0000\u0000\u0000\u0000\u0000 SMSFC\u0000\u0000\u0000\u0000\u0000\u0000\u0000\u0000\u0000\u0000\u0000 0203\u0000\u0000\u0000\u0000\u0000\u0000\u0000\u0000\u0000\u0000\u0000\u0000  0.27792"
      ]
     },
     "metadata": {},
     "output_type": "display_data"
    },
    {
     "data": {
      "text/plain": [
       " 文件名 F:\\Code\\公司\\SMS203\\ED2_u0053u004du0053u0046u0043u005fu0030u0032u0030u0033_MBGR1_2560Hz_1_1754_20241117063259.dat ED2\u0000\u0000\u0000\u0000\u0000\u0000\u0000\u0000\u0000\u0000\u0000\u0000\u0000 SMSFC\u0000\u0000\u0000\u0000\u0000\u0000\u0000\u0000\u0000\u0000\u0000 0203\u0000\u0000\u0000\u0000\u0000\u0000\u0000\u0000\u0000\u0000\u0000\u0000  0.352"
      ]
     },
     "metadata": {},
     "output_type": "display_data"
    },
    {
     "data": {
      "text/plain": [
       " 文件名 F:\\Code\\公司\\SMS203\\ED2_u0053u004du0053u0046u0043u005fu0030u0032u0030u0033_MBGR1_2560Hz_1_1754_20241117073514.dat ED2\u0000\u0000\u0000\u0000\u0000\u0000\u0000\u0000\u0000\u0000\u0000\u0000\u0000 SMSFC\u0000\u0000\u0000\u0000\u0000\u0000\u0000\u0000\u0000\u0000\u0000 0203\u0000\u0000\u0000\u0000\u0000\u0000\u0000\u0000\u0000\u0000\u0000\u0000  0.286214"
      ]
     },
     "metadata": {},
     "output_type": "display_data"
    },
    {
     "data": {
      "text/plain": [
       " 文件名 F:\\Code\\公司\\SMS203\\ED2_u0053u004du0053u0046u0043u005fu0030u0032u0030u0033_MBGR1_2560Hz_1_1754_20241117083554.dat ED2\u0000\u0000\u0000\u0000\u0000\u0000\u0000\u0000\u0000\u0000\u0000\u0000\u0000 SMSFC\u0000\u0000\u0000\u0000\u0000\u0000\u0000\u0000\u0000\u0000\u0000 0203\u0000\u0000\u0000\u0000\u0000\u0000\u0000\u0000\u0000\u0000\u0000\u0000  0.295357"
      ]
     },
     "metadata": {},
     "output_type": "display_data"
    },
    {
     "data": {
      "text/plain": [
       " 文件名 F:\\Code\\公司\\SMS203\\ED2_u0053u004du0053u0046u0043u005fu0030u0032u0030u0033_MBGR1_2560Hz_1_1754_20241117093809.dat ED2\u0000\u0000\u0000\u0000\u0000\u0000\u0000\u0000\u0000\u0000\u0000\u0000\u0000 SMSFC\u0000\u0000\u0000\u0000\u0000\u0000\u0000\u0000\u0000\u0000\u0000 0203\u0000\u0000\u0000\u0000\u0000\u0000\u0000\u0000\u0000\u0000\u0000\u0000  0.291025"
      ]
     },
     "metadata": {},
     "output_type": "display_data"
    },
    {
     "data": {
      "text/plain": [
       " 文件名 F:\\Code\\公司\\SMS203\\ED2_u0053u004du0053u0046u0043u005fu0030u0032u0030u0033_MBGR1_2560Hz_1_1754_20241117093810.dat ED2\u0000\u0000\u0000\u0000\u0000\u0000\u0000\u0000\u0000\u0000\u0000\u0000\u0000 SMSFC\u0000\u0000\u0000\u0000\u0000\u0000\u0000\u0000\u0000\u0000\u0000 0203\u0000\u0000\u0000\u0000\u0000\u0000\u0000\u0000\u0000\u0000\u0000\u0000  0.330828"
      ]
     },
     "metadata": {},
     "output_type": "display_data"
    },
    {
     "data": {
      "text/plain": [
       " 文件名 F:\\Code\\公司\\SMS203\\ED2_u0053u004du0053u0046u0043u005fu0030u0032u0030u0033_MBGR1_2560Hz_1_1754_20241117113425.dat ED2\u0000\u0000\u0000\u0000\u0000\u0000\u0000\u0000\u0000\u0000\u0000\u0000\u0000 SMSFC\u0000\u0000\u0000\u0000\u0000\u0000\u0000\u0000\u0000\u0000\u0000 0203\u0000\u0000\u0000\u0000\u0000\u0000\u0000\u0000\u0000\u0000\u0000\u0000  0.365185"
      ]
     },
     "metadata": {},
     "output_type": "display_data"
    },
    {
     "data": {
      "text/plain": [
       " 文件名 F:\\Code\\公司\\SMS203\\ED2_u0053u004du0053u0046u0043u005fu0030u0032u0030u0033_MBGR1_2560Hz_1_1754_20241117113428.dat ED2\u0000\u0000\u0000\u0000\u0000\u0000\u0000\u0000\u0000\u0000\u0000\u0000\u0000 SMSFC\u0000\u0000\u0000\u0000\u0000\u0000\u0000\u0000\u0000\u0000\u0000 0203\u0000\u0000\u0000\u0000\u0000\u0000\u0000\u0000\u0000\u0000\u0000\u0000  0.344318"
      ]
     },
     "metadata": {},
     "output_type": "display_data"
    },
    {
     "data": {
      "text/plain": [
       " 文件名 F:\\Code\\公司\\SMS203\\ED2_u0053u004du0053u0046u0043u005fu0030u0032u0030u0033_MBGR1_2560Hz_1_1754_20241117123537.dat ED2\u0000\u0000\u0000\u0000\u0000\u0000\u0000\u0000\u0000\u0000\u0000\u0000\u0000 SMSFC\u0000\u0000\u0000\u0000\u0000\u0000\u0000\u0000\u0000\u0000\u0000 0203\u0000\u0000\u0000\u0000\u0000\u0000\u0000\u0000\u0000\u0000\u0000\u0000  0.296144"
      ]
     },
     "metadata": {},
     "output_type": "display_data"
    },
    {
     "data": {
      "text/plain": [
       " 文件名 F:\\Code\\公司\\SMS203\\ED2_u0053u004du0053u0046u0043u005fu0030u0032u0030u0033_MBGR1_2560Hz_1_1754_20241117123538.dat ED2\u0000\u0000\u0000\u0000\u0000\u0000\u0000\u0000\u0000\u0000\u0000\u0000\u0000 SMSFC\u0000\u0000\u0000\u0000\u0000\u0000\u0000\u0000\u0000\u0000\u0000 0203\u0000\u0000\u0000\u0000\u0000\u0000\u0000\u0000\u0000\u0000\u0000\u0000  0.293956"
      ]
     },
     "metadata": {},
     "output_type": "display_data"
    },
    {
     "data": {
      "text/plain": [
       " 文件名 F:\\Code\\公司\\SMS203\\ED2_u0053u004du0053u0046u0043u005fu0030u0032u0030u0033_MBGR1_2560Hz_1_1754_20241117133339.dat ED2\u0000\u0000\u0000\u0000\u0000\u0000\u0000\u0000\u0000\u0000\u0000\u0000\u0000 SMSFC\u0000\u0000\u0000\u0000\u0000\u0000\u0000\u0000\u0000\u0000\u0000 0203\u0000\u0000\u0000\u0000\u0000\u0000\u0000\u0000\u0000\u0000\u0000\u0000  0.330828"
      ]
     },
     "metadata": {},
     "output_type": "display_data"
    },
    {
     "data": {
      "text/plain": [
       " 文件名 F:\\Code\\公司\\SMS203\\ED2_u0053u004du0053u0046u0043u005fu0030u0032u0030u0033_MBGR1_2560Hz_1_1754_20241117233748.dat ED2\u0000\u0000\u0000\u0000\u0000\u0000\u0000\u0000\u0000\u0000\u0000\u0000\u0000 SMSFC\u0000\u0000\u0000\u0000\u0000\u0000\u0000\u0000\u0000\u0000\u0000 0203\u0000\u0000\u0000\u0000\u0000\u0000\u0000\u0000\u0000\u0000\u0000\u0000  0.278183"
      ]
     },
     "metadata": {},
     "output_type": "display_data"
    },
    {
     "data": {
      "text/plain": [
       " 文件名 F:\\Code\\公司\\SMS203\\ED2_u0053u004du0053u0046u0043u005fu0030u0032u0030u0033_MBGR1_2560Hz_1_1755_20241117003438.dat ED2\u0000\u0000\u0000\u0000\u0000\u0000\u0000\u0000\u0000\u0000\u0000\u0000\u0000 SMSFC\u0000\u0000\u0000\u0000\u0000\u0000\u0000\u0000\u0000\u0000\u0000 0203\u0000\u0000\u0000\u0000\u0000\u0000\u0000\u0000\u0000\u0000\u0000\u0000  0.306627"
      ]
     },
     "metadata": {},
     "output_type": "display_data"
    },
    {
     "data": {
      "text/plain": [
       " 文件名 F:\\Code\\公司\\SMS203\\ED2_u0053u004du0053u0046u0043u005fu0030u0032u0030u0033_MBGR1_2560Hz_1_1755_20241117013759.dat ED2\u0000\u0000\u0000\u0000\u0000\u0000\u0000\u0000\u0000\u0000\u0000\u0000\u0000 SMSFC\u0000\u0000\u0000\u0000\u0000\u0000\u0000\u0000\u0000\u0000\u0000 0203\u0000\u0000\u0000\u0000\u0000\u0000\u0000\u0000\u0000\u0000\u0000\u0000  0.3891"
      ]
     },
     "metadata": {},
     "output_type": "display_data"
    },
    {
     "data": {
      "text/plain": [
       " 文件名 F:\\Code\\公司\\SMS203\\ED2_u0053u004du0053u0046u0043u005fu0030u0032u0030u0033_MBGR1_2560Hz_1_1755_20241117033824.dat ED2\u0000\u0000\u0000\u0000\u0000\u0000\u0000\u0000\u0000\u0000\u0000\u0000\u0000 SMSFC\u0000\u0000\u0000\u0000\u0000\u0000\u0000\u0000\u0000\u0000\u0000 0203\u0000\u0000\u0000\u0000\u0000\u0000\u0000\u0000\u0000\u0000\u0000\u0000  0.285081"
      ]
     },
     "metadata": {},
     "output_type": "display_data"
    },
    {
     "data": {
      "text/plain": [
       " 文件名 F:\\Code\\公司\\SMS203\\ED2_u0053u004du0053u0046u0043u005fu0030u0032u0030u0033_MBGR1_2560Hz_1_1755_20241117073513.dat ED2\u0000\u0000\u0000\u0000\u0000\u0000\u0000\u0000\u0000\u0000\u0000\u0000\u0000 SMSFC\u0000\u0000\u0000\u0000\u0000\u0000\u0000\u0000\u0000\u0000\u0000 0203\u0000\u0000\u0000\u0000\u0000\u0000\u0000\u0000\u0000\u0000\u0000\u0000  0.4075"
      ]
     },
     "metadata": {},
     "output_type": "display_data"
    },
    {
     "data": {
      "text/plain": [
       " 文件名 F:\\Code\\公司\\SMS203\\ED2_u0053u004du0053u0046u0043u005fu0030u0032u0030u0033_MBGR1_2560Hz_1_1755_20241117083555.dat ED2\u0000\u0000\u0000\u0000\u0000\u0000\u0000\u0000\u0000\u0000\u0000\u0000\u0000 SMSFC\u0000\u0000\u0000\u0000\u0000\u0000\u0000\u0000\u0000\u0000\u0000 0203\u0000\u0000\u0000\u0000\u0000\u0000\u0000\u0000\u0000\u0000\u0000\u0000  0.3891"
      ]
     },
     "metadata": {},
     "output_type": "display_data"
    },
    {
     "data": {
      "text/plain": [
       " 文件名 F:\\Code\\公司\\SMS203\\ED2_u0053u004du0053u0046u0043u005fu0030u0032u0030u0033_MBGR1_2560Hz_1_1755_20241117083556.dat ED2\u0000\u0000\u0000\u0000\u0000\u0000\u0000\u0000\u0000\u0000\u0000\u0000\u0000 SMSFC\u0000\u0000\u0000\u0000\u0000\u0000\u0000\u0000\u0000\u0000\u0000 0203\u0000\u0000\u0000\u0000\u0000\u0000\u0000\u0000\u0000\u0000\u0000\u0000  0.321993"
      ]
     },
     "metadata": {},
     "output_type": "display_data"
    },
    {
     "data": {
      "text/plain": [
       " 文件名 F:\\Code\\公司\\SMS203\\ED2_u0053u004du0053u0046u0043u005fu0030u0032u0030u0033_MBGR1_2560Hz_1_1755_20241117093807.dat ED2\u0000\u0000\u0000\u0000\u0000\u0000\u0000\u0000\u0000\u0000\u0000\u0000\u0000 SMSFC\u0000\u0000\u0000\u0000\u0000\u0000\u0000\u0000\u0000\u0000\u0000 0203\u0000\u0000\u0000\u0000\u0000\u0000\u0000\u0000\u0000\u0000\u0000\u0000  0.35996"
      ]
     },
     "metadata": {},
     "output_type": "display_data"
    },
    {
     "data": {
      "text/plain": [
       " 文件名 F:\\Code\\公司\\SMS203\\ED2_u0053u004du0053u0046u0043u005fu0030u0032u0030u0033_MBGR1_2560Hz_1_1755_20241117103506.dat ED2\u0000\u0000\u0000\u0000\u0000\u0000\u0000\u0000\u0000\u0000\u0000\u0000\u0000 SMSFC\u0000\u0000\u0000\u0000\u0000\u0000\u0000\u0000\u0000\u0000\u0000 0203\u0000\u0000\u0000\u0000\u0000\u0000\u0000\u0000\u0000\u0000\u0000\u0000  0.293352"
      ]
     },
     "metadata": {},
     "output_type": "display_data"
    },
    {
     "data": {
      "text/plain": [
       " 文件名 F:\\Code\\公司\\SMS203\\ED2_u0053u004du0053u0046u0043u005fu0030u0032u0030u0033_MBGR1_2560Hz_1_1755_20241117113427.dat ED2\u0000\u0000\u0000\u0000\u0000\u0000\u0000\u0000\u0000\u0000\u0000\u0000\u0000 SMSFC\u0000\u0000\u0000\u0000\u0000\u0000\u0000\u0000\u0000\u0000\u0000 0203\u0000\u0000\u0000\u0000\u0000\u0000\u0000\u0000\u0000\u0000\u0000\u0000  0.4075"
      ]
     },
     "metadata": {},
     "output_type": "display_data"
    },
    {
     "data": {
      "text/plain": [
       " 文件名 F:\\Code\\公司\\SMS203\\ED2_u0053u004du0053u0046u0043u005fu0030u0032u0030u0033_MBGR1_2560Hz_1_1755_20241117133337.dat ED2\u0000\u0000\u0000\u0000\u0000\u0000\u0000\u0000\u0000\u0000\u0000\u0000\u0000 SMSFC\u0000\u0000\u0000\u0000\u0000\u0000\u0000\u0000\u0000\u0000\u0000 0203\u0000\u0000\u0000\u0000\u0000\u0000\u0000\u0000\u0000\u0000\u0000\u0000  0.435499"
      ]
     },
     "metadata": {},
     "output_type": "display_data"
    },
    {
     "data": {
      "text/plain": [
       " 文件名 F:\\Code\\公司\\SMS203\\ED2_u0053u004du0053u0046u0043u005fu0030u0032u0030u0033_MBGR1_2560Hz_1_1755_20241117233749.dat ED2\u0000\u0000\u0000\u0000\u0000\u0000\u0000\u0000\u0000\u0000\u0000\u0000\u0000 SMSFC\u0000\u0000\u0000\u0000\u0000\u0000\u0000\u0000\u0000\u0000\u0000 0203\u0000\u0000\u0000\u0000\u0000\u0000\u0000\u0000\u0000\u0000\u0000\u0000  0.288526"
      ]
     },
     "metadata": {},
     "output_type": "display_data"
    }
   ],
   "source": [
    "\n",
    "using System.IO;\n",
    "using System.Buffers.Binary;\n",
    "\n",
    "string path = @\"F:\\Code\\公司\\SMS203\";\n",
    "\n",
    "var list = Directory.EnumerateFiles(path, \"*\", SearchOption.AllDirectories).Where(s => s.EndsWith(\".dat\"));\n",
    "\n",
    "\n",
    "foreach(var file in list)\n",
    "{\n",
    "   var bytes = File.ReadAllBytes(file);\n",
    "//    display(bytes[134..144]);\n",
    "   display($\" 文件名 {file} {Encoding.UTF8.GetString(bytes[96..112]).Trim()} {Encoding.UTF8.GetString(bytes[112..128]).Trim()} {Encoding.UTF8.GetString(bytes[128..144]).Trim()}  {BinaryPrimitives.ReadSingleBigEndian(bytes[294..298])}\");\n",
    "}"
   ]
  }
 ],
 "metadata": {
  "kernelspec": {
   "display_name": ".NET (C#)",
   "language": "C#",
   "name": ".net-csharp"
  },
  "language_info": {
   "name": "python"
  },
  "orig_nbformat": 4,
  "polyglot_notebook": {
   "kernelInfo": {
    "defaultKernelName": "csharp",
    "items": [
     {
      "aliases": [],
      "name": "csharp"
     }
    ]
   }
  }
 },
 "nbformat": 4,
 "nbformat_minor": 2
}
