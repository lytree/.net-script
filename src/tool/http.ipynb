{
 "cells": [
  {
   "cell_type": "code",
   "execution_count": 1,
   "metadata": {
    "dotnet_interactive": {
     "language": "csharp"
    },
    "polyglot_notebook": {
     "kernelName": "csharp"
    },
    "vscode": {
     "languageId": "polyglot-notebook"
    }
   },
   "outputs": [
    {
     "data": {
      "text/html": [
       "<div><div></div><div></div><div><strong>Installed Packages</strong><ul><li><span>Microsoft.Playwright, 1.47.0</span></li></ul></div></div>"
      ]
     },
     "metadata": {},
     "output_type": "display_data"
    }
   ],
   "source": [
    "#r \"nuget: Microsoft.Playwright\"\n"
   ]
  },
  {
   "cell_type": "code",
   "execution_count": 2,
   "metadata": {
    "dotnet_interactive": {
     "language": "csharp"
    },
    "polyglot_notebook": {
     "kernelName": "csharp"
    },
    "vscode": {
     "languageId": "polyglot-notebook"
    }
   },
   "outputs": [],
   "source": [
    "using System.Net.Http;\n",
    "using System.IO;\n",
    "using Microsoft.Playwright;"
   ]
  },
  {
   "cell_type": "code",
   "execution_count": 3,
   "metadata": {
    "dotnet_interactive": {
     "language": "csharp"
    },
    "polyglot_notebook": {
     "kernelName": "csharp"
    },
    "vscode": {
     "languageId": "polyglot-notebook"
    }
   },
   "outputs": [
    {
     "ename": "Error",
     "evalue": "Microsoft.Playwright.PlaywrightException: Executable doesn't exist at C:\\Users\\hiyan\\AppData\\Local\\ms-playwright\\chromium-1105\\chrome-win\\chrome.exe\n╔════════════════════════════════════════════════════════════╗\n║ Looks like Playwright was just installed or updated.       ║\n║ Please run the following command to download new browsers: ║\n║                                                            ║\n║     pwsh bin/Debug/netX/playwright.ps1 install             ║\n║                                                            ║\n║ <3 Playwright Team                                         ║\n╚════════════════════════════════════════════════════════════╝\r\n   at Microsoft.Playwright.Transport.Connection.InnerSendMessageToServerAsync[T](ChannelOwner object, String method, Dictionary`2 dictionary, Boolean keepNulls) in /_/src/Playwright/Transport/Connection.cs:line 206\r\n   at Microsoft.Playwright.Transport.Connection.WrapApiCallAsync[T](Func`1 action, Boolean isInternal) in /_/src/Playwright/Transport/Connection.cs:line 526\r\n   at Microsoft.Playwright.Core.BrowserType.LaunchAsync(BrowserTypeLaunchOptions options) in /_/src/Playwright/Core/BrowserType.cs:line 56\r\n   at Submission#3.<<Initialize>>d__0.MoveNext()\r\n--- End of stack trace from previous location ---\r\n   at Microsoft.CodeAnalysis.Scripting.ScriptExecutionState.RunSubmissionsAsync[TResult](ImmutableArray`1 precedingExecutors, Func`2 currentExecutor, StrongBox`1 exceptionHolderOpt, Func`2 catchExceptionOpt, CancellationToken cancellationToken)",
     "output_type": "error",
     "traceback": [
      "Microsoft.Playwright.PlaywrightException: Executable doesn't exist at C:\\Users\\hiyan\\AppData\\Local\\ms-playwright\\chromium-1105\\chrome-win\\chrome.exe\n",
      "╔════════════════════════════════════════════════════════════╗\n",
      "║ Looks like Playwright was just installed or updated.       ║\n",
      "║ Please run the following command to download new browsers: ║\n",
      "║                                                            ║\n",
      "║     pwsh bin/Debug/netX/playwright.ps1 install             ║\n",
      "║                                                            ║\n",
      "║ <3 Playwright Team                                         ║\n",
      "╚════════════════════════════════════════════════════════════╝\r\n",
      "   at Microsoft.Playwright.Transport.Connection.InnerSendMessageToServerAsync[T](ChannelOwner object, String method, Dictionary`2 dictionary, Boolean keepNulls) in /_/src/Playwright/Transport/Connection.cs:line 206\r\n",
      "   at Microsoft.Playwright.Transport.Connection.WrapApiCallAsync[T](Func`1 action, Boolean isInternal) in /_/src/Playwright/Transport/Connection.cs:line 526\r\n",
      "   at Microsoft.Playwright.Core.BrowserType.LaunchAsync(BrowserTypeLaunchOptions options) in /_/src/Playwright/Core/BrowserType.cs:line 56\r\n",
      "   at Submission#3.<<Initialize>>d__0.MoveNext()\r\n",
      "--- End of stack trace from previous location ---\r\n",
      "   at Microsoft.CodeAnalysis.Scripting.ScriptExecutionState.RunSubmissionsAsync[TResult](ImmutableArray`1 precedingExecutors, Func`2 currentExecutor, StrongBox`1 exceptionHolderOpt, Func`2 catchExceptionOpt, CancellationToken cancellationToken)"
     ]
    }
   ],
   "source": [
    "var js =\"Object.defineProperty(navigator, 'webdriver', {get: () => undefined})\";\n",
    "\n",
    "var client = new HttpClient();\n",
    "\n",
    "var playwright = await Playwright.CreateAsync();\n",
    "var browser = await playwright.Chromium.LaunchAsync(new (){Headless=false});\n",
    "var context = await browser.NewContextAsync();\n",
    "context.SetDefaultTimeout(180_000);\n",
    "context.SetDefaultNavigationTimeout(180_000);\n",
    "await context.AddInitScriptAsync(js);\n",
    "\n"
   ]
  },
  {
   "cell_type": "code",
   "execution_count": 12,
   "metadata": {
    "dotnet_interactive": {
     "language": "csharp"
    },
    "polyglot_notebook": {
     "kernelName": "csharp"
    },
    "vscode": {
     "languageId": "polyglot-notebook"
    }
   },
   "outputs": [],
   "source": [
    "public async Task CheckMeetChallenge(IPage page)  {\n",
    "    var stage = await page.QuerySelectorAsync(\"div#challenge-stage\");\n",
    "    \n",
    "    int checkCount = 1;\n",
    "    while (stage != null) {\n",
    "        await TryToClickChallenge(page, stage);\n",
    "        if (checkCount >= 6) {\n",
    "            if (await page.QuerySelectorAsync(\"div#challenge-stage\") != null) {\n",
    "                throw new Exception(\"meet challenge restart\");\n",
    "            }\n",
    "        }\n",
    "        display(\"handleCategory - meet challenge. wait 10s to check it again. count:{checkCount}\" );\n",
    "        checkCount++;\n",
    "        await page.WaitForTimeoutAsync(10_000);\n",
    "        stage =await page.QuerySelectorAsync(\"div#challenge-stage\");\n",
    "    }\n",
    "}\n",
    "public async Task TryToClickChallenge(IPage page,IElementHandle stageDiv){\n",
    "    var box =await stageDiv.BoundingBoxAsync();\n",
    "    await page.Mouse.MoveAsync(box.X + 100, box.Y + box.Height / 2);\n",
    "    await page.WaitForTimeoutAsync(1_000);\n",
    "    await page.Mouse.ClickAsync(box.X + 100, box.Y + box.Height / 2);\n",
    "}"
   ]
  },
  {
   "cell_type": "code",
   "execution_count": 13,
   "metadata": {
    "dotnet_interactive": {
     "language": "csharp"
    },
    "polyglot_notebook": {
     "kernelName": "csharp"
    },
    "vscode": {
     "languageId": "polyglot-notebook"
    }
   },
   "outputs": [],
   "source": [
    "var page = await context.NewPageAsync();\n",
    "var url = \"https://4g45x.cn/forum-50-2.html\";\n",
    "await page.GotoAsync(url);\n",
    "await page.ClickAsync(\"a[class='enter-btn']\");\n",
    "await Task.Delay(2000);"
   ]
  },
  {
   "cell_type": "code",
   "execution_count": 14,
   "metadata": {
    "dotnet_interactive": {
     "language": "csharp"
    },
    "polyglot_notebook": {
     "kernelName": "csharp"
    },
    "vscode": {
     "languageId": "polyglot-notebook"
    }
   },
   "outputs": [],
   "source": [
    "var downImg = \"\"\"\n",
    "// 下载\n",
    "([selector, name])=> {\n",
    "    // 通过选择器获取img元素\n",
    "    var img = document.querySelector(selector)\n",
    "\n",
    "    var url = img.src\n",
    "    console.log(url)\n",
    "    var a = document.createElement('a')\n",
    "    var event = new MouseEvent('click')\n",
    "    \n",
    "    a.download = '下载图片名称'\n",
    "    a.href = url\n",
    "    \n",
    "    a.dispatchEvent(event)\n",
    "}\n",
    "\n",
    "\n",
    "\"\"\";"
   ]
  },
  {
   "cell_type": "code",
   "execution_count": 15,
   "metadata": {
    "dotnet_interactive": {
     "language": "csharp"
    },
    "polyglot_notebook": {
     "kernelName": "csharp"
    },
    "vscode": {
     "languageId": "polyglot-notebook"
    }
   },
   "outputs": [],
   "source": [
    "\n",
    "\n",
    "await context.RouteAsync(\"**\",async route =>{\n",
    "        display(\"------------\");\n",
    "        var request = route.Request;\n",
    "        var url = request.Url;\n",
    "       var response = await route.FetchAsync();\n",
    "       display(await response.BodyAsync());\n",
    "    \n",
    "});"
   ]
  },
  {
   "cell_type": "code",
   "execution_count": 16,
   "metadata": {
    "dotnet_interactive": {
     "language": "csharp"
    },
    "polyglot_notebook": {
     "kernelName": "csharp"
    },
    "vscode": {
     "languageId": "polyglot-notebook"
    }
   },
   "outputs": [
    {
     "ename": "Error",
     "evalue": "Microsoft.Playwright.PlaywrightException: net::ERR_ABORTED at https://4g45x.cn/forum-50-2.html\nCall log:\n  - navigating to \"https://4g45x.cn/forum-50-2.html\", waiting until \"load\"\r\n   at Microsoft.Playwright.Transport.Connection.InnerSendMessageToServerAsync[T](ChannelOwner object, String method, Dictionary`2 dictionary, Boolean keepNulls) in /_/src/Playwright/Transport/Connection.cs:line 207\r\n   at Microsoft.Playwright.Transport.Connection.WrapApiCallAsync[T](Func`1 action, Boolean isInternal) in /_/src/Playwright/Transport/Connection.cs:line 537\r\n   at Microsoft.Playwright.Core.Frame.GotoAsync(String url, FrameGotoOptions options) in /_/src/Playwright/Core/Frame.cs:line 792\r\n   at Submission#15.<<Initialize>>d__0.MoveNext()\r\n--- End of stack trace from previous location ---\r\n   at Microsoft.CodeAnalysis.Scripting.ScriptExecutionState.RunSubmissionsAsync[TResult](ImmutableArray`1 precedingExecutors, Func`2 currentExecutor, StrongBox`1 exceptionHolderOpt, Func`2 catchExceptionOpt, CancellationToken cancellationToken)",
     "output_type": "error",
     "traceback": [
      "Microsoft.Playwright.PlaywrightException: net::ERR_ABORTED at https://4g45x.cn/forum-50-2.html\n",
      "Call log:\n",
      "  - navigating to \"https://4g45x.cn/forum-50-2.html\", waiting until \"load\"\r\n",
      "   at Microsoft.Playwright.Transport.Connection.InnerSendMessageToServerAsync[T](ChannelOwner object, String method, Dictionary`2 dictionary, Boolean keepNulls) in /_/src/Playwright/Transport/Connection.cs:line 207\r\n",
      "   at Microsoft.Playwright.Transport.Connection.WrapApiCallAsync[T](Func`1 action, Boolean isInternal) in /_/src/Playwright/Transport/Connection.cs:line 537\r\n",
      "   at Microsoft.Playwright.Core.Frame.GotoAsync(String url, FrameGotoOptions options) in /_/src/Playwright/Core/Frame.cs:line 792\r\n",
      "   at Submission#15.<<Initialize>>d__0.MoveNext()\r\n",
      "--- End of stack trace from previous location ---\r\n",
      "   at Microsoft.CodeAnalysis.Scripting.ScriptExecutionState.RunSubmissionsAsync[TResult](ImmutableArray`1 precedingExecutors, Func`2 currentExecutor, StrongBox`1 exceptionHolderOpt, Func`2 catchExceptionOpt, CancellationToken cancellationToken)"
     ]
    }
   ],
   "source": [
    "\n",
    "await page.GotoAsync(url);\n",
    "var list = await page.Locator(\"//*[@class='common']/a[2]\").AllAsync();\n",
    "var urlList = list.Select(async (con)=>await con.GetAttributeAsync(\"href\")).Select(a=>a.Result).Where(tesxt=>tesxt.Contains(\"html\")).ToList();\n",
    "display(urlList);\n",
    "foreach(var con in urlList){\n",
    "    var pageUrl = await context.NewPageAsync();\n",
    "    await pageUrl.GotoAsync($\"https://4g45x.cn/{con}\");\n",
    "    // display(await page.ContentAsync());\n",
    "    await pageUrl.WaitForLoadStateAsync(LoadState.Load);\n",
    "    var images = await pageUrl.Locator(\"//ignore_js_op/div\").AllAsync();\n",
    "   \n",
    "    foreach(var image in images){\n",
    "        var imageUrl = await image.GetByText(\"下载附件\").GetAttributeAsync(\"href\");\n",
    "        // var imageUrl = await image.GetAttributeAsync(\"zoomfile\");\n",
    "        // var text = await image.InnerHTMLAsync();\n",
    "        display(imageUrl);\n",
    "        var imagePage = await context.NewPageAsync();\n",
    "        await imagePage.AddInitScriptAsync(js);\n",
    "        await imagePage.GotoAsync(imageUrl);\n",
    "        await imagePage.RouteAsync(\"**\",async route =>{\n",
    "        display(\"------------\");\n",
    "        var request = route.Request;\n",
    "        var url = request.Url;\n",
    "       var response = await route.FetchAsync();\n",
    "       display(await response.BodyAsync());\n",
    "    \n",
    "});\n",
    "        await CheckMeetChallenge(imagePage);\n",
    "        \n",
    "        // await imagePage.ScreenshotAsync(new (){Path=$\"../assets/img/{imageUrl.Replace(@\"https://1szbg.app/tupian/forum\",\"\")}\"});\n",
    "        // display(await imagePage.ContentAsync());\n",
    "        // await page.WaitForTimeoutAsync(1_000);\n",
    "        \n",
    "        // break;\n",
    "    }\n",
    "    \n",
    "    break;\n",
    "}\n",
    "\n"
   ]
  }
 ],
 "metadata": {
  "kernelspec": {
   "display_name": ".NET (C#)",
   "language": "C#",
   "name": ".net-csharp"
  },
  "language_info": {
   "name": "csharp"
  },
  "orig_nbformat": 4,
  "polyglot_notebook": {
   "kernelInfo": {
    "defaultKernelName": "csharp",
    "items": [
     {
      "aliases": [],
      "name": "csharp"
     }
    ]
   }
  }
 },
 "nbformat": 4,
 "nbformat_minor": 2
}
