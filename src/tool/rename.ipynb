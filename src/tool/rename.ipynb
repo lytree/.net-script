{
 "cells": [
  {
   "cell_type": "code",
   "execution_count": null,
   "metadata": {
    "dotnet_interactive": {
     "language": "csharp"
    },
    "polyglot_notebook": {
     "kernelName": "csharp"
    },
    "vscode": {
     "languageId": "polyglot-notebook"
    }
   },
   "outputs": [],
   "source": [
    "#!PowerShell\n",
    "\n",
    "Get-ChildItem \"G:\\Share\\花生十三\" -Filter \"*.pdf\" -File | ForEach-Object {\n",
    "    $newname = $_.Name -replace \"【公众号：上岸的资料】\", \"\"\n",
    "    Rename-Item $_.FullName $newname\n",
    "}\n"
   ]
  }
 ],
 "metadata": {
  "language_info": {
   "name": "python"
  }
 },
 "nbformat": 4,
 "nbformat_minor": 2
}
