{
 "cells": [
  {
   "cell_type": "code",
   "execution_count": 2,
   "metadata": {
    "dotnet_interactive": {
     "language": "csharp"
    },
    "polyglot_notebook": {
     "kernelName": "csharp"
    },
    "vscode": {
     "languageId": "polyglot-notebook"
    }
   },
   "outputs": [],
   "source": [
    "#nullable enable\n",
    "using System;\n",
    "using System.Text.Encodings.Web;\n",
    "using System.Text.Json;\n",
    "using System.Text.Json.Serialization;\n",
    "/// <summary>\n",
    "/// Json帮助类\n",
    "/// </summary>\n",
    "\n",
    "JsonSerializerOptions _jsonSerializerOptions = new()\n",
    "{\n",
    "\tPropertyNamingPolicy = JsonNamingPolicy.CamelCase,\n",
    "\tEncoder = JavaScriptEncoder.UnsafeRelaxedJsonEscaping,\n",
    "};\n",
    "/// <summary>\n",
    "/// 序列化\n",
    "/// </summary>\n",
    "/// <typeparam name=\"T\"></typeparam>\n",
    "/// <param name=\"obj\"></param>\n",
    "/// <returns></returns>\n",
    "public string Serialize<T>(T obj)\n",
    "{\n",
    "\treturn JsonSerializer.Serialize(obj, typeof(T), _jsonSerializerOptions);\n",
    "}\n",
    "/// <summary>\n",
    "/// 反序列化\n",
    "/// </summary>\n",
    "/// <typeparam name=\"T\"></typeparam>\n",
    "/// <param name=\"json\"></param>\n",
    "/// <returns></returns>\n",
    "public  T? Deserialize<T>(string json)\n",
    "{\n",
    "\treturn JsonSerializer.Deserialize<T>(json, _jsonSerializerOptions);\n",
    "}\n",
    "/// <summary>\n",
    "/// 反序列化\n",
    "/// </summary>\n",
    "/// <param name=\"json\">json文本</param>\n",
    "/// <param name=\"type\">类型</param>\n",
    "/// <returns></returns>\n",
    "public object? Deserialize(string json, Type type)\n",
    "{\n",
    "\treturn JsonSerializer.Deserialize(json, type, _jsonSerializerOptions);\n",
    "}\n"
   ]
  },
  {
   "cell_type": "code",
   "execution_count": 14,
   "metadata": {
    "dotnet_interactive": {
     "language": "csharp"
    },
    "polyglot_notebook": {
     "kernelName": "csharp"
    },
    "vscode": {
     "languageId": "polyglot-notebook"
    }
   },
   "outputs": [
    {
     "data": {
      "text/plain": [
       "2024/05/22 11:46:58.080 ------  2024/05/22 13:17:41.315"
      ]
     },
     "metadata": {},
     "output_type": "display_data"
    },
    {
     "data": {
      "text/plain": [
       "2024/05/22 18:20:13.085 ------  2024/05/22 19:51:21.777"
      ]
     },
     "metadata": {},
     "output_type": "display_data"
    },
    {
     "data": {
      "text/plain": [
       "2024/05/24 18:15:21.081 ------  2024/05/24 19:46:00.123"
      ]
     },
     "metadata": {},
     "output_type": "display_data"
    },
    {
     "data": {
      "text/plain": [
       "2024/05/25 18:15:18.069 ------  2024/05/25 19:46:06.928"
      ]
     },
     "metadata": {},
     "output_type": "display_data"
    },
    {
     "data": {
      "text/plain": [
       "2024/05/27 18:15:11.066 ------  2024/05/27 19:45:58.381"
      ]
     },
     "metadata": {},
     "output_type": "display_data"
    },
    {
     "data": {
      "text/plain": [
       "2024/05/28 18:15:23.065 ------  2024/05/28 19:46:21.623"
      ]
     },
     "metadata": {},
     "output_type": "display_data"
    }
   ],
   "source": [
    "\n",
    "\n",
    "string s = \n",
    "\"\"\"\n",
    "[\n",
    "    {\n",
    "        \"carriageId\": \"21120215363566823\",\n",
    "        \"endTime\": 1716355061315,\n",
    "        \"positionId1\": {\n",
    "            \"posCLass\": \"2\",\n",
    "            \"posLoc\": \"1\",\n",
    "            \"positionId\": \"1\"\n",
    "        },\n",
    "        \"positionId2\": {\n",
    "            \"posCLass\": \"3\",\n",
    "            \"posLoc\": \"1\",\n",
    "            \"positionId\": \"5\"\n",
    "        },\n",
    "        \"startTime\": 1716349618080,\n",
    "        \"trainId\": \"21072715342445077\"\n",
    "    },\n",
    "    {\n",
    "        \"carriageId\": \"21120215363566823\",\n",
    "        \"endTime\": 1716378681777,\n",
    "        \"positionId1\": {\n",
    "            \"posCLass\": \"2\",\n",
    "            \"posLoc\": \"1\",\n",
    "            \"positionId\": \"1\"\n",
    "        },\n",
    "        \"positionId2\": {\n",
    "            \"posCLass\": \"3\",\n",
    "            \"posLoc\": \"1\",\n",
    "            \"positionId\": \"5\"\n",
    "        },\n",
    "        \"startTime\": 1716373213085,\n",
    "        \"trainId\": \"21072715342445077\"\n",
    "    },\n",
    "    {\n",
    "        \"carriageId\": \"21120215363566823\",\n",
    "        \"endTime\": 1716551160123,\n",
    "        \"positionId1\": {\n",
    "            \"posCLass\": \"2\",\n",
    "            \"posLoc\": \"1\",\n",
    "            \"positionId\": \"1\"\n",
    "        },\n",
    "        \"positionId2\": {\n",
    "            \"posCLass\": \"3\",\n",
    "            \"posLoc\": \"1\",\n",
    "            \"positionId\": \"5\"\n",
    "        },\n",
    "        \"startTime\": 1716545721081,\n",
    "        \"trainId\": \"21072715342445077\"\n",
    "    },\n",
    "    {\n",
    "        \"carriageId\": \"21120215363566823\",\n",
    "        \"endTime\": 1716637566928,\n",
    "        \"positionId1\": {\n",
    "            \"posCLass\": \"2\",\n",
    "            \"posLoc\": \"1\",\n",
    "            \"positionId\": \"1\"\n",
    "        },\n",
    "        \"positionId2\": {\n",
    "            \"posCLass\": \"3\",\n",
    "            \"posLoc\": \"1\",\n",
    "            \"positionId\": \"5\"\n",
    "        },\n",
    "        \"startTime\": 1716632118069,\n",
    "        \"trainId\": \"21072715342445077\"\n",
    "    },\n",
    "    {\n",
    "        \"carriageId\": \"21120215363566823\",\n",
    "        \"endTime\": 1716810358381,\n",
    "        \"positionId1\": {\n",
    "            \"posCLass\": \"2\",\n",
    "            \"posLoc\": \"1\",\n",
    "            \"positionId\": \"1\"\n",
    "        },\n",
    "        \"positionId2\": {\n",
    "            \"posCLass\": \"3\",\n",
    "            \"posLoc\": \"1\",\n",
    "            \"positionId\": \"5\"\n",
    "        },\n",
    "        \"startTime\": 1716804911066,\n",
    "        \"trainId\": \"21072715342445077\"\n",
    "    },\n",
    "    {\n",
    "        \"carriageId\": \"21120215363566823\",\n",
    "        \"endTime\": 1716896781623,\n",
    "        \"positionId1\": {\n",
    "            \"posCLass\": \"2\",\n",
    "            \"posLoc\": \"1\",\n",
    "            \"positionId\": \"1\"\n",
    "        },\n",
    "        \"positionId2\": {\n",
    "            \"posCLass\": \"3\",\n",
    "            \"posLoc\": \"1\",\n",
    "            \"positionId\": \"5\"\n",
    "        },\n",
    "        \"startTime\": 1716891323065,\n",
    "        \"trainId\": \"21072715342445077\"\n",
    "    }\n",
    "]\n",
    "\"\"\";\n",
    "\n",
    "\n",
    "var obs = Deserialize<List<Dictionary<string,object>>>(s);\n",
    "foreach(var ob in obs ){\n",
    "display($\"{ToDateTime(Convert.ToInt64(ob[\"startTime\"].ToString())).ToString(\"yyyy/MM/dd HH:mm:ss.fff\")} ------  {ToDateTime(Convert.ToInt64(ob[\"endTime\"].ToString())).ToString(\"yyyy/MM/dd HH:mm:ss.fff\")}\");\n",
    "}\n",
    "\n"
   ]
  },
  {
   "cell_type": "code",
   "execution_count": 5,
   "metadata": {
    "dotnet_interactive": {
     "language": "csharp"
    },
    "polyglot_notebook": {
     "kernelName": "csharp"
    },
    "vscode": {
     "languageId": "polyglot-notebook"
    }
   },
   "outputs": [],
   "source": [
    "using System.IO;\n",
    "\n",
    "public long ToMilliseconds(DateTime dateTime)\n",
    "{\n",
    "\tvar chTimeZone = TimeZoneInfo.FindSystemTimeZoneById(\"Asia/Shanghai\");\n",
    "\tvar utcDateTime = TimeZoneInfo.ConvertTimeToUtc(TimeZoneInfo.ConvertTime(dateTime, chTimeZone));\n",
    "\treturn (long)(utcDateTime - new DateTime(1970,1,1,0,0,0,DateTimeKind.Utc)).TotalMilliseconds;\n",
    "}\n",
    "var files = Directory.GetFiles(@\"G:\\data\\kafka\\\", \"*.s\");\n",
    "foreach (var file in files){\n",
    "var list = File.ReadAllLines(file);\n",
    "\n",
    "foreach(var s in list){\n",
    "      var test =  Deserialize<Dictionary<string,object>>(s);\n",
    "      \n",
    "            var date =  DateTime.ParseExact(\"20\"+test[\"ocs_time\"].ToString(), \"yyyyMMddHHmmss\", System.Globalization.CultureInfo.CurrentCulture);\n",
    "            File.AppendAllText(\"23_15.txt\",$\" INSERT INTO `dgm2000_1_2010`.`mvbtime` (`trainId`, `saveTime_Com`, `saveTime`, `terminal_station`, `current_station`, `next_station`) VALUES ({test[\"train_num\"].ToString()},{ToMilliseconds(date)},{test[\"ocs_time\"].ToString()}  ,  {test[\"terminal_station\"].ToString()}  ,{test[\"current_station\"].ToString()}  ,{test[\"next_station\"].ToString()}); \\n\");\n",
    "\n",
    "}\n",
    "}\n",
    "\n"
   ]
  }
 ],
 "metadata": {
  "kernelspec": {
   "display_name": ".NET (C#)",
   "language": "C#",
   "name": ".net-csharp"
  },
  "language_info": {
   "name": "csharp"
  },
  "orig_nbformat": 4,
  "polyglot_notebook": {
   "kernelInfo": {
    "defaultKernelName": "csharp",
    "items": [
     {
      "aliases": [],
      "name": "csharp"
     }
    ]
   }
  }
 },
 "nbformat": 4,
 "nbformat_minor": 2
}
