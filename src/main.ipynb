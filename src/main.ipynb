{
 "cells": [
  {
   "cell_type": "code",
   "execution_count": 10,
   "metadata": {
    "dotnet_interactive": {
     "language": "csharp"
    },
    "polyglot_notebook": {
     "kernelName": "csharp"
    },
    "vscode": {
     "languageId": "polyglot-notebook"
    }
   },
   "outputs": [],
   "source": [
    "using System;\n",
    "using System.IO;\n",
    "using System.Collections.Generic;\n",
    "\n",
    "using System.Diagnostics;\n",
    "using System.Dynamic;\n",
    "using System.Linq;\n",
    "using System.Linq.Expressions;\n",
    "using System.Text;\n",
    "using System.Text.Encodings.Web;\n",
    "using System.Text.Json;\n",
    "using System.Text.Json.Serialization;\n",
    "using System.Threading.Tasks;"
   ]
  },
  {
   "cell_type": "code",
   "execution_count": 11,
   "metadata": {
    "dotnet_interactive": {
     "language": "csharp"
    },
    "polyglot_notebook": {
     "kernelName": "csharp"
    },
    "vscode": {
     "languageId": "polyglot-notebook"
    }
   },
   "outputs": [],
   "source": [
    "    static readonly JsonSerializerOptions _jsonSerializerOptions = new()\n",
    "    {\n",
    "        PropertyNamingPolicy = JsonNamingPolicy.CamelCase,\n",
    "        DefaultIgnoreCondition = JsonIgnoreCondition.WhenWritingNull,\n",
    "        PropertyNameCaseInsensitive = true,\n",
    "        Encoder = JavaScriptEncoder.UnsafeRelaxedJsonEscaping,\n",
    "\n",
    "\n",
    "    };"
   ]
  },
  {
   "cell_type": "code",
   "execution_count": 12,
   "metadata": {
    "dotnet_interactive": {
     "language": "csharp"
    },
    "polyglot_notebook": {
     "kernelName": "csharp"
    },
    "vscode": {
     "languageId": "polyglot-notebook"
    }
   },
   "outputs": [
    {
     "data": {
      "text/plain": [
       "{\"0_0_255\":{\"component\":\"公共\",\"location\":\"其他\"},\"0_0_300\":{\"component\":\"公共\",\"location\":\"301太阳轴0°径向\"},\"0_0_309\":{\"component\":\"公共\",\"location\":\"301太阳轴90°径向\"},\"0_0_310\":{\"component\":\"公共\",\"location\":\"310行星架0°竖直\"},\"0_0_291\":{\"component\":\"公共\",\"location\":\"290输出法兰120°竖直\"},\"0_0_292\":{\"component\":\"公共\",\"location\":\"290输出法兰240°竖直\"},\"0_1_0\":{\"component\":\"主轴\",\"location\":\"主轴承径向\"},\"0_1_19\":{\"component\":\"主轴\",\"location\":\"主轴承1径向\"},\"0_1_26\":{\"component\":\"主轴\",\"location\":\"主轴承1轴向\"},\"0_1_20\":{\"component\":\"主轴\",\"location\":\"主轴承2径向\"},\"0_1_27\":{\"component\":\"主轴\",\"location\":\"主轴承2轴向\"},\"0_2_1\":{\"component\":\"齿轮箱\",\"location\":\"输入轴轴承径向\"},\"0_2_2\":{\"component\":\"齿轮箱\",\"location\":\"内齿圈径向\"},\"0_2_3\":{\"component\":\"齿轮箱\",\"location\":\"低速轴轴承径向\"},\"0_2_4\":{\"component\":\"齿轮箱\",\"location\":\"低速轴轴承轴向\"},\"0_2_5\":{\"component\":\"齿轮箱\",\"location\":\"中间轴轴承径向\"},\"0_2_6\":{\"component\":\"齿轮箱\",\"location\":\"中间轴轴承轴向\"},\"0_2_7\":{\"component\":\"齿轮箱\",\"location\":\"高速轴轴承径向\"},\"0_2_8\":{\"component\":\"齿轮箱\",\"location\":\"高速轴轴承轴向\"},\"0_2_9\":{\"component\":\"齿轮箱\",\"location\":\"一级行星内齿圈径向\"},\"0_2_10\":{\"component\":\"齿轮箱\",\"location\":\"二级行星内齿圈径向\"},\"0_2_28\":{\"component\":\"齿轮箱\",\"location\":\"高速轴前轴承径向\"},\"0_3_11\":{\"component\":\"发电机\",\"location\":\"传动端轴承径向水平\"},\"0_3_12\":{\"component\":\"发电机\",\"location\":\"传动端轴承径向水平\"},\"0_3_13\":{\"component\":\"发电机\",\"location\":\"传动端轴承径向水平\"},\"0_3_14\":{\"component\":\"发电机\",\"location\":\"传动端轴承径向水平\"},\"0_3_29\":{\"component\":\"发电机\",\"location\":\"传动端轴承径向水平\"},\"0_4_31\":{\"component\":\"塔筒\",\"location\":\"顶部法兰\"},\"0_4_32\":{\"component\":\"塔筒\",\"location\":\"底部法兰\"},\"0_4_33\":{\"component\":\"塔筒\",\"location\":\"基础环顶部法兰\"},\"0_4_34\":{\"component\":\"塔筒\",\"location\":\"基础环底部法兰\"},\"0_4_35\":{\"component\":\"塔筒\",\"location\":\"联接法兰1\"},\"0_4_36\":{\"component\":\"塔筒\",\"location\":\"联接法兰2\"},\"0_4_37\":{\"component\":\"塔筒\",\"location\":\"联接法兰3\"},\"0_4_38\":{\"component\":\"塔筒\",\"location\":\"联接法兰4\"},\"0_4_55\":{\"component\":\"塔筒\",\"location\":\"联接法兰5\"},\"0_4_56\":{\"component\":\"塔筒\",\"location\":\"联接法兰6\"},\"0_4_57\":{\"component\":\"塔筒\",\"location\":\"联接法兰7\"},\"0_4_58\":{\"component\":\"塔筒\",\"location\":\"联接法兰8\"},\"0_4_59\":{\"component\":\"塔筒\",\"location\":\"联接法兰9\"},\"0_5_39\":{\"component\":\"叶轮\",\"location\":\"\"}}"
      ]
     },
     "metadata": {},
     "output_type": "display_data"
    }
   ],
   "source": [
    "/// <summary>\n",
    "/// 获取到本地的Json文件并且解析返回对应的json字符串\n",
    "/// </summary>\n",
    "/// <param name=\"filepath\">文件路径</param>\n",
    "/// <returns></returns>\n",
    "string GetJsonFile(string filepath)\n",
    "{\n",
    "    string json = string.Empty;\n",
    "    using (FileStream fs = new FileStream(filepath, FileMode.OpenOrCreate, System.IO.FileAccess.ReadWrite, FileShare.ReadWrite))\n",
    "    {\n",
    "        using (StreamReader sr = new StreamReader(fs, Encoding.UTF8))\n",
    "        {\n",
    "            json = sr.ReadToEnd().ToString();\n",
    "        }\n",
    "    }\n",
    "    return json;\n",
    "}\n",
    "\n",
    "\n",
    "var json  =JsonSerializer.Deserialize<Dictionary<string,Dictionary<string,Dictionary<string,dynamic>>>>(GetJsonFile(@\"D:\\note\\locc.json\"),_jsonSerializerOptions);\n",
    "Dictionary<string,dynamic> dic = new();\n",
    "foreach(var item in json)\n",
    "{\n",
    "   var l = item.Key;\n",
    "   foreach(var item1 in item.Value )\n",
    "   {\n",
    "     var key1 =item1.Key;\n",
    "     var value1 = item1.Value;\n",
    "     foreach(var item2 in item1.Value )\n",
    "     {\n",
    "            dic[l+\"_\"+key1+\"_\"+item2.Key]= item2.Value;\n",
    "     }\n",
    "   }\n",
    "}\n",
    "\n",
    "display(JsonSerializer.Serialize(dic,_jsonSerializerOptions));"
   ]
  }
 ],
 "metadata": {
  "language_info": {
   "name": "csharp"
  },
  "orig_nbformat": 4
 },
 "nbformat": 4,
 "nbformat_minor": 2
}
