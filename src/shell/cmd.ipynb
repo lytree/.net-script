{
 "cells": [
  {
   "cell_type": "code",
   "execution_count": null,
   "metadata": {
    "dotnet_interactive": {
     "language": "csharp"
    },
    "polyglot_notebook": {
     "kernelName": "csharp"
    },
    "vscode": {
     "languageId": "polyglot-notebook"
    }
   },
   "outputs": [],
   "source": [
    "using System.IO;\n",
    "using System.Diagnostics;\n",
    "using System;\n",
    "using System.Collections.Generic;\n",
    "using System.Linq;\n",
    "using System.Text;\n",
    "using System.Threading.Tasks;\n",
    "private bool runCmd(string cmd)\n",
    "{\n",
    "    display(cmd);\n",
    "    var output = string.Empty;\n",
    "    var p = new Process();\n",
    "    p.StartInfo.WorkingDirectory = AppDomain.CurrentDomain.BaseDirectory;\n",
    "    p.StartInfo.UseShellExecute = false;\n",
    "    p.StartInfo.RedirectStandardInput = true;\n",
    "    p.StartInfo.RedirectStandardOutput = true;\n",
    "    p.StartInfo.RedirectStandardError = true;\n",
    "    p.StartInfo.CreateNoWindow = true;\n",
    "    p.OutputDataReceived += (sender, args) => { output += args.Data; };\n",
    "    p.StartInfo.FileName = Path.Combine(Environment.GetFolderPath(Environment.Is64BitProcess ? Environment.SpecialFolder.System : Environment.SpecialFolder.SystemX86), \"cmd.exe\");\n",
    "    p.StartInfo.Arguments = @\"/C \" + cmd;\n",
    "    p.StartInfo.Arguments += \"&&echo 1\";\n",
    "    p.StartInfo.Verb = \"runas\";\n",
    "    p.Start();\n",
    "    p.StandardInput.AutoFlush = true;\n",
    "    p.BeginErrorReadLine();\n",
    "    p.BeginOutputReadLine();\n",
    "    p.WaitForExit();\n",
    "    var resultCode = 0;\n",
    "    if (int.TryParse(output, out resultCode))\n",
    "    {\n",
    "        if (resultCode == 1)\n",
    "            return true;\n",
    "    }\n",
    "    display(output);\n",
    "    return false;\n",
    "}"
   ]
  },
  {
   "cell_type": "code",
   "execution_count": null,
   "metadata": {
    "vscode": {
     "languageId": "polyglot-notebook"
    }
   },
   "outputs": [],
   "source": []
  }
 ],
 "metadata": {
  "language_info": {
   "name": "python"
  },
  "orig_nbformat": 4
 },
 "nbformat": 4,
 "nbformat_minor": 2
}
