{
 "cells": [
  {
   "cell_type": "code",
   "execution_count": 4,
   "metadata": {
    "dotnet_interactive": {
     "language": "csharp"
    },
    "polyglot_notebook": {
     "kernelName": "csharp"
    },
    "vscode": {
     "languageId": "polyglot-notebook"
    }
   },
   "outputs": [],
   "source": [
    "using System;"
   ]
  },
  {
   "cell_type": "code",
   "execution_count": 5,
   "metadata": {
    "dotnet_interactive": {
     "language": "csharp"
    },
    "polyglot_notebook": {
     "kernelName": "csharp"
    },
    "vscode": {
     "languageId": "polyglot-notebook"
    }
   },
   "outputs": [],
   "source": [
    "public long ToMilliseconds(DateTime dateTime)\n",
    "{\n",
    "\tvar chTimeZone = TimeZoneInfo.FindSystemTimeZoneById(\"Asia/Shanghai\");\n",
    "\tvar utcDateTime = TimeZoneInfo.ConvertTimeToUtc(TimeZoneInfo.ConvertTime(dateTime, chTimeZone));\n",
    "\treturn (long)(utcDateTime - new DateTime(1970,1,1,0,0,0,DateTimeKind.Utc)).TotalMilliseconds;\n",
    "}\n",
    "public DateTime ToDateTime(long timeStamp)\n",
    "{\n",
    "\tDateTimeOffset utcDateTime = DateTimeOffset.FromUnixTimeMilliseconds(timeStamp);\n",
    "\tvar chTimeZone = TimeZoneInfo.FindSystemTimeZoneById(\"Asia/Shanghai\");\n",
    "\t\t\n",
    "\treturn TimeZoneInfo.ConvertTimeFromUtc(utcDateTime.UtcDateTime,chTimeZone); // 当地时区\n",
    "}"
   ]
  },
  {
   "cell_type": "code",
   "execution_count": 6,
   "metadata": {
    "dotnet_interactive": {
     "language": "csharp"
    },
    "polyglot_notebook": {
     "kernelName": "csharp"
    },
    "vscode": {
     "languageId": "polyglot-notebook"
    }
   },
   "outputs": [],
   "source": [
    "public Dictionary<DateTime, TimeRange> GetDateTimeRanges(DateTime startTime, DateTime endTime, int type)\n",
    "{\n",
    "    Dictionary<DateTime, TimeRange> timeDic = new Dictionary<DateTime, TimeRange>();\n",
    "    switch (type)\n",
    "    {\n",
    "        case 0://月分割\n",
    "            TimeRange timeRange = new TimeRange();\n",
    "            timeRange.StartTime = startTime;\n",
    "            var nextTime= startTime.AddDays(1 - startTime.Day).AddMonths(1).AddHours(-startTime.Hour).AddMinutes(-startTime.Minute).AddSeconds(-startTime.Second);\n",
    "            timeRange.EndTime = nextTime;\n",
    "            timeDic.Add(startTime, timeRange);\n",
    "            while (DateTime.Compare(startTime, endTime) <= 0)\n",
    "            {\n",
    "                TimeRange timeRange0 = new TimeRange();\n",
    "                var tmpTime = nextTime;\n",
    "                timeRange0.StartTime = nextTime;\n",
    "                nextTime= nextTime.AddDays(1 - startTime.Day).AddMonths(1).AddHours(-startTime.Hour).AddMinutes(-startTime.Minute).AddSeconds(-startTime.Second);\n",
    "                timeRange0.EndTime = nextTime;\n",
    "                timeDic.Add(tmpTime, timeRange0);\n",
    "                startTime = nextTime;\n",
    "            }             \n",
    "            break;\n",
    "        case 1://季度分割\n",
    "            TimeRange timeRange1 = new TimeRange();\n",
    "            timeRange1.StartTime = startTime;\n",
    "            var nextTime1 = startTime.AddDays(1 - startTime.Day).AddMonths(3).AddHours(-startTime.Hour).AddMinutes(-startTime.Minute).AddSeconds(-startTime.Second);\n",
    "            timeRange1.EndTime = nextTime1;\n",
    "            timeDic.Add(startTime, timeRange1);\n",
    "            while (DateTime.Compare(startTime, endTime) < 0)\n",
    "            {\n",
    "                TimeRange timeRange0 = new TimeRange();\n",
    "                var tmpTime = nextTime1;\n",
    "                timeRange0.StartTime = nextTime1;\n",
    "                nextTime1 = nextTime1.AddDays(1 - startTime.Day).AddMonths(3).AddHours(-startTime.Hour).AddMinutes(-startTime.Minute).AddSeconds(-startTime.Second);\n",
    "                timeRange0.EndTime = nextTime1;\n",
    "                timeDic.Add(tmpTime, timeRange0);\n",
    "                startTime = nextTime1;\n",
    "            }\n",
    "            break;\n",
    "    \n",
    "   \n",
    "    } \n",
    "    return timeDic;\n",
    "}\n",
    "public class TimeRange\n",
    "{\n",
    "    public DateTime StartTime { get; set; }\n",
    "    public DateTime EndTime { get; set; }\n",
    "}"
   ]
  }
 ],
 "metadata": {
  "language_info": {
   "name": "python"
  },
  "orig_nbformat": 4
 },
 "nbformat": 4,
 "nbformat_minor": 2
}
