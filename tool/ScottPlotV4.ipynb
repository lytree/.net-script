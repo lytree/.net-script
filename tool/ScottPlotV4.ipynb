{
 "cells": [
  {
   "cell_type": "code",
   "execution_count": 26,
   "metadata": {
    "dotnet_interactive": {
     "language": "csharp"
    },
    "polyglot_notebook": {
     "kernelName": "csharp"
    },
    "vscode": {
     "languageId": "polyglot-notebook"
    }
   },
   "outputs": [
    {
     "data": {
      "text/html": [
       "<div><div></div><div></div><div><strong>Installed Packages</strong><ul><li><span>ScottPlot, 4.1.70</span></li></ul></div></div>"
      ]
     },
     "metadata": {},
     "output_type": "display_data"
    }
   ],
   "source": [
    "#r \"nuget: ScottPlot, 4.1.70\"\n",
    "// Setup a custom formatter to display plots as images\n",
    "using Microsoft.DotNet.Interactive.Formatting;\n",
    "// Setup a custom formatter to display plots as images\n",
    "Formatter.Register(typeof(ScottPlot.Plot), (p, w) => \n",
    "    w.Write(((ScottPlot.Plot)p).GetImageHtml()), HtmlFormatter.MimeType);"
   ]
  },
  {
   "cell_type": "code",
   "execution_count": 27,
   "metadata": {
    "dotnet_interactive": {
     "language": "csharp"
    },
    "polyglot_notebook": {
     "kernelName": "csharp"
    },
    "vscode": {
     "languageId": "polyglot-notebook"
    }
   },
   "outputs": [],
   "source": [
    "using System;\n",
    "using System.Collections.Generic;\n",
    "using System.IO;\n",
    "using System.Linq;\n",
    "using System.Text;\n",
    "using ScottPlot;"
   ]
  },
  {
   "cell_type": "code",
   "execution_count": 28,
   "metadata": {
    "dotnet_interactive": {
     "language": "csharp"
    },
    "polyglot_notebook": {
     "kernelName": "csharp"
    },
    "vscode": {
     "languageId": "polyglot-notebook"
    }
   },
   "outputs": [],
   "source": [
    "public byte[] TrendChart(List<double> x,List<double> y)\n",
    "{\n",
    "    ScottPlot.Plot plt = new(2250,350);\n",
    "    plt.AddSignalXY(x.ToArray(),y.ToArray(),color:  System.Drawing.Color.FromArgb(61, 119, 255));\n",
    "    plt.XAxis.TickLabelStyle(fontName:\"宋体\",fontSize:18);\n",
    "    plt.YAxis.TickLabelStyle(fontName:\"宋体\",fontSize:18);\n",
    "    // plt.XAxis.ManualTickSpacing(Convert.ToInt32(x.Max()/26));\n",
    "    plt.XAxis.DateTimeFormat(true);\n",
    "    plt.YAxis.TickLabelFormat((d)=>d.ToString(\"F4\"));\n",
    "    plt.YAxis.ManualTickSpacing(Convert.ToDouble((y.Max()-y.Min())/4));\n",
    "    plt.XAxis.TickDensity(0.2);\n",
    "    display(plt);\n",
    "    return plt.GetImageBytes();\n",
    "}"
   ]
  },
  {
   "cell_type": "code",
   "execution_count": 29,
   "metadata": {
    "dotnet_interactive": {
     "language": "csharp"
    },
    "polyglot_notebook": {
     "kernelName": "csharp"
    },
    "vscode": {
     "languageId": "polyglot-notebook"
    }
   },
   "outputs": [],
   "source": [
    "public byte[] SpectrumChart(List<double> x,List<double> y)\n",
    "{\n",
    "    ScottPlot.Plot plt = new(2250,350);\n",
    "    plt.AddSignalXY(x.ToArray(),y.ToArray(),color:  System.Drawing.Color.FromArgb(61, 119, 255));\n",
    "    plt.SetAxisLimits(x.Min(), x.Max(),yMin :0);\n",
    "    plt.XAxis.TickLabelStyle(fontName:\"宋体\",fontSize:18);\n",
    "    plt.YAxis.TickLabelStyle(fontName:\"宋体\",fontSize:18);\n",
    "    plt.XAxis.ManualTickSpacing(Convert.ToInt32(x.Max()/26));\n",
    "    plt.YAxis.TickLabelFormat((d)=>d.ToString(\"F4\"));\n",
    "    plt.YAxis.ManualTickSpacing(Convert.ToDouble((y.Max()-y.Min())/4));\n",
    "    plt.XAxis.TickDensity(0.2);\n",
    "    display(plt);\n",
    "    return plt.GetImageBytes();\n",
    "}"
   ]
  },
  {
   "cell_type": "code",
   "execution_count": 30,
   "metadata": {
    "dotnet_interactive": {
     "language": "csharp"
    },
    "polyglot_notebook": {
     "kernelName": "csharp"
    },
    "vscode": {
     "languageId": "polyglot-notebook"
    }
   },
   "outputs": [],
   "source": [
    "public byte[] WaveformChart(List<double> x,List<double> y,string title)\n",
    "{\n",
    "    ScottPlot.Plot plt = new(2250,350);\n",
    "    plt.Title(title,bold:false,fontName :\"宋体\",size:18);\n",
    "    \n",
    "    plt.AddSignalXY(x.ToArray(),y.ToArray(),color:  System.Drawing.Color.FromArgb(61, 119, 255));\n",
    "    plt.SetAxisLimits(x.Min(), x.Max());\n",
    "    plt.XAxis.TickLabelStyle(fontName:\"宋体\",fontSize:18);\n",
    "    plt.YAxis.TickLabelStyle(fontName:\"宋体\",fontSize:18);\n",
    "    plt.XAxis.TickLabelFormat((d)=>d.ToString(\"F2\"));\n",
    "    plt.XAxis.ManualTickSpacing(Convert.ToSingle(x.Max()/26));\n",
    "    plt.YAxis.TickLabelFormat((d)=>d.ToString(\"F2\"));\n",
    "    plt.YAxis.ManualTickSpacing(Convert.ToSingle((y.Max()-y.Min())/4));\n",
    "    plt.XAxis.TickDensity(0.2);\n",
    "    display(plt);\n",
    "    return plt.GetImageBytes();\n",
    "}"
   ]
  }
 ],
 "metadata": {
  "language_info": {
   "name": "python"
  },
  "orig_nbformat": 4
 },
 "nbformat": 4,
 "nbformat_minor": 2
}
