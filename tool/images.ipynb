{
 "cells": [
  {
   "cell_type": "code",
   "execution_count": 1,
   "metadata": {
    "dotnet_interactive": {
     "language": "csharp"
    },
    "polyglot_notebook": {
     "kernelName": "csharp"
    },
    "vscode": {
     "languageId": "polyglot-notebook"
    }
   },
   "outputs": [
    {
     "data": {
      "text/html": [
       "<div><div></div><div></div><div><strong>Installed Packages</strong><ul><li><span>SixLabors.ImageSharp, 3.0.1</span></li><li><span>SixLabors.ImageSharp.Drawing, 1.0.0</span></li></ul></div></div>"
      ]
     },
     "metadata": {},
     "output_type": "display_data"
    }
   ],
   "source": [
    "#r \"nuget: SixLabors.ImageSharp, 3.0.1\"\n",
    "#r \"nuget: SixLabors.ImageSharp.Drawing, 1.0.0\""
   ]
  },
  {
   "cell_type": "code",
   "execution_count": 2,
   "metadata": {
    "dotnet_interactive": {
     "language": "csharp"
    },
    "polyglot_notebook": {
     "kernelName": "csharp"
    },
    "vscode": {
     "languageId": "polyglot-notebook"
    }
   },
   "outputs": [],
   "source": [
    "using System;\n",
    "using System.Collections.Generic;\n",
    "using System.IO;\n",
    "using System.Linq;\n",
    "using System.Text;\n",
    "using SixLabors.ImageSharp;\n",
    "using SixLabors.ImageSharp.Drawing.Processing;\n",
    "using SixLabors.ImageSharp.Processing;\n",
    "using SixLabors.ImageSharp.Formats.Png;\n",
    "using SixLabors.ImageSharp.Drawing;\n",
    "using SixLabors.ImageSharp.PixelFormats;"
   ]
  },
  {
   "cell_type": "code",
   "execution_count": 3,
   "metadata": {
    "dotnet_interactive": {
     "language": "csharp"
    },
    "polyglot_notebook": {
     "kernelName": "csharp"
    },
    "vscode": {
     "languageId": "polyglot-notebook"
    }
   },
   "outputs": [],
   "source": [
    "public void VerticalMergeImage(string imageName,params byte[][] bitmaps)\n",
    "{\n",
    "\tvar images = bitmaps.ToList().Select(image => Image.Load(new MemoryStream(image))).ToList();\n",
    "\tvar height = images.Select(image => image.Height).Sum();\n",
    "\tvar width = images.Select(image => image.Width).Max();\n",
    "\tusing (var mergeImage = new Image<Rgba32>(width,height))\n",
    "\t{\n",
    "\t\tint y = 0;//y坐标\n",
    "\t\tforeach(var image in images){\n",
    "\t\t\tmergeImage.Mutate(o=>o.DrawImage(image,new Point(0,y),1));\n",
    "\t\t\ty += image.Height;\n",
    "\t\t}\n",
    "\t   mergeImage.SaveAsPng($\"D:/test/image/{imageName}\");\n",
    "\t}\n",
    "}"
   ]
  },
  {
   "cell_type": "code",
   "execution_count": 4,
   "metadata": {
    "dotnet_interactive": {
     "language": "csharp"
    },
    "polyglot_notebook": {
     "kernelName": "csharp"
    },
    "vscode": {
     "languageId": "polyglot-notebook"
    }
   },
   "outputs": [],
   "source": [
    "\n",
    "\n",
    "// // 加载要合并的图片\n",
    "// Image image1 = Image.FromFile(\"scatter-plot0.png\");\n",
    "// Image image2 = Image.FromFile(\"scatter-plot2.png\");\n",
    "// Image image3 = Image.FromFile(\"scatter-plot3.png\");\n",
    "// Image image4 = Image.FromFile(\"scatter-plot4.png\");\n",
    "\n",
    "// // 创建合并后的图片大小\n",
    "// int mergedWidth = Math.Max(image1.Width, image2.Width) + Math.Max(image3.Width, image4.Width);\n",
    "// int mergedHeight = Math.Max(image1.Height, image3.Height) + Math.Max(image2.Height, image4.Height);\n",
    "\n",
    "// // // 初始化画布(最终的拼图画布)并设置宽高\n",
    "// Bitmap mergedImage = new Bitmap(mergedWidth, mergedHeight);\n",
    "\n",
    "// // 创建一个绘图对象，用于绘制合并后的图片 初始化画板\n",
    "// Graphics graphics = Graphics.FromImage(mergedImage);\n",
    "// graphics.InterpolationMode = InterpolationMode.HighQualityBicubic;\n",
    "// // 将画布涂为白色(底部颜色可自行设置)\n",
    "// // graphics.FillRectangle(Brushes.White, new Rectangle(0, 0, width, height));\n",
    "// //在x=0,y=0处画上图一\n",
    "// // graphics.DrawImage(map1, 0, 0, img1.Width, img1.Height);\n",
    "// //在x=0,y在图一往下10像素处画上图二\n",
    "\n",
    "// // 绘制第一张图片 \n",
    "// //在x=0,y=0处画上图一\n",
    "// graphics.DrawImage(image1, new Rectangle(0, 0, image1.Width, image1.Height));\n",
    "\n",
    "// // 绘制第二张图片\n",
    "// //在x=image1.Width,y=0处画上图一\n",
    "// graphics.DrawImage(image2, new Rectangle(image1.Width, 0, image2.Width, image2.Height));\n",
    "\n",
    "// // 绘制第三张图片\n",
    "// //在x=0,y=image1.Height 处画上图二\n",
    "// graphics.DrawImage(image3, new Rectangle(0, image1.Height, image3.Width, image3.Height));\n",
    "\n",
    "// // 绘制第四张图片\n",
    "// graphics.DrawImage(image4, new Rectangle(image3.Width, image2.Height, image4.Width, image4.Height));\n",
    "\n",
    "// // 在合并后的图片上添加文字\n",
    "// using (Font font = new Font(\"Arial\", 12))\n",
    "// using (SolidBrush brush = new SolidBrush(Color.Black))\n",
    "// {\n",
    "//     graphics.DrawString(\"Hello, World!\", font, brush, new PointF(10, 10));\n",
    "// }\n",
    "\n",
    "// // 保存合并后的图片\n",
    "// mergedImage.Save(\"mergedImage.jpg\", ImageFormat.Jpeg);\n",
    "\n",
    "\n",
    "\n",
    "\n",
    "// // 释放资源\n",
    "// graphics.Dispose();\n",
    "// mergedImage.Dispose();\n",
    "// image1.Dispose();\n",
    "// image2.Dispose();\n",
    "// image3.Dispose();\n",
    "// image4.Dispose();"
   ]
  }
 ],
 "metadata": {
  "language_info": {
   "name": "python"
  },
  "orig_nbformat": 4
 },
 "nbformat": 4,
 "nbformat_minor": 2
}
