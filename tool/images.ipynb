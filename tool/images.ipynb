{
 "cells": [
  {
   "cell_type": "code",
   "execution_count": 6,
   "metadata": {
    "dotnet_interactive": {
     "language": "csharp"
    },
    "polyglot_notebook": {
     "kernelName": "csharp"
    },
    "vscode": {
     "languageId": "polyglot-notebook"
    }
   },
   "outputs": [
    {
     "data": {
      "text/html": [
       "<div><div></div><div></div><div><strong>Installed Packages</strong><ul><li><span>SixLabors.ImageSharp, 3.0.2</span></li><li><span>SixLabors.ImageSharp.Drawing, 2.0.0</span></li></ul></div></div>"
      ]
     },
     "metadata": {},
     "output_type": "display_data"
    }
   ],
   "source": [
    "#r \"nuget: SixLabors.ImageSharp\"\n",
    "#r \"nuget: SixLabors.ImageSharp.Drawing\"\n"
   ]
  },
  {
   "cell_type": "code",
   "execution_count": 7,
   "metadata": {
    "dotnet_interactive": {
     "language": "csharp"
    },
    "polyglot_notebook": {
     "kernelName": "csharp"
    },
    "vscode": {
     "languageId": "polyglot-notebook"
    }
   },
   "outputs": [],
   "source": [
    "using System;\n",
    "using System.Collections.Generic;\n",
    "using System.IO;\n",
    "using System.Linq;\n",
    "using System.Text;\n",
    "using SixLabors.ImageSharp;\n",
    "using SixLabors.ImageSharp.Drawing.Processing;\n",
    "using SixLabors.ImageSharp.Processing;\n",
    "using SixLabors.ImageSharp.Formats.Png;\n",
    "using SixLabors.ImageSharp.Drawing;\n",
    "using SixLabors.ImageSharp.PixelFormats;"
   ]
  },
  {
   "cell_type": "code",
   "execution_count": 8,
   "metadata": {
    "dotnet_interactive": {
     "language": "csharp"
    },
    "polyglot_notebook": {
     "kernelName": "csharp"
    },
    "vscode": {
     "languageId": "polyglot-notebook"
    }
   },
   "outputs": [],
   "source": [
    "// Setup a custom formatter to display plots as images\n",
    "using Microsoft.DotNet.Interactive.Formatting;\n",
    "// Setup a custom formatter to display plots as images\n",
    "Formatter.Register(typeof(Image<Rgba32>), (p, w) => \n",
    "    w.Write(  $\"<img src=\\\"{ ((Image<Rgba32>)p).ToBase64String(PngFormat.Instance)}\\\"></img>\"  ), HtmlFormatter.MimeType);"
   ]
  },
  {
   "cell_type": "code",
   "execution_count": 9,
   "metadata": {
    "dotnet_interactive": {
     "language": "csharp"
    },
    "polyglot_notebook": {
     "kernelName": "csharp"
    },
    "vscode": {
     "languageId": "polyglot-notebook"
    }
   },
   "outputs": [],
   "source": [
    "// Setup a custom formatter to display plots as images\n",
    "using Microsoft.DotNet.Interactive.Formatting;\n",
    "// Setup a custom formatter to display plots as images\n",
    "Formatter.Register(typeof(Image<Rgba32>), (p, w) => \n",
    "    w.Write(  $\"<img src=\\\"{ ((Image<Rgba32>)p).ToBase64String(PngFormat.Instance)}\\\"></img>\"  ), HtmlFormatter.MimeType);"
   ]
  },
  {
   "cell_type": "code",
   "execution_count": 10,
   "metadata": {
    "dotnet_interactive": {
     "language": "csharp"
    },
    "polyglot_notebook": {
     "kernelName": "csharp"
    },
    "vscode": {
     "languageId": "polyglot-notebook"
    }
   },
   "outputs": [],
   "source": [
    "\tpublic void VerticalMergeImage(string imageName,params byte[][] bitmaps)\n",
    "\t{\n",
    "\t\tvar images = bitmaps.ToList().Select(image => Image.Load(new MemoryStream(image))).ToList();\n",
    "\t\tvar height = images.Select(image => image.Height).Sum();\n",
    "\t\tvar width = images.Select(image => image.Width).Max();\n",
    "\t\tusing (var mergeImage = new Image<Rgba32>(width,height))\n",
    "\t\t{\n",
    "\t\t\tint y = 0;//y坐标\n",
    "\t\t\tforeach(var image in images){\n",
    "\t\t\t\tmergeImage.Mutate(o=>o.DrawImage(image,new Point(0,y),1));\n",
    "\t\t\t\ty += image.Height;\n",
    "\t\t\t}\n",
    "\t\t//    mergeImage.SaveAsPng($\"D:/test/image/{imageName}\");\n",
    "\t\t    display(mergeImage);\n",
    "\t\t}\n",
    "\t}"
   ]
  }
 ],
 "metadata": {
  "language_info": {
   "name": "python"
  },
  "orig_nbformat": 4
 },
 "nbformat": 4,
 "nbformat_minor": 2
}
