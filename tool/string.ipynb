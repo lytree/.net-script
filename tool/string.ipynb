{
 "cells": [
  {
   "cell_type": "code",
   "execution_count": 3,
   "metadata": {
    "dotnet_interactive": {
     "language": "csharp"
    },
    "polyglot_notebook": {
     "kernelName": "csharp"
    },
    "vscode": {
     "languageId": "polyglot-notebook"
    }
   },
   "outputs": [
    {
     "data": {
      "text/plain": [
       "F39"
      ]
     },
     "metadata": {},
     "output_type": "display_data"
    },
    {
     "data": {
      "text/plain": [
       "F39"
      ]
     },
     "metadata": {},
     "output_type": "display_data"
    }
   ],
   "source": [
    "using System.Text.RegularExpressions;\n",
    "\n",
    "\n",
    "/// <summary>\n",
    "/// <summary>\n",
    "/// 字符串转Unicode\n",
    "/// </summary>\n",
    "/// <param name=\"source\">源字符串</param>\n",
    "/// <returns>Unicode编码后的字符串</returns>\n",
    "public static string String2Unicode(string source)\n",
    "{\n",
    "    byte[] bytes = Encoding.Unicode.GetBytes(source);\n",
    "    StringBuilder stringBuilder = new StringBuilder();\n",
    "    for (int i = 0; i < bytes.Length; i += 2)\n",
    "    {\n",
    "        stringBuilder.AppendFormat(\"\\\\u{0}{1}\", bytes[i + 1].ToString(\"x\").PadLeft(2, '0'), bytes[i].ToString(\"x\").PadLeft(2, '0'));\n",
    "    }\n",
    "    return stringBuilder.ToString();\n",
    "}\n",
    "\n",
    "/// <summary>\n",
    "/// Unicode转字符串\n",
    "/// </summary>\n",
    "/// <param name=\"source\">经过Unicode编码的字符串</param>\n",
    "/// <returns>正常字符串</returns>\n",
    "public static string Unicode2String(string source)\n",
    "{\n",
    "    return new Regex(@\"\\\\u([0-9A-F]{4})\", RegexOptions.IgnoreCase | RegexOptions.Compiled).Replace(\n",
    "                 source, x => string.Empty + Convert.ToChar(Convert.ToUInt16(x.Result(\"$1\"), 16)));\n",
    "}\n",
    "\n",
    "/// 按照长度拆分字符串\n",
    "/// </summary>\n",
    "/// <param name=\"strs\"></param>\n",
    "/// <param name=\"len\"></param>\n",
    "/// <returns></returns>\n",
    "public String[] getstr(string strs,int len)\n",
    "{\n",
    "    double i = strs.Length;\n",
    "    string[] myarray = new string[int.Parse(Math.Ceiling(i/len).ToString())];\n",
    "    for (int j=0;j < myarray.Length; j++)\n",
    "    {\n",
    "        len = len <= strs.Length ? len : strs.Length;\n",
    "        myarray[j] = strs.Substring(0, len);\n",
    "        strs = strs.Substring(len,strs.Length-len);\n",
    "    }\n",
    "    return myarray;\n",
    "}\n",
    "\n",
    "var text = \"FC1_u9752u6d77u5171u548cu005fu534eu749eu0031u0038u53f7u673au7ec4u0032u002eu0030u004du0057_GBXLSSR1_25600Hz_1_0_20231007030726.dat\";\n",
    "\n",
    "// var name = text.Split('_')[1];\n",
    "// foreach( var s in getstr(name,5))\n",
    "// {\n",
    "// display(Unicode2String(\"\\\\\"+s));\n",
    "// }\n",
    "\n",
    "\n",
    "\n",
    "display(Regex.Matches(\"F39号叶片\", @\"[\\w|-]+\",RegexOptions.ECMAScript).Last().Groups[0].Value);\n",
    "display(Regex.Matches(\"F39号叶片\", @\"[^\\u4e00-\\u9fa5]+\",RegexOptions.IgnoreCase).Last().Groups[0].Value);\n",
    "\n"
   ]
  }
 ],
 "metadata": {
  "language_info": {
   "name": "csharp"
  }
 },
 "nbformat": 4,
 "nbformat_minor": 2
}
