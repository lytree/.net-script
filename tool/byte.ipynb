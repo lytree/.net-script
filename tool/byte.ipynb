{
 "cells": [
  {
   "cell_type": "code",
   "execution_count": 1,
   "metadata": {
    "dotnet_interactive": {
     "language": "csharp"
    },
    "polyglot_notebook": {
     "kernelName": "csharp"
    },
    "vscode": {
     "languageId": "polyglot-notebook"
    }
   },
   "outputs": [
    {
     "data": {
      "text/html": [
       "<div><div></div><div></div><div><strong>Installed Packages</strong><ul><li><span>DotNetty.Buffers, 0.7.5</span></li></ul></div></div>"
      ]
     },
     "metadata": {},
     "output_type": "display_data"
    }
   ],
   "source": [
    "#r \"nuget: DotNetty.Buffers\""
   ]
  },
  {
   "cell_type": "code",
   "execution_count": 2,
   "metadata": {
    "dotnet_interactive": {
     "language": "csharp"
    },
    "polyglot_notebook": {
     "kernelName": "csharp"
    },
    "vscode": {
     "languageId": "polyglot-notebook"
    }
   },
   "outputs": [],
   "source": [
    "using System;\n",
    "using System.IO;\n",
    "using System.Collections.Generic;\n",
    "using System.Linq;\n",
    "using System.Runtime.InteropServices;\n",
    "using System.Text;\n",
    "using System.Threading.Tasks;\n",
    "using DotNetty.Buffers;"
   ]
  },
  {
   "cell_type": "code",
   "execution_count": 3,
   "metadata": {
    "dotnet_interactive": {
     "language": "csharp"
    },
    "polyglot_notebook": {
     "kernelName": "csharp"
    },
    "vscode": {
     "languageId": "polyglot-notebook"
    }
   },
   "outputs": [
    {
     "ename": "Error",
     "evalue": "System.IO.DirectoryNotFoundException: Could not find a part of the path 'F:\\WeChat\\WeChat Files\\wxid_6184q3ecf65d22\\FileStorage\\File\\2023-09\\20230908CMS2\\JXLLZ\\JXLLZ_011_20230908092505_CH7_Cond1.dat'.\r\n   at Microsoft.Win32.SafeHandles.SafeFileHandle.CreateFile(String fullPath, FileMode mode, FileAccess access, FileShare share, FileOptions options)\r\n   at Microsoft.Win32.SafeHandles.SafeFileHandle.Open(String fullPath, FileMode mode, FileAccess access, FileShare share, FileOptions options, Int64 preallocationSize, Nullable`1 unixCreateMode)\r\n   at System.IO.Strategies.OSFileStreamStrategy..ctor(String path, FileMode mode, FileAccess access, FileShare share, FileOptions options, Int64 preallocationSize, Nullable`1 unixCreateMode)\r\n   at System.IO.Strategies.FileStreamHelpers.ChooseStrategyCore(String path, FileMode mode, FileAccess access, FileShare share, FileOptions options, Int64 preallocationSize, Nullable`1 unixCreateMode)\r\n   at System.IO.FileStream..ctor(String path, FileMode mode)\r\n   at Submission#3.<<Initialize>>d__0.MoveNext()\r\n--- End of stack trace from previous location ---\r\n   at Microsoft.CodeAnalysis.Scripting.ScriptExecutionState.RunSubmissionsAsync[TResult](ImmutableArray`1 precedingExecutors, Func`2 currentExecutor, StrongBox`1 exceptionHolderOpt, Func`2 catchExceptionOpt, CancellationToken cancellationToken)",
     "output_type": "error",
     "traceback": [
      "System.IO.DirectoryNotFoundException: Could not find a part of the path 'F:\\WeChat\\WeChat Files\\wxid_6184q3ecf65d22\\FileStorage\\File\\2023-09\\20230908CMS2\\JXLLZ\\JXLLZ_011_20230908092505_CH7_Cond1.dat'.\r\n",
      "   at Microsoft.Win32.SafeHandles.SafeFileHandle.CreateFile(String fullPath, FileMode mode, FileAccess access, FileShare share, FileOptions options)\r\n",
      "   at Microsoft.Win32.SafeHandles.SafeFileHandle.Open(String fullPath, FileMode mode, FileAccess access, FileShare share, FileOptions options, Int64 preallocationSize, Nullable`1 unixCreateMode)\r\n",
      "   at System.IO.Strategies.OSFileStreamStrategy..ctor(String path, FileMode mode, FileAccess access, FileShare share, FileOptions options, Int64 preallocationSize, Nullable`1 unixCreateMode)\r\n",
      "   at System.IO.Strategies.FileStreamHelpers.ChooseStrategyCore(String path, FileMode mode, FileAccess access, FileShare share, FileOptions options, Int64 preallocationSize, Nullable`1 unixCreateMode)\r\n",
      "   at System.IO.FileStream..ctor(String path, FileMode mode)\r\n",
      "   at Submission#3.<<Initialize>>d__0.MoveNext()\r\n",
      "--- End of stack trace from previous location ---\r\n",
      "   at Microsoft.CodeAnalysis.Scripting.ScriptExecutionState.RunSubmissionsAsync[TResult](ImmutableArray`1 precedingExecutors, Func`2 currentExecutor, StrongBox`1 exceptionHolderOpt, Func`2 catchExceptionOpt, CancellationToken cancellationToken)"
     ]
    }
   ],
   "source": [
    "// 方式一\n",
    "using (System.IO.FileStream fs = new System.IO.FileStream(@\"F:\\WeChat\\WeChat Files\\wxid_6184q3ecf65d22\\FileStorage\\File\\2023-09\\20230908CMS2\\JXLLZ\\JXLLZ_011_20230908092505_CH7_Cond1.dat\", System.IO.FileMode.Open))\n",
    "{\n",
    "    // 获取文件大小\n",
    "    long size = fs.Length;\n",
    "    byte[] bytes = new byte[size];\n",
    "    // 将文件读到byte数组中\n",
    "    fs.Read(bytes, 0, bytes.Length);\n",
    "    display(bytes.Length);\n",
    "    IByteBuffer buffer = Unpooled.WrappedBuffer(bytes);\n",
    "    display(buffer.ReadShortLE());//Header Version\n",
    "    display(buffer.ReadIntLE());//Data Size\n",
    "    display(buffer.ReadShortLE());//Data Analysis\n",
    "    display(buffer.ReadFloatLE());//Scale Coefficient\n",
    "    display(buffer.ReadFloatLE());//Scale Offset\n",
    "    buffer.ReadBytes(new byte[48]);//Scale Offset\n",
    "    display(buffer.ReadShortLE());//Condition Description Size\n",
    "    buffer.ReadBytes(new byte[14]);//Scale Offset\n",
    "    display(buffer.ReadBytes(new byte[16]));//Working Condition\n",
    "    display(buffer.ReadBytes(new byte[16]));//Working Condition\n",
    "    display(buffer.ReadBytes(new byte[16]));//Working Condition\n",
    "    display(buffer.ReadBytes(new byte[16]));//Working Condition\n",
    "    display(buffer.ReadFloatLE());//Working Condition\n",
    "    display(buffer.ReadFloatLE());//Working Condition\n",
    "    display(buffer.ReadFloatLE());//Working Condition\n",
    "    display(buffer.ReadFloatLE());//Working Condition\n",
    "    display(buffer.ReadFloatLE());//Working Condition\n",
    "    display(buffer.ReadFloatLE());//Working Condition\n",
    "    display(buffer.ReadFloatLE());//Working Condition\n",
    "    display(buffer.ReadFloatLE());//Working Condition\n",
    "    display(buffer.ReadFloatLE());//Working Condition\n",
    "    display(buffer.ReadFloatLE());//Working Condition\n",
    "    display(buffer.ReadFloatLE());//Working Condition\n",
    "    display(buffer.ReadFloatLE());//Working Condition\n",
    "    display(buffer.ReadBytes(new byte[16]));//Working Condition\n",
    "    display(buffer.ReadBytes(new byte[32]));//Working Condition\n",
    "    display(buffer.ReadIntLE());//Working Condition\n",
    "    display(buffer.ReadBytes(new byte[28]));//Working Condition\n",
    "    display(buffer.ReadFloatLE());//Working Condition\n",
    "}\n",
    " "
   ]
  }
 ],
 "metadata": {
  "language_info": {
   "name": "python"
  },
  "orig_nbformat": 4
 },
 "nbformat": 4,
 "nbformat_minor": 2
}
