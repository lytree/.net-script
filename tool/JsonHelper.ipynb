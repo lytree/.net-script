{
 "cells": [
  {
   "cell_type": "code",
   "execution_count": 1,
   "metadata": {
    "dotnet_interactive": {
     "language": "csharp"
    },
    "polyglot_notebook": {
     "kernelName": "csharp"
    },
    "vscode": {
     "languageId": "polyglot-notebook"
    }
   },
   "outputs": [],
   "source": [
    "#nullable enable\n",
    "using System;\n",
    "using System.Text.Encodings.Web;\n",
    "using System.Text.Json;\n",
    "using System.Text.Json.Serialization;\n",
    "/// <summary>\n",
    "/// Json帮助类\n",
    "/// </summary>\n",
    "\n",
    "JsonSerializerOptions _jsonSerializerOptions = new()\n",
    "{\n",
    "\tPropertyNamingPolicy = JsonNamingPolicy.CamelCase,\n",
    "\tEncoder = JavaScriptEncoder.UnsafeRelaxedJsonEscaping,\n",
    "};\n",
    "/// <summary>\n",
    "/// 序列化\n",
    "/// </summary>\n",
    "/// <typeparam name=\"T\"></typeparam>\n",
    "/// <param name=\"obj\"></param>\n",
    "/// <returns></returns>\n",
    "public string Serialize<T>(T obj)\n",
    "{\n",
    "\treturn JsonSerializer.Serialize(obj, typeof(T), _jsonSerializerOptions);\n",
    "}\n",
    "/// <summary>\n",
    "/// 反序列化\n",
    "/// </summary>\n",
    "/// <typeparam name=\"T\"></typeparam>\n",
    "/// <param name=\"json\"></param>\n",
    "/// <returns></returns>\n",
    "public  T? Deserialize<T>(string json)\n",
    "{\n",
    "\treturn JsonSerializer.Deserialize<T>(json, _jsonSerializerOptions);\n",
    "}\n",
    "/// <summary>\n",
    "/// 反序列化\n",
    "/// </summary>\n",
    "/// <param name=\"json\">json文本</param>\n",
    "/// <param name=\"type\">类型</param>\n",
    "/// <returns></returns>\n",
    "public object? Deserialize(string json, Type type)\n",
    "{\n",
    "\treturn JsonSerializer.Deserialize(json, type, _jsonSerializerOptions);\n",
    "}\n"
   ]
  }
 ],
 "metadata": {
  "language_info": {
   "name": "csharp"
  },
  "orig_nbformat": 4
 },
 "nbformat": 4,
 "nbformat_minor": 2
}
