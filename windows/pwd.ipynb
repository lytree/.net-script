{
 "cells": [
  {
   "cell_type": "code",
   "execution_count": 4,
   "metadata": {
    "dotnet_interactive": {
     "language": "csharp"
    },
    "polyglot_notebook": {
     "kernelName": "csharp"
    }
   },
   "outputs": [
    {
     "data": {
      "text/plain": [
       "{'2024-07-13': 'Windit723480',\n",
       " '2024-07-14': 'Windit115078',\n",
       " '2024-07-15': 'Windit966762'}"
      ]
     },
     "execution_count": 4,
     "metadata": {},
     "output_type": "execute_result"
    }
   ],
   "source": [
    "import hmac, os\n",
    "import datetime\n",
    " \n",
    " \n",
    "def create_pwd(date=None):\n",
    " \n",
    "    if date: \n",
    "        time_min = date\n",
    "    else:\n",
    "        # 获取当前时间\n",
    "        time_min = datetime.datetime.now().strftime('%Y-%m-%d')\n",
    "    # time_min = '2020-04-06'\n",
    "    \n",
    " \n",
    "    # K 共享密钥（令牌种子）\n",
    "    k = \"3132333435363738393031323334353637383930\"\\\n",
    "        \"5232333435363738393031323334353637383930\"\\\n",
    "        \"6432333435363738393031323334353637383930\"\\\n",
    "        \"75323334\" # 中自庆安，正使用的密钥\n",
    " \n",
    " \n",
    "    #string->bytes'roles', \n",
    "    b_k = bytes(k, encoding='utf-8')\n",
    "    b_m = bytes(time_min, encoding='utf-8') \n",
    "\n",
    "    #加密算法\n",
    "    digestmod = \"MD5\"\n",
    "    h = hmac.new(b_k, b_m, digestmod)\n",
    "    # print(h.hexdigest())\n",
    " \n",
    " \n",
    "    #将返回的16进制摘要截取6位\n",
    "    hex_final = str(h.hexdigest())[0:6]\n",
    "    # print(hex_final)\n",
    " \n",
    "    #转为10进制\n",
    "    final = str(int(hex_final.upper(), 16))[0:6]\n",
    "    passwd = 'Windit' + final\n",
    "    # print(passwd)\n",
    "    os.system('net user administrator %s'%passwd)\n",
    "    return passwd\n",
    "\n",
    "def pwdlist():\n",
    "    yesterday = (datetime.datetime.now()+datetime.timedelta(-1)).strftime('%Y-%m-%d')\n",
    "    today = datetime.datetime.now().strftime('%Y-%m-%d')\n",
    "    tomorrow = (datetime.datetime.now()+datetime.timedelta(1)).strftime('%Y-%m-%d')\n",
    "    ret = {\n",
    "        yesterday: create_pwd(yesterday),\n",
    "        today: create_pwd(today),\n",
    "        tomorrow: create_pwd(tomorrow),\n",
    "    }\n",
    "    return ret\n",
    "\n",
    "def read_pwd():\n",
    "\n",
    "    f = open('passwd.txt', 'r')\n",
    "    a = f.readlines()\n",
    "    ret = dict()\n",
    "    for var in a:\n",
    "        key, value = var.split(':')\n",
    "        ret[key]= value.strip()\n",
    "    print(ret)\n",
    "\n",
    "\n",
    "pwdlist()\n",
    "\n",
    "\n"
   ]
  }
 ],
 "metadata": {
  "kernelspec": {
   "display_name": "base",
   "language": "python",
   "name": "python3"
  },
  "language_info": {
   "codemirror_mode": {
    "name": "ipython",
    "version": 3
   },
   "file_extension": ".py",
   "mimetype": "text/x-python",
   "name": "python",
   "nbconvert_exporter": "python",
   "pygments_lexer": "ipython3",
   "version": "3.12.1"
  },
  "polyglot_notebook": {
   "kernelInfo": {
    "defaultKernelName": "csharp",
    "items": [
     {
      "aliases": [],
      "name": "csharp"
     }
    ]
   }
  }
 },
 "nbformat": 4,
 "nbformat_minor": 2
}
