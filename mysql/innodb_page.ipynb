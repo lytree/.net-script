{
 "cells": [
  {
   "cell_type": "code",
   "execution_count": 61,
   "metadata": {
    "dotnet_interactive": {
     "language": "csharp"
    },
    "polyglot_notebook": {
     "kernelName": "csharp"
    },
    "vscode": {
     "languageId": "polyglot-notebook"
    }
   },
   "outputs": [],
   "source": [
    "using System.IO;"
   ]
  },
  {
   "cell_type": "code",
   "execution_count": 63,
   "metadata": {
    "dotnet_interactive": {
     "language": "csharp"
    },
    "polyglot_notebook": {
     "kernelName": "csharp"
    },
    "vscode": {
     "languageId": "polyglot-notebook"
    }
   },
   "outputs": [
    {
     "data": {
      "text/plain": [
       "page offset [00000000], page type <File Space Header>, pre page [00000000], next page [00000000] , flush_lsn <0000000000000000> , space_id <000005e1>"
      ]
     },
     "metadata": {},
     "output_type": "display_data"
    },
    {
     "data": {
      "text/plain": [
       "page_dir_slots 0000  page_heap_top 05e1  page_n_heap 0000 page_level 0000 page_index_id ffffffff0000ffff page_btr_seg_leaf ffff0000000000010000 page_btr_seg_top 0000009e00000000009e"
      ]
     },
     "metadata": {},
     "output_type": "display_data"
    },
    {
     "data": {
      "text/plain": [
       "page offset [00000001], page type <Insert Buffer Bitmap>, pre page [00000000], next page [00000000] , flush_lsn <0000000000000000> , space_id <000005e1>"
      ]
     },
     "metadata": {},
     "output_type": "display_data"
    },
    {
     "data": {
      "text/plain": [
       "page_dir_slots 0000  page_heap_top 0000  page_n_heap 0000 page_level 0000 page_index_id 0000000000000000 page_btr_seg_leaf 00000000000000000000 page_btr_seg_top 00000000000000000000"
      ]
     },
     "metadata": {},
     "output_type": "display_data"
    },
    {
     "data": {
      "text/plain": [
       "page offset [00000002], page type <File Segment inode>, pre page [00000000], next page [00000000] , flush_lsn <0000000000000000> , space_id <000005e1>"
      ]
     },
     "metadata": {},
     "output_type": "display_data"
    },
    {
     "data": {
      "text/plain": [
       "page_dir_slots ffff  page_heap_top ffff  page_n_heap 0000 page_level 0000 page_index_id ffffffff0000ffff page_btr_seg_leaf ffff000000000000ffff page_btr_seg_top ffff0000ffffffff0000"
      ]
     },
     "metadata": {},
     "output_type": "display_data"
    },
    {
     "data": {
      "text/plain": [
       "page offset [00000003], page type <B-tree Node>, pre page [ffffffff], next page [ffffffff] , flush_lsn <0000000000000000> , space_id <000005e1>"
      ]
     },
     "metadata": {},
     "output_type": "display_data"
    },
    {
     "data": {
      "text/plain": [
       "page_dir_slots 0002  page_heap_top 0078  page_n_heap 8002 page_level 0000 page_index_id 000000000000071e page_btr_seg_leaf 000005e10000000200f2 page_btr_seg_top 000005e1000000020032"
      ]
     },
     "metadata": {},
     "output_type": "display_data"
    },
    {
     "data": {
      "text/plain": [
       "page offset [00000004], page type <B-tree Node>, pre page [ffffffff], next page [ffffffff] , flush_lsn <0000000000000000> , space_id <000005e1>"
      ]
     },
     "metadata": {},
     "output_type": "display_data"
    },
    {
     "data": {
      "text/plain": [
       "page_dir_slots 0002  page_heap_top 0078  page_n_heap 8002 page_level 0000 page_index_id 0000000000000723 page_btr_seg_leaf 000005e1000000020272 page_btr_seg_top 000005e10000000201b2"
      ]
     },
     "metadata": {},
     "output_type": "display_data"
    },
    {
     "data": {
      "text/plain": [
       "page offset [00000005], page type <B-tree Node>, pre page [ffffffff], next page [ffffffff] , flush_lsn <0000000000000000> , space_id <000005e1>"
      ]
     },
     "metadata": {},
     "output_type": "display_data"
    },
    {
     "data": {
      "text/plain": [
       "page_dir_slots 0002  page_heap_top 0078  page_n_heap 8002 page_level 0000 page_index_id 0000000000000724 page_btr_seg_leaf 000005e10000000203f2 page_btr_seg_top 000005e1000000020332"
      ]
     },
     "metadata": {},
     "output_type": "display_data"
    },
    {
     "data": {
      "text/plain": [
       "page offset [00000006], page type <B-tree Node>, pre page [ffffffff], next page [ffffffff] , flush_lsn <0000000000000000> , space_id <000005e1>"
      ]
     },
     "metadata": {},
     "output_type": "display_data"
    },
    {
     "data": {
      "text/plain": [
       "page_dir_slots 0002  page_heap_top 0078  page_n_heap 8002 page_level 0000 page_index_id 0000000000000725 page_btr_seg_leaf 000005e1000000020572 page_btr_seg_top 000005e10000000204b2"
      ]
     },
     "metadata": {},
     "output_type": "display_data"
    },
    {
     "data": {
      "text/plain": [
       "page offset [00000000], page type <Freshly Allocated Page>, pre page [00000000], next page [00000000] , flush_lsn <0000000000000000> , space_id <00000000>"
      ]
     },
     "metadata": {},
     "output_type": "display_data"
    },
    {
     "data": {
      "text/plain": [
       "page_dir_slots 0000  page_heap_top 0000  page_n_heap 0000 page_level 0000 page_index_id 0000000000000000 page_btr_seg_leaf 00000000000000000000 page_btr_seg_top 00000000000000000000"
      ]
     },
     "metadata": {},
     "output_type": "display_data"
    },
    {
     "data": {
      "text/plain": [
       "page offset [00000000], page type <Freshly Allocated Page>, pre page [00000000], next page [00000000] , flush_lsn <0000000000000000> , space_id <00000000>"
      ]
     },
     "metadata": {},
     "output_type": "display_data"
    },
    {
     "data": {
      "text/plain": [
       "page_dir_slots 0000  page_heap_top 0000  page_n_heap 0000 page_level 0000 page_index_id 0000000000000000 page_btr_seg_leaf 00000000000000000000 page_btr_seg_top 00000000000000000000"
      ]
     },
     "metadata": {},
     "output_type": "display_data"
    }
   ],
   "source": [
    "public string MachReadFromN(byte[] page,int start_offset,int length)\n",
    "{\n",
    "\tvar ret = page[start_offset..(start_offset+length)];\n",
    "\treturn Convert.ToHexString(ret).ToLower();\n",
    "}\n",
    "public void GetInnodbPageType()\n",
    "{\n",
    "\tvar f=new FileInfo(@\"E:\\MySQL\\Data\\admin\\tb_users.ibd\");\n",
    "\n",
    "\n",
    "\n",
    "\tvar fsize = f.Length/INNODB_PAGE_SIZE;\n",
    "\tdynamic ret = new{};\n",
    "\tvar read = new BinaryReader(f.OpenRead());\n",
    "\tfor (int i = 0;i<fsize;i++)\n",
    "\t{\n",
    "\t\t\n",
    "\t\tvar page = read.ReadBytes(INNODB_PAGE_SIZE);\n",
    "\t\t//file header\n",
    "\t\tvar page_offset = MachReadFromN(page,FIL_PAGE_OFFSET,4);\n",
    "\t\tvar page_pre = MachReadFromN(page,FIL_PAGE_OFFSET+4,4);\n",
    "\t\tvar page_next = MachReadFromN(page,FIL_PAGE_OFFSET+8,4);\n",
    "\t\tvar page_lsn = MachReadFromN(page,FIL_PAGE_OFFSET+12,8);\n",
    "\t\t\n",
    "\t\tvar page_type = MachReadFromN(page,FIL_PAGE_TYPE,2);\n",
    "\t\tvar flush_lsn = MachReadFromN(page,FIL_PAGE_TYPE+2,8);\n",
    "\t\tvar space_id = MachReadFromN(page,FIL_PAGE_TYPE+10,4);\n",
    "\t\t\n",
    "\n",
    "\t\tdisplay($\"page offset [{page_offset}], page type <{innodb_page_type[page_type]}>, pre page [{page_pre}], next page [{page_next}] , flush_lsn <{flush_lsn}> , space_id <{space_id}>\");\n",
    "\n",
    "\n",
    "\t\t//page header\n",
    "\t\tvar page_dir_slots = MachReadFromN(page,FIL_PAGE_DATA,2);\n",
    "\t\tvar page_heap_top = MachReadFromN(page,FIL_PAGE_DATA+2,2);\n",
    "\t\tvar page_n_heap = MachReadFromN(page,FIL_PAGE_DATA+4,2);\n",
    "\t\tvar\tpage_level = MachReadFromN(page,FIL_PAGE_DATA+26,2);\n",
    "\t\tvar\tpage_index_id = MachReadFromN(page,FIL_PAGE_DATA+28,8);\n",
    "\t\tvar page_btr_seg_leaf = MachReadFromN(page,FIL_PAGE_DATA+36,10);\n",
    "\t\tvar page_btr_seg_top = MachReadFromN(page,FIL_PAGE_DATA+46,10);\n",
    "\n",
    "\t\tdisplay($\"page_dir_slots {page_dir_slots}  page_heap_top {page_heap_top}  page_n_heap {page_n_heap} page_level {page_level} page_index_id {page_index_id} page_btr_seg_leaf {page_btr_seg_leaf} page_btr_seg_top {page_btr_seg_top}\");\n",
    "\t\t//Infimum + Supremum\n",
    "\n",
    "\n",
    "\t\t//User Records\n",
    "\n",
    "\t\t// Free Space\n",
    "\n",
    "\t\t// Page Directory\n",
    "\t\tvar data = MachReadFromN(page,38,INNODB_PAGE_SIZE-8-32);\n",
    "\n",
    "\t\t//File Trailer\n",
    "\t\tvar file_trailer = MachReadFromN(page,INNODB_PAGE_SIZE-8,8);\n",
    "\n",
    "\t\t\t\n",
    "\t\t\n",
    "\t}\n",
    "}\n",
    "GetInnodbPageType();"
   ]
  }
 ],
 "metadata": {
  "language_info": {
   "name": "csharp"
  },
  "orig_nbformat": 4
 },
 "nbformat": 4,
 "nbformat_minor": 2
}
