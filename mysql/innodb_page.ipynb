{
 "cells": [
  {
   "cell_type": "code",
   "execution_count": 1,
   "metadata": {
    "dotnet_interactive": {
     "language": "csharp"
    },
    "polyglot_notebook": {
     "kernelName": "csharp"
    },
    "vscode": {
     "languageId": "polyglot-notebook"
    }
   },
   "outputs": [],
   "source": [
    "using System.IO;"
   ]
  },
  {
   "cell_type": "code",
   "execution_count": null,
   "metadata": {
    "dotnet_interactive": {
     "language": "csharp"
    },
    "polyglot_notebook": {
     "kernelName": "csharp"
    },
    "vscode": {
     "languageId": "polyglot-notebook"
    }
   },
   "outputs": [],
   "source": [
    "readonly var INNODB_PAGE_SIZE=1024*16; //# InnoDB Page 16K"
   ]
  },
  {
   "cell_type": "code",
   "execution_count": null,
   "metadata": {
    "dotnet_interactive": {
     "language": "csharp"
    },
    "polyglot_notebook": {
     "kernelName": "csharp"
    },
    "vscode": {
     "languageId": "polyglot-notebook"
    }
   },
   "outputs": [],
   "source": [
    "// File Header\n",
    "readonly var FIL_PAGE_SPACE_OR_CHKSUM = 0;\n",
    "\n",
    "readonly var FIL_PAGE_OFFSET = 4;\n",
    "\n",
    "readonly var FIL_PAGE_PREV = 8;\n",
    "\n",
    "readonly var FIL_PAGE_NEXT = 12;\n",
    "\n",
    "readonly var FIL_PAGE_LSN = 16;\n",
    "\n",
    "readonly var FIL_PAGE_TYPE= 24;\n",
    "// 页类型\n",
    "readonly var innodb_page_type=new Dictionary<string, string>(){\n",
    "\t{\"0000\",\"Freshly Allocated Page\"},\n",
    "\t{\"0002\",\"Undo Log Page\"},\n",
    "\t{\"0003\",\"File Segment inode\"},\n",
    "\t{\"0004\",\"Insert Buffer Free List\"},\n",
    "\t{\"0005\",\"Insert Buffer Bitmap\"},\n",
    "\t{\"0006\",\"System Page\"},\n",
    "\t{\"0007\",\"Transaction system Page\"},\n",
    "\t{\"0008\",\"File Space Header\"},\n",
    "\t{\"0009\",\"extend description page\"},\n",
    "\t{\"000a\",\"Uncompressed BLOB Page\"},\n",
    "\t{\"000b\",\"1st compressed BLOB Page\"},\n",
    "\t{\"000c\",\"Subsequent compressed BLOB Page\"},\n",
    "\t{\"45bf\",\"B-tree Node\"},\n",
    "    {\"45bd\",\"Tablespace SDI Index page\"}\n",
    "\t};\n",
    "\n",
    "\n",
    "\n",
    "readonly var FIL_PAGE_FILE_FLUSH_LSN = 26;\n",
    "\n",
    "readonly var FIL_PAGE_ARCH_LOG_NO_OR_SPACE_ID = 34;\n",
    "\n",
    "readonly var FIL_PAGE_DATA = 38;//文件头部"
   ]
  },
  {
   "cell_type": "code",
   "execution_count": null,
   "metadata": {
    "dotnet_interactive": {
     "language": "csharp"
    },
    "polyglot_notebook": {
     "kernelName": "csharp"
    },
    "vscode": {
     "languageId": "polyglot-notebook"
    }
   },
   "outputs": [],
   "source": [
    "//#  Page Header\n",
    "\n",
    "\n",
    "readonly var PAGE_N_DIR_SLOTS = 0;\n",
    "\n",
    "readonly var PAGE_HEAP_TOP = 2;\n",
    "\n",
    "readonly var PAGE_N_HEAP = 4;\n",
    "\n",
    "readonly var PAGE_FREE = 6;\n",
    "\n",
    "readonly var PAGE_GARBAGE  = 8;\n",
    "\n",
    "\n",
    "readonly var  PAGE_LAST_INSERT = 10;\n",
    "\n",
    "\n",
    "readonly var PAGE_DIRECTION  = 12;\n",
    "\n",
    "readonly var PAGE_N_DIRECTION  = 14;\n",
    "\n",
    "readonly var PAGE_N_RECS = 16;\n",
    "\n",
    "readonly var PAGE_MAX_TRX_ID = 18;\n",
    "\n",
    "readonly var PAGE_LEVEL = 26;\n",
    "\n",
    "\n",
    "readonly var PAGE_INDEX_ID = 28;\n",
    "\n",
    "readonly var PAGE_BTR_SEG_LEAF  = 38;\n",
    "\n",
    "readonly var PAGE_BTR_SEG_TOP  = 48;\n",
    "\n",
    "\n",
    "\n",
    "\n",
    "\n",
    "\n",
    "\n",
    "\n",
    "\n",
    "readonly var PAGE_PAGE_DATA = 56; //页面头部\n",
    "\n",
    "\n",
    "readonly var Infimum_Supremum_PAGE_DATA = 26; // 最小记录和最大记录\n",
    "\n",
    "\n",
    "readonly var File_Tailer = 8; // 最小记录和最大记录\n",
    "\n",
    "\t\n",
    "readonly var innodb_page_direction=new Dictionary<string, string>(){\n",
    "\t{\"0000\",\"Unknown(0x0000)\"},\n",
    "\t{\"0001\", \"Page Left\"},\n",
    "\t{\"0002\", \"Page Right\"},\n",
    "\t{\"0003\", \"Page Same Rec\"},\n",
    "\t{\"0004\", \"Page Same Page\"},\n",
    "\t{\"0005\", \"Page No Direction\"},\n",
    "\t{\"ffff\", \"Unkown2(0xffff)\"}\n",
    "};\n",
    "\n",
    "\n"
   ]
  },
  {
   "cell_type": "code",
   "execution_count": null,
   "metadata": {
    "dotnet_interactive": {
     "language": "csharp"
    },
    "polyglot_notebook": {
     "kernelName": "csharp"
    },
    "vscode": {
     "languageId": "polyglot-notebook"
    }
   },
   "outputs": [],
   "source": [
    "public string MachReadFromN(byte[] page,int start_offset,int length)\n",
    "{\n",
    "\tvar ret = page[start_offset..(start_offset+length)];\n",
    "\treturn Convert.ToHexString(ret).ToLower();\n",
    "}\n",
    "public void GetInnodbPageType()\n",
    "{\n",
    "\tvar f=new FileInfo(@\"F:\\d_23030412514284807_vib#P#p24.ibd\");\n",
    "\n",
    "\n",
    "\n",
    "\tvar fsize = f.Length/INNODB_PAGE_SIZE;\n",
    "\tdynamic ret = new{};\n",
    "\tvar read = new BinaryReader(f.OpenRead());\n",
    "\tfor (int i = 0;i<fsize;i++)\n",
    "\t{\n",
    "\t\t\n",
    "\t\tvar page = read.ReadBytes(INNODB_PAGE_SIZE);\n",
    "\t\t//file header\n",
    "\t\tvar page_offset = MachReadFromN(page,FIL_PAGE_OFFSET,4);\n",
    "\t\tvar page_pre = MachReadFromN(page,FIL_PAGE_OFFSET+4,4);\n",
    "\t\tvar page_next = MachReadFromN(page,FIL_PAGE_OFFSET+8,4);\n",
    "\t\tvar page_lsn = MachReadFromN(page,FIL_PAGE_OFFSET+12,8);\n",
    "\t\t\n",
    "\t\tvar page_type = MachReadFromN(page,FIL_PAGE_TYPE,2);\n",
    "\t\tvar flush_lsn = MachReadFromN(page,FIL_PAGE_TYPE+2,8);\n",
    "\t\tvar space_id = MachReadFromN(page,FIL_PAGE_TYPE+10,4);\n",
    "\t\t\n",
    "\t\tif(page_type != \"45bf\"){\n",
    "\t\t\tcontinue;\n",
    "\t\t}\n",
    "\t\t\n",
    "\t\tdisplay($\"page offset [{page_offset}], page type <{innodb_page_type[page_type]}>, pre page [{page_pre}], next page [{page_next}] , flush_lsn <{flush_lsn}> , space_id <{space_id}>\");\n",
    "\n",
    "\t\t//page header\n",
    "\t\tvar page_dir_slots = MachReadFromN(page,FIL_PAGE_DATA,2);\n",
    "\t\tvar page_heap_top = MachReadFromN(page,FIL_PAGE_DATA+2,2);\n",
    "\t\tvar page_n_heap = MachReadFromN(page,FIL_PAGE_DATA+4,2);\n",
    "\t\tvar page_n_recs = MachReadFromN(page,PAGE_N_RECS+4,2);\n",
    "\t\tvar\tpage_level = MachReadFromN(page,FIL_PAGE_DATA+26,2);\n",
    "\t\tvar\tpage_index_id = MachReadFromN(page,FIL_PAGE_DATA+28,8);\n",
    "\t\tvar page_btr_seg_leaf = MachReadFromN(page,FIL_PAGE_DATA+36,10);\n",
    "\t\tvar page_btr_seg_top = MachReadFromN(page,FIL_PAGE_DATA+46,10);\n",
    "\n",
    "\t\tdisplay($\"page_dir_slots {page_dir_slots}  page_heap_top {page_heap_top}  page_n_heap {page_n_heap}  page_n_recs {page_n_recs} page_level {page_level} page_index_id {page_index_id} page_btr_seg_leaf {page_btr_seg_leaf} page_btr_seg_top {page_btr_seg_top}\");\n",
    "\t\t//Infimum + Supremum\n",
    "\n",
    "\n",
    "\t\t//User Records\n",
    "\n",
    "\n",
    "\n",
    "\n",
    "\n",
    "\n",
    "\t\tvar reserve1 = MachReadFromN(page,FIL_PAGE_DATA+PAGE_PAGE_DATA+Infimum_Supremum_PAGE_DATA,1);\n",
    "\t\tvar reserv2 = MachReadFromN(page,FIL_PAGE_DATA+PAGE_PAGE_DATA+Infimum_Supremum_PAGE_DATA+1,1);\n",
    "\t\tvar delete_mask = MachReadFromN(page,FIL_PAGE_DATA+PAGE_PAGE_DATA+Infimum_Supremum_PAGE_DATA+2,1);\n",
    "\t\tvar min_rec_mask  = MachReadFromN(page,FIL_PAGE_DATA+PAGE_PAGE_DATA+Infimum_Supremum_PAGE_DATA+3,1);\n",
    "\t\tdisplay($\"reserve1 {reserve1} reserv2 {reserv2} delete_mask {delete_mask} min_rec_mask  {min_rec_mask}\");\n",
    "\t\t// Free Space\n",
    "\n",
    "\t\t// Page Directory\n",
    "\n",
    "\t\t//File Trailer\n",
    "\t\tvar file_trailer = MachReadFromN(page,INNODB_PAGE_SIZE-8,8);\n",
    "\n",
    "\t\t\t\n",
    "\t\t\n",
    "\t}\n",
    "}\n",
    "GetInnodbPageType();"
   ]
  }
 ],
 "metadata": {
  "kernelspec": {
   "display_name": ".NET (C#)",
   "language": "C#",
   "name": ".net-csharp"
  },
  "language_info": {
   "codemirror_mode": {
    "name": "ipython",
    "version": 3
   },
   "file_extension": ".py",
   "mimetype": "text/x-python",
   "name": "python",
   "nbconvert_exporter": "python",
   "pygments_lexer": "ipython3",
   "version": "3.12.1"
  },
  "orig_nbformat": 4,
  "polyglot_notebook": {
   "kernelInfo": {
    "defaultKernelName": "csharp",
    "items": [
     {
      "aliases": [],
      "name": "csharp"
     }
    ]
   }
  }
 },
 "nbformat": 4,
 "nbformat_minor": 2
}
