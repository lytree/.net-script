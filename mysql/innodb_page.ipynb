{
 "cells": [
  {
   "cell_type": "code",
   "execution_count": 26,
   "metadata": {
    "dotnet_interactive": {
     "language": "csharp"
    },
    "polyglot_notebook": {
     "kernelName": "csharp"
    },
    "vscode": {
     "languageId": "polyglot-notebook"
    }
   },
   "outputs": [],
   "source": [
    "using System.IO;"
   ]
  },
  {
   "cell_type": "code",
   "execution_count": 27,
   "metadata": {
    "dotnet_interactive": {
     "language": "csharp"
    },
    "polyglot_notebook": {
     "kernelName": "csharp"
    },
    "vscode": {
     "languageId": "polyglot-notebook"
    }
   },
   "outputs": [],
   "source": [
    "readonly var INNODB_PAGE_SIZE=1024*16; //# InnoDB Page 16K"
   ]
  },
  {
   "cell_type": "code",
   "execution_count": 28,
   "metadata": {
    "dotnet_interactive": {
     "language": "csharp"
    },
    "polyglot_notebook": {
     "kernelName": "csharp"
    },
    "vscode": {
     "languageId": "polyglot-notebook"
    }
   },
   "outputs": [],
   "source": [
    "// File Header\n",
    "readonly var FIL_PAGE_SPACE_OR_CHKSUM = 0;\n",
    "\n",
    "readonly var FIL_PAGE_OFFSET = 4;\n",
    "\n",
    "readonly var FIL_PAGE_PREV = 8;\n",
    "\n",
    "readonly var FIL_PAGE_NEXT = 12;\n",
    "\n",
    "readonly var FIL_PAGE_LSN = 16;\n",
    "\n",
    "readonly var FIL_PAGE_TYPE= 24;\n",
    "// 页类型\n",
    "readonly var innodb_page_type=new Dictionary<string, string>(){\n",
    "\t{\"0000\",\"Freshly Allocated Page\"},\n",
    "\t{\"0002\",\"Undo Log Page\"},\n",
    "\t{\"0003\",\"File Segment inode\"},\n",
    "\t{\"0004\",\"Insert Buffer Free List\"},\n",
    "\t{\"0005\",\"Insert Buffer Bitmap\"},\n",
    "\t{\"0006\",\"System Page\"},\n",
    "\t{\"0007\",\"Transaction system Page\"},\n",
    "\t{\"0008\",\"File Space Header\"},\n",
    "\t{\"0009\",\"extend description page\"},\n",
    "\t{\"000a\",\"Uncompressed BLOB Page\"},\n",
    "\t{\"000b\",\"1st compressed BLOB Page\"},\n",
    "\t{\"000c\",\"Subsequent compressed BLOB Page\"},\n",
    "\t{\"45bf\",\"B-tree Node\"},\n",
    "    {\"45bd\",\"Tablespace SDI Index page\"}\n",
    "\t};\n",
    "\n",
    "\n",
    "\n",
    "readonly var FIL_PAGE_FILE_FLUSH_LSN = 26;\n",
    "\n",
    "readonly var FIL_PAGE_ARCH_LOG_NO_OR_SPACE_ID = 34;\n",
    "\n",
    "readonly var FIL_PAGE_DATA = 38;//文件头部"
   ]
  },
  {
   "cell_type": "code",
   "execution_count": 29,
   "metadata": {
    "dotnet_interactive": {
     "language": "csharp"
    },
    "polyglot_notebook": {
     "kernelName": "csharp"
    },
    "vscode": {
     "languageId": "polyglot-notebook"
    }
   },
   "outputs": [],
   "source": [
    "//#  Page Header\n",
    "\n",
    "\n",
    "readonly var PAGE_N_DIR_SLOTS = 0;\n",
    "\n",
    "readonly var PAGE_HEAP_TOP = 2;\n",
    "\n",
    "readonly var PAGE_N_HEAP = 4;\n",
    "\n",
    "readonly var PAGE_FREE = 6;\n",
    "\n",
    "readonly var PAGE_GARBAGE  = 8;\n",
    "\n",
    "\n",
    "readonly var  PAGE_LAST_INSERT = 10;\n",
    "\n",
    "\n",
    "readonly var PAGE_DIRECTION  = 12;\n",
    "\n",
    "readonly var PAGE_N_DIRECTION  = 14;\n",
    "\n",
    "readonly var PAGE_N_RECS = 16;\n",
    "\n",
    "readonly var PAGE_MAX_TRX_ID = 18;\n",
    "\n",
    "readonly var PAGE_LEVEL = 26;\n",
    "\n",
    "\n",
    "readonly var PAGE_INDEX_ID = 28;\n",
    "\n",
    "readonly var PAGE_BTR_SEG_LEAF  = 38;\n",
    "\n",
    "readonly var PAGE_BTR_SEG_TOP  = 48;\n",
    "\n",
    "\n",
    "\n",
    "\n",
    "\n",
    "\n",
    "\n",
    "\n",
    "\n",
    "readonly var PAGE_PAGE_DATA = 56; //页面头部\n",
    "\n",
    "\n",
    "readonly var Infimum_Supremum_PAGE_DATA = 26; // 最小记录和最大记录\n",
    "\n",
    "\n",
    "readonly var File_Tailer = 8; // 最小记录和最大记录\n",
    "\n",
    "\t\n",
    "readonly var innodb_page_direction=new Dictionary<string, string>(){\n",
    "\t{\"0000\",\"Unknown(0x0000)\"},\n",
    "\t{\"0001\", \"Page Left\"},\n",
    "\t{\"0002\", \"Page Right\"},\n",
    "\t{\"0003\", \"Page Same Rec\"},\n",
    "\t{\"0004\", \"Page Same Page\"},\n",
    "\t{\"0005\", \"Page No Direction\"},\n",
    "\t{\"ffff\", \"Unkown2(0xffff)\"}\n",
    "};\n",
    "\n",
    "\n"
   ]
  },
  {
   "cell_type": "code",
   "execution_count": 30,
   "metadata": {
    "dotnet_interactive": {
     "language": "csharp"
    },
    "polyglot_notebook": {
     "kernelName": "csharp"
    },
    "vscode": {
     "languageId": "polyglot-notebook"
    }
   },
   "outputs": [
    {
     "data": {
      "text/plain": [
       "page offset [00000003], page type <B-tree Node>, pre page [ffffffff], next page [ffffffff] , flush_lsn <0000000000000000> , space_id <00009d7e>"
      ]
     },
     "metadata": {},
     "output_type": "display_data"
    },
    {
     "data": {
      "text/plain": [
       "page_dir_slots 0004  page_heap_top 0288  page_n_heap 8018  page_n_recs 3c69 page_level 0001 page_index_id 000000000000a58c page_btr_seg_leaf 00009d7e0000000200f2 page_btr_seg_top 00009d7e000000020032"
      ]
     },
     "metadata": {},
     "output_type": "display_data"
    },
    {
     "data": {
      "text/plain": [
       "reserve1 00 reserv2 00 delete_mask 00 min_rec_mask  00"
      ]
     },
     "metadata": {},
     "output_type": "display_data"
    },
    {
     "data": {
      "text/plain": [
       "page offset [00000a8d], page type <B-tree Node>, pre page [ffffffff], next page [00003a80] , flush_lsn <0000000000000000> , space_id <00009d7e>"
      ]
     },
     "metadata": {},
     "output_type": "display_data"
    },
    {
     "data": {
      "text/plain": [
       "page_dir_slots 0025  page_heap_top 3fa3  page_n_heap 809f  page_n_recs 3966 page_level 0000 page_index_id 000000000000a58c page_btr_seg_leaf 00000000000000000000 page_btr_seg_top 00000000000000000000"
      ]
     },
     "metadata": {},
     "output_type": "display_data"
    },
    {
     "data": {
      "text/plain": [
       "reserve1 14 reserv2 c0 delete_mask df min_rec_mask  85"
      ]
     },
     "metadata": {},
     "output_type": "display_data"
    },
    {
     "data": {
      "text/plain": [
       "page offset [00000a8e], page type <B-tree Node>, pre page [000035c0], next page [000044c0] , flush_lsn <0000000000000000> , space_id <00009d7e>"
      ]
     },
     "metadata": {},
     "output_type": "display_data"
    },
    {
     "data": {
      "text/plain": [
       "page_dir_slots 0025  page_heap_top 3fa3  page_n_heap 809f  page_n_recs 3b77 page_level 0000 page_index_id 000000000000a58c page_btr_seg_leaf 00000000000000000000 page_btr_seg_top 00000000000000000000"
      ]
     },
     "metadata": {},
     "output_type": "display_data"
    },
    {
     "data": {
      "text/plain": [
       "reserve1 14 reserv2 c0 delete_mask df min_rec_mask  85"
      ]
     },
     "metadata": {},
     "output_type": "display_data"
    },
    {
     "data": {
      "text/plain": [
       "page offset [00001280], page type <B-tree Node>, pre page [00003d80], next page [00003f00] , flush_lsn <0000000000000000> , space_id <00009d7e>"
      ]
     },
     "metadata": {},
     "output_type": "display_data"
    },
    {
     "data": {
      "text/plain": [
       "page_dir_slots 0025  page_heap_top 3fa3  page_n_heap 809f  page_n_recs ec2c page_level 0000 page_index_id 000000000000a58c page_btr_seg_leaf 00000000000000000000 page_btr_seg_top 00000000000000000000"
      ]
     },
     "metadata": {},
     "output_type": "display_data"
    },
    {
     "data": {
      "text/plain": [
       "reserve1 14 reserv2 c0 delete_mask df min_rec_mask  85"
      ]
     },
     "metadata": {},
     "output_type": "display_data"
    },
    {
     "data": {
      "text/plain": [
       "page offset [000019c0], page type <B-tree Node>, pre page [00003600], next page [00003f40] , flush_lsn <0000000000000000> , space_id <00009d7e>"
      ]
     },
     "metadata": {},
     "output_type": "display_data"
    },
    {
     "data": {
      "text/plain": [
       "page_dir_slots 0025  page_heap_top 3b9d  page_n_heap 8095  page_n_recs 3a64 page_level 0000 page_index_id 000000000000a58c page_btr_seg_leaf 00000000000000000000 page_btr_seg_top 00000000000000000000"
      ]
     },
     "metadata": {},
     "output_type": "display_data"
    },
    {
     "data": {
      "text/plain": [
       "reserve1 14 reserv2 c0 delete_mask df min_rec_mask  85"
      ]
     },
     "metadata": {},
     "output_type": "display_data"
    },
    {
     "data": {
      "text/plain": [
       "page offset [00002180], page type <B-tree Node>, pre page [00003e40], next page [000041c0] , flush_lsn <0000000000000000> , space_id <00009d7e>"
      ]
     },
     "metadata": {},
     "output_type": "display_data"
    },
    {
     "data": {
      "text/plain": [
       "page_dir_slots 0025  page_heap_top 3b9d  page_n_heap 8095  page_n_recs 3ad4 page_level 0000 page_index_id 000000000000a58c page_btr_seg_leaf 00000000000000000000 page_btr_seg_top 00000000000000000000"
      ]
     },
     "metadata": {},
     "output_type": "display_data"
    },
    {
     "data": {
      "text/plain": [
       "reserve1 14 reserv2 c0 delete_mask df min_rec_mask  85"
      ]
     },
     "metadata": {},
     "output_type": "display_data"
    },
    {
     "data": {
      "text/plain": [
       "page offset [00002200], page type <B-tree Node>, pre page [00003dc0], next page [00003d40] , flush_lsn <0000000000000000> , space_id <00009d7e>"
      ]
     },
     "metadata": {},
     "output_type": "display_data"
    },
    {
     "data": {
      "text/plain": [
       "page_dir_slots 0025  page_heap_top 3b9d  page_n_heap 8095  page_n_recs 3a08 page_level 0000 page_index_id 000000000000a58c page_btr_seg_leaf 00000000000000000000 page_btr_seg_top 00000000000000000000"
      ]
     },
     "metadata": {},
     "output_type": "display_data"
    },
    {
     "data": {
      "text/plain": [
       "reserve1 14 reserv2 c0 delete_mask df min_rec_mask  85"
      ]
     },
     "metadata": {},
     "output_type": "display_data"
    },
    {
     "data": {
      "text/plain": [
       "page offset [000035c0], page type <B-tree Node>, pre page [00007380], next page [00000a8e] , flush_lsn <0000000000000000> , space_id <00009d7e>"
      ]
     },
     "metadata": {},
     "output_type": "display_data"
    },
    {
     "data": {
      "text/plain": [
       "page_dir_slots 0007  page_heap_top 0a20  page_n_heap 801a  page_n_recs 3a64 page_level 0000 page_index_id 000000000000a58c page_btr_seg_leaf 00000000000000000000 page_btr_seg_top 00000000000000000000"
      ]
     },
     "metadata": {},
     "output_type": "display_data"
    },
    {
     "data": {
      "text/plain": [
       "reserve1 14 reserv2 c0 delete_mask df min_rec_mask  85"
      ]
     },
     "metadata": {},
     "output_type": "display_data"
    },
    {
     "data": {
      "text/plain": [
       "page offset [00003600], page type <B-tree Node>, pre page [00006f80], next page [000019c0] , flush_lsn <0000000000000000> , space_id <00009d7e>"
      ]
     },
     "metadata": {},
     "output_type": "display_data"
    },
    {
     "data": {
      "text/plain": [
       "page_dir_slots 0003  page_heap_top 04e5  page_n_heap 800d  page_n_recs 3966 page_level 0000 page_index_id 000000000000a58c page_btr_seg_leaf 00000000000000000000 page_btr_seg_top 00000000000000000000"
      ]
     },
     "metadata": {},
     "output_type": "display_data"
    },
    {
     "data": {
      "text/plain": [
       "reserve1 14 reserv2 c0 delete_mask df min_rec_mask  85"
      ]
     },
     "metadata": {},
     "output_type": "display_data"
    },
    {
     "data": {
      "text/plain": [
       "page offset [00003a80], page type <B-tree Node>, pre page [00000a8d], next page [00006f80] , flush_lsn <0000000000000000> , space_id <00009d7e>"
      ]
     },
     "metadata": {},
     "output_type": "display_data"
    },
    {
     "data": {
      "text/plain": [
       "page_dir_slots 0025  page_heap_top 3b9d  page_n_heap 8095  page_n_recs 3966 page_level 0000 page_index_id 000000000000a58c page_btr_seg_leaf 00000000000000000000 page_btr_seg_top 00000000000000000000"
      ]
     },
     "metadata": {},
     "output_type": "display_data"
    },
    {
     "data": {
      "text/plain": [
       "reserve1 14 reserv2 c0 delete_mask df min_rec_mask  85"
      ]
     },
     "metadata": {},
     "output_type": "display_data"
    },
    {
     "data": {
      "text/plain": [
       "page offset [00003d40], page type <B-tree Node>, pre page [00002200], next page [00007200] , flush_lsn <0000000000000000> , space_id <00009d7e>"
      ]
     },
     "metadata": {},
     "output_type": "display_data"
    },
    {
     "data": {
      "text/plain": [
       "page_dir_slots 0025  page_heap_top 3b9d  page_n_heap 8095  page_n_recs 3a08 page_level 0000 page_index_id 000000000000a58c page_btr_seg_leaf 00000000000000000000 page_btr_seg_top 00000000000000000000"
      ]
     },
     "metadata": {},
     "output_type": "display_data"
    },
    {
     "data": {
      "text/plain": [
       "reserve1 14 reserv2 c0 delete_mask df min_rec_mask  85"
      ]
     },
     "metadata": {},
     "output_type": "display_data"
    },
    {
     "data": {
      "text/plain": [
       "page offset [00003d80], page type <B-tree Node>, pre page [00007540], next page [00001280] , flush_lsn <0000000000000000> , space_id <00009d7e>"
      ]
     },
     "metadata": {},
     "output_type": "display_data"
    },
    {
     "data": {
      "text/plain": [
       "page_dir_slots 0003  page_heap_top 047e  page_n_heap 800c  page_n_recs 3ad4 page_level 0000 page_index_id 000000000000a58c page_btr_seg_leaf 00000000000000000000 page_btr_seg_top 00000000000000000000"
      ]
     },
     "metadata": {},
     "output_type": "display_data"
    },
    {
     "data": {
      "text/plain": [
       "reserve1 14 reserv2 c0 delete_mask df min_rec_mask  85"
      ]
     },
     "metadata": {},
     "output_type": "display_data"
    },
    {
     "data": {
      "text/plain": [
       "page offset [00003dc0], page type <B-tree Node>, pre page [00003f00], next page [00002200] , flush_lsn <0000000000000000> , space_id <00009d7e>"
      ]
     },
     "metadata": {},
     "output_type": "display_data"
    },
    {
     "data": {
      "text/plain": [
       "page_dir_slots 0002  page_heap_top 0214  page_n_heap 8006  page_n_recs ec2c page_level 0000 page_index_id 000000000000a58c page_btr_seg_leaf 00000000000000000000 page_btr_seg_top 00000000000000000000"
      ]
     },
     "metadata": {},
     "output_type": "display_data"
    },
    {
     "data": {
      "text/plain": [
       "reserve1 14 reserv2 c0 delete_mask df min_rec_mask  85"
      ]
     },
     "metadata": {},
     "output_type": "display_data"
    },
    {
     "data": {
      "text/plain": [
       "page offset [00003e40], page type <B-tree Node>, pre page [00007800], next page [00002180] , flush_lsn <0000000000000000> , space_id <00009d7e>"
      ]
     },
     "metadata": {},
     "output_type": "display_data"
    },
    {
     "data": {
      "text/plain": [
       "page_dir_slots 0005  page_heap_top 06e8  page_n_heap 8012  page_n_recs 3b77 page_level 0000 page_index_id 000000000000a58c page_btr_seg_leaf 00000000000000000000 page_btr_seg_top 00000000000000000000"
      ]
     },
     "metadata": {},
     "output_type": "display_data"
    },
    {
     "data": {
      "text/plain": [
       "reserve1 14 reserv2 c0 delete_mask df min_rec_mask  85"
      ]
     },
     "metadata": {},
     "output_type": "display_data"
    },
    {
     "data": {
      "text/plain": [
       "page offset [00003f00], page type <B-tree Node>, pre page [00001280], next page [00003dc0] , flush_lsn <0000000000000000> , space_id <00009d7e>"
      ]
     },
     "metadata": {},
     "output_type": "display_data"
    },
    {
     "data": {
      "text/plain": [
       "page_dir_slots 000e  page_heap_top 1632  page_n_heap 8038  page_n_recs f143 page_level 0000 page_index_id 000000000000a58c page_btr_seg_leaf 00000000000000000000 page_btr_seg_top 00000000000000000000"
      ]
     },
     "metadata": {},
     "output_type": "display_data"
    },
    {
     "data": {
      "text/plain": [
       "reserve1 14 reserv2 c0 delete_mask df min_rec_mask  85"
      ]
     },
     "metadata": {},
     "output_type": "display_data"
    },
    {
     "data": {
      "text/plain": [
       "page offset [00003f40], page type <B-tree Node>, pre page [000019c0], next page [00007380] , flush_lsn <0000000000000000> , space_id <00009d7e>"
      ]
     },
     "metadata": {},
     "output_type": "display_data"
    },
    {
     "data": {
      "text/plain": [
       "page_dir_slots 0025  page_heap_top 3b9d  page_n_heap 8095  page_n_recs 3a64 page_level 0000 page_index_id 000000000000a58c page_btr_seg_leaf 00000000000000000000 page_btr_seg_top 00000000000000000000"
      ]
     },
     "metadata": {},
     "output_type": "display_data"
    },
    {
     "data": {
      "text/plain": [
       "reserve1 14 reserv2 c0 delete_mask df min_rec_mask  85"
      ]
     },
     "metadata": {},
     "output_type": "display_data"
    },
    {
     "data": {
      "text/plain": [
       "page offset [000041c0], page type <B-tree Node>, pre page [00002180], next page [00007540] , flush_lsn <0000000000000000> , space_id <00009d7e>"
      ]
     },
     "metadata": {},
     "output_type": "display_data"
    },
    {
     "data": {
      "text/plain": [
       "page_dir_slots 0025  page_heap_top 3b9d  page_n_heap 8095  page_n_recs 3ad4 page_level 0000 page_index_id 000000000000a58c page_btr_seg_leaf 00000000000000000000 page_btr_seg_top 00000000000000000000"
      ]
     },
     "metadata": {},
     "output_type": "display_data"
    },
    {
     "data": {
      "text/plain": [
       "reserve1 14 reserv2 c0 delete_mask df min_rec_mask  85"
      ]
     },
     "metadata": {},
     "output_type": "display_data"
    },
    {
     "data": {
      "text/plain": [
       "page offset [000044c0], page type <B-tree Node>, pre page [00000a8e], next page [00007800] , flush_lsn <0000000000000000> , space_id <00009d7e>"
      ]
     },
     "metadata": {},
     "output_type": "display_data"
    },
    {
     "data": {
      "text/plain": [
       "page_dir_slots 0025  page_heap_top 3b9d  page_n_heap 8095  page_n_recs 3b77 page_level 0000 page_index_id 000000000000a58c page_btr_seg_leaf 00000000000000000000 page_btr_seg_top 00000000000000000000"
      ]
     },
     "metadata": {},
     "output_type": "display_data"
    },
    {
     "data": {
      "text/plain": [
       "reserve1 14 reserv2 c0 delete_mask df min_rec_mask  85"
      ]
     },
     "metadata": {},
     "output_type": "display_data"
    },
    {
     "data": {
      "text/plain": [
       "page offset [00006f80], page type <B-tree Node>, pre page [00003a80], next page [00003600] , flush_lsn <0000000000000000> , space_id <00009d7e>"
      ]
     },
     "metadata": {},
     "output_type": "display_data"
    },
    {
     "data": {
      "text/plain": [
       "page_dir_slots 000a  page_heap_top 0fc2  page_n_heap 8028  page_n_recs 3c58 page_level 0000 page_index_id 000000000000a58c page_btr_seg_leaf 00000000000000000000 page_btr_seg_top 00000000000000000000"
      ]
     },
     "metadata": {},
     "output_type": "display_data"
    },
    {
     "data": {
      "text/plain": [
       "reserve1 14 reserv2 c0 delete_mask df min_rec_mask  85"
      ]
     },
     "metadata": {},
     "output_type": "display_data"
    },
    {
     "data": {
      "text/plain": [
       "page offset [00007200], page type <B-tree Node>, pre page [00003d40], next page [ffffffff] , flush_lsn <0000000000000000> , space_id <00009d7e>"
      ]
     },
     "metadata": {},
     "output_type": "display_data"
    },
    {
     "data": {
      "text/plain": [
       "page_dir_slots 0008  page_heap_top 0c8a  page_n_heap 8020  page_n_recs 3c69 page_level 0000 page_index_id 000000000000a58c page_btr_seg_leaf 00000000000000000000 page_btr_seg_top 00000000000000000000"
      ]
     },
     "metadata": {},
     "output_type": "display_data"
    },
    {
     "data": {
      "text/plain": [
       "reserve1 14 reserv2 c0 delete_mask df min_rec_mask  85"
      ]
     },
     "metadata": {},
     "output_type": "display_data"
    },
    {
     "data": {
      "text/plain": [
       "page offset [00007380], page type <B-tree Node>, pre page [00003f40], next page [000035c0] , flush_lsn <0000000000000000> , space_id <00009d7e>"
      ]
     },
     "metadata": {},
     "output_type": "display_data"
    },
    {
     "data": {
      "text/plain": [
       "page_dir_slots 0007  page_heap_top 0aee  page_n_heap 801c  page_n_recs 3c5c page_level 0000 page_index_id 000000000000a58c page_btr_seg_leaf 00000000000000000000 page_btr_seg_top 00000000000000000000"
      ]
     },
     "metadata": {},
     "output_type": "display_data"
    },
    {
     "data": {
      "text/plain": [
       "reserve1 14 reserv2 c0 delete_mask df min_rec_mask  85"
      ]
     },
     "metadata": {},
     "output_type": "display_data"
    },
    {
     "data": {
      "text/plain": [
       "page offset [00007540], page type <B-tree Node>, pre page [000041c0], next page [00003d80] , flush_lsn <0000000000000000> , space_id <00009d7e>"
      ]
     },
     "metadata": {},
     "output_type": "display_data"
    },
    {
     "data": {
      "text/plain": [
       "page_dir_slots 0006  page_heap_top 08eb  page_n_heap 8017  page_n_recs 3c64 page_level 0000 page_index_id 000000000000a58c page_btr_seg_leaf 00000000000000000000 page_btr_seg_top 00000000000000000000"
      ]
     },
     "metadata": {},
     "output_type": "display_data"
    },
    {
     "data": {
      "text/plain": [
       "reserve1 14 reserv2 c0 delete_mask df min_rec_mask  85"
      ]
     },
     "metadata": {},
     "output_type": "display_data"
    },
    {
     "data": {
      "text/plain": [
       "page offset [00007800], page type <B-tree Node>, pre page [000044c0], next page [00003e40] , flush_lsn <0000000000000000> , space_id <00009d7e>"
      ]
     },
     "metadata": {},
     "output_type": "display_data"
    },
    {
     "data": {
      "text/plain": [
       "page_dir_slots 0004  page_heap_top 05b3  page_n_heap 800f  page_n_recs 3c60 page_level 0000 page_index_id 000000000000a58c page_btr_seg_leaf 00000000000000000000 page_btr_seg_top 00000000000000000000"
      ]
     },
     "metadata": {},
     "output_type": "display_data"
    },
    {
     "data": {
      "text/plain": [
       "reserve1 14 reserv2 c0 delete_mask df min_rec_mask  85"
      ]
     },
     "metadata": {},
     "output_type": "display_data"
    }
   ],
   "source": [
    "public string MachReadFromN(byte[] page,int start_offset,int length)\n",
    "{\n",
    "\tvar ret = page[start_offset..(start_offset+length)];\n",
    "\treturn Convert.ToHexString(ret).ToLower();\n",
    "}\n",
    "public void GetInnodbPageType()\n",
    "{\n",
    "\tvar f=new FileInfo(@\"F:\\d_23030412514284807_vib#P#p24.ibd\");\n",
    "\n",
    "\n",
    "\n",
    "\tvar fsize = f.Length/INNODB_PAGE_SIZE;\n",
    "\tdynamic ret = new{};\n",
    "\tvar read = new BinaryReader(f.OpenRead());\n",
    "\tfor (int i = 0;i<fsize;i++)\n",
    "\t{\n",
    "\t\t\n",
    "\t\tvar page = read.ReadBytes(INNODB_PAGE_SIZE);\n",
    "\t\t//file header\n",
    "\t\tvar page_offset = MachReadFromN(page,FIL_PAGE_OFFSET,4);\n",
    "\t\tvar page_pre = MachReadFromN(page,FIL_PAGE_OFFSET+4,4);\n",
    "\t\tvar page_next = MachReadFromN(page,FIL_PAGE_OFFSET+8,4);\n",
    "\t\tvar page_lsn = MachReadFromN(page,FIL_PAGE_OFFSET+12,8);\n",
    "\t\t\n",
    "\t\tvar page_type = MachReadFromN(page,FIL_PAGE_TYPE,2);\n",
    "\t\tvar flush_lsn = MachReadFromN(page,FIL_PAGE_TYPE+2,8);\n",
    "\t\tvar space_id = MachReadFromN(page,FIL_PAGE_TYPE+10,4);\n",
    "\t\t\n",
    "\t\tif(page_type != \"45bf\"){\n",
    "\t\t\tcontinue;\n",
    "\t\t}\n",
    "\t\t\n",
    "\t\tdisplay($\"page offset [{page_offset}], page type <{innodb_page_type[page_type]}>, pre page [{page_pre}], next page [{page_next}] , flush_lsn <{flush_lsn}> , space_id <{space_id}>\");\n",
    "\n",
    "\t\t//page header\n",
    "\t\tvar page_dir_slots = MachReadFromN(page,FIL_PAGE_DATA,2);\n",
    "\t\tvar page_heap_top = MachReadFromN(page,FIL_PAGE_DATA+2,2);\n",
    "\t\tvar page_n_heap = MachReadFromN(page,FIL_PAGE_DATA+4,2);\n",
    "\t\tvar page_n_recs = MachReadFromN(page,PAGE_N_RECS+4,2);\n",
    "\t\tvar\tpage_level = MachReadFromN(page,FIL_PAGE_DATA+26,2);\n",
    "\t\tvar\tpage_index_id = MachReadFromN(page,FIL_PAGE_DATA+28,8);\n",
    "\t\tvar page_btr_seg_leaf = MachReadFromN(page,FIL_PAGE_DATA+36,10);\n",
    "\t\tvar page_btr_seg_top = MachReadFromN(page,FIL_PAGE_DATA+46,10);\n",
    "\n",
    "\t\tdisplay($\"page_dir_slots {page_dir_slots}  page_heap_top {page_heap_top}  page_n_heap {page_n_heap}  page_n_recs {page_n_recs} page_level {page_level} page_index_id {page_index_id} page_btr_seg_leaf {page_btr_seg_leaf} page_btr_seg_top {page_btr_seg_top}\");\n",
    "\t\t//Infimum + Supremum\n",
    "\n",
    "\n",
    "\t\t//User Records\n",
    "\n",
    "\n",
    "\n",
    "\n",
    "\n",
    "\n",
    "\t\tvar reserve1 = MachReadFromN(page,FIL_PAGE_DATA+PAGE_PAGE_DATA+Infimum_Supremum_PAGE_DATA,1);\n",
    "\t\tvar reserv2 = MachReadFromN(page,FIL_PAGE_DATA+PAGE_PAGE_DATA+Infimum_Supremum_PAGE_DATA+1,1);\n",
    "\t\tvar delete_mask = MachReadFromN(page,FIL_PAGE_DATA+PAGE_PAGE_DATA+Infimum_Supremum_PAGE_DATA+2,1);\n",
    "\t\tvar min_rec_mask  = MachReadFromN(page,FIL_PAGE_DATA+PAGE_PAGE_DATA+Infimum_Supremum_PAGE_DATA+3,1);\n",
    "\t\tdisplay($\"reserve1 {reserve1} reserv2 {reserv2} delete_mask {delete_mask} min_rec_mask  {min_rec_mask}\");\n",
    "\t\t// Free Space\n",
    "\n",
    "\t\t// Page Directory\n",
    "\n",
    "\t\t//File Trailer\n",
    "\t\tvar file_trailer = MachReadFromN(page,INNODB_PAGE_SIZE-8,8);\n",
    "\n",
    "\t\t\t\n",
    "\t\t\n",
    "\t}\n",
    "}\n",
    "GetInnodbPageType();"
   ]
  }
 ],
 "metadata": {
  "language_info": {
   "name": "csharp"
  },
  "orig_nbformat": 4
 },
 "nbformat": 4,
 "nbformat_minor": 2
}
