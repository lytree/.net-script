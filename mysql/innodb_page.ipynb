{
 "cells": [
  {
   "cell_type": "code",
   "execution_count": 4,
   "metadata": {
    "dotnet_interactive": {
     "language": "csharp"
    },
    "polyglot_notebook": {
     "kernelName": "csharp"
    },
    "vscode": {
     "languageId": "polyglot-notebook"
    }
   },
   "outputs": [],
   "source": [
    "using System.IO;"
   ]
  },
  {
   "cell_type": "code",
   "execution_count": 5,
   "metadata": {
    "dotnet_interactive": {
     "language": "csharp"
    },
    "polyglot_notebook": {
     "kernelName": "csharp"
    },
    "vscode": {
     "languageId": "polyglot-notebook"
    }
   },
   "outputs": [],
   "source": [
    "\n",
    "//# Start of the data on the page\n",
    "readonly var FIL_PAGE_DATA = 38;\n",
    "\n",
    "\n",
    "readonly var FIL_PAGE_OFFSET = 4;// # page offset inside space\n",
    "readonly var FIL_PAGE_TYPE = 24 ;//# File page type\n",
    "\n",
    "//# Types of an undo log segment */\n",
    "readonly var TRX_UNDO_INSERT = 1;\n",
    "readonly var TRX_UNDO_UPDATE = 2;\n",
    "\n",
    "//# On a page of any file segment, data may be put starting from this offset\n",
    "readonly var FSEG_PAGE_DATA = FIL_PAGE_DATA;\n",
    "\n",
    "//# The offset of the undo log page header on pages of the undo log\n",
    "readonly var TRX_UNDO_PAGE_HDR = FSEG_PAGE_DATA;\n",
    "\n",
    "readonly var PAGE_LEVEL = 26;\t//#level of the node in an index tree; the leaf level is the level 0 */\n",
    "\t\t\t\t\n",
    "readonly var innodb_page_type=new Dictionary<string, string>(){\n",
    "\t{\"0000\",\"Freshly Allocated Page\"},\n",
    "\t{\"0002\",\"Undo Log Page\"},\n",
    "\t{\"0003\",\"File Segment inode\"},\n",
    "\t{\"0004\",\"Insert Buffer Free List\"},\n",
    "\t{\"0005\",\"Insert Buffer Bitmap\"},\n",
    "\t{\"0006\",\"System Page\"},\n",
    "\t{\"0007\",\"Transaction system Page\"},\n",
    "\t{\"0008\",\"File Space Header\"},\n",
    "\t{\"0009\",\"extend description page\"},\n",
    "\t{\"000a\",\"Uncompressed BLOB Page\"},\n",
    "\t{\"000b\",\"1st compressed BLOB Page\"},\n",
    "\t{\"000c\",\"Subsequent compressed BLOB Page\"},\n",
    "\t{\"45bf\",\"B-tree Node\"},\n",
    "    {\"45bd\",\"Tablespace SDI Index page\"}\n",
    "\t};\n",
    "\t\n",
    "readonly var innodb_page_direction=new Dictionary<string, string>(){\n",
    "\t{\"0000\",\"Unknown(0x0000)\"},\n",
    "\t{\"0001\", \"Page Left\"},\n",
    "\t{\"0002\", \"Page Right\"},\n",
    "\t{\"0003\", \"Page Same Rec\"},\n",
    "\t{\"0004\", \"Page Same Page\"},\n",
    "\t{\"0005\", \"Page No Direction\"},\n",
    "\t{\"ffff\", \"Unkown2(0xffff)\"}\n",
    "};\n",
    "\n",
    "\n",
    "readonly var INNODB_PAGE_SIZE=1024*16; //# InnoDB Page 16K"
   ]
  },
  {
   "cell_type": "code",
   "execution_count": 6,
   "metadata": {
    "dotnet_interactive": {
     "language": "csharp"
    },
    "polyglot_notebook": {
     "kernelName": "csharp"
    },
    "vscode": {
     "languageId": "polyglot-notebook"
    }
   },
   "outputs": [
    {
     "name": "stdout",
     "output_type": "stream",
     "text": [
      "1472\r\n"
     ]
    },
    {
     "ename": "Error",
     "evalue": "System.IO.IOException: The process cannot access the file 'f:\\github\\Tool\\atomic-script\\mysql\\log.txt' because it is being used by another process.\r\n   at Microsoft.Win32.SafeHandles.SafeFileHandle.CreateFile(String fullPath, FileMode mode, FileAccess access, FileShare share, FileOptions options)\r\n   at Microsoft.Win32.SafeHandles.SafeFileHandle.Open(String fullPath, FileMode mode, FileAccess access, FileShare share, FileOptions options, Int64 preallocationSize, Nullable`1 unixCreateMode)\r\n   at System.IO.Strategies.OSFileStreamStrategy..ctor(String path, FileMode mode, FileAccess access, FileShare share, FileOptions options, Int64 preallocationSize, Nullable`1 unixCreateMode)\r\n   at System.IO.Strategies.FileStreamHelpers.ChooseStrategyCore(String path, FileMode mode, FileAccess access, FileShare share, FileOptions options, Int64 preallocationSize, Nullable`1 unixCreateMode)\r\n   at System.IO.StreamWriter.ValidateArgsAndOpenPath(String path, Boolean append, Encoding encoding, Int32 bufferSize)\r\n   at System.IO.StreamWriter..ctor(String path)\r\n   at Submission#7.GetInnodbPageType()\r\n   at Submission#7.<<Initialize>>d__0.MoveNext()\r\n--- End of stack trace from previous location ---\r\n   at Microsoft.CodeAnalysis.Scripting.ScriptExecutionState.RunSubmissionsAsync[TResult](ImmutableArray`1 precedingExecutors, Func`2 currentExecutor, StrongBox`1 exceptionHolderOpt, Func`2 catchExceptionOpt, CancellationToken cancellationToken)",
     "output_type": "error",
     "traceback": [
      "System.IO.IOException: The process cannot access the file 'f:\\github\\Tool\\atomic-script\\mysql\\log.txt' because it is being used by another process.\r\n",
      "   at Microsoft.Win32.SafeHandles.SafeFileHandle.CreateFile(String fullPath, FileMode mode, FileAccess access, FileShare share, FileOptions options)\r\n",
      "   at Microsoft.Win32.SafeHandles.SafeFileHandle.Open(String fullPath, FileMode mode, FileAccess access, FileShare share, FileOptions options, Int64 preallocationSize, Nullable`1 unixCreateMode)\r\n",
      "   at System.IO.Strategies.OSFileStreamStrategy..ctor(String path, FileMode mode, FileAccess access, FileShare share, FileOptions options, Int64 preallocationSize, Nullable`1 unixCreateMode)\r\n",
      "   at System.IO.Strategies.FileStreamHelpers.ChooseStrategyCore(String path, FileMode mode, FileAccess access, FileShare share, FileOptions options, Int64 preallocationSize, Nullable`1 unixCreateMode)\r\n",
      "   at System.IO.StreamWriter.ValidateArgsAndOpenPath(String path, Boolean append, Encoding encoding, Int32 bufferSize)\r\n",
      "   at System.IO.StreamWriter..ctor(String path)\r\n",
      "   at Submission#7.GetInnodbPageType()\r\n",
      "   at Submission#7.<<Initialize>>d__0.MoveNext()\r\n",
      "--- End of stack trace from previous location ---\r\n",
      "   at Microsoft.CodeAnalysis.Scripting.ScriptExecutionState.RunSubmissionsAsync[TResult](ImmutableArray`1 precedingExecutors, Func`2 currentExecutor, StrongBox`1 exceptionHolderOpt, Func`2 catchExceptionOpt, CancellationToken cancellationToken)"
     ]
    }
   ],
   "source": [
    "var logFile = Path.GetFullPath(\"log.txt\");\n",
    "public string MachReadFromN(byte[] page,int start_offset,int length)\n",
    "{\n",
    "\tConsole.WriteLine(Convert.ToHexString(page),start_offset,length);\n",
    "\tvar ret = page[start_offset..(start_offset+length)];\n",
    "\treturn Convert.ToHexString(ret);\n",
    "}\n",
    "public void GetInnodbPageType()\n",
    "{\n",
    "\tvar f=new FileInfo(@\"F:\\MySQLData\\Data\\qacs2000_config_2010\\c_dgm2000.ibd\");\n",
    "\tvar fsize = f.Length/INNODB_PAGE_SIZE;\n",
    "\tConsole.WriteLine(fsize);\n",
    "\tdynamic ret = new{};\n",
    "\tvar read = new BinaryReader(f.OpenRead());\n",
    "\tvar standardOutput = new StreamWriter(logFile);\n",
    "    standardOutput.AutoFlush = true;\n",
    "    Console.SetOut(standardOutput);\n",
    "\tfor (int i = 0;i<fsize;i++)\n",
    "\t{\n",
    "\t\tvar page = read.ReadBytes(INNODB_PAGE_SIZE);\n",
    "\t\tvar page_offset = MachReadFromN(page,FIL_PAGE_OFFSET,4);\n",
    "\t\tvar page_pre = MachReadFromN(page,FIL_PAGE_OFFSET+4,4);\n",
    "\t\tvar page_next = MachReadFromN(page,FIL_PAGE_OFFSET+8,4);\n",
    "\t\tvar page_lsn = MachReadFromN(page,FIL_PAGE_OFFSET+12,8);\n",
    "\t\tvar page_type = MachReadFromN(page,FIL_PAGE_TYPE,2);\n",
    "\t\tvar flush_lsn = MachReadFromN(page,FIL_PAGE_TYPE+2,8);\n",
    "\t\tvar space_id = MachReadFromN(page,FIL_PAGE_TYPE+10,4);\n",
    "\t\tvar data = MachReadFromN(page,38,INNODB_PAGE_SIZE-8);\n",
    "\n",
    "\t\tif (page_type == \"45bf\")\n",
    "\t\t{\n",
    "\t\t    var\tpage_level = MachReadFromN(page,FIL_PAGE_DATA+PAGE_LEVEL,2);\n",
    "\t\t\tConsole.WriteLine(string.Format(\"page offset [{}], page type <{}>, pre page [{}], next page [{}], page level <{}> , flush_lsn <{}> , space_id <{}>, data {}\",page_offset,innodb_page_type[page_type],page_pre,page_next,page_level,flush_lsn,space_id,data));\n",
    "\t\t}\n",
    "\t\telse\n",
    "\t\t{\n",
    "\t\t\tConsole.WriteLine(string.Format(\"page offset [{}], page type <{}>, pre page [{}], next page [{}], flush_lsn <{}> , space_id <{}>, data {}\"  ,page_offset,innodb_page_type[page_type],page_pre,page_next,flush_lsn,space_id,data));\n",
    "\t\t}\n",
    "\t\t\t\n",
    "\t\t\n",
    "\t}\n",
    "}\n",
    "GetInnodbPageType();"
   ]
  }
 ],
 "metadata": {
  "language_info": {
   "name": "csharp"
  },
  "orig_nbformat": 4
 },
 "nbformat": 4,
 "nbformat_minor": 2
}
