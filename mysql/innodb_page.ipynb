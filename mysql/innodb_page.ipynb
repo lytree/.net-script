{
 "cells": [
  {
   "cell_type": "code",
   "execution_count": 10,
   "metadata": {
    "dotnet_interactive": {
     "language": "csharp"
    },
    "polyglot_notebook": {
     "kernelName": "csharp"
    },
    "vscode": {
     "languageId": "polyglot-notebook"
    }
   },
   "outputs": [],
   "source": [
    "using System.IO;"
   ]
  },
  {
   "cell_type": "code",
   "execution_count": 11,
   "metadata": {
    "dotnet_interactive": {
     "language": "csharp"
    },
    "polyglot_notebook": {
     "kernelName": "csharp"
    },
    "vscode": {
     "languageId": "polyglot-notebook"
    }
   },
   "outputs": [],
   "source": [
    "\n",
    "//# Start of the data on the page\n",
    "readonly var FIL_PAGE_DATA = 38;\n",
    "\n",
    "\n",
    "readonly var FIL_PAGE_OFFSET = 4;// # page offset inside space\n",
    "readonly var FIL_PAGE_TYPE = 24 ;//# File page type\n",
    "\n",
    "//# Types of an undo log segment */\n",
    "readonly var TRX_UNDO_INSERT = 1;\n",
    "readonly var TRX_UNDO_UPDATE = 2;\n",
    "\n",
    "//# On a page of any file segment, data may be put starting from this offset\n",
    "readonly var FSEG_PAGE_DATA = FIL_PAGE_DATA;\n",
    "\n",
    "//# The offset of the undo log page header on pages of the undo log\n",
    "readonly var TRX_UNDO_PAGE_HDR = FSEG_PAGE_DATA;\n",
    "\n",
    "readonly var PAGE_LEVEL = 26;\t//#level of the node in an index tree; the leaf level is the level 0 */\n",
    "\t\t\t\t\n",
    "readonly var innodb_page_type=new Dictionary<string, string>(){\n",
    "\t{\"0000\",\"Freshly Allocated Page\"},\n",
    "\t{\"0002\",\"Undo Log Page\"},\n",
    "\t{\"0003\",\"File Segment inode\"},\n",
    "\t{\"0004\",\"Insert Buffer Free List\"},\n",
    "\t{\"0005\",\"Insert Buffer Bitmap\"},\n",
    "\t{\"0006\",\"System Page\"},\n",
    "\t{\"0007\",\"Transaction system Page\"},\n",
    "\t{\"0008\",\"File Space Header\"},\n",
    "\t{\"0009\",\"extend description page\"},\n",
    "\t{\"000a\",\"Uncompressed BLOB Page\"},\n",
    "\t{\"000b\",\"1st compressed BLOB Page\"},\n",
    "\t{\"000c\",\"Subsequent compressed BLOB Page\"},\n",
    "\t{\"45bf\",\"B-tree Node\"},\n",
    "    {\"45bd\",\"Tablespace SDI Index page\"}\n",
    "\t};\n",
    "\t\n",
    "readonly var innodb_page_direction=new Dictionary<string, string>(){\n",
    "\t{\"0000\",\"Unknown(0x0000)\"},\n",
    "\t{\"0001\", \"Page Left\"},\n",
    "\t{\"0002\", \"Page Right\"},\n",
    "\t{\"0003\", \"Page Same Rec\"},\n",
    "\t{\"0004\", \"Page Same Page\"},\n",
    "\t{\"0005\", \"Page No Direction\"},\n",
    "\t{\"ffff\", \"Unkown2(0xffff)\"}\n",
    "};\n",
    "\n",
    "\n",
    "readonly var INNODB_PAGE_SIZE=1024*16; //# InnoDB Page 16K"
   ]
  },
  {
   "cell_type": "code",
   "execution_count": 12,
   "metadata": {
    "dotnet_interactive": {
     "language": "csharp"
    },
    "polyglot_notebook": {
     "kernelName": "csharp"
    },
    "vscode": {
     "languageId": "polyglot-notebook"
    }
   },
   "outputs": [
    {
     "data": {
      "text/html": [
       "<div class=\"dni-plaintext\"><pre>0</pre></div><style>\r\n",
       ".dni-code-hint {\r\n",
       "    font-style: italic;\r\n",
       "    overflow: hidden;\r\n",
       "    white-space: nowrap;\r\n",
       "}\r\n",
       ".dni-treeview {\r\n",
       "    white-space: nowrap;\r\n",
       "}\r\n",
       ".dni-treeview td {\r\n",
       "    vertical-align: top;\r\n",
       "    text-align: start;\r\n",
       "}\r\n",
       "details.dni-treeview {\r\n",
       "    padding-left: 1em;\r\n",
       "}\r\n",
       "table td {\r\n",
       "    text-align: start;\r\n",
       "}\r\n",
       "table tr { \r\n",
       "    vertical-align: top; \r\n",
       "    margin: 0em 0px;\r\n",
       "}\r\n",
       "table tr td pre \r\n",
       "{ \r\n",
       "    vertical-align: top !important; \r\n",
       "    margin: 0em 0px !important;\r\n",
       "} \r\n",
       "table th {\r\n",
       "    text-align: start;\r\n",
       "}\r\n",
       "</style>"
      ]
     },
     "metadata": {},
     "output_type": "display_data"
    },
    {
     "ename": "Error",
     "evalue": "System.ArgumentOutOfRangeException: Specified argument was out of the range of valid values. (Parameter 'length')\r\n   at System.Range.ThrowArgumentOutOfRangeException()\r\n   at System.Runtime.CompilerServices.RuntimeHelpers.GetSubArray[T](T[] array, Range range)\r\n   at Submission#13.MachReadFromN(Byte[] page, Int32 start_offset, Int32 length)\r\n   at Submission#13.GetInnodbPageType()\r\n   at Submission#13.<<Initialize>>d__0.MoveNext()\r\n--- End of stack trace from previous location ---\r\n   at Microsoft.CodeAnalysis.Scripting.ScriptExecutionState.RunSubmissionsAsync[TResult](ImmutableArray`1 precedingExecutors, Func`2 currentExecutor, StrongBox`1 exceptionHolderOpt, Func`2 catchExceptionOpt, CancellationToken cancellationToken)",
     "output_type": "error",
     "traceback": [
      "System.ArgumentOutOfRangeException: Specified argument was out of the range of valid values. (Parameter 'length')\r\n",
      "   at System.Range.ThrowArgumentOutOfRangeException()\r\n",
      "   at System.Runtime.CompilerServices.RuntimeHelpers.GetSubArray[T](T[] array, Range range)\r\n",
      "   at Submission#13.MachReadFromN(Byte[] page, Int32 start_offset, Int32 length)\r\n",
      "   at Submission#13.GetInnodbPageType()\r\n",
      "   at Submission#13.<<Initialize>>d__0.MoveNext()\r\n",
      "--- End of stack trace from previous location ---\r\n",
      "   at Microsoft.CodeAnalysis.Scripting.ScriptExecutionState.RunSubmissionsAsync[TResult](ImmutableArray`1 precedingExecutors, Func`2 currentExecutor, StrongBox`1 exceptionHolderOpt, Func`2 catchExceptionOpt, CancellationToken cancellationToken)"
     ]
    }
   ],
   "source": [
    "public string MachReadFromN(byte[] page,int start_offset,int length)\n",
    "{\n",
    "\tvar ret = page[start_offset..(start_offset+length)];\n",
    "\treturn Convert.ToHexString(ret);\n",
    "}\n",
    "public void GetInnodbPageType()\n",
    "{\n",
    "\tvar f=new FileInfo(@\"E:\\MySQL\\Data\\admin\\tb_users.ibd\");\n",
    "\n",
    "\n",
    "\n",
    "\tvar fsize = f.Length/INNODB_PAGE_SIZE;\n",
    "\n",
    "\tdynamic ret = new{};\n",
    "\tvar read = new BinaryReader(f.OpenRead());\n",
    "\tfor (int i = 0;i<fsize;i++)\n",
    "\t{\n",
    "\t\t\n",
    "\t\tvar page = read.ReadBytes(INNODB_PAGE_SIZE);\n",
    "\t\tvar page_offset = MachReadFromN(page,FIL_PAGE_OFFSET,4);\n",
    "\t\tvar page_pre = MachReadFromN(page,FIL_PAGE_OFFSET+4,4);\n",
    "\t\tvar page_next = MachReadFromN(page,FIL_PAGE_OFFSET+8,4);\n",
    "\t\tvar page_lsn = MachReadFromN(page,FIL_PAGE_OFFSET+12,8);\n",
    "\t\t\n",
    "\t\tvar page_type = MachReadFromN(page,FIL_PAGE_TYPE,2);\n",
    "\t\tvar flush_lsn = MachReadFromN(page,FIL_PAGE_TYPE+2,8);\n",
    "\t\tvar space_id = MachReadFromN(page,FIL_PAGE_TYPE+10,4);\n",
    "\t\tvar data = MachReadFromN(page,38,INNODB_PAGE_SIZE-8);\n",
    "\n",
    "\t\tif (page_type == \"45bf\")\n",
    "\t\t{display(\"-----\");\n",
    "\t\t    var\tpage_level = MachReadFromN(page,FIL_PAGE_DATA+PAGE_LEVEL,2);\n",
    "\t\t\tdisplay(string.Format(\"page offset [{}], page type <{}>, pre page [{}], next page [{}], page level <{}> , flush_lsn <{}> , space_id <{}>, data {} \\n\",page_offset,innodb_page_type[page_type],page_pre,page_next,page_level,flush_lsn,space_id,data));\n",
    "\t\t}\n",
    "\t\telse\n",
    "\t\t{display(\"-----\");\n",
    "\t\t\tdisplay(string.Format(\"page offset [{}], page type <{}>, pre page [{}], next page [{}], flush_lsn <{}> , space_id <{}>, data {} \\n\"  ,page_offset,innodb_page_type[page_type],page_pre,page_next,flush_lsn,space_id,data));\n",
    "\t\t}\n",
    "\t\t\t\n",
    "\t\t\n",
    "\t}\n",
    "}\n",
    "GetInnodbPageType();"
   ]
  }
 ],
 "metadata": {
  "language_info": {
   "name": "csharp"
  },
  "orig_nbformat": 4
 },
 "nbformat": 4,
 "nbformat_minor": 2
}
